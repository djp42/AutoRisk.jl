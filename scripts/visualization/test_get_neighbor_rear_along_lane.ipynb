{
 "cells": [
  {
   "cell_type": "code",
   "execution_count": 1,
   "metadata": {
    "collapsed": false
   },
   "outputs": [
    {
     "data": {
      "text/html": [
       "<div id=\"interact-js-shim\">\n",
       "    <script charset=\"utf-8\">\n",
       "(function (IPython, $, _, MathJax) {\n",
       "    $.event.special.destroyed = {\n",
       "\tremove: function(o) {\n",
       "\t    if (o.handler) {\n",
       "\t\to.handler.apply(this, arguments)\n",
       "\t    }\n",
       "\t}\n",
       "    }\n",
       "\n",
       "    var OutputArea = IPython.version >= \"4.0.0\" ? require(\"notebook/js/outputarea\").OutputArea : IPython.OutputArea;\n",
       "\n",
       "    var redrawValue = function (container, type, val) {\n",
       "\tvar selector = $(\"<div/>\");\n",
       "\tvar oa = new OutputArea(_.extend(selector, {\n",
       "\t    selector: selector,\n",
       "\t    prompt_area: true,\n",
       "\t    events: IPython.events,\n",
       "\t    keyboard_manager: IPython.keyboard_manager\n",
       "\t})); // Hack to work with IPython 2.1.0\n",
       "\n",
       "\tswitch (type) {\n",
       "\tcase \"image/png\":\n",
       "            var _src = 'data:' + type + ';base64,' + val;\n",
       "\t    $(container).find(\"img\").attr('src', _src);\n",
       "\t    break;\n",
       "\tcase \"text/latex\":\n",
       "\t\tif (MathJax){\n",
       "\t\t\tvar math = MathJax.Hub.getAllJax(container)[0];\n",
       "\t\t\tMathJax.Hub.Queue([\"Text\", math, val.replace(/^\\${1,2}|\\${1,2}$/g, '')]);\n",
       "\t\t\tbreak;\n",
       "\t\t}\n",
       "\tdefault:\n",
       "\t    var toinsert = OutputArea.append_map[type].apply(\n",
       "\t\toa, [val, {}, selector]\n",
       "\t    );\n",
       "\t    $(container).empty().append(toinsert.contents());\n",
       "\t    selector.remove();\n",
       "\t}\n",
       "    }\n",
       "\n",
       "\n",
       "    $(document).ready(function() {\n",
       "\tfunction initComm(evt, data) {\n",
       "\t    var comm_manager = data.kernel.comm_manager;\n",
       "        //_.extend(comm_manager.targets, require(\"widgets/js/widget\"))\n",
       "\t    comm_manager.register_target(\"Signal\", function (comm) {\n",
       "            comm.on_msg(function (msg) {\n",
       "                var val = msg.content.data.value;\n",
       "                $(\".signal-\" + comm.comm_id).each(function() {\n",
       "                var type = $(this).data(\"type\");\n",
       "                if (typeof(val[type]) !== \"undefined\" && val[type] !== null) {\n",
       "                    redrawValue(this, type, val[type], type);\n",
       "                }\n",
       "                });\n",
       "                delete val;\n",
       "                delete msg.content.data.value;\n",
       "            });\n",
       "\t    });\n",
       "\n",
       "\t    // coordingate with Comm and redraw Signals\n",
       "\t    // XXX: Test using Reactive here to improve performance\n",
       "\t    $([IPython.events]).on(\n",
       "\t\t'output_appended.OutputArea', function (event, type, value, md, toinsert) {\n",
       "\t\t    if (md && md.reactive) {\n",
       "                // console.log(md.comm_id);\n",
       "                toinsert.addClass(\"signal-\" + md.comm_id);\n",
       "                toinsert.data(\"type\", type);\n",
       "                // Signal back indicating the mimetype required\n",
       "                var comm_manager = IPython.notebook.kernel.comm_manager;\n",
       "                var comm = comm_manager.comms[md.comm_id];\n",
       "                comm.then(function (c) {\n",
       "                    c.send({action: \"subscribe_mime\",\n",
       "                       mime: type});\n",
       "                    toinsert.bind(\"destroyed\", function() {\n",
       "                        c.send({action: \"unsubscribe_mime\",\n",
       "                               mime: type});\n",
       "                    });\n",
       "                })\n",
       "\t\t    }\n",
       "\t    });\n",
       "\t}\n",
       "\n",
       "\ttry {\n",
       "\t    // try to initialize right away. otherwise, wait on the status_started event.\n",
       "\t    initComm(undefined, IPython.notebook);\n",
       "\t} catch (e) {\n",
       "\t    $([IPython.events]).on('kernel_created.Kernel kernel_created.Session', initComm);\n",
       "\t}\n",
       "    });\n",
       "})(IPython, jQuery, _, MathJax);\n",
       "</script>\n",
       "    <script>\n",
       "        window.interactLoadedFlag = true\n",
       "       $(\"#interact-js-shim\").bind(\"destroyed\", function () {\n",
       "           if (window.interactLoadedFlag) {\n",
       "               console.warn(\"JavaScript required by Interact will be removed if you remove this cell or run using Interact more than once.\")\n",
       "           }\n",
       "       })\n",
       "       $([IPython.events]).on(\"kernel_starting.Kernel kernel_restarting.Kernel\", function () { window.interactLoadedFlag = false })\n",
       "   </script>\n",
       "</div>"
      ]
     },
     "metadata": {},
     "output_type": "display_data"
    }
   ],
   "source": [
    "using AutomotiveDrivingModels\n",
    "using AutoViz\n",
    "using Interact"
   ]
  },
  {
   "cell_type": "code",
   "execution_count": 2,
   "metadata": {
    "collapsed": false
   },
   "outputs": [
    {
     "data": {
      "text/plain": [
       "simulate! (generic function with 1 method)"
      ]
     },
     "execution_count": 2,
     "metadata": {},
     "output_type": "execute_result"
    }
   ],
   "source": [
    "# not relevant to the bug\n",
    "function simulate!(scene::Scene, models::Dict{Int, DriverModel},\n",
    "        roadway::Roadway, rec::SceneRecord, T::Float64)\n",
    "    actions = Array(DriveAction, length(scene))\n",
    "    for t in 0:rec.timestep:(T - rec.timestep)\n",
    "        get_actions!(actions, scene, roadway, models)\n",
    "        tick!(scene, roadway, actions, models)\n",
    "        AutomotiveDrivingModels.update!(rec, scene)\n",
    "    end\n",
    "    return rec\n",
    "end"
   ]
  },
  {
   "cell_type": "code",
   "execution_count": null,
   "metadata": {
    "collapsed": false
   },
   "outputs": [],
   "source": [
    "# function containing bug\n",
    "# set with_fix option for temporary solution\n",
    "# with_fix = true keeps track of which neighbors have already been evaluated as being \n",
    "# in front of the ego vehicle and skips them in later iterations of the while loop\n",
    "function AutomotiveDrivingModels.get_neighbor_rear_along_lane(\n",
    "    scene::Scene,\n",
    "    roadway::Roadway,\n",
    "    tag_start::LaneTag,\n",
    "    s_base::Float64,\n",
    "    targetpoint_primary::VehicleTargetPoint, # the reference point whose distance we want to minimize\n",
    "    targetpoint_valid::VehicleTargetPoint; # the reference point, which if distance to is positive, we include the vehicle\n",
    "    max_distance_rear::Float64 = 250.0, # max distance to search rearward [m]\n",
    "    index_to_ignore::Int=-1,\n",
    "    with_fix::Bool=false\n",
    "    )\n",
    "    best_ind = 0\n",
    "    best_dist = max_distance_rear\n",
    "    tag_target = tag_start\n",
    "    \n",
    "    ignore = Set{Int}()\n",
    "\n",
    "    dist_searched = 0.0\n",
    "    while dist_searched < max_distance_rear\n",
    "\n",
    "        lane = roadway[tag_target]\n",
    "        for (i,veh) in enumerate(scene)\n",
    "            if i != index_to_ignore && !in(veh.def.id, ignore)\n",
    "\n",
    "                s_adjust = NaN\n",
    "\n",
    "                if veh.state.posF.roadind.tag == tag_target\n",
    "                    s_adjust = 0.0\n",
    "\n",
    "                elseif is_between_segments_hi(veh.state.posF.roadind.ind, lane.curve) &&\n",
    "                       is_in_entrances(roadway[tag_target], veh.state.posF.roadind.tag)\n",
    "\n",
    "                    distance_between_lanes = abs(roadway[tag_target].curve[1].pos - roadway[veh.state.posF.roadind.tag].curve[end].pos)\n",
    "                    s_adjust = -(roadway[veh.state.posF.roadind.tag].curve[end].s + distance_between_lanes)\n",
    "\n",
    "                elseif is_between_segments_lo(veh.state.posF.roadind.ind) &&\n",
    "                       is_in_exits(roadway[tag_target], veh.state.posF.roadind.tag)\n",
    "\n",
    "                    distance_between_lanes = abs(roadway[tag_target].curve[end].pos - roadway[veh.state.posF.roadind.tag].curve[1].pos)\n",
    "                    s_adjust = roadway[tag_target].curve[end].s + distance_between_lanes\n",
    "                end\n",
    "                \n",
    "\n",
    "                if !isnan(s_adjust)\n",
    "                    s_valid = veh.state.posF.s + get_targetpoint_delta(targetpoint_valid, veh) + s_adjust\n",
    "                    dist_valid = s_base - s_valid + dist_searched\n",
    "                    \n",
    "                    if dist_valid ≥ 0.0\n",
    "                        s_primary = veh.state.posF.s + get_targetpoint_delta(targetpoint_primary, veh) + s_adjust\n",
    "                        dist = s_base - s_primary + dist_searched\n",
    "                        \n",
    "                        if dist < best_dist\n",
    "                            best_dist = dist\n",
    "                            best_ind = i\n",
    "                        end\n",
    "                    else\n",
    "                        if with_fix\n",
    "                            push!(ignore, veh.def.id)\n",
    "                        end\n",
    "                    end\n",
    "                end\n",
    "            end\n",
    "        end\n",
    "\n",
    "        if best_ind != 0\n",
    "            break\n",
    "        end\n",
    "\n",
    "        if !has_prev(lane) ||\n",
    "           (tag_target == tag_start && dist_searched != 0.0) # exit after visiting this lane a 2nd time\n",
    "            break\n",
    "        end\n",
    "\n",
    "        dist_searched += s_base\n",
    "        s_base = lane.curve[end].s + abs(lane.curve[end].pos - prev_lane_point(lane, roadway).pos) # end of prev lane plus crossover\n",
    "        tag_target = prev_lane(lane, roadway).tag\n",
    "    end\n",
    "    NeighborLongitudinalResult(best_ind, best_dist)\n",
    "end\n"
   ]
  },
  {
   "cell_type": "code",
   "execution_count": 3,
   "metadata": {
    "collapsed": false,
    "scrolled": true
   },
   "outputs": [
    {
     "data": {
      "text/plain": [
       "SceneRecord(nscenes=50)"
      ]
     },
     "execution_count": 3,
     "metadata": {},
     "output_type": "execute_result"
    }
   ],
   "source": [
    "# minimal bug example\n",
    "# get_neighbor_rear_along_lane returns the neighbor fore along lane rather than the neighbor rear\n",
    "# when the rear is in a different road segment\n",
    "\n",
    "context = IntegratedContinuous(.1, 1)\n",
    "num_veh = 3\n",
    "num_lanes = 1\n",
    "roadway = gen_stadium_roadway(num_lanes, length = 400.0, radius = 100.0)\n",
    "\n",
    "# build the scene\n",
    "scene = Scene(num_veh)\n",
    "\n",
    "base_speed = 10.\n",
    "road_idx = RoadIndex(proj(VecSE2(0.0, 0.0, 0.0), roadway))\n",
    "road_pos = 0.\n",
    "veh_state = VehicleState(Frenet(road_idx, roadway), roadway, base_speed)\n",
    "veh_state = move_along(veh_state, roadway, road_pos)\n",
    "veh_def = VehicleDef(1, AgentClass.CAR, 5., 2.)\n",
    "push!(scene, Vehicle(veh_state, veh_def))\n",
    "\n",
    "road_pos = -20.\n",
    "veh_state = VehicleState(Frenet(road_idx, roadway), roadway, base_speed)\n",
    "veh_state = move_along(veh_state, roadway, road_pos)\n",
    "veh_def = VehicleDef(2, AgentClass.CAR, 5., 2.)\n",
    "push!(scene, Vehicle(veh_state, veh_def))\n",
    "\n",
    "road_pos = 20.\n",
    "veh_state = VehicleState(Frenet(road_idx, roadway), roadway, base_speed)\n",
    "veh_state = move_along(veh_state, roadway, road_pos)\n",
    "veh_def = VehicleDef(3, AgentClass.CAR, 5., 2.)\n",
    "push!(scene, Vehicle(veh_state, veh_def))\n",
    "\n",
    "models = Dict{Int,DriverModel}()\n",
    "for veh_id in 1:num_veh\n",
    "    models[veh_id] = Tim2DDriver(context)\n",
    "end\n",
    "\n",
    "rec = SceneRecord(500, .1, num_veh)\n",
    "T = 5.\n",
    "simulate!(scene, models, roadway, rec, T)"
   ]
  },
  {
   "cell_type": "code",
   "execution_count": 5,
   "metadata": {
    "collapsed": false,
    "scrolled": false
   },
   "outputs": [
    {
     "data": {
      "text/html": [],
      "text/plain": [
       "Interact.Options{:SelectionSlider,Int64}(Signal{Int64}(24, nactions=1),\"i\",24,\"24\",Interact.OptionDict(DataStructures.OrderedDict(\"0\"=>0,\"1\"=>1,\"2\"=>2,\"3\"=>3,\"4\"=>4,\"5\"=>5,\"6\"=>6,\"7\"=>7,\"8\"=>8,\"9\"=>9…),Dict(2=>\"2\",11=>\"11\",39=>\"39\",46=>\"46\",25=>\"25\",42=>\"42\",29=>\"29\",8=>\"8\",20=>\"20\",14=>\"14\"…)),Any[],Any[],true,\"horizontal\")"
      ]
     },
     "metadata": {},
     "output_type": "display_data"
    },
    {
     "data": {
      "text/html": [],
      "text/plain": [
       "Interact.Options{:ToggleButtons,Int64}(Signal{Int64}(1, nactions=1),\"veh_id\",1,\"1\",Interact.OptionDict(DataStructures.OrderedDict(\"1\"=>1,\"2\"=>2,\"3\"=>3),Dict(2=>\"2\",3=>\"3\",1=>\"1\")),Any[],Any[],true,\"horizontal\")"
      ]
     },
     "metadata": {},
     "output_type": "display_data"
    },
    {
     "data": {
      "image/png": "[encoded data removed]",
      "text/plain": [
       "Cairo.CairoSurface{UInt32}(Ptr{Void} @0x00007fd2964a81a0,1000.0,600.0,#undef)"
      ]
     },
     "execution_count": 5,
     "metadata": {
      "comm_id": "2f4ca275-4c60-44f3-8cd4-d2dc9b2703bb",
      "reactive": true
     },
     "output_type": "execute_result"
    }
   ],
   "source": [
    "# check out vehicle id 1 at the start of the scenario\n",
    "@manipulate for i in 0:(rec.nscenes - 1),\n",
    "    veh_id in collect(1:num_veh)\n",
    "    render(get_scene(rec, -(rec.nscenes - i)), \n",
    "            roadway, \n",
    "    [CarFollowingStatsOverlay(veh_id, 2), NeighborsOverlay(veh_id, textparams = TextParams(y_start=300))], \n",
    "            cam=CarFollowCamera(veh_id, 10.))\n",
    "end"
   ]
  },
  {
   "cell_type": "code",
   "execution_count": null,
   "metadata": {
    "collapsed": true
   },
   "outputs": [],
   "source": []
  },
  {
   "cell_type": "code",
   "execution_count": null,
   "metadata": {
    "collapsed": true
   },
   "outputs": [],
   "source": []
  }
 ],
 "metadata": {
  "kernelspec": {
   "display_name": "Julia 0.5.0",
   "language": "julia",
   "name": "julia-0.5"
  },
  "language_info": {
   "file_extension": ".jl",
   "mimetype": "application/julia",
   "name": "julia",
   "version": "0.5.0"
  },
  "widgets": {
   "state": {
    "046e56de-f4b9-48e4-afb3-c9687fd2b8b6": {
     "views": [
      {
       "cell_index": 4
      }
     ]
    },
    "19af8261-c03a-482c-a168-d7b8aa330211": {
     "views": [
      {
       "cell_index": 4
      }
     ]
    },
    "1b110545-40fc-4167-9896-f0d6edcfce5a": {
     "views": [
      {
       "cell_index": 4
      }
     ]
    },
    "42741648-c0df-400c-9b81-5aa6d6e22c96": {
     "views": [
      {
       "cell_index": 4
      }
     ]
    },
    "848dde42-11ac-4d1e-994f-4c9d8983e616": {
     "views": [
      {
       "cell_index": 4
      }
     ]
    },
    "90232cc9-155a-4b30-9806-1369b9f79e24": {
     "views": [
      {
       "cell_index": 4
      }
     ]
    },
    "9217ba5b-f8a9-4c0d-bbed-74a5a0f9b922": {
     "views": [
      {
       "cell_index": 4
      }
     ]
    },
    "adf42b42-e648-4054-ac2e-6517805a36ca": {
     "views": [
      {
       "cell_index": 4
      }
     ]
    },
    "b859e801-0938-4249-85a7-eb675071011c": {
     "views": [
      {
       "cell_index": 4
      }
     ]
    }
   },
   "version": "1.2.0"
  }
 },
 "nbformat": 4,
 "nbformat_minor": 1
}
