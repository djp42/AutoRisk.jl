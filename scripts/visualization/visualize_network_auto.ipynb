{
 "cells": [
  {
   "cell_type": "code",
   "execution_count": 1,
   "metadata": {
    "collapsed": false
   },
   "outputs": [
    {
     "data": {
      "text/html": [
       "<div id=\"interact-js-shim\">\n",
       "    <script charset=\"utf-8\">\n",
       "(function (IPython, $, _, MathJax) {\n",
       "    $.event.special.destroyed = {\n",
       "\tremove: function(o) {\n",
       "\t    if (o.handler) {\n",
       "\t\to.handler.apply(this, arguments)\n",
       "\t    }\n",
       "\t}\n",
       "    }\n",
       "\n",
       "    var OutputArea = IPython.version >= \"4.0.0\" ? require(\"notebook/js/outputarea\").OutputArea : IPython.OutputArea;\n",
       "\n",
       "    var redrawValue = function (container, type, val) {\n",
       "\tvar selector = $(\"<div/>\");\n",
       "\tvar oa = new OutputArea(_.extend(selector, {\n",
       "\t    selector: selector,\n",
       "\t    prompt_area: true,\n",
       "\t    events: IPython.events,\n",
       "\t    keyboard_manager: IPython.keyboard_manager\n",
       "\t})); // Hack to work with IPython 2.1.0\n",
       "\n",
       "\tswitch (type) {\n",
       "\tcase \"image/png\":\n",
       "            var _src = 'data:' + type + ';base64,' + val;\n",
       "\t    $(container).find(\"img\").attr('src', _src);\n",
       "\t    break;\n",
       "\tdefault:\n",
       "\t    var toinsert = OutputArea.append_map[type].apply(\n",
       "\t\toa, [val, {}, selector]\n",
       "\t    );\n",
       "\t    $(container).empty().append(toinsert.contents());\n",
       "\t    selector.remove();\n",
       "\t}\n",
       "\tif (type === \"text/latex\" && MathJax) {\n",
       "\t    MathJax.Hub.Queue([\"Typeset\", MathJax.Hub, toinsert.get(0)]);\n",
       "\t}\n",
       "    }\n",
       "\n",
       "\n",
       "    $(document).ready(function() {\n",
       "\tfunction initComm(evt, data) {\n",
       "\t    var comm_manager = data.kernel.comm_manager;\n",
       "        //_.extend(comm_manager.targets, require(\"widgets/js/widget\"))\n",
       "\t    comm_manager.register_target(\"Signal\", function (comm) {\n",
       "            comm.on_msg(function (msg) {\n",
       "                //Widgets.log(\"message received\", msg);\n",
       "                var val = msg.content.data.value;\n",
       "                $(\".signal-\" + comm.comm_id).each(function() {\n",
       "                var type = $(this).data(\"type\");\n",
       "                if (val[type]) {\n",
       "                    redrawValue(this, type, val[type], type);\n",
       "                }\n",
       "                });\n",
       "                delete val;\n",
       "                delete msg.content.data.value;\n",
       "            });\n",
       "\t    });\n",
       "\n",
       "\t    // coordingate with Comm and redraw Signals\n",
       "\t    // XXX: Test using Reactive here to improve performance\n",
       "\t    $([IPython.events]).on(\n",
       "\t\t'output_appended.OutputArea', function (event, type, value, md, toinsert) {\n",
       "\t\t    if (md && md.reactive) {\n",
       "                // console.log(md.comm_id);\n",
       "                toinsert.addClass(\"signal-\" + md.comm_id);\n",
       "                toinsert.data(\"type\", type);\n",
       "                // Signal back indicating the mimetype required\n",
       "                var comm_manager = IPython.notebook.kernel.comm_manager;\n",
       "                var comm = comm_manager.comms[md.comm_id];\n",
       "                comm.then(function (c) {\n",
       "                    c.send({action: \"subscribe_mime\",\n",
       "                       mime: type});\n",
       "                    toinsert.bind(\"destroyed\", function() {\n",
       "                        c.send({action: \"unsubscribe_mime\",\n",
       "                               mime: type});\n",
       "                    });\n",
       "                })\n",
       "\t\t    }\n",
       "\t    });\n",
       "\t}\n",
       "\n",
       "\ttry {\n",
       "\t    // try to initialize right away. otherwise, wait on the status_started event.\n",
       "\t    initComm(undefined, IPython.notebook);\n",
       "\t} catch (e) {\n",
       "\t    $([IPython.events]).on('kernel_created.Kernel kernel_created.Session', initComm);\n",
       "\t}\n",
       "    });\n",
       "})(IPython, jQuery, _, MathJax);\n",
       "</script>\n",
       "    <script>\n",
       "        window.interactLoadedFlag = true\n",
       "       $(\"#interact-js-shim\").bind(\"destroyed\", function () {\n",
       "           if (window.interactLoadedFlag) {\n",
       "               console.warn(\"JavaScript required by Interact will be removed if you remove this cell or run using Interact more than once.\")\n",
       "           }\n",
       "       })\n",
       "       $([IPython.events]).on(\"kernel_starting.Kernel kernel_restarting.Kernel\", function () { window.interactLoadedFlag = false })\n",
       "   </script>\n",
       "</div>"
      ]
     },
     "metadata": {},
     "output_type": "display_data"
    },
    {
     "name": "stderr",
     "output_type": "stream",
     "text": [
      "WARNING: Base.writemime is deprecated.\n",
      "  likely near /Users/wulfebw/.julia/v0.5/Reel/src/Reel.jl:132\n",
      "WARNING: Base.writemime is deprecated.\n",
      "  likely near /Users/wulfebw/.julia/v0.5/Reel/src/Reel.jl:132\n"
     ]
    }
   ],
   "source": [
    "using AutomotiveDrivingModels\n",
    "using AutoViz\n",
    "using Interact\n",
    "using Reactive\n",
    "\n",
    "push!(LOAD_PATH, \"../neural_network\")\n",
    "include(\"../neural_networks/neural_network.jl\");"
   ]
  },
  {
   "cell_type": "code",
   "execution_count": 2,
   "metadata": {
    "collapsed": false
   },
   "outputs": [],
   "source": [
    "weights_filepath = \"../../data/networks/test.weights\"\n",
    "network = load_network(weights_filepath);"
   ]
  },
  {
   "cell_type": "code",
   "execution_count": 3,
   "metadata": {
    "collapsed": false
   },
   "outputs": [],
   "source": [
    "const SAMPLING_FREQUENCY = 1. # hz\n",
    "const SAMPLING_SECONDS = 3 # sec\n",
    "const INIT_COLLISION_DIST = 3. # m\n",
    "\n",
    "# roadway constants\n",
    "const NUM_LANES = 1\n",
    "const ROADWAY_LENGTH = 15. # m\n",
    "\n",
    "# vehicle state constants\n",
    "const EGO_SPEED = 2. # m/s\n",
    "const OTHER_SPEED = 1. # m/s\n",
    "\n",
    "# vehicle constants\n",
    "const VEH_LENGTH = 1.\n",
    "const VEH_WIDTH = 1.\n",
    "const GREEN = HSV(90, 0.85, 0.85)\n",
    "const RED = HSV(0, 0.85, 0.85)\n",
    "const BLUE = HSV(180, 0.85, 0.85)\n",
    "\n",
    "# network constants\n",
    "const MEAN = 0.9772956\n",
    "const STD_DEV =  0.7125508\n",
    "\n",
    "# function for building a driver\n",
    "function build_static_driver(context::IntegratedContinuous)\n",
    "    # static longitudinal driver with accel 0\n",
    "    mlon = StaticLongitudinalDriver(0.)\n",
    "\n",
    "    # build driver model\n",
    "    model = Tim2DDriver(context, mlon=mlon)\n",
    "\n",
    "    return model\n",
    "end;"
   ]
  },
  {
   "cell_type": "code",
   "execution_count": 4,
   "metadata": {
    "collapsed": false
   },
   "outputs": [
    {
     "name": "stdout",
     "output_type": "stream",
     "text": [
      "distance to front vehicle: 2.297287984535462\n",
      "probability of collision at next time step: 3.58282775542244e-26\n"
     ]
    },
    {
     "data": {
      "image/png": "[encoded data removed]",
      "text/plain": [
       "Cairo.CairoSurface{UInt32}(Ptr{Void} @0x00007fe464791580,1000.0,600.0,#undef)"
      ]
     },
     "execution_count": 4,
     "metadata": {},
     "output_type": "execute_result"
    }
   ],
   "source": [
    "# random number generator\n",
    "rng = MersenneTwister(1)\n",
    "framerate = 1.\n",
    "\n",
    "# roadway\n",
    "roadway = gen_straight_roadway(NUM_LANES, ROADWAY_LENGTH)\n",
    "    \n",
    "# vehicles\n",
    "ego_road_idx = RoadIndex(proj(VecSE2(0.0,0.0,0.0), roadway))\n",
    "other_road_idx = RoadIndex(proj(VecSE2(0.0,0.0,0.0), roadway))\n",
    "num_veh = 2\n",
    "\n",
    "# scene\n",
    "scene = Scene(num_veh)\n",
    "rec = SceneRecord(10, SAMPLING_FREQUENCY, num_veh)\n",
    "models = Dict{Int, DriverModel}()\n",
    "carcolors = Dict{Int,Colorant}()\n",
    "\n",
    "function reset!(scene)\n",
    "    empty!(scene)\n",
    "    context = IntegratedContinuous(1 / SAMPLING_FREQUENCY, 1)\n",
    "    \n",
    "    # vehicle states\n",
    "    ego_vehstate = VehicleState(Frenet(ego_road_idx, roadway), roadway, EGO_SPEED)\n",
    "    other_vehstate = VehicleState(Frenet(other_road_idx, roadway), roadway, OTHER_SPEED)\n",
    "\n",
    "    # ego position\n",
    "    ego_x = 1.\n",
    "    ego_vehstate = move_along(ego_vehstate, roadway, ego_x)\n",
    "\n",
    "    # place other vehicle in front of ego vehicle\n",
    "    rand_displacement = max(min(randn(rng), 1.5), -1.5)\n",
    "    other_x = rand_displacement + INIT_COLLISION_DIST + ego_x + VEH_LENGTH\n",
    "    other_vehstate = move_along(other_vehstate, roadway, other_x)\n",
    "\n",
    "    # add vehicles to scene\n",
    "    ego_vehdef = VehicleDef(0, AgentClass.CAR, VEH_LENGTH, VEH_WIDTH)\n",
    "    push!(scene, Vehicle(ego_vehstate, ego_vehdef))\n",
    "    other_vehdef = VehicleDef(1, AgentClass.CAR, VEH_LENGTH, VEH_WIDTH)\n",
    "    push!(scene, Vehicle(other_vehstate, other_vehdef))\n",
    "\n",
    "    # build driver models\n",
    "    models[0] = build_static_driver(context)\n",
    "    models[1] = build_static_driver(context)\n",
    "end\n",
    "\n",
    "reset!(scene)\n",
    "actions = get_actions!(Array(DriveAction, length(scene)), scene, roadway, models)\n",
    "function drawsim(t, dt=NaN)\n",
    "    # if past a certain point restart\n",
    "    if scene.vehicles[1].state.posG.x > 10\n",
    "        reset!(scene)\n",
    "        empty!(rec)\n",
    "    end\n",
    "\n",
    "    # propagate forward in time\n",
    "    get_actions!(actions, scene, roadway, models)\n",
    "    tick!(scene, roadway, actions, models)\n",
    "    \n",
    "    # update the scene record\n",
    "    update!(rec, scene)\n",
    "    \n",
    "    # extract features and normalize\n",
    "    dist = convert(Float64, get(DIST_FRONT, rec, roadway, 1))\n",
    "    println(\"distance to front vehicle: $(dist)\")\n",
    "    dist = (dist - MEAN) / STD_DEV\n",
    "    \n",
    "\n",
    "    # predict probability of collision with network\n",
    "    prob = fprop_network(network, [dist])[1]\n",
    "    println(\"probability of collision at next time step: $(prob)\")\n",
    "    \n",
    "    # set car colors\n",
    "    carcolors[0] = convert(RGB, HSV(90 * (1 - prob), 0.85, 0.85))\n",
    "#     carcolors[0] = convert(RGB, GREEN)\n",
    "    carcolors[1] = convert(RGB, BLUE)\n",
    "    \n",
    "    # render\n",
    "    render(scene, roadway, [CarFollowingStatsOverlay(0)], cam=FitToContentCamera(), car_colors=carcolors)\n",
    "end\n",
    "\n",
    "drawsim(1)"
   ]
  },
  {
   "cell_type": "code",
   "execution_count": 5,
   "metadata": {
    "collapsed": false,
    "scrolled": false
   },
   "outputs": [
    {
     "name": "stdout",
     "output_type": "stream",
     "text": [
      "distance to front vehicle: 1.297287984535462\n",
      "probability of collision at next time step: 2.1974672150539494e-8\n"
     ]
    },
    {
     "data": {
      "image/png": "[encoded data removed]",
      "text/plain": [
       "Cairo.CairoSurface{UInt32}(Ptr{Void} @0x00007fe464c0dcb0,1000.0,600.0,#undef)"
      ]
     },
     "execution_count": 5,
     "metadata": {
      "comm_id": "545dab60-74f1-45dc-9e19-75d2305eed10",
      "reactive": true
     },
     "output_type": "execute_result"
    }
   ],
   "source": [
    "ticks = fps(framerate)\n",
    "timestamps = map(_ -> time(), ticks)\n",
    "map(drawsim, timestamps)"
   ]
  },
  {
   "cell_type": "code",
   "execution_count": null,
   "metadata": {
    "collapsed": false
   },
   "outputs": [],
   "source": []
  },
  {
   "cell_type": "code",
   "execution_count": null,
   "metadata": {
    "collapsed": true
   },
   "outputs": [],
   "source": [
    "# using Reel\n",
    "# film = roll(drawsim, fps=framerate, duration=60)\n",
    "# write(\"/Users/wulfebw/Desktop/nnet_auto.gif\", film)"
   ]
  }
 ],
 "metadata": {
  "kernelspec": {
   "display_name": "Julia 0.5.0",
   "language": "julia",
   "name": "julia-0.5"
  },
  "language_info": {
   "file_extension": ".jl",
   "mimetype": "application/julia",
   "name": "julia",
   "version": "0.5.0"
  }
 },
 "nbformat": 4,
 "nbformat_minor": 1
}
