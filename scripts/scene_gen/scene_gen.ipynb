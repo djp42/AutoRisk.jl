{
 "cells": [
  {
   "cell_type": "code",
   "execution_count": 18,
   "metadata": {
    "collapsed": false
   },
   "outputs": [],
   "source": [
    "using AutomotiveDrivingModels\n",
    "using AutoViz\n",
    "using BayesNets\n",
    "using DataFrames\n",
    "using Discretizers\n",
    "using Distributions\n",
    "using HDF5\n",
    "using Interact\n",
    "using PGFPlots\n",
    "using TikzPictures"
   ]
  },
  {
   "cell_type": "code",
   "execution_count": 19,
   "metadata": {
    "collapsed": false
   },
   "outputs": [],
   "source": [
    "# load the data\n",
    "input_filepath = \"../../data/datasets/2_19/risk_10_sec_10_timesteps.h5\"\n",
    "raw_features = h5open(input_filepath, \"r\") do file\n",
    "    read(file, \"risk/features\")\n",
    "end;"
   ]
  },
  {
   "cell_type": "code",
   "execution_count": 20,
   "metadata": {
    "collapsed": false
   },
   "outputs": [],
   "source": [
    "debug_size = min(1000000, size(raw_features, 3))\n",
    "timestep = size(raw_features, 2)\n",
    "features = view(raw_features, :, timestep, 1:debug_size)\n",
    "\n",
    "# optionally subsample the features based on the target values\n",
    "positive_targets_only = true\n",
    "if positive_targets_only\n",
    "    targets = h5open(input_filepath, \"r\") do file\n",
    "        read(file, \"risk/targets\")\n",
    "    end;\n",
    "    idxs = Set()\n",
    "    for tidx in size(targets, 1)\n",
    "        idxs = union(idxs, find(targets[tidx, 1:debug_size] .> 0))\n",
    "    end\n",
    "    features = view(features, :, idxs)\n",
    "end\n",
    "\n",
    "# discard samples that have features outside of bounds\n",
    "min_v, max_v = 0., 50.\n",
    "min_d_fore, max_d_fore = 0., 100.\n",
    "valid_idxs_v = find(min_v .< features[3,:] .< max_v)\n",
    "valid_idxs_d_fore = find(min_d_fore .< features[26,:] .< max_d_fore)\n",
    "valid_idxs_v_fore = find(min_v .< features[27,:] .< max_v)\n",
    "valid_idxs = intersect(valid_idxs_v, valid_idxs_d_fore, valid_idxs_v_fore)\n",
    "features = view(features, :, valid_idxs)\n",
    "\n",
    "# select features\n",
    "v = features[3,:]\n",
    "d_fore = features[26,:]\n",
    "v_fore = features[27,:];"
   ]
  },
  {
   "cell_type": "code",
   "execution_count": 21,
   "metadata": {
    "collapsed": false
   },
   "outputs": [],
   "source": [
    "# discretize the data\n",
    "num_bins = [5, 5, 5]\n",
    "data = [v, d_fore, v_fore]\n",
    "num_samples = length(v)\n",
    "disc_data = zeros(Int, num_samples, 3)\n",
    "cutpoints = []\n",
    "discs = []\n",
    "for (f, vals) in enumerate(data)\n",
    "    disc = LinearDiscretizer(binedges(DiscretizeUniformCount(num_bins[f]), vals))\n",
    "    push!(cutpoints, disc.binedges)\n",
    "    for (i, val) in enumerate(vals)\n",
    "        c = 0\n",
    "        for (c, (lo, hi)) in enumerate(zip(disc.binedges, disc.binedges[2:end]))\n",
    "            if lo <= val < hi\n",
    "                break\n",
    "            end\n",
    "        end\n",
    "        disc_data[i, f] = c\n",
    "    end\n",
    "end"
   ]
  },
  {
   "cell_type": "code",
   "execution_count": 22,
   "metadata": {
    "collapsed": false
   },
   "outputs": [],
   "source": [
    "# convert data to dataframe\n",
    "data = DataFrame(\n",
    "        velocity = disc_data[:,1], \n",
    "        foredistance = disc_data[:,2], \n",
    "        forevelocity = disc_data[:,3]\n",
    ");"
   ]
  },
  {
   "cell_type": "code",
   "execution_count": 23,
   "metadata": {
    "collapsed": false
   },
   "outputs": [],
   "source": [
    "# fit a bayesnet\n",
    "bn = fit(DiscreteBayesNet, data, (:foredistance=>:velocity, :forevelocity=>:velocity))"
   ]
  },
  {
   "cell_type": "code",
   "execution_count": 24,
   "metadata": {
    "collapsed": false
   },
   "outputs": [],
   "source": [
    "# # could also fit the structure, but skip that for now\n",
    "# params = GreedyHillClimbing(ScoreComponentCache(data), max_n_parents=3, prior=UniformPrior())\n",
    "# bn = fit(DiscreteBayesNet, data, params)"
   ]
  },
  {
   "cell_type": "code",
   "execution_count": 25,
   "metadata": {
    "collapsed": false
   },
   "outputs": [
    {
     "name": "stdout",
     "output_type": "stream",
     "text": [
      "125×4 DataFrames.DataFrame\n",
      "│ Row │ foredistance │ forevelocity │ velocity │ p         │\n",
      "├─────┼──────────────┼──────────────┼──────────┼───────────┤\n",
      "│ 1   │ 1            │ 1            │ 1        │ 0.909091  │\n",
      "│ 2   │ 2            │ 1            │ 1        │ 0.486486  │\n",
      "│ 3   │ 3            │ 1            │ 1        │ 0.607143  │\n",
      "│ 4   │ 4            │ 1            │ 1        │ 0.448276  │\n",
      "│ 5   │ 5            │ 1            │ 1        │ 0.0       │\n",
      "│ 6   │ 1            │ 2            │ 1        │ 0.319149  │\n",
      "│ 7   │ 2            │ 2            │ 1        │ 0.0       │\n",
      "│ 8   │ 3            │ 2            │ 1        │ 0.35443   │\n",
      "│ 9   │ 4            │ 2            │ 1        │ 0.377778  │\n",
      "│ 10  │ 5            │ 2            │ 1        │ 0.0740741 │\n",
      "│ 11  │ 1            │ 3            │ 1        │ 0.0       │\n",
      "⋮\n",
      "│ 114 │ 4            │ 3            │ 5        │ 0.0895522 │\n",
      "│ 115 │ 5            │ 3            │ 5        │ 0.2       │\n",
      "│ 116 │ 1            │ 4            │ 5        │ 0.0       │\n",
      "│ 117 │ 2            │ 4            │ 5        │ 0.0232558 │\n",
      "│ 118 │ 3            │ 4            │ 5        │ 0.388889  │\n",
      "│ 119 │ 4            │ 4            │ 5        │ 0.0779221 │\n",
      "│ 120 │ 5            │ 4            │ 5        │ 0.266667  │\n",
      "│ 121 │ 1            │ 5            │ 5        │ 0.2       │\n",
      "│ 122 │ 2            │ 5            │ 5        │ 0.65      │\n",
      "│ 123 │ 3            │ 5            │ 5        │ 0.933333  │\n",
      "│ 124 │ 4            │ 5            │ 5        │ 0.622951  │\n",
      "│ 125 │ 5            │ 5            │ 5        │ 0.788136  │\n",
      "5×2 DataFrames.DataFrame\n",
      "│ Row │ foredistance │ p   │\n",
      "├─────┼──────────────┼─────┤\n",
      "│ 1   │ 1            │ 0.2 │\n",
      "│ 2   │ 2            │ 0.2 │\n",
      "│ 3   │ 3            │ 0.2 │\n",
      "│ 4   │ 4            │ 0.2 │\n",
      "│ 5   │ 5            │ 0.2 │\n",
      "5×2 DataFrames.DataFrame\n",
      "│ Row │ forevelocity │ p   │\n",
      "├─────┼──────────────┼─────┤\n",
      "│ 1   │ 1            │ 0.2 │\n",
      "│ 2   │ 2            │ 0.2 │\n",
      "│ 3   │ 3            │ 0.2 │\n",
      "│ 4   │ 4            │ 0.2 │\n",
      "│ 5   │ 5            │ 0.2 │\n"
     ]
    }
   ],
   "source": [
    "# report CPDs\n",
    "for k in [:velocity, :foredistance, :forevelocity]\n",
    "    println(table(bn, k))\n",
    "end"
   ]
  },
  {
   "cell_type": "code",
   "execution_count": 26,
   "metadata": {
    "collapsed": false
   },
   "outputs": [],
   "source": [
    "# build continuous distributions\n",
    "v_dists = [Uniform(cutpoints[1][i], cutpoints[1][i+1]) for i in 1:(length(cutpoints[1]) - 1)]\n",
    "d_fore_dists = [Uniform(cutpoints[2][i], cutpoints[2][i+1]) for i in 1:(length(cutpoints[2]) - 1)]\n",
    "v_fore_dists = [Uniform(cutpoints[3][i], cutpoints[3][i+1]) for i in 1:(length(cutpoints[3]) - 1)];"
   ]
  },
  {
   "cell_type": "code",
   "execution_count": 27,
   "metadata": {
    "collapsed": false
   },
   "outputs": [
    {
     "data": {
      "text/plain": [
       "generate_lane (generic function with 2 methods)"
      ]
     },
     "execution_count": 27,
     "metadata": {},
     "output_type": "execute_result"
    }
   ],
   "source": [
    "# generate a lane\n",
    "function generate_lane(num_veh = 10)\n",
    "    v_cpd = bn.cpds[3]\n",
    "    states = zeros(num_veh, 3)\n",
    "\n",
    "    # sample the initial car\n",
    "    state = rand(bn)\n",
    "    v, fore_d, fore_v = state[:velocity], state[:foredistance], state[:forevelocity]\n",
    "    states[1, 1] = rand(v_dists[v])\n",
    "    states[1, 2] = rand(d_fore_dists[fore_d])\n",
    "    states[1, 3] = rand(v_fore_dists[fore_v])\n",
    "\n",
    "    for veh_idx in 2:num_veh\n",
    "        # sample the distance bin\n",
    "        fore_d = rand(bn.cpds[2])\n",
    "\n",
    "        # sample the velocity bin\n",
    "        v = rand(bn.cpds[3], :forevelocity=>fore_v, :foredistance=>fore_d)\n",
    "\n",
    "        # sample the float values uniformly\n",
    "        states[veh_idx, 1] = rand(v_dists[v])\n",
    "        states[veh_idx, 2] = rand(d_fore_dists[fore_d])\n",
    "        states[veh_idx, 3] = rand(v_fore_dists[fore_v])\n",
    "        \n",
    "        if states[veh_idx, 2] < 2.\n",
    "            \n",
    "        end\n",
    "        \n",
    "\n",
    "        # replace the fore velocity with the current one\n",
    "        fore_v = v\n",
    "    end\n",
    "    return states\n",
    "end"
   ]
  },
  {
   "cell_type": "code",
   "execution_count": 28,
   "metadata": {
    "collapsed": false
   },
   "outputs": [
    {
     "data": {
      "text/plain": [
       "get_features (generic function with 1 method)"
      ]
     },
     "execution_count": 28,
     "metadata": {},
     "output_type": "execute_result"
    }
   ],
   "source": [
    "# scene feature extractors\n",
    "function get_features(scene::Scene, roadway::Roadway)\n",
    "    # feature containers, censors\n",
    "    timegaps = zeros(Float64, length(scene))\n",
    "    timegap_censor_hi = 10.\n",
    "    ttcs = zeros(Float64, length(scene))\n",
    "    ttc_censor_hi = 30.\n",
    "    velocities = zeros(Float64, length(scene))\n",
    "    distance_fores = zeros(Float64, length(scene))\n",
    "    distance_fore_censor_hi = 100.\n",
    "    \n",
    "    for veh_idx in 1:length(scene)\n",
    "        ego_veh = scene.vehicles[veh_idx]\n",
    "        velocities[veh_idx] = ego_veh.state.v\n",
    "        \n",
    "        neigh = get_neighbor_fore_along_lane(scene, veh_idx, roadway)\n",
    "        \n",
    "        # if the fore vehicle does not exist then set as censor high\n",
    "        if neigh.ind == 0\n",
    "            timegaps[veh_idx] = timegap_censor_hi\n",
    "            distance_fores[veh_idx] = distance_fore_censor_hi\n",
    "            ttcs[veh_idx] = ttc_censor_hi\n",
    "        else\n",
    "            # get both vehicles \n",
    "            rear_veh = scene.vehicles[veh_idx]\n",
    "            fore_veh = scene.vehicles[neigh.ind]\n",
    "            \n",
    "            # want the time for the rear vehicle's front to reach the fore vehicle's back\n",
    "            v = rear_veh.state.v\n",
    "            \n",
    "            # first term is distance between centers\n",
    "            # second moves from fore vehicle center to back bumper\n",
    "            # third moves from rear vehicle center to front bumper\n",
    "            Δs = (fore_veh.state.posF.s - rear_veh.state.posF.s) - (fore_veh.def.length / 2) - (rear_veh.def.length / 2)\n",
    "            timegaps[veh_idx] = min(Δs / v, timegap_censor_hi)\n",
    "            \n",
    "            # distance fore\n",
    "            distance_fores[veh_idx] = min(Δs, distance_fore_censor_hi)\n",
    "            \n",
    "            # time to collision\n",
    "            Δv = fore_veh.state.v - rear_veh.state.v\n",
    "            if Δv < 0.\n",
    "                ttcs[veh_idx] = min(max(-1 * Δs / Δv, 0.), ttc_censor_hi)\n",
    "            else # this means fore vehicle moving away too quickly\n",
    "                ttcs[veh_idx] = ttc_censor_hi\n",
    "            end\n",
    "            \n",
    "        end\n",
    "    end\n",
    "    return timegaps, ttcs, velocities, distance_fores\n",
    "end"
   ]
  },
  {
   "cell_type": "code",
   "execution_count": 29,
   "metadata": {
    "collapsed": false,
    "scrolled": false
   },
   "outputs": [
    {
     "data": {
      "text/html": [],
      "text/plain": [
       "Interact.Options{:ToggleButtons,Int64}(Signal{Int64}(1, nactions=1),\"veh_idx\",1,\"1\",Interact.OptionDict(DataStructures.OrderedDict(\"1\"=>1,\"2\"=>2,\"3\"=>3,\"4\"=>4,\"5\"=>5,\"6\"=>6,\"7\"=>7,\"8\"=>8,\"9\"=>9,\"10\"=>10…),Dict(68=>\"68\",2=>\"2\",89=>\"89\",11=>\"11\",39=>\"39\",46=>\"46\",85=>\"85\",25=>\"25\",55=>\"55\",42=>\"42\"…)),Any[],Any[],true,\"horizontal\")"
      ]
     },
     "metadata": {},
     "output_type": "display_data"
    },
    {
     "data": {
      "text/html": [],
      "text/plain": [
       "Interact.Options{:ToggleButtons,Int64}(Signal{Int64}(1, nactions=1),\"lane_idx\",1,\"1\",Interact.OptionDict(DataStructures.OrderedDict(\"1\"=>1,\"2\"=>2,\"3\"=>3,\"4\"=>4),Dict(4=>\"4\",2=>\"2\",3=>\"3\",1=>\"1\")),Any[],Any[],true,\"horizontal\")"
      ]
     },
     "metadata": {},
     "output_type": "display_data"
    },
    {
     "data": {
      "text/html": [],
      "text/plain": [
       "Interact.Options{:ToggleButtons,Float64}(Signal{Float64}(1.0, nactions=1),\"zoom\",1.0,\"1.0\",Interact.OptionDict(DataStructures.OrderedDict(\"1.0\"=>1.0,\"2.0\"=>2.0,\"3.0\"=>3.0,\"4.0\"=>4.0,\"5.0\"=>5.0,\"6.0\"=>6.0,\"7.0\"=>7.0,\"8.0\"=>8.0,\"9.0\"=>9.0,\"10.0\"=>10.0…),Dict(7.0=>\"7.0\",4.0=>\"4.0\",9.0=>\"9.0\",10.0=>\"10.0\",2.0=>\"2.0\",3.0=>\"3.0\",5.0=>\"5.0\",8.0=>\"8.0\",6.0=>\"6.0\",1.0=>\"1.0\"…)),Any[],Any[],true,\"horizontal\")"
      ]
     },
     "metadata": {},
     "output_type": "display_data"
    },
    {
     "data": {
      "image/png": "[encoded data removed]",
      "text/plain": [
       "Cairo.CairoSurface{UInt32}(Ptr{Void} @0x00007fc8c72a4360,1000.0,600.0,#undef)"
      ]
     },
     "execution_count": 29,
     "metadata": {
      "comm_id": "502149c4-7c18-4bc1-b5fb-5f2123cdba86",
      "reactive": true
     },
     "output_type": "execute_result"
    }
   ],
   "source": [
    "# populate and display a scene\n",
    "context = IntegratedContinuous(.1, 1) \n",
    "num_lanes = 4\n",
    "num_veh = 100\n",
    "num_scenes = 1000\n",
    "roadway_length = 10000.\n",
    "roadway = gen_straight_roadway(num_lanes, roadway_length)\n",
    "\n",
    "# track features \n",
    "emergent = Dict{String, Array{Float64}}()\n",
    "emergent[\"timegap\"] = zeros(Float64, num_scenes * num_veh * num_lanes)\n",
    "emergent[\"ttc\"] = zeros(Float64, num_scenes * num_veh * num_lanes)\n",
    "emergent[\"velocity\"] = zeros(Float64, num_scenes * num_veh * num_lanes)\n",
    "emergent[\"distance_fore\"] = zeros(Float64, num_scenes * num_veh * num_lanes)\n",
    "\n",
    "# unpack indices\n",
    "v_idx, fore_d_idx, fore_v_idx = 1, 2, 3\n",
    "\n",
    "# build the scene\n",
    "scene = Scene(num_veh * num_lanes)\n",
    "for scene_idx in 1:num_scenes\n",
    "    empty!(scene)\n",
    "    for lane_idx in 1:num_lanes\n",
    "        states = generate_lane(num_veh)\n",
    "        remaining_length = roadway_length * 2. / 3.\n",
    "        for veh_idx in 1:num_veh\n",
    "            veh_id = veh_idx + (lane_idx - 1) * num_veh\n",
    "            remaining_length -= states[veh_idx, fore_d_idx]\n",
    "            if remaining_length > 0\n",
    "                road_idx = RoadIndex(proj(VecSE2(0.0, 3. * (lane_idx-1), 0.0), roadway))\n",
    "                base_speed = states[veh_idx, v_idx]\n",
    "                veh_state = VehicleState(Frenet(road_idx, roadway), roadway, base_speed)\n",
    "                veh_state = move_along(veh_state, roadway, remaining_length)\n",
    "                veh_def = VehicleDef(veh_id, AgentClass.CAR, 5., 2.)\n",
    "                push!(scene, Vehicle(veh_state, veh_def))\n",
    "            else\n",
    "                break\n",
    "            end\n",
    "        end\n",
    "    end\n",
    "    # compute features of scene\n",
    "    timegaps, ttcs, velocities, distance_fores = get_features(scene, roadway)\n",
    "    s = (scene_idx - 1) * num_lanes * num_veh\n",
    "    e = s + num_lanes * num_veh\n",
    "    emergent[\"timegap\"][s+1:e] = timegaps\n",
    "    emergent[\"ttc\"][s+1:e] = ttcs\n",
    "    emergent[\"velocity\"][s+1:e] = velocities\n",
    "    emergent[\"distance_fore\"][s+1:e] = distance_fores\n",
    "end\n",
    "\n",
    "# or just look at it\n",
    "@manipulate for veh_idx in collect(1:num_veh),\n",
    "                lane_idx in collect(1:num_lanes),\n",
    "              zoom in collect(1:10.)\n",
    "    veh_id = veh_idx + (lane_idx - 1) * num_veh\n",
    "    stats = [CarFollowingStatsOverlay(veh_id, 2), \n",
    "        NeighborsOverlay(veh_id, textparams = TextParams(x = 600, y_start=300))]\n",
    "        \n",
    "    render(scene, roadway, stats, cam = CarFollowCamera(veh_id, zoom))\n",
    "end"
   ]
  },
  {
   "cell_type": "code",
   "execution_count": 30,
   "metadata": {
    "collapsed": false
   },
   "outputs": [
    {
     "data": {
      "image/svg+xml": [
       "<?xml version=\"1.0\" encoding=\"UTF-8\"?>\n",
       "<svg xmlns=\"http://www.w3.org/2000/svg\" xmlns:xlink=\"http://www.w3.org/1999/xlink\" width=\"669.988pt\" height=\"555.433pt\" viewBox=\"0 0 669.988 555.433\" version=\"1.1\">\n",
       "<defs>\n",
       "<g>\n",
       "<symbol overflow=\"visible\" id=\"glyph-1487623024713069-0-0\">\n",
       "<path style=\"stroke:none;\" d=\"\"/>\n",
       "</symbol>\n",
       "<symbol overflow=\"visible\" id=\"glyph-1487623024713069-0-1\">\n",
       "<path style=\"stroke:none;\" d=\"M 6.5625 -2.296875 C 6.734375 -2.296875 6.921875 -2.296875 6.921875 -2.5 C 6.921875 -2.6875 6.734375 -2.6875 6.5625 -2.6875 L 1.171875 -2.6875 C 1 -2.6875 0.828125 -2.6875 0.828125 -2.5 C 0.828125 -2.296875 1 -2.296875 1.171875 -2.296875 Z M 6.5625 -2.296875 \"/>\n",
       "</symbol>\n",
       "<symbol overflow=\"visible\" id=\"glyph-1487623024713069-0-2\">\n",
       "<path style=\"stroke:none;\" d=\"M 1.90625 -2.5 C 1.90625 -2.78125 1.671875 -3.015625 1.390625 -3.015625 C 1.09375 -3.015625 0.859375 -2.78125 0.859375 -2.5 C 0.859375 -2.203125 1.09375 -1.96875 1.390625 -1.96875 C 1.671875 -1.96875 1.90625 -2.203125 1.90625 -2.5 Z M 1.90625 -2.5 \"/>\n",
       "</symbol>\n",
       "<symbol overflow=\"visible\" id=\"glyph-1487623024713069-1-0\">\n",
       "<path style=\"stroke:none;\" d=\"\"/>\n",
       "</symbol>\n",
       "<symbol overflow=\"visible\" id=\"glyph-1487623024713069-1-1\">\n",
       "<path style=\"stroke:none;\" d=\"M 2.9375 -1.640625 L 2.9375 -0.78125 C 2.9375 -0.421875 2.90625 -0.3125 2.171875 -0.3125 L 1.96875 -0.3125 L 1.96875 0 C 2.375 -0.03125 2.890625 -0.03125 3.3125 -0.03125 C 3.734375 -0.03125 4.25 -0.03125 4.671875 0 L 4.671875 -0.3125 L 4.453125 -0.3125 C 3.71875 -0.3125 3.703125 -0.421875 3.703125 -0.78125 L 3.703125 -1.640625 L 4.6875 -1.640625 L 4.6875 -1.953125 L 3.703125 -1.953125 L 3.703125 -6.484375 C 3.703125 -6.6875 3.703125 -6.75 3.53125 -6.75 C 3.453125 -6.75 3.421875 -6.75 3.34375 -6.625 L 0.28125 -1.953125 L 0.28125 -1.640625 Z M 2.984375 -1.953125 L 0.5625 -1.953125 L 2.984375 -5.671875 Z M 2.984375 -1.953125 \"/>\n",
       "</symbol>\n",
       "<symbol overflow=\"visible\" id=\"glyph-1487623024713069-1-2\">\n",
       "<path style=\"stroke:none;\" d=\"M 1.265625 -0.765625 L 2.328125 -1.796875 C 3.875 -3.171875 4.46875 -3.703125 4.46875 -4.703125 C 4.46875 -5.84375 3.578125 -6.640625 2.359375 -6.640625 C 1.234375 -6.640625 0.5 -5.71875 0.5 -4.828125 C 0.5 -4.28125 1 -4.28125 1.03125 -4.28125 C 1.203125 -4.28125 1.546875 -4.390625 1.546875 -4.8125 C 1.546875 -5.0625 1.359375 -5.328125 1.015625 -5.328125 C 0.9375 -5.328125 0.921875 -5.328125 0.890625 -5.3125 C 1.109375 -5.96875 1.65625 -6.328125 2.234375 -6.328125 C 3.140625 -6.328125 3.5625 -5.515625 3.5625 -4.703125 C 3.5625 -3.90625 3.078125 -3.125 2.515625 -2.5 L 0.609375 -0.375 C 0.5 -0.265625 0.5 -0.234375 0.5 0 L 4.203125 0 L 4.46875 -1.734375 L 4.234375 -1.734375 C 4.171875 -1.4375 4.109375 -1 4 -0.84375 C 3.9375 -0.765625 3.28125 -0.765625 3.0625 -0.765625 Z M 1.265625 -0.765625 \"/>\n",
       "</symbol>\n",
       "<symbol overflow=\"visible\" id=\"glyph-1487623024713069-1-3\">\n",
       "<path style=\"stroke:none;\" d=\"M 4.578125 -3.1875 C 4.578125 -3.984375 4.53125 -4.78125 4.1875 -5.515625 C 3.734375 -6.484375 2.90625 -6.640625 2.5 -6.640625 C 1.890625 -6.640625 1.171875 -6.375 0.75 -5.453125 C 0.4375 -4.765625 0.390625 -3.984375 0.390625 -3.1875 C 0.390625 -2.4375 0.421875 -1.546875 0.84375 -0.78125 C 1.265625 0.015625 2 0.21875 2.484375 0.21875 C 3.015625 0.21875 3.78125 0.015625 4.21875 -0.9375 C 4.53125 -1.625 4.578125 -2.40625 4.578125 -3.1875 Z M 2.484375 0 C 2.09375 0 1.5 -0.25 1.328125 -1.203125 C 1.21875 -1.796875 1.21875 -2.71875 1.21875 -3.3125 C 1.21875 -3.953125 1.21875 -4.609375 1.296875 -5.140625 C 1.484375 -6.328125 2.234375 -6.421875 2.484375 -6.421875 C 2.8125 -6.421875 3.46875 -6.234375 3.65625 -5.25 C 3.765625 -4.6875 3.765625 -3.9375 3.765625 -3.3125 C 3.765625 -2.5625 3.765625 -1.890625 3.65625 -1.25 C 3.5 -0.296875 2.9375 0 2.484375 0 Z M 2.484375 0 \"/>\n",
       "</symbol>\n",
       "<symbol overflow=\"visible\" id=\"glyph-1487623024713069-1-4\">\n",
       "<path style=\"stroke:none;\" d=\"M 1.3125 -3.265625 L 1.3125 -3.515625 C 1.3125 -6.03125 2.546875 -6.390625 3.0625 -6.390625 C 3.296875 -6.390625 3.71875 -6.328125 3.9375 -5.984375 C 3.78125 -5.984375 3.390625 -5.984375 3.390625 -5.546875 C 3.390625 -5.234375 3.625 -5.078125 3.84375 -5.078125 C 4 -5.078125 4.3125 -5.171875 4.3125 -5.5625 C 4.3125 -6.15625 3.875 -6.640625 3.046875 -6.640625 C 1.765625 -6.640625 0.421875 -5.359375 0.421875 -3.15625 C 0.421875 -0.484375 1.578125 0.21875 2.5 0.21875 C 3.609375 0.21875 4.5625 -0.71875 4.5625 -2.03125 C 4.5625 -3.296875 3.671875 -4.25 2.5625 -4.25 C 1.890625 -4.25 1.515625 -3.75 1.3125 -3.265625 Z M 2.5 -0.0625 C 1.875 -0.0625 1.578125 -0.65625 1.515625 -0.8125 C 1.328125 -1.28125 1.328125 -2.078125 1.328125 -2.25 C 1.328125 -3.03125 1.65625 -4.03125 2.546875 -4.03125 C 2.71875 -4.03125 3.171875 -4.03125 3.484375 -3.40625 C 3.65625 -3.046875 3.65625 -2.53125 3.65625 -2.046875 C 3.65625 -1.5625 3.65625 -1.0625 3.484375 -0.703125 C 3.1875 -0.109375 2.734375 -0.0625 2.5 -0.0625 Z M 2.5 -0.0625 \"/>\n",
       "</symbol>\n",
       "<symbol overflow=\"visible\" id=\"glyph-1487623024713069-1-5\">\n",
       "<path style=\"stroke:none;\" d=\"M 1.625 -4.5625 C 1.171875 -4.859375 1.125 -5.1875 1.125 -5.359375 C 1.125 -5.96875 1.78125 -6.390625 2.484375 -6.390625 C 3.203125 -6.390625 3.84375 -5.875 3.84375 -5.15625 C 3.84375 -4.578125 3.453125 -4.109375 2.859375 -3.765625 Z M 3.078125 -3.609375 C 3.796875 -3.984375 4.28125 -4.5 4.28125 -5.15625 C 4.28125 -6.078125 3.40625 -6.640625 2.5 -6.640625 C 1.5 -6.640625 0.6875 -5.90625 0.6875 -4.96875 C 0.6875 -4.796875 0.703125 -4.34375 1.125 -3.875 C 1.234375 -3.765625 1.609375 -3.515625 1.859375 -3.34375 C 1.28125 -3.046875 0.421875 -2.5 0.421875 -1.5 C 0.421875 -0.453125 1.4375 0.21875 2.484375 0.21875 C 3.609375 0.21875 4.5625 -0.609375 4.5625 -1.671875 C 4.5625 -2.03125 4.453125 -2.484375 4.0625 -2.90625 C 3.875 -3.109375 3.71875 -3.203125 3.078125 -3.609375 Z M 2.078125 -3.1875 L 3.3125 -2.40625 C 3.59375 -2.21875 4.0625 -1.921875 4.0625 -1.3125 C 4.0625 -0.578125 3.3125 -0.0625 2.5 -0.0625 C 1.640625 -0.0625 0.921875 -0.671875 0.921875 -1.5 C 0.921875 -2.078125 1.234375 -2.71875 2.078125 -3.1875 Z M 2.078125 -3.1875 \"/>\n",
       "</symbol>\n",
       "<symbol overflow=\"visible\" id=\"glyph-1487623024713069-1-6\">\n",
       "<path style=\"stroke:none;\" d=\"M 2.9375 -6.375 C 2.9375 -6.625 2.9375 -6.640625 2.703125 -6.640625 C 2.078125 -6 1.203125 -6 0.890625 -6 L 0.890625 -5.6875 C 1.09375 -5.6875 1.671875 -5.6875 2.1875 -5.953125 L 2.1875 -0.78125 C 2.1875 -0.421875 2.15625 -0.3125 1.265625 -0.3125 L 0.953125 -0.3125 L 0.953125 0 C 1.296875 -0.03125 2.15625 -0.03125 2.5625 -0.03125 C 2.953125 -0.03125 3.828125 -0.03125 4.171875 0 L 4.171875 -0.3125 L 3.859375 -0.3125 C 2.953125 -0.3125 2.9375 -0.421875 2.9375 -0.78125 Z M 2.9375 -6.375 \"/>\n",
       "</symbol>\n",
       "<symbol overflow=\"visible\" id=\"glyph-1487623024713069-1-7\">\n",
       "<path style=\"stroke:none;\" d=\"M 6.640625 -6.75 L 0.546875 -6.75 L 0.359375 -4.5 L 0.609375 -4.5 C 0.75 -6.109375 0.890625 -6.4375 2.40625 -6.4375 C 2.578125 -6.4375 2.84375 -6.4375 2.9375 -6.421875 C 3.15625 -6.375 3.15625 -6.265625 3.15625 -6.046875 L 3.15625 -0.78125 C 3.15625 -0.453125 3.15625 -0.3125 2.109375 -0.3125 L 1.703125 -0.3125 L 1.703125 0 C 2.109375 -0.03125 3.125 -0.03125 3.59375 -0.03125 C 4.046875 -0.03125 5.078125 -0.03125 5.484375 0 L 5.484375 -0.3125 L 5.078125 -0.3125 C 4.03125 -0.3125 4.03125 -0.453125 4.03125 -0.78125 L 4.03125 -6.046875 C 4.03125 -6.234375 4.03125 -6.375 4.21875 -6.421875 C 4.328125 -6.4375 4.59375 -6.4375 4.78125 -6.4375 C 6.296875 -6.4375 6.4375 -6.109375 6.578125 -4.5 L 6.828125 -4.5 Z M 6.640625 -6.75 \"/>\n",
       "</symbol>\n",
       "<symbol overflow=\"visible\" id=\"glyph-1487623024713069-1-8\">\n",
       "<path style=\"stroke:none;\" d=\"M 1.765625 -4.40625 L 0.375 -4.296875 L 0.375 -3.984375 C 1.015625 -3.984375 1.109375 -3.921875 1.109375 -3.4375 L 1.109375 -0.75 C 1.109375 -0.3125 1 -0.3125 0.328125 -0.3125 L 0.328125 0 C 0.640625 -0.015625 1.1875 -0.03125 1.421875 -0.03125 C 1.78125 -0.03125 2.125 -0.015625 2.46875 0 L 2.46875 -0.3125 C 1.796875 -0.3125 1.765625 -0.359375 1.765625 -0.75 Z M 1.796875 -6.140625 C 1.796875 -6.453125 1.5625 -6.671875 1.28125 -6.671875 C 0.96875 -6.671875 0.75 -6.40625 0.75 -6.140625 C 0.75 -5.875 0.96875 -5.609375 1.28125 -5.609375 C 1.5625 -5.609375 1.796875 -5.828125 1.796875 -6.140625 Z M 1.796875 -6.140625 \"/>\n",
       "</symbol>\n",
       "<symbol overflow=\"visible\" id=\"glyph-1487623024713069-1-9\">\n",
       "<path style=\"stroke:none;\" d=\"M 1.09375 -3.421875 L 1.09375 -0.75 C 1.09375 -0.3125 0.984375 -0.3125 0.3125 -0.3125 L 0.3125 0 C 0.671875 -0.015625 1.171875 -0.03125 1.453125 -0.03125 C 1.703125 -0.03125 2.21875 -0.015625 2.5625 0 L 2.5625 -0.3125 C 1.890625 -0.3125 1.78125 -0.3125 1.78125 -0.75 L 1.78125 -2.59375 C 1.78125 -3.625 2.5 -4.1875 3.125 -4.1875 C 3.765625 -4.1875 3.875 -3.65625 3.875 -3.078125 L 3.875 -0.75 C 3.875 -0.3125 3.765625 -0.3125 3.09375 -0.3125 L 3.09375 0 C 3.4375 -0.015625 3.953125 -0.03125 4.21875 -0.03125 C 4.46875 -0.03125 5 -0.015625 5.328125 0 L 5.328125 -0.3125 C 4.671875 -0.3125 4.5625 -0.3125 4.5625 -0.75 L 4.5625 -2.59375 C 4.5625 -3.625 5.265625 -4.1875 5.90625 -4.1875 C 6.53125 -4.1875 6.640625 -3.65625 6.640625 -3.078125 L 6.640625 -0.75 C 6.640625 -0.3125 6.53125 -0.3125 5.859375 -0.3125 L 5.859375 0 C 6.203125 -0.015625 6.71875 -0.03125 6.984375 -0.03125 C 7.25 -0.03125 7.765625 -0.015625 8.109375 0 L 8.109375 -0.3125 C 7.59375 -0.3125 7.34375 -0.3125 7.328125 -0.609375 L 7.328125 -2.515625 C 7.328125 -3.375 7.328125 -3.671875 7.015625 -4.03125 C 6.875 -4.203125 6.546875 -4.40625 5.96875 -4.40625 C 5.140625 -4.40625 4.6875 -3.8125 4.53125 -3.421875 C 4.390625 -4.296875 3.65625 -4.40625 3.203125 -4.40625 C 2.46875 -4.40625 2 -3.984375 1.71875 -3.359375 L 1.71875 -4.40625 L 0.3125 -4.296875 L 0.3125 -3.984375 C 1.015625 -3.984375 1.09375 -3.921875 1.09375 -3.421875 Z M 1.09375 -3.421875 \"/>\n",
       "</symbol>\n",
       "<symbol overflow=\"visible\" id=\"glyph-1487623024713069-1-10\">\n",
       "<path style=\"stroke:none;\" d=\"M 1.109375 -2.515625 C 1.171875 -4 2.015625 -4.25 2.359375 -4.25 C 3.375 -4.25 3.484375 -2.90625 3.484375 -2.515625 Z M 1.109375 -2.296875 L 3.890625 -2.296875 C 4.109375 -2.296875 4.140625 -2.296875 4.140625 -2.515625 C 4.140625 -3.5 3.59375 -4.46875 2.359375 -4.46875 C 1.203125 -4.46875 0.28125 -3.4375 0.28125 -2.1875 C 0.28125 -0.859375 1.328125 0.109375 2.46875 0.109375 C 3.6875 0.109375 4.140625 -1 4.140625 -1.1875 C 4.140625 -1.28125 4.0625 -1.3125 4 -1.3125 C 3.921875 -1.3125 3.890625 -1.25 3.875 -1.171875 C 3.53125 -0.140625 2.625 -0.140625 2.53125 -0.140625 C 2.03125 -0.140625 1.640625 -0.4375 1.40625 -0.8125 C 1.109375 -1.28125 1.109375 -1.9375 1.109375 -2.296875 Z M 1.109375 -2.296875 \"/>\n",
       "</symbol>\n",
       "<symbol overflow=\"visible\" id=\"glyph-1487623024713069-1-11\">\n",
       "<path style=\"stroke:none;\" d=\"M 2.21875 -1.71875 C 1.34375 -1.71875 1.34375 -2.71875 1.34375 -2.9375 C 1.34375 -3.203125 1.359375 -3.53125 1.5 -3.78125 C 1.578125 -3.890625 1.8125 -4.171875 2.21875 -4.171875 C 3.078125 -4.171875 3.078125 -3.1875 3.078125 -2.953125 C 3.078125 -2.6875 3.078125 -2.359375 2.921875 -2.109375 C 2.84375 -2 2.609375 -1.71875 2.21875 -1.71875 Z M 1.0625 -1.328125 C 1.0625 -1.359375 1.0625 -1.59375 1.21875 -1.796875 C 1.609375 -1.515625 2.03125 -1.484375 2.21875 -1.484375 C 3.140625 -1.484375 3.828125 -2.171875 3.828125 -2.9375 C 3.828125 -3.3125 3.671875 -3.671875 3.421875 -3.90625 C 3.78125 -4.25 4.140625 -4.296875 4.3125 -4.296875 C 4.34375 -4.296875 4.390625 -4.296875 4.421875 -4.28125 C 4.3125 -4.25 4.25 -4.140625 4.25 -4.015625 C 4.25 -3.84375 4.390625 -3.734375 4.546875 -3.734375 C 4.640625 -3.734375 4.828125 -3.796875 4.828125 -4.03125 C 4.828125 -4.203125 4.71875 -4.515625 4.328125 -4.515625 C 4.125 -4.515625 3.6875 -4.453125 3.265625 -4.046875 C 2.84375 -4.375 2.4375 -4.40625 2.21875 -4.40625 C 1.28125 -4.40625 0.59375 -3.71875 0.59375 -2.953125 C 0.59375 -2.515625 0.8125 -2.140625 1.0625 -1.921875 C 0.9375 -1.78125 0.75 -1.453125 0.75 -1.09375 C 0.75 -0.78125 0.890625 -0.40625 1.203125 -0.203125 C 0.59375 -0.046875 0.28125 0.390625 0.28125 0.78125 C 0.28125 1.5 1.265625 2.046875 2.484375 2.046875 C 3.65625 2.046875 4.6875 1.546875 4.6875 0.765625 C 4.6875 0.421875 4.5625 -0.09375 4.046875 -0.375 C 3.515625 -0.640625 2.9375 -0.640625 2.328125 -0.640625 C 2.078125 -0.640625 1.65625 -0.640625 1.578125 -0.65625 C 1.265625 -0.703125 1.0625 -1 1.0625 -1.328125 Z M 2.5 1.828125 C 1.484375 1.828125 0.796875 1.3125 0.796875 0.78125 C 0.796875 0.328125 1.171875 -0.046875 1.609375 -0.0625 L 2.203125 -0.0625 C 3.0625 -0.0625 4.171875 -0.0625 4.171875 0.78125 C 4.171875 1.328125 3.46875 1.828125 2.5 1.828125 Z M 2.5 1.828125 \"/>\n",
       "</symbol>\n",
       "<symbol overflow=\"visible\" id=\"glyph-1487623024713069-1-12\">\n",
       "<path style=\"stroke:none;\" d=\"M 3.3125 -0.75 C 3.359375 -0.359375 3.625 0.0625 4.09375 0.0625 C 4.3125 0.0625 4.921875 -0.078125 4.921875 -0.890625 L 4.921875 -1.453125 L 4.671875 -1.453125 L 4.671875 -0.890625 C 4.671875 -0.3125 4.421875 -0.25 4.3125 -0.25 C 3.984375 -0.25 3.9375 -0.703125 3.9375 -0.75 L 3.9375 -2.734375 C 3.9375 -3.15625 3.9375 -3.546875 3.578125 -3.921875 C 3.1875 -4.3125 2.6875 -4.46875 2.21875 -4.46875 C 1.390625 -4.46875 0.703125 -4 0.703125 -3.34375 C 0.703125 -3.046875 0.90625 -2.875 1.171875 -2.875 C 1.453125 -2.875 1.625 -3.078125 1.625 -3.328125 C 1.625 -3.453125 1.578125 -3.78125 1.109375 -3.78125 C 1.390625 -4.140625 1.875 -4.25 2.1875 -4.25 C 2.6875 -4.25 3.25 -3.859375 3.25 -2.96875 L 3.25 -2.609375 C 2.734375 -2.578125 2.046875 -2.546875 1.421875 -2.25 C 0.671875 -1.90625 0.421875 -1.390625 0.421875 -0.953125 C 0.421875 -0.140625 1.390625 0.109375 2.015625 0.109375 C 2.671875 0.109375 3.125 -0.296875 3.3125 -0.75 Z M 3.25 -2.390625 L 3.25 -1.390625 C 3.25 -0.453125 2.53125 -0.109375 2.078125 -0.109375 C 1.59375 -0.109375 1.1875 -0.453125 1.1875 -0.953125 C 1.1875 -1.5 1.609375 -2.328125 3.25 -2.390625 Z M 3.25 -2.390625 \"/>\n",
       "</symbol>\n",
       "<symbol overflow=\"visible\" id=\"glyph-1487623024713069-1-13\">\n",
       "<path style=\"stroke:none;\" d=\"M 1.71875 -3.75 L 1.71875 -4.40625 L 0.28125 -4.296875 L 0.28125 -3.984375 C 0.984375 -3.984375 1.0625 -3.921875 1.0625 -3.484375 L 1.0625 1.171875 C 1.0625 1.625 0.953125 1.625 0.28125 1.625 L 0.28125 1.9375 C 0.625 1.921875 1.140625 1.90625 1.390625 1.90625 C 1.671875 1.90625 2.171875 1.921875 2.515625 1.9375 L 2.515625 1.625 C 1.859375 1.625 1.75 1.625 1.75 1.171875 L 1.75 -0.59375 C 1.796875 -0.421875 2.21875 0.109375 2.96875 0.109375 C 4.15625 0.109375 5.1875 -0.875 5.1875 -2.15625 C 5.1875 -3.421875 4.234375 -4.40625 3.109375 -4.40625 C 2.328125 -4.40625 1.90625 -3.96875 1.71875 -3.75 Z M 1.75 -1.140625 L 1.75 -3.359375 C 2.03125 -3.875 2.515625 -4.15625 3.03125 -4.15625 C 3.765625 -4.15625 4.359375 -3.28125 4.359375 -2.15625 C 4.359375 -0.953125 3.671875 -0.109375 2.9375 -0.109375 C 2.53125 -0.109375 2.15625 -0.3125 1.890625 -0.71875 C 1.75 -0.921875 1.75 -0.9375 1.75 -1.140625 Z M 1.75 -1.140625 \"/>\n",
       "</symbol>\n",
       "<symbol overflow=\"visible\" id=\"glyph-1487623024713069-1-14\">\n",
       "<path style=\"stroke:none;\" d=\"M 4.46875 -2 C 4.46875 -3.1875 3.65625 -4.1875 2.578125 -4.1875 C 2.109375 -4.1875 1.671875 -4.03125 1.3125 -3.671875 L 1.3125 -5.625 C 1.515625 -5.5625 1.84375 -5.5 2.15625 -5.5 C 3.390625 -5.5 4.09375 -6.40625 4.09375 -6.53125 C 4.09375 -6.59375 4.0625 -6.640625 3.984375 -6.640625 C 3.984375 -6.640625 3.953125 -6.640625 3.90625 -6.609375 C 3.703125 -6.515625 3.21875 -6.3125 2.546875 -6.3125 C 2.15625 -6.3125 1.6875 -6.390625 1.21875 -6.59375 C 1.140625 -6.625 1.125 -6.625 1.109375 -6.625 C 1 -6.625 1 -6.546875 1 -6.390625 L 1 -3.4375 C 1 -3.265625 1 -3.1875 1.140625 -3.1875 C 1.21875 -3.1875 1.234375 -3.203125 1.28125 -3.265625 C 1.390625 -3.421875 1.75 -3.96875 2.5625 -3.96875 C 3.078125 -3.96875 3.328125 -3.515625 3.40625 -3.328125 C 3.5625 -2.953125 3.59375 -2.578125 3.59375 -2.078125 C 3.59375 -1.71875 3.59375 -1.125 3.34375 -0.703125 C 3.109375 -0.3125 2.734375 -0.0625 2.28125 -0.0625 C 1.5625 -0.0625 0.984375 -0.59375 0.8125 -1.171875 C 0.84375 -1.171875 0.875 -1.15625 0.984375 -1.15625 C 1.3125 -1.15625 1.484375 -1.40625 1.484375 -1.640625 C 1.484375 -1.890625 1.3125 -2.140625 0.984375 -2.140625 C 0.84375 -2.140625 0.5 -2.0625 0.5 -1.609375 C 0.5 -0.75 1.1875 0.21875 2.296875 0.21875 C 3.453125 0.21875 4.46875 -0.734375 4.46875 -2 Z M 4.46875 -2 \"/>\n",
       "</symbol>\n",
       "<symbol overflow=\"visible\" id=\"glyph-1487623024713069-1-15\">\n",
       "<path style=\"stroke:none;\" d=\"M 1.71875 -3.984375 L 3.15625 -3.984375 L 3.15625 -4.296875 L 1.71875 -4.296875 L 1.71875 -6.125 L 1.46875 -6.125 C 1.46875 -5.3125 1.171875 -4.25 0.1875 -4.203125 L 0.1875 -3.984375 L 1.03125 -3.984375 L 1.03125 -1.234375 C 1.03125 -0.015625 1.96875 0.109375 2.328125 0.109375 C 3.03125 0.109375 3.3125 -0.59375 3.3125 -1.234375 L 3.3125 -1.796875 L 3.0625 -1.796875 L 3.0625 -1.25 C 3.0625 -0.515625 2.765625 -0.140625 2.390625 -0.140625 C 1.71875 -0.140625 1.71875 -1.046875 1.71875 -1.21875 Z M 1.71875 -3.984375 \"/>\n",
       "</symbol>\n",
       "<symbol overflow=\"visible\" id=\"glyph-1487623024713069-1-16\">\n",
       "<path style=\"stroke:none;\" d=\"M 4.6875 -2.140625 C 4.6875 -3.40625 3.703125 -4.46875 2.5 -4.46875 C 1.25 -4.46875 0.28125 -3.375 0.28125 -2.140625 C 0.28125 -0.84375 1.3125 0.109375 2.484375 0.109375 C 3.6875 0.109375 4.6875 -0.875 4.6875 -2.140625 Z M 2.5 -0.140625 C 2.0625 -0.140625 1.625 -0.34375 1.359375 -0.8125 C 1.109375 -1.25 1.109375 -1.859375 1.109375 -2.21875 C 1.109375 -2.609375 1.109375 -3.140625 1.34375 -3.578125 C 1.609375 -4.03125 2.078125 -4.25 2.484375 -4.25 C 2.921875 -4.25 3.34375 -4.03125 3.609375 -3.59375 C 3.875 -3.171875 3.875 -2.59375 3.875 -2.21875 C 3.875 -1.859375 3.875 -1.3125 3.65625 -0.875 C 3.421875 -0.421875 2.984375 -0.140625 2.5 -0.140625 Z M 2.5 -0.140625 \"/>\n",
       "</symbol>\n",
       "<symbol overflow=\"visible\" id=\"glyph-1487623024713069-1-17\">\n",
       "<path style=\"stroke:none;\" d=\"M 0.5625 -3.40625 C 0.5625 -1.34375 2.171875 0.21875 4.03125 0.21875 C 5.65625 0.21875 6.625 -1.171875 6.625 -2.328125 C 6.625 -2.421875 6.625 -2.5 6.5 -2.5 C 6.390625 -2.5 6.390625 -2.4375 6.375 -2.328125 C 6.296875 -0.90625 5.234375 -0.09375 4.140625 -0.09375 C 3.53125 -0.09375 1.578125 -0.421875 1.578125 -3.40625 C 1.578125 -6.375 3.53125 -6.71875 4.140625 -6.71875 C 5.21875 -6.71875 6.109375 -5.8125 6.3125 -4.359375 C 6.328125 -4.21875 6.328125 -4.1875 6.46875 -4.1875 C 6.625 -4.1875 6.625 -4.21875 6.625 -4.421875 L 6.625 -6.78125 C 6.625 -6.953125 6.625 -7.03125 6.515625 -7.03125 C 6.484375 -7.03125 6.4375 -7.03125 6.359375 -6.90625 L 5.859375 -6.171875 C 5.5 -6.53125 4.984375 -7.03125 4.03125 -7.03125 C 2.15625 -7.03125 0.5625 -5.4375 0.5625 -3.40625 Z M 0.5625 -3.40625 \"/>\n",
       "</symbol>\n",
       "<symbol overflow=\"visible\" id=\"glyph-1487623024713069-1-18\">\n",
       "<path style=\"stroke:none;\" d=\"M 1.765625 -6.921875 L 0.328125 -6.8125 L 0.328125 -6.5 C 1.03125 -6.5 1.109375 -6.4375 1.109375 -5.9375 L 1.109375 -0.75 C 1.109375 -0.3125 1 -0.3125 0.328125 -0.3125 L 0.328125 0 C 0.65625 -0.015625 1.1875 -0.03125 1.4375 -0.03125 C 1.6875 -0.03125 2.171875 -0.015625 2.546875 0 L 2.546875 -0.3125 C 1.875 -0.3125 1.765625 -0.3125 1.765625 -0.75 Z M 1.765625 -6.921875 \"/>\n",
       "</symbol>\n",
       "<symbol overflow=\"visible\" id=\"glyph-1487623024713069-1-19\">\n",
       "<path style=\"stroke:none;\" d=\"M 2.078125 -1.9375 C 2.296875 -1.890625 3.109375 -1.734375 3.109375 -1.015625 C 3.109375 -0.515625 2.765625 -0.109375 1.984375 -0.109375 C 1.140625 -0.109375 0.78125 -0.671875 0.59375 -1.53125 C 0.5625 -1.65625 0.5625 -1.6875 0.453125 -1.6875 C 0.328125 -1.6875 0.328125 -1.625 0.328125 -1.453125 L 0.328125 -0.125 C 0.328125 0.046875 0.328125 0.109375 0.4375 0.109375 C 0.484375 0.109375 0.5 0.09375 0.6875 -0.09375 C 0.703125 -0.109375 0.703125 -0.125 0.890625 -0.3125 C 1.328125 0.09375 1.78125 0.109375 1.984375 0.109375 C 3.125 0.109375 3.59375 -0.5625 3.59375 -1.28125 C 3.59375 -1.796875 3.296875 -2.109375 3.171875 -2.21875 C 2.84375 -2.546875 2.453125 -2.625 2.03125 -2.703125 C 1.46875 -2.8125 0.8125 -2.9375 0.8125 -3.515625 C 0.8125 -3.875 1.0625 -4.28125 1.921875 -4.28125 C 3.015625 -4.28125 3.078125 -3.375 3.09375 -3.078125 C 3.09375 -2.984375 3.1875 -2.984375 3.203125 -2.984375 C 3.34375 -2.984375 3.34375 -3.03125 3.34375 -3.21875 L 3.34375 -4.234375 C 3.34375 -4.390625 3.34375 -4.46875 3.234375 -4.46875 C 3.1875 -4.46875 3.15625 -4.46875 3.03125 -4.34375 C 3 -4.3125 2.90625 -4.21875 2.859375 -4.1875 C 2.484375 -4.46875 2.078125 -4.46875 1.921875 -4.46875 C 0.703125 -4.46875 0.328125 -3.796875 0.328125 -3.234375 C 0.328125 -2.890625 0.484375 -2.609375 0.75 -2.390625 C 1.078125 -2.140625 1.359375 -2.078125 2.078125 -1.9375 Z M 2.078125 -1.9375 \"/>\n",
       "</symbol>\n",
       "<symbol overflow=\"visible\" id=\"glyph-1487623024713069-1-20\">\n",
       "<path style=\"stroke:none;\" d=\"M 1.09375 -3.421875 L 1.09375 -0.75 C 1.09375 -0.3125 0.984375 -0.3125 0.3125 -0.3125 L 0.3125 0 C 0.671875 -0.015625 1.171875 -0.03125 1.453125 -0.03125 C 1.703125 -0.03125 2.21875 -0.015625 2.5625 0 L 2.5625 -0.3125 C 1.890625 -0.3125 1.78125 -0.3125 1.78125 -0.75 L 1.78125 -2.59375 C 1.78125 -3.625 2.5 -4.1875 3.125 -4.1875 C 3.765625 -4.1875 3.875 -3.65625 3.875 -3.078125 L 3.875 -0.75 C 3.875 -0.3125 3.765625 -0.3125 3.09375 -0.3125 L 3.09375 0 C 3.4375 -0.015625 3.953125 -0.03125 4.21875 -0.03125 C 4.46875 -0.03125 5 -0.015625 5.328125 0 L 5.328125 -0.3125 C 4.8125 -0.3125 4.5625 -0.3125 4.5625 -0.609375 L 4.5625 -2.515625 C 4.5625 -3.375 4.5625 -3.671875 4.25 -4.03125 C 4.109375 -4.203125 3.78125 -4.40625 3.203125 -4.40625 C 2.46875 -4.40625 2 -3.984375 1.71875 -3.359375 L 1.71875 -4.40625 L 0.3125 -4.296875 L 0.3125 -3.984375 C 1.015625 -3.984375 1.09375 -3.921875 1.09375 -3.421875 Z M 1.09375 -3.421875 \"/>\n",
       "</symbol>\n",
       "<symbol overflow=\"visible\" id=\"glyph-1487623024713069-1-21\">\n",
       "<path style=\"stroke:none;\" d=\"M 2.890625 -3.515625 C 3.703125 -3.78125 4.28125 -4.46875 4.28125 -5.265625 C 4.28125 -6.078125 3.40625 -6.640625 2.453125 -6.640625 C 1.453125 -6.640625 0.6875 -6.046875 0.6875 -5.28125 C 0.6875 -4.953125 0.90625 -4.765625 1.203125 -4.765625 C 1.5 -4.765625 1.703125 -4.984375 1.703125 -5.28125 C 1.703125 -5.765625 1.234375 -5.765625 1.09375 -5.765625 C 1.390625 -6.265625 2.046875 -6.390625 2.40625 -6.390625 C 2.828125 -6.390625 3.375 -6.171875 3.375 -5.28125 C 3.375 -5.15625 3.34375 -4.578125 3.09375 -4.140625 C 2.796875 -3.65625 2.453125 -3.625 2.203125 -3.625 C 2.125 -3.609375 1.890625 -3.59375 1.8125 -3.59375 C 1.734375 -3.578125 1.671875 -3.5625 1.671875 -3.46875 C 1.671875 -3.359375 1.734375 -3.359375 1.90625 -3.359375 L 2.34375 -3.359375 C 3.15625 -3.359375 3.53125 -2.6875 3.53125 -1.703125 C 3.53125 -0.34375 2.84375 -0.0625 2.40625 -0.0625 C 1.96875 -0.0625 1.21875 -0.234375 0.875 -0.8125 C 1.21875 -0.765625 1.53125 -0.984375 1.53125 -1.359375 C 1.53125 -1.71875 1.265625 -1.921875 0.984375 -1.921875 C 0.734375 -1.921875 0.421875 -1.78125 0.421875 -1.34375 C 0.421875 -0.4375 1.34375 0.21875 2.4375 0.21875 C 3.65625 0.21875 4.5625 -0.6875 4.5625 -1.703125 C 4.5625 -2.515625 3.921875 -3.296875 2.890625 -3.515625 Z M 2.890625 -3.515625 \"/>\n",
       "</symbol>\n",
       "<symbol overflow=\"visible\" id=\"glyph-1487623024713069-1-22\">\n",
       "<path style=\"stroke:none;\" d=\"M 4.75 -6.078125 C 4.828125 -6.1875 4.828125 -6.203125 4.828125 -6.421875 L 2.40625 -6.421875 C 1.203125 -6.421875 1.171875 -6.546875 1.140625 -6.734375 L 0.890625 -6.734375 L 0.5625 -4.6875 L 0.8125 -4.6875 C 0.84375 -4.84375 0.921875 -5.46875 1.0625 -5.59375 C 1.125 -5.65625 1.90625 -5.65625 2.03125 -5.65625 L 4.09375 -5.65625 C 3.984375 -5.5 3.203125 -4.40625 2.984375 -4.078125 C 2.078125 -2.734375 1.75 -1.34375 1.75 -0.328125 C 1.75 -0.234375 1.75 0.21875 2.21875 0.21875 C 2.671875 0.21875 2.671875 -0.234375 2.671875 -0.328125 L 2.671875 -0.84375 C 2.671875 -1.390625 2.703125 -1.9375 2.78125 -2.46875 C 2.828125 -2.703125 2.953125 -3.5625 3.40625 -4.171875 Z M 4.75 -6.078125 \"/>\n",
       "</symbol>\n",
       "<symbol overflow=\"visible\" id=\"glyph-1487623024713069-1-23\">\n",
       "<path style=\"stroke:none;\" d=\"M 6.1875 -5.828125 C 6.328125 -6.203125 6.59375 -6.484375 7.28125 -6.5 L 7.28125 -6.8125 C 6.96875 -6.78125 6.5625 -6.78125 6.3125 -6.78125 C 6.015625 -6.78125 5.4375 -6.796875 5.171875 -6.8125 L 5.171875 -6.5 C 5.6875 -6.484375 5.90625 -6.234375 5.90625 -6 C 5.90625 -5.921875 5.875 -5.859375 5.859375 -5.796875 L 4.03125 -1 L 2.125 -6.03125 C 2.0625 -6.171875 2.0625 -6.1875 2.0625 -6.203125 C 2.0625 -6.5 2.625 -6.5 2.875 -6.5 L 2.875 -6.8125 C 2.515625 -6.78125 1.828125 -6.78125 1.453125 -6.78125 C 0.984375 -6.78125 0.546875 -6.796875 0.1875 -6.8125 L 0.1875 -6.5 C 0.84375 -6.5 1.03125 -6.5 1.171875 -6.125 L 3.484375 0 C 3.546875 0.1875 3.59375 0.21875 3.734375 0.21875 C 3.890625 0.21875 3.921875 0.171875 3.96875 0.03125 Z M 6.1875 -5.828125 \"/>\n",
       "</symbol>\n",
       "<symbol overflow=\"visible\" id=\"glyph-1487623024713069-1-24\">\n",
       "<path style=\"stroke:none;\" d=\"M 1.171875 -2.171875 C 1.171875 -3.796875 1.984375 -4.21875 2.515625 -4.21875 C 2.609375 -4.21875 3.234375 -4.203125 3.578125 -3.84375 C 3.171875 -3.8125 3.109375 -3.515625 3.109375 -3.390625 C 3.109375 -3.125 3.296875 -2.9375 3.5625 -2.9375 C 3.828125 -2.9375 4.03125 -3.09375 4.03125 -3.40625 C 4.03125 -4.078125 3.265625 -4.46875 2.5 -4.46875 C 1.25 -4.46875 0.34375 -3.390625 0.34375 -2.15625 C 0.34375 -0.875 1.328125 0.109375 2.484375 0.109375 C 3.8125 0.109375 4.140625 -1.09375 4.140625 -1.1875 C 4.140625 -1.28125 4.03125 -1.28125 4 -1.28125 C 3.921875 -1.28125 3.890625 -1.25 3.875 -1.1875 C 3.59375 -0.265625 2.9375 -0.140625 2.578125 -0.140625 C 2.046875 -0.140625 1.171875 -0.5625 1.171875 -2.171875 Z M 1.171875 -2.171875 \"/>\n",
       "</symbol>\n",
       "<symbol overflow=\"visible\" id=\"glyph-1487623024713069-1-25\">\n",
       "<path style=\"stroke:none;\" d=\"M 4.140625 -3.34375 C 4.390625 -3.984375 4.90625 -3.984375 5.0625 -3.984375 L 5.0625 -4.296875 C 4.828125 -4.28125 4.546875 -4.265625 4.3125 -4.265625 C 4.140625 -4.265625 3.671875 -4.28125 3.453125 -4.296875 L 3.453125 -3.984375 C 3.765625 -3.984375 3.921875 -3.8125 3.921875 -3.5625 C 3.921875 -3.453125 3.90625 -3.4375 3.859375 -3.3125 L 2.84375 -0.875 L 1.75 -3.546875 C 1.703125 -3.65625 1.6875 -3.6875 1.6875 -3.734375 C 1.6875 -3.984375 2.046875 -3.984375 2.25 -3.984375 L 2.25 -4.296875 C 1.984375 -4.28125 1.328125 -4.265625 1.15625 -4.265625 C 0.890625 -4.265625 0.484375 -4.28125 0.1875 -4.296875 L 0.1875 -3.984375 C 0.671875 -3.984375 0.859375 -3.984375 1 -3.640625 L 2.5 0 C 2.4375 0.125 2.296875 0.453125 2.25 0.59375 C 2.03125 1.140625 1.75 1.828125 1.109375 1.828125 C 1.0625 1.828125 0.828125 1.828125 0.640625 1.640625 C 0.953125 1.609375 1.03125 1.390625 1.03125 1.21875 C 1.03125 0.96875 0.84375 0.8125 0.609375 0.8125 C 0.40625 0.8125 0.1875 0.9375 0.1875 1.234375 C 0.1875 1.6875 0.609375 2.046875 1.109375 2.046875 C 1.734375 2.046875 2.140625 1.46875 2.375 0.90625 Z M 4.140625 -3.34375 \"/>\n",
       "</symbol>\n",
       "<symbol overflow=\"visible\" id=\"glyph-1487623024713069-1-26\">\n",
       "<path style=\"stroke:none;\" d=\"M 3.65625 -3.171875 L 3.65625 -2.84375 C 3.65625 -0.515625 2.625 -0.0625 2.046875 -0.0625 C 1.875 -0.0625 1.328125 -0.078125 1.0625 -0.421875 C 1.5 -0.421875 1.578125 -0.703125 1.578125 -0.875 C 1.578125 -1.1875 1.34375 -1.328125 1.125 -1.328125 C 0.96875 -1.328125 0.671875 -1.25 0.671875 -0.859375 C 0.671875 -0.1875 1.203125 0.21875 2.046875 0.21875 C 3.34375 0.21875 4.5625 -1.140625 4.5625 -3.28125 C 4.5625 -5.96875 3.40625 -6.640625 2.515625 -6.640625 C 1.96875 -6.640625 1.484375 -6.453125 1.0625 -6.015625 C 0.640625 -5.5625 0.421875 -5.140625 0.421875 -4.390625 C 0.421875 -3.15625 1.296875 -2.171875 2.40625 -2.171875 C 3.015625 -2.171875 3.421875 -2.59375 3.65625 -3.171875 Z M 2.421875 -2.40625 C 2.265625 -2.40625 1.796875 -2.40625 1.5 -3.03125 C 1.3125 -3.40625 1.3125 -3.890625 1.3125 -4.390625 C 1.3125 -4.921875 1.3125 -5.390625 1.53125 -5.765625 C 1.796875 -6.265625 2.171875 -6.390625 2.515625 -6.390625 C 2.984375 -6.390625 3.3125 -6.046875 3.484375 -5.609375 C 3.59375 -5.28125 3.640625 -4.65625 3.640625 -4.203125 C 3.640625 -3.375 3.296875 -2.40625 2.421875 -2.40625 Z M 2.421875 -2.40625 \"/>\n",
       "</symbol>\n",
       "<symbol overflow=\"visible\" id=\"glyph-1487623024713069-1-27\">\n",
       "<path style=\"stroke:none;\" d=\"M 0.34375 -6.8125 L 0.34375 -6.5 L 0.59375 -6.5 C 1.359375 -6.5 1.375 -6.390625 1.375 -6.03125 L 1.375 -0.78125 C 1.375 -0.421875 1.359375 -0.3125 0.59375 -0.3125 L 0.34375 -0.3125 L 0.34375 0 L 4 0 C 5.671875 0 7.046875 -1.46875 7.046875 -3.34375 C 7.046875 -5.25 5.703125 -6.8125 4 -6.8125 Z M 2.71875 -0.3125 C 2.25 -0.3125 2.234375 -0.375 2.234375 -0.703125 L 2.234375 -6.09375 C 2.234375 -6.4375 2.25 -6.5 2.71875 -6.5 L 3.71875 -6.5 C 4.34375 -6.5 5.03125 -6.28125 5.53125 -5.578125 C 5.96875 -4.984375 6.046875 -4.125 6.046875 -3.34375 C 6.046875 -2.25 5.859375 -1.640625 5.5 -1.15625 C 5.296875 -0.890625 4.734375 -0.3125 3.734375 -0.3125 Z M 2.71875 -0.3125 \"/>\n",
       "</symbol>\n",
       "<symbol overflow=\"visible\" id=\"glyph-1487623024713069-1-28\">\n",
       "<path style=\"stroke:none;\" d=\"M 5.796875 -6.78125 L 0.328125 -6.78125 L 0.328125 -6.46875 L 0.5625 -6.46875 C 1.328125 -6.46875 1.359375 -6.359375 1.359375 -6 L 1.359375 -0.78125 C 1.359375 -0.421875 1.328125 -0.3125 0.5625 -0.3125 L 0.328125 -0.3125 L 0.328125 0 C 0.671875 -0.03125 1.453125 -0.03125 1.84375 -0.03125 C 2.25 -0.03125 3.15625 -0.03125 3.515625 0 L 3.515625 -0.3125 L 3.1875 -0.3125 C 2.25 -0.3125 2.25 -0.4375 2.25 -0.78125 L 2.25 -3.234375 L 3.09375 -3.234375 C 4.0625 -3.234375 4.15625 -2.921875 4.15625 -2.078125 L 4.40625 -2.078125 L 4.40625 -4.71875 L 4.15625 -4.71875 C 4.15625 -3.875 4.0625 -3.546875 3.09375 -3.546875 L 2.25 -3.546875 L 2.25 -6.078125 C 2.25 -6.40625 2.265625 -6.46875 2.734375 -6.46875 L 3.921875 -6.46875 C 5.421875 -6.46875 5.671875 -5.90625 5.828125 -4.53125 L 6.078125 -4.53125 Z M 5.796875 -6.78125 \"/>\n",
       "</symbol>\n",
       "<symbol overflow=\"visible\" id=\"glyph-1487623024713069-1-29\">\n",
       "<path style=\"stroke:none;\" d=\"M 1.671875 -3.3125 L 1.671875 -4.40625 L 0.28125 -4.296875 L 0.28125 -3.984375 C 0.984375 -3.984375 1.0625 -3.921875 1.0625 -3.421875 L 1.0625 -0.75 C 1.0625 -0.3125 0.953125 -0.3125 0.28125 -0.3125 L 0.28125 0 C 0.671875 -0.015625 1.140625 -0.03125 1.421875 -0.03125 C 1.8125 -0.03125 2.28125 -0.03125 2.6875 0 L 2.6875 -0.3125 L 2.46875 -0.3125 C 1.734375 -0.3125 1.71875 -0.421875 1.71875 -0.78125 L 1.71875 -2.3125 C 1.71875 -3.296875 2.140625 -4.1875 2.890625 -4.1875 C 2.953125 -4.1875 2.984375 -4.1875 3 -4.171875 C 2.96875 -4.171875 2.765625 -4.046875 2.765625 -3.78125 C 2.765625 -3.515625 2.984375 -3.359375 3.203125 -3.359375 C 3.375 -3.359375 3.625 -3.484375 3.625 -3.796875 C 3.625 -4.109375 3.3125 -4.40625 2.890625 -4.40625 C 2.15625 -4.40625 1.796875 -3.734375 1.671875 -3.3125 Z M 1.671875 -3.3125 \"/>\n",
       "</symbol>\n",
       "<symbol overflow=\"visible\" id=\"glyph-1487623024713069-2-0\">\n",
       "<path style=\"stroke:none;\" d=\"\"/>\n",
       "</symbol>\n",
       "<symbol overflow=\"visible\" id=\"glyph-1487623024713069-2-1\">\n",
       "<path style=\"stroke:none;\" d=\"M 1.90625 -0.53125 C 1.90625 -0.8125 1.671875 -1.0625 1.390625 -1.0625 C 1.09375 -1.0625 0.859375 -0.8125 0.859375 -0.53125 C 0.859375 -0.234375 1.09375 0 1.390625 0 C 1.671875 0 1.90625 -0.234375 1.90625 -0.53125 Z M 1.90625 -0.53125 \"/>\n",
       "</symbol>\n",
       "<symbol overflow=\"visible\" id=\"glyph-1487623024713069-2-2\">\n",
       "<path style=\"stroke:none;\" d=\"M 2.03125 -0.015625 C 2.03125 -0.671875 1.78125 -1.0625 1.390625 -1.0625 C 1.0625 -1.0625 0.859375 -0.8125 0.859375 -0.53125 C 0.859375 -0.265625 1.0625 0 1.390625 0 C 1.5 0 1.640625 -0.046875 1.734375 -0.125 C 1.765625 -0.15625 1.78125 -0.15625 1.78125 -0.15625 C 1.796875 -0.15625 1.796875 -0.15625 1.796875 -0.015625 C 1.796875 0.734375 1.453125 1.328125 1.125 1.65625 C 1.015625 1.765625 1.015625 1.78125 1.015625 1.8125 C 1.015625 1.890625 1.0625 1.921875 1.109375 1.921875 C 1.21875 1.921875 2.03125 1.15625 2.03125 -0.015625 Z M 2.03125 -0.015625 \"/>\n",
       "</symbol>\n",
       "<symbol overflow=\"visible\" id=\"glyph-1487623024713069-3-0\">\n",
       "<path style=\"stroke:none;\" d=\"\"/>\n",
       "</symbol>\n",
       "<symbol overflow=\"visible\" id=\"glyph-1487623024713069-3-1\">\n",
       "<path style=\"stroke:none;\" d=\"M 3.6875 -1.140625 L 3.6875 -1.390625 L 2.90625 -1.390625 L 2.90625 -4.5 C 2.90625 -4.640625 2.90625 -4.703125 2.765625 -4.703125 C 2.671875 -4.703125 2.640625 -4.703125 2.578125 -4.59375 L 0.265625 -1.390625 L 0.265625 -1.140625 L 2.328125 -1.140625 L 2.328125 -0.578125 C 2.328125 -0.328125 2.328125 -0.25 1.75 -0.25 L 1.5625 -0.25 L 1.5625 0 C 1.921875 -0.015625 2.359375 -0.03125 2.609375 -0.03125 C 2.875 -0.03125 3.3125 -0.015625 3.671875 0 L 3.671875 -0.25 L 3.484375 -0.25 C 2.90625 -0.25 2.90625 -0.328125 2.90625 -0.578125 L 2.90625 -1.140625 Z M 2.375 -3.9375 L 2.375 -1.390625 L 0.53125 -1.390625 Z M 2.375 -3.9375 \"/>\n",
       "</symbol>\n",
       "</g>\n",
       "<clipPath id=\"clip-1487623024713069-1\">\n",
       "  <path d=\"M 37 43 L 324.859375 43 L 324.859375 260.195312 L 37 260.195312 Z M 37 43 \"/>\n",
       "</clipPath>\n",
       "<clipPath id=\"clip-1487623024713069-2\">\n",
       "  <path d=\"M 374 41 L 669.988281 41 L 669.988281 261 L 374 261 Z M 374 41 \"/>\n",
       "</clipPath>\n",
       "<clipPath id=\"clip-1487623024713069-3\">\n",
       "  <path d=\"M 374 21 L 669.988281 21 L 669.988281 261 L 374 261 Z M 374 21 \"/>\n",
       "</clipPath>\n",
       "<clipPath id=\"clip-1487623024713069-4\">\n",
       "  <path d=\"M 401 21.558594 L 669.792969 21.558594 L 669.792969 260.195312 L 401 260.195312 Z M 401 21.558594 \"/>\n",
       "</clipPath>\n",
       "<clipPath id=\"clip-1487623024713069-5\">\n",
       "  <path d=\"M 54 324 L 301 324 L 301 541.347656 L 54 541.347656 Z M 54 324 \"/>\n",
       "</clipPath>\n",
       "<clipPath id=\"clip-1487623024713069-6\">\n",
       "  <path d=\"M 53 324 L 301 324 L 301 541.347656 L 53 541.347656 Z M 53 324 \"/>\n",
       "</clipPath>\n",
       "<clipPath id=\"clip-1487623024713069-7\">\n",
       "  <path d=\"M 374 336 L 669.988281 336 L 669.988281 542 L 374 542 Z M 374 336 \"/>\n",
       "</clipPath>\n",
       "<clipPath id=\"clip-1487623024713069-8\">\n",
       "  <path d=\"M 374 302 L 669.988281 302 L 669.988281 542 L 374 542 Z M 374 302 \"/>\n",
       "</clipPath>\n",
       "<clipPath id=\"clip-1487623024713069-9\">\n",
       "  <path d=\"M 401 324 L 669.789062 324 L 669.789062 541.34375 L 401 541.34375 Z M 401 324 \"/>\n",
       "</clipPath>\n",
       "</defs>\n",
       "<g id=\"surface1\">\n",
       "<path style=\"fill:none;stroke-width:0.19925;stroke-linecap:butt;stroke-linejoin:miter;stroke:rgb(50%,50%,50%);stroke-opacity:1;stroke-miterlimit:10;\" d=\"M 21.093812 -0.0003125 L 21.093812 4.253594 M 21.093812 238.636406 L 21.093812 234.3825 M 63.281312 -0.0003125 L 63.281312 4.253594 M 63.281312 238.636406 L 63.281312 234.3825 M 105.472719 -0.0003125 L 105.472719 4.253594 M 105.472719 238.636406 L 105.472719 234.3825 M 147.660219 -0.0003125 L 147.660219 4.253594 M 147.660219 238.636406 L 147.660219 234.3825 M 189.847719 -0.0003125 L 189.847719 4.253594 M 189.847719 238.636406 L 189.847719 234.3825 M 232.035219 -0.0003125 L 232.035219 4.253594 M 232.035219 238.636406 L 232.035219 234.3825 M 274.226625 -0.0003125 L 274.226625 4.253594 M 274.226625 238.636406 L 274.226625 234.3825 \" transform=\"matrix(1,0,0,-1,29.539,260.195)\"/>\n",
       "<path style=\"fill:none;stroke-width:0.19925;stroke-linecap:butt;stroke-linejoin:miter;stroke:rgb(50%,50%,50%);stroke-opacity:1;stroke-miterlimit:10;\" d=\"M 0.0000625 -0.0003125 L 4.250062 -0.0003125 M 295.320375 -0.0003125 L 291.066469 -0.0003125 M 0.0000625 38.816094 L 4.250062 38.816094 M 295.320375 38.816094 L 291.066469 38.816094 M 0.0000625 77.6325 L 4.250062 77.6325 M 295.320375 77.6325 L 291.066469 77.6325 M 0.0000625 116.445 L 4.250062 116.445 M 295.320375 116.445 L 291.066469 116.445 M 0.0000625 155.261406 L 4.250062 155.261406 M 295.320375 155.261406 L 291.066469 155.261406 M 0.0000625 194.077813 L 4.250062 194.077813 M 295.320375 194.077813 L 291.066469 194.077813 M 0.0000625 232.894219 L 4.250062 232.894219 M 295.320375 232.894219 L 291.066469 232.894219 \" transform=\"matrix(1,0,0,-1,29.539,260.195)\"/>\n",
       "<path style=\"fill:none;stroke-width:0.3985;stroke-linecap:butt;stroke-linejoin:miter;stroke:rgb(0%,0%,0%);stroke-opacity:1;stroke-miterlimit:10;\" d=\"M 0.0000625 -0.0003125 L 0.0000625 238.636406 L 295.320375 238.636406 L 295.320375 -0.0003125 Z M 0.0000625 -0.0003125 \" transform=\"matrix(1,0,0,-1,29.539,260.195)\"/>\n",
       "<g style=\"fill:rgb(0%,0%,0%);fill-opacity:1;\">\n",
       "  <use xlink:href=\"#glyph-1487623024713069-0-1\" x=\"44.268\" y=\"270.135\"/>\n",
       "</g>\n",
       "<g style=\"fill:rgb(0%,0%,0%);fill-opacity:1;\">\n",
       "  <use xlink:href=\"#glyph-1487623024713069-1-1\" x=\"52.016\" y=\"270.135\"/>\n",
       "</g>\n",
       "<g style=\"fill:rgb(0%,0%,0%);fill-opacity:1;\">\n",
       "  <use xlink:href=\"#glyph-1487623024713069-0-1\" x=\"86.456\" y=\"270.135\"/>\n",
       "</g>\n",
       "<g style=\"fill:rgb(0%,0%,0%);fill-opacity:1;\">\n",
       "  <use xlink:href=\"#glyph-1487623024713069-1-2\" x=\"94.204\" y=\"270.135\"/>\n",
       "</g>\n",
       "<g style=\"fill:rgb(0%,0%,0%);fill-opacity:1;\">\n",
       "  <use xlink:href=\"#glyph-1487623024713069-1-3\" x=\"132.518\" y=\"270.135\"/>\n",
       "</g>\n",
       "<g style=\"fill:rgb(0%,0%,0%);fill-opacity:1;\">\n",
       "  <use xlink:href=\"#glyph-1487623024713069-1-2\" x=\"174.706\" y=\"270.135\"/>\n",
       "</g>\n",
       "<g style=\"fill:rgb(0%,0%,0%);fill-opacity:1;\">\n",
       "  <use xlink:href=\"#glyph-1487623024713069-1-1\" x=\"216.894\" y=\"270.135\"/>\n",
       "</g>\n",
       "<g style=\"fill:rgb(0%,0%,0%);fill-opacity:1;\">\n",
       "  <use xlink:href=\"#glyph-1487623024713069-1-4\" x=\"259.082\" y=\"270.135\"/>\n",
       "</g>\n",
       "<g style=\"fill:rgb(0%,0%,0%);fill-opacity:1;\">\n",
       "  <use xlink:href=\"#glyph-1487623024713069-1-5\" x=\"301.27\" y=\"270.135\"/>\n",
       "</g>\n",
       "<g style=\"fill:rgb(0%,0%,0%);fill-opacity:1;\">\n",
       "  <use xlink:href=\"#glyph-1487623024713069-1-3\" x=\"21.037\" y=\"263.405\"/>\n",
       "</g>\n",
       "<g style=\"fill:rgb(0%,0%,0%);fill-opacity:1;\">\n",
       "  <use xlink:href=\"#glyph-1487623024713069-1-3\" x=\"13.289\" y=\"224.59\"/>\n",
       "</g>\n",
       "<g style=\"fill:rgb(0%,0%,0%);fill-opacity:1;\">\n",
       "  <use xlink:href=\"#glyph-1487623024713069-2-1\" x=\"18.27\" y=\"224.59\"/>\n",
       "</g>\n",
       "<g style=\"fill:rgb(0%,0%,0%);fill-opacity:1;\">\n",
       "  <use xlink:href=\"#glyph-1487623024713069-1-2\" x=\"21.037\" y=\"224.59\"/>\n",
       "</g>\n",
       "<g style=\"fill:rgb(0%,0%,0%);fill-opacity:1;\">\n",
       "  <use xlink:href=\"#glyph-1487623024713069-1-3\" x=\"13.289\" y=\"185.775\"/>\n",
       "</g>\n",
       "<g style=\"fill:rgb(0%,0%,0%);fill-opacity:1;\">\n",
       "  <use xlink:href=\"#glyph-1487623024713069-2-1\" x=\"18.27\" y=\"185.775\"/>\n",
       "</g>\n",
       "<g style=\"fill:rgb(0%,0%,0%);fill-opacity:1;\">\n",
       "  <use xlink:href=\"#glyph-1487623024713069-1-1\" x=\"21.037\" y=\"185.775\"/>\n",
       "</g>\n",
       "<g style=\"fill:rgb(0%,0%,0%);fill-opacity:1;\">\n",
       "  <use xlink:href=\"#glyph-1487623024713069-1-3\" x=\"13.289\" y=\"146.96\"/>\n",
       "</g>\n",
       "<g style=\"fill:rgb(0%,0%,0%);fill-opacity:1;\">\n",
       "  <use xlink:href=\"#glyph-1487623024713069-2-1\" x=\"18.27\" y=\"146.96\"/>\n",
       "</g>\n",
       "<g style=\"fill:rgb(0%,0%,0%);fill-opacity:1;\">\n",
       "  <use xlink:href=\"#glyph-1487623024713069-1-4\" x=\"21.037\" y=\"146.96\"/>\n",
       "</g>\n",
       "<g style=\"fill:rgb(0%,0%,0%);fill-opacity:1;\">\n",
       "  <use xlink:href=\"#glyph-1487623024713069-1-3\" x=\"13.289\" y=\"108.145\"/>\n",
       "</g>\n",
       "<g style=\"fill:rgb(0%,0%,0%);fill-opacity:1;\">\n",
       "  <use xlink:href=\"#glyph-1487623024713069-2-1\" x=\"18.27\" y=\"108.145\"/>\n",
       "</g>\n",
       "<g style=\"fill:rgb(0%,0%,0%);fill-opacity:1;\">\n",
       "  <use xlink:href=\"#glyph-1487623024713069-1-5\" x=\"21.037\" y=\"108.145\"/>\n",
       "</g>\n",
       "<g style=\"fill:rgb(0%,0%,0%);fill-opacity:1;\">\n",
       "  <use xlink:href=\"#glyph-1487623024713069-1-6\" x=\"21.037\" y=\"69.33\"/>\n",
       "</g>\n",
       "<g style=\"fill:rgb(0%,0%,0%);fill-opacity:1;\">\n",
       "  <use xlink:href=\"#glyph-1487623024713069-1-6\" x=\"13.289\" y=\"30.515\"/>\n",
       "</g>\n",
       "<g style=\"fill:rgb(0%,0%,0%);fill-opacity:1;\">\n",
       "  <use xlink:href=\"#glyph-1487623024713069-2-1\" x=\"18.27\" y=\"30.515\"/>\n",
       "</g>\n",
       "<g style=\"fill:rgb(0%,0%,0%);fill-opacity:1;\">\n",
       "  <use xlink:href=\"#glyph-1487623024713069-1-2\" x=\"21.037\" y=\"30.515\"/>\n",
       "</g>\n",
       "<g style=\"fill:rgb(0%,0%,0%);fill-opacity:1;\">\n",
       "  <use xlink:href=\"#glyph-1487623024713069-0-2\" x=\"32.727\" y=\"14.205\"/>\n",
       "</g>\n",
       "<g style=\"fill:rgb(0%,0%,0%);fill-opacity:1;\">\n",
       "  <use xlink:href=\"#glyph-1487623024713069-1-6\" x=\"35.494\" y=\"14.205\"/>\n",
       "  <use xlink:href=\"#glyph-1487623024713069-1-3\" x=\"40.47532\" y=\"14.205\"/>\n",
       "</g>\n",
       "<g style=\"fill:rgb(0%,0%,0%);fill-opacity:1;\">\n",
       "  <use xlink:href=\"#glyph-1487623024713069-3-1\" x=\"45.457\" y=\"10.59\"/>\n",
       "</g>\n",
       "<g clip-path=\"url(#clip-1487623024713069-1)\" clip-rule=\"nonzero\">\n",
       "<path style=\"fill-rule:nonzero;fill:rgb(89.99939%,89.99939%,100%);fill-opacity:1;stroke-width:0.3985;stroke-linecap:butt;stroke-linejoin:miter;stroke:rgb(0%,0%,100%);stroke-opacity:1;stroke-miterlimit:10;\" d=\"M 8.203187 -0.0003125 L 9.050844 -0.0003125 L 9.050844 0.0192188 L 8.203187 0.0192188 Z M 9.050844 -0.0003125 L 9.902406 -0.0003125 Z M 9.902406 -0.0003125 L 10.750062 -0.0003125 Z M 10.750062 -0.0003125 L 11.597719 -0.0003125 Z M 11.597719 -0.0003125 L 12.449281 -0.0003125 L 12.449281 0.0192188 L 11.597719 0.0192188 Z M 12.449281 -0.0003125 L 13.296937 -0.0003125 Z M 13.296937 -0.0003125 L 14.1485 -0.0003125 Z M 14.1485 -0.0003125 L 14.996156 -0.0003125 Z M 14.996156 -0.0003125 L 15.843812 -0.0003125 Z M 15.843812 -0.0003125 L 16.695375 -0.0003125 Z M 16.695375 -0.0003125 L 17.543031 -0.0003125 Z M 17.543031 -0.0003125 L 18.390687 -0.0003125 L 18.390687 0.0192188 L 17.543031 0.0192188 Z M 18.390687 -0.0003125 L 19.24225 -0.0003125 Z M 19.24225 -0.0003125 L 20.089906 -0.0003125 Z M 20.089906 -0.0003125 L 20.937562 -0.0003125 Z M 20.937562 -0.0003125 L 21.789125 -0.0003125 Z M 21.789125 -0.0003125 L 22.636781 -0.0003125 L 22.636781 0.0192188 L 21.789125 0.0192188 Z M 22.636781 -0.0003125 L 23.488344 -0.0003125 Z M 23.488344 -0.0003125 L 24.336 -0.0003125 L 24.336 0.0192188 L 23.488344 0.0192188 Z M 24.336 -0.0003125 L 25.183656 -0.0003125 Z M 25.183656 -0.0003125 L 26.035219 -0.0003125 Z M 26.035219 -0.0003125 L 26.882875 -0.0003125 Z M 26.882875 -0.0003125 L 27.730531 -0.0003125 L 27.730531 0.0192188 L 26.882875 0.0192188 Z M 27.730531 -0.0003125 L 28.582094 -0.0003125 L 28.582094 0.0192188 L 27.730531 0.0192188 Z M 28.582094 -0.0003125 L 29.42975 -0.0003125 Z M 29.42975 -0.0003125 L 30.277406 -0.0003125 Z M 30.277406 -0.0003125 L 31.128969 -0.0003125 Z M 31.128969 -0.0003125 L 31.976625 -0.0003125 L 31.976625 0.0192188 L 31.128969 0.0192188 Z M 31.976625 -0.0003125 L 32.824281 -0.0003125 Z M 32.824281 -0.0003125 L 33.675844 -0.0003125 L 33.675844 0.0192188 L 32.824281 0.0192188 Z M 33.675844 -0.0003125 L 34.5235 -0.0003125 L 34.5235 0.03875 L 33.675844 0.03875 Z M 34.5235 -0.0003125 L 35.375062 -0.0003125 L 35.375062 0.03875 L 34.5235 0.03875 Z M 35.375062 -0.0003125 L 36.222719 -0.0003125 L 36.222719 0.0192188 L 35.375062 0.0192188 Z M 36.222719 -0.0003125 L 37.070375 -0.0003125 L 37.070375 0.03875 L 36.222719 0.03875 Z M 37.070375 -0.0003125 L 37.921937 -0.0003125 L 37.921937 0.03875 L 37.070375 0.03875 Z M 37.921937 -0.0003125 L 38.769594 -0.0003125 Z M 38.769594 -0.0003125 L 39.61725 -0.0003125 L 39.61725 0.0192188 L 38.769594 0.0192188 Z M 39.61725 -0.0003125 L 40.468812 -0.0003125 L 40.468812 0.03875 L 39.61725 0.03875 Z M 40.468812 -0.0003125 L 41.316469 -0.0003125 L 41.316469 0.0192188 L 40.468812 0.0192188 Z M 41.316469 -0.0003125 L 42.164125 -0.0003125 L 42.164125 0.03875 L 41.316469 0.03875 Z M 42.164125 -0.0003125 L 43.015687 -0.0003125 L 43.015687 0.0192188 L 42.164125 0.0192188 Z M 43.015687 -0.0003125 L 43.863344 -0.0003125 L 43.863344 0.0192188 L 43.015687 0.0192188 Z M 43.863344 -0.0003125 L 44.714906 -0.0003125 L 44.714906 0.0582813 L 43.863344 0.0582813 Z M 44.714906 -0.0003125 L 45.562562 -0.0003125 L 45.562562 0.0582813 L 44.714906 0.0582813 Z M 45.562562 -0.0003125 L 46.410219 -0.0003125 L 46.410219 0.0192188 L 45.562562 0.0192188 Z M 46.410219 -0.0003125 L 47.261781 -0.0003125 L 47.261781 0.03875 L 46.410219 0.03875 Z M 47.261781 -0.0003125 L 48.109437 -0.0003125 L 48.109437 0.0192188 L 47.261781 0.0192188 Z M 48.109437 -0.0003125 L 48.957094 -0.0003125 L 48.957094 0.0192188 L 48.109437 0.0192188 Z M 48.957094 -0.0003125 L 49.808656 -0.0003125 L 49.808656 0.0192188 L 48.957094 0.0192188 Z M 49.808656 -0.0003125 L 50.656312 -0.0003125 L 50.656312 0.03875 L 49.808656 0.03875 Z M 50.656312 -0.0003125 L 51.503969 -0.0003125 L 51.503969 0.03875 L 50.656312 0.03875 Z M 51.503969 -0.0003125 L 52.355531 -0.0003125 L 52.355531 0.0973438 L 51.503969 0.0973438 Z M 52.355531 -0.0003125 L 53.203187 -0.0003125 L 53.203187 0.0778125 L 52.355531 0.0778125 Z M 53.203187 -0.0003125 L 54.050844 -0.0003125 L 54.050844 0.0192188 L 53.203187 0.0192188 Z M 54.050844 -0.0003125 L 54.902406 -0.0003125 L 54.902406 0.0582813 L 54.050844 0.0582813 Z M 54.902406 -0.0003125 L 55.750062 -0.0003125 L 55.750062 0.0582813 L 54.902406 0.0582813 Z M 55.750062 -0.0003125 L 56.601625 -0.0003125 L 56.601625 0.116875 L 55.750062 0.116875 Z M 56.601625 -0.0003125 L 57.449281 -0.0003125 L 57.449281 0.0192188 L 56.601625 0.0192188 Z M 57.449281 -0.0003125 L 58.296937 -0.0003125 L 58.296937 0.116875 L 57.449281 0.116875 Z M 58.296937 -0.0003125 L 59.1485 -0.0003125 L 59.1485 0.0778125 L 58.296937 0.0778125 Z M 59.1485 -0.0003125 L 59.996156 -0.0003125 L 59.996156 0.0192188 L 59.1485 0.0192188 Z M 59.996156 -0.0003125 L 60.843812 -0.0003125 L 60.843812 0.03875 L 59.996156 0.03875 Z M 60.843812 -0.0003125 L 61.695375 -0.0003125 Z M 61.695375 -0.0003125 L 62.543031 -0.0003125 L 62.543031 0.0973438 L 61.695375 0.0973438 Z M 62.543031 -0.0003125 L 63.390687 -0.0003125 L 63.390687 0.0973438 L 62.543031 0.0973438 Z M 63.390687 -0.0003125 L 64.24225 -0.0003125 L 64.24225 0.0582813 L 63.390687 0.0582813 Z M 64.24225 -0.0003125 L 65.089906 -0.0003125 L 65.089906 0.03875 L 64.24225 0.03875 Z M 65.089906 -0.0003125 L 65.941469 -0.0003125 L 65.941469 0.0973438 L 65.089906 0.0973438 Z M 65.941469 -0.0003125 L 66.789125 -0.0003125 L 66.789125 0.0778125 L 65.941469 0.0778125 Z M 66.789125 -0.0003125 L 67.636781 -0.0003125 L 67.636781 0.116875 L 66.789125 0.116875 Z M 67.636781 -0.0003125 L 68.488344 -0.0003125 L 68.488344 0.116875 L 67.636781 0.116875 Z M 68.488344 -0.0003125 L 69.336 -0.0003125 L 69.336 0.0973438 L 68.488344 0.0973438 Z M 69.336 -0.0003125 L 70.183656 -0.0003125 L 70.183656 0.03875 L 69.336 0.03875 Z M 70.183656 -0.0003125 L 71.035219 -0.0003125 L 71.035219 0.136406 L 70.183656 0.136406 Z M 71.035219 -0.0003125 L 71.882875 -0.0003125 L 71.882875 0.175469 L 71.035219 0.175469 Z M 71.882875 -0.0003125 L 72.730531 -0.0003125 L 72.730531 0.0973438 L 71.882875 0.0973438 Z M 72.730531 -0.0003125 L 73.582094 -0.0003125 L 73.582094 0.0778125 L 72.730531 0.0778125 Z M 73.582094 -0.0003125 L 74.42975 -0.0003125 L 74.42975 0.155938 L 73.582094 0.155938 Z M 74.42975 -0.0003125 L 75.277406 -0.0003125 L 75.277406 0.155938 L 74.42975 0.155938 Z M 75.277406 -0.0003125 L 76.128969 -0.0003125 L 76.128969 0.03875 L 75.277406 0.03875 Z M 76.128969 -0.0003125 L 76.976625 -0.0003125 L 76.976625 0.0778125 L 76.128969 0.0778125 Z M 76.976625 -0.0003125 L 77.828187 -0.0003125 L 77.828187 0.136406 L 76.976625 0.136406 Z M 77.828187 -0.0003125 L 78.675844 -0.0003125 L 78.675844 0.273125 L 77.828187 0.273125 Z M 78.675844 -0.0003125 L 79.5235 -0.0003125 L 79.5235 0.136406 L 78.675844 0.136406 Z M 79.5235 -0.0003125 L 80.375062 -0.0003125 L 80.375062 0.195 L 79.5235 0.195 Z M 80.375062 -0.0003125 L 81.222719 -0.0003125 L 81.222719 0.234063 L 80.375062 0.234063 Z M 81.222719 -0.0003125 L 82.070375 -0.0003125 L 82.070375 0.503594 L 81.222719 0.503594 Z M 82.070375 -0.0003125 L 82.921937 -0.0003125 L 82.921937 0.234063 L 82.070375 0.234063 Z M 82.921937 -0.0003125 L 83.769594 -0.0003125 L 83.769594 0.273125 L 82.921937 0.273125 Z M 83.769594 -0.0003125 L 84.61725 -0.0003125 L 84.61725 0.214531 L 83.769594 0.214531 Z M 84.61725 -0.0003125 L 85.468812 -0.0003125 L 85.468812 0.273125 L 84.61725 0.273125 Z M 85.468812 -0.0003125 L 86.316469 -0.0003125 L 86.316469 0.366875 L 85.468812 0.366875 Z M 86.316469 -0.0003125 L 87.168031 -0.0003125 L 87.168031 0.445 L 86.316469 0.445 Z M 87.168031 -0.0003125 L 88.015687 -0.0003125 L 88.015687 0.445 L 87.168031 0.445 Z M 88.015687 -0.0003125 L 88.863344 -0.0003125 L 88.863344 0.562188 L 88.015687 0.562188 Z M 88.863344 -0.0003125 L 89.714906 -0.0003125 L 89.714906 0.562188 L 88.863344 0.562188 Z M 89.714906 -0.0003125 L 90.562562 -0.0003125 L 90.562562 0.659844 L 89.714906 0.659844 Z M 90.562562 -0.0003125 L 91.410219 -0.0003125 L 91.410219 0.581719 L 90.562562 0.581719 Z M 91.410219 -0.0003125 L 92.261781 -0.0003125 L 92.261781 0.777031 L 91.410219 0.777031 Z M 92.261781 -0.0003125 L 93.109437 -0.0003125 L 93.109437 1.124688 L 92.261781 1.124688 Z M 93.109437 -0.0003125 L 93.957094 -0.0003125 L 93.957094 0.987969 L 93.109437 0.987969 Z M 93.957094 -0.0003125 L 94.808656 -0.0003125 L 94.808656 1.261406 L 93.957094 1.261406 Z M 94.808656 -0.0003125 L 95.656312 -0.0003125 L 95.656312 1.843438 L 94.808656 1.843438 Z M 95.656312 -0.0003125 L 96.503969 -0.0003125 L 96.503969 2.136406 L 95.656312 2.136406 Z M 96.503969 -0.0003125 L 97.355531 -0.0003125 L 97.355531 2.542656 L 96.503969 2.542656 Z M 97.355531 -0.0003125 L 98.203187 -0.0003125 L 98.203187 2.796563 L 97.355531 2.796563 Z M 98.203187 -0.0003125 L 99.05475 -0.0003125 L 99.05475 4.019219 L 98.203187 4.019219 Z M 99.05475 -0.0003125 L 99.902406 -0.0003125 L 99.902406 4.366875 L 99.05475 4.366875 Z M 99.902406 -0.0003125 L 100.750062 -0.0003125 L 100.750062 6.655938 L 99.902406 6.655938 Z M 100.750062 -0.0003125 L 101.601625 -0.0003125 L 101.601625 9.41375 L 100.750062 9.41375 Z M 101.601625 -0.0003125 L 102.449281 -0.0003125 L 102.449281 31.577813 L 101.601625 31.577813 Z M 102.449281 -0.0003125 L 103.296937 -0.0003125 L 103.296937 97.292656 L 102.449281 97.292656 Z M 103.296937 -0.0003125 L 104.1485 -0.0003125 L 104.1485 110.023125 L 103.296937 110.023125 Z M 104.1485 -0.0003125 L 104.996156 -0.0003125 L 104.996156 112.835625 L 104.1485 112.835625 Z M 104.996156 -0.0003125 L 105.843812 -0.0003125 L 105.843812 109.206719 L 104.996156 109.206719 Z M 105.843812 -0.0003125 L 106.695375 -0.0003125 L 106.695375 112.023125 L 105.843812 112.023125 Z M 106.695375 -0.0003125 L 107.543031 -0.0003125 L 107.543031 111.827813 L 106.695375 111.827813 Z M 107.543031 -0.0003125 L 108.390687 -0.0003125 L 108.390687 110.312188 L 107.543031 110.312188 Z M 108.390687 -0.0003125 L 109.24225 -0.0003125 L 109.24225 112.253594 L 108.390687 112.253594 Z M 109.24225 -0.0003125 L 110.089906 -0.0003125 L 110.089906 122.734063 L 109.24225 122.734063 Z M 110.089906 -0.0003125 L 110.941469 -0.0003125 L 110.941469 136.144219 L 110.089906 136.144219 Z M 110.941469 -0.0003125 L 111.789125 -0.0003125 L 111.789125 165.527031 L 110.941469 165.527031 Z M 111.789125 -0.0003125 L 112.636781 -0.0003125 L 112.636781 200.073906 L 111.789125 200.073906 Z M 112.636781 -0.0003125 L 113.488344 -0.0003125 L 113.488344 216.941094 L 112.636781 216.941094 Z M 113.488344 -0.0003125 L 114.336 -0.0003125 L 114.336 214.495781 L 113.488344 214.495781 Z M 114.336 -0.0003125 L 115.183656 -0.0003125 L 115.183656 216.72625 L 114.336 216.72625 Z M 115.183656 -0.0003125 L 116.035219 -0.0003125 L 116.035219 216.066094 L 115.183656 216.066094 Z M 116.035219 -0.0003125 L 116.882875 -0.0003125 L 116.882875 215.503594 L 116.035219 215.503594 Z M 116.882875 -0.0003125 L 117.730531 -0.0003125 L 117.730531 202.015313 L 116.882875 202.015313 Z M 117.730531 -0.0003125 L 118.582094 -0.0003125 L 118.582094 192.097344 L 117.730531 192.097344 Z M 118.582094 -0.0003125 L 119.42975 -0.0003125 L 119.42975 162.85125 L 118.582094 162.85125 Z M 119.42975 -0.0003125 L 120.281312 -0.0003125 L 120.281312 128.636406 L 119.42975 128.636406 Z M 120.281312 -0.0003125 L 121.128969 -0.0003125 L 121.128969 110.859063 L 120.281312 110.859063 Z M 121.128969 -0.0003125 L 121.976625 -0.0003125 L 121.976625 111.304375 L 121.128969 111.304375 Z M 121.976625 -0.0003125 L 122.828187 -0.0003125 L 122.828187 107.460625 L 121.976625 107.460625 Z M 122.828187 -0.0003125 L 123.675844 -0.0003125 L 123.675844 107.171563 L 122.828187 107.171563 Z M 123.675844 -0.0003125 L 124.5235 -0.0003125 L 124.5235 106.062188 L 123.675844 106.062188 Z M 124.5235 -0.0003125 L 125.375062 -0.0003125 L 125.375062 103.53875 L 124.5235 103.53875 Z M 125.375062 -0.0003125 L 126.222719 -0.0003125 L 126.222719 100.72625 L 125.375062 100.72625 Z M 126.222719 -0.0003125 L 127.070375 -0.0003125 L 127.070375 97.503594 L 126.222719 97.503594 Z M 127.070375 -0.0003125 L 127.921937 -0.0003125 L 127.921937 96.534844 L 127.070375 96.534844 Z M 127.921937 -0.0003125 L 128.769594 -0.0003125 L 128.769594 92.265313 L 127.921937 92.265313 Z M 128.769594 -0.0003125 L 129.61725 -0.0003125 L 129.61725 92.847344 L 128.769594 92.847344 Z M 129.61725 -0.0003125 L 130.468813 -0.0003125 L 130.468813 96.144219 L 129.61725 96.144219 Z M 130.468813 -0.0003125 L 131.316469 -0.0003125 L 131.316469 97.312188 L 130.468813 97.312188 Z M 131.316469 -0.0003125 L 132.168031 -0.0003125 L 132.168031 95.5075 L 131.316469 95.5075 Z M 132.168031 -0.0003125 L 133.015688 -0.0003125 L 133.015688 93.855156 L 132.168031 93.855156 Z M 133.015688 -0.0003125 L 133.863344 -0.0003125 L 133.863344 88.558281 L 133.015688 88.558281 Z M 133.863344 -0.0003125 L 134.714906 -0.0003125 L 134.714906 84.773125 L 133.863344 84.773125 Z M 134.714906 -0.0003125 L 135.562563 -0.0003125 L 135.562563 81.765313 L 134.714906 81.765313 Z M 135.562563 -0.0003125 L 136.410219 -0.0003125 L 136.410219 78.331719 L 135.562563 78.331719 Z M 136.410219 -0.0003125 L 137.261781 -0.0003125 L 137.261781 73.47625 L 136.410219 73.47625 Z M 137.261781 -0.0003125 L 138.109438 -0.0003125 L 138.109438 71.050469 L 137.261781 71.050469 Z M 138.109438 -0.0003125 L 138.957094 -0.0003125 L 138.957094 69.22625 L 138.109438 69.22625 Z M 138.957094 -0.0003125 L 139.808656 -0.0003125 L 139.808656 65.327813 L 138.957094 65.327813 Z M 139.808656 -0.0003125 L 140.656313 -0.0003125 L 140.656313 63.152031 L 139.808656 63.152031 Z M 140.656313 -0.0003125 L 141.507875 -0.0003125 L 141.507875 60.359063 L 140.656313 60.359063 Z M 141.507875 -0.0003125 L 142.355531 -0.0003125 L 142.355531 57.640313 L 141.507875 57.640313 Z M 142.355531 -0.0003125 L 143.203188 -0.0003125 L 143.203188 52.167656 L 142.355531 52.167656 Z M 143.203188 -0.0003125 L 144.05475 -0.0003125 L 144.05475 50.558281 L 143.203188 50.558281 Z M 144.05475 -0.0003125 L 144.902406 -0.0003125 L 144.902406 45.800469 L 144.05475 45.800469 Z M 144.902406 -0.0003125 L 145.750063 -0.0003125 L 145.750063 43.648125 L 144.902406 43.648125 Z M 145.750063 -0.0003125 L 146.601625 -0.0003125 L 146.601625 41.222344 L 145.750063 41.222344 Z M 146.601625 -0.0003125 L 147.449281 -0.0003125 L 147.449281 36.659844 L 146.601625 36.659844 Z M 147.449281 -0.0003125 L 148.296938 -0.0003125 L 148.296938 35.78875 L 147.449281 35.78875 Z M 148.296938 -0.0003125 L 149.1485 -0.0003125 L 149.1485 34.796563 L 148.296938 34.796563 Z M 149.1485 -0.0003125 L 149.996156 -0.0003125 L 149.996156 31.905938 L 149.1485 31.905938 Z M 149.996156 -0.0003125 L 150.843813 -0.0003125 L 150.843813 30.179375 L 149.996156 30.179375 Z M 150.843813 -0.0003125 L 151.695375 -0.0003125 L 151.695375 28.702813 L 150.843813 28.702813 Z M 151.695375 -0.0003125 L 152.543031 -0.0003125 L 152.543031 27.929375 L 151.695375 27.929375 Z M 152.543031 -0.0003125 L 153.394594 -0.0003125 L 153.394594 25.249688 L 152.543031 25.249688 Z M 153.394594 -0.0003125 L 154.24225 -0.0003125 L 154.24225 24.335625 L 153.394594 24.335625 Z M 154.24225 -0.0003125 L 155.089906 -0.0003125 L 155.089906 24.902031 L 154.24225 24.902031 Z M 155.089906 -0.0003125 L 155.941469 -0.0003125 L 155.941469 24.687188 L 155.089906 24.687188 Z M 155.941469 -0.0003125 L 156.789125 -0.0003125 L 156.789125 25.034844 L 155.941469 25.034844 Z M 156.789125 -0.0003125 L 157.636781 -0.0003125 L 157.636781 23.948906 L 156.789125 23.948906 Z M 157.636781 -0.0003125 L 158.488344 -0.0003125 L 158.488344 24.550469 L 157.636781 24.550469 Z M 158.488344 -0.0003125 L 159.336 -0.0003125 L 159.336 23.792656 L 158.488344 23.792656 Z M 159.336 -0.0003125 L 160.183656 -0.0003125 L 160.183656 22.784844 L 159.336 22.784844 Z M 160.183656 -0.0003125 L 161.035219 -0.0003125 L 161.035219 24.550469 L 160.183656 24.550469 Z M 161.035219 -0.0003125 L 161.882875 -0.0003125 L 161.882875 22.32 L 161.035219 22.32 Z M 161.882875 -0.0003125 L 162.734438 -0.0003125 L 162.734438 22.921563 L 161.882875 22.921563 Z M 162.734438 -0.0003125 L 163.582094 -0.0003125 L 163.582094 23.03875 L 162.734438 23.03875 Z M 163.582094 -0.0003125 L 164.42975 -0.0003125 L 164.42975 23.679375 L 163.582094 23.679375 Z M 164.42975 -0.0003125 L 165.281313 -0.0003125 L 165.281313 23.210625 L 164.42975 23.210625 Z M 165.281313 -0.0003125 L 166.128969 -0.0003125 L 166.128969 22.359063 L 165.281313 22.359063 Z M 166.128969 -0.0003125 L 166.976625 -0.0003125 L 166.976625 22.960625 L 166.128969 22.960625 Z M 166.976625 -0.0003125 L 167.828188 -0.0003125 L 167.828188 21.7575 L 166.976625 21.7575 Z M 167.828188 -0.0003125 L 168.675844 -0.0003125 L 168.675844 23.464531 L 167.828188 23.464531 Z M 168.675844 -0.0003125 L 169.5235 -0.0003125 L 169.5235 22.437188 L 168.675844 22.437188 Z M 169.5235 -0.0003125 L 170.375063 -0.0003125 L 170.375063 21.386406 L 169.5235 21.386406 Z M 170.375063 -0.0003125 L 171.222719 -0.0003125 L 171.222719 21.366875 L 170.375063 21.366875 Z M 171.222719 -0.0003125 L 172.070375 -0.0003125 L 172.070375 21.386406 L 171.222719 21.386406 Z M 172.070375 -0.0003125 L 172.921938 -0.0003125 L 172.921938 20.046563 L 172.070375 20.046563 Z M 172.921938 -0.0003125 L 173.769594 -0.0003125 L 173.769594 19.894219 L 172.921938 19.894219 Z M 173.769594 -0.0003125 L 174.621156 -0.0003125 L 174.621156 19.331719 L 173.769594 19.331719 Z M 174.621156 -0.0003125 L 175.468813 -0.0003125 L 175.468813 18.515313 L 174.621156 18.515313 Z M 175.468813 -0.0003125 L 176.316469 -0.0003125 L 176.316469 18.495781 L 175.468813 18.495781 Z M 176.316469 -0.0003125 L 177.168031 -0.0003125 L 177.168031 18.980156 L 176.316469 18.980156 Z M 177.168031 -0.0003125 L 178.015688 -0.0003125 L 178.015688 19.019219 L 177.168031 19.019219 Z M 178.015688 -0.0003125 L 178.863344 -0.0003125 L 178.863344 17.7575 L 178.015688 17.7575 Z M 178.863344 -0.0003125 L 179.714906 -0.0003125 L 179.714906 17.03875 L 178.863344 17.03875 Z M 179.714906 -0.0003125 L 180.562563 -0.0003125 L 180.562563 16.866875 L 179.714906 16.866875 Z M 180.562563 -0.0003125 L 181.410219 -0.0003125 L 181.410219 17.448906 L 180.562563 17.448906 Z M 181.410219 -0.0003125 L 182.261781 -0.0003125 L 182.261781 17.487969 L 181.410219 17.487969 Z M 182.261781 -0.0003125 L 183.109438 -0.0003125 L 183.109438 16.671563 L 182.261781 16.671563 Z M 183.109438 -0.0003125 L 183.957094 -0.0003125 L 183.957094 17.097344 L 183.109438 17.097344 Z M 183.957094 -0.0003125 L 184.808656 -0.0003125 L 184.808656 16.22625 L 183.957094 16.22625 Z M 184.808656 -0.0003125 L 185.656313 -0.0003125 L 185.656313 16.07 L 184.808656 16.07 Z M 185.656313 -0.0003125 L 186.507875 -0.0003125 L 186.507875 16.6325 L 185.656313 16.6325 Z M 186.507875 -0.0003125 L 187.355531 -0.0003125 L 187.355531 16.265313 L 186.507875 16.265313 Z M 187.355531 -0.0003125 L 188.203188 -0.0003125 L 188.203188 15.991875 L 187.355531 15.991875 Z M 188.203188 -0.0003125 L 189.05475 -0.0003125 L 189.05475 15.718438 L 188.203188 15.718438 Z M 189.05475 -0.0003125 L 189.902406 -0.0003125 L 189.902406 15.35125 L 189.05475 15.35125 Z M 189.902406 -0.0003125 L 190.750063 -0.0003125 L 190.750063 13.894219 L 189.902406 13.894219 Z M 190.750063 -0.0003125 L 191.601625 -0.0003125 L 191.601625 14.671563 L 190.750063 14.671563 Z M 191.601625 -0.0003125 L 192.449281 -0.0003125 L 192.449281 14.089531 L 191.601625 14.089531 Z M 192.449281 -0.0003125 L 193.296938 -0.0003125 L 193.296938 14.148125 L 192.449281 14.148125 Z M 193.296938 -0.0003125 L 194.1485 -0.0003125 L 194.1485 13.487969 L 193.296938 13.487969 Z M 194.1485 -0.0003125 L 194.996156 -0.0003125 L 194.996156 13.91375 L 194.1485 13.91375 Z M 194.996156 -0.0003125 L 195.847719 -0.0003125 L 195.847719 13.331719 L 194.996156 13.331719 Z M 195.847719 -0.0003125 L 196.695375 -0.0003125 L 196.695375 13.761406 L 195.847719 13.761406 Z M 196.695375 -0.0003125 L 197.543031 -0.0003125 L 197.543031 13.741875 L 196.695375 13.741875 Z M 197.543031 -0.0003125 L 198.394594 -0.0003125 L 198.394594 13.237969 L 197.543031 13.237969 Z M 198.394594 -0.0003125 L 199.24225 -0.0003125 L 199.24225 13.5075 L 198.394594 13.5075 Z M 199.24225 -0.0003125 L 200.089906 -0.0003125 L 200.089906 13.023125 L 199.24225 13.023125 Z M 200.089906 -0.0003125 L 200.941469 -0.0003125 L 200.941469 13.10125 L 200.089906 13.10125 Z M 200.941469 -0.0003125 L 201.789125 -0.0003125 L 201.789125 13.35125 L 200.941469 13.35125 Z M 201.789125 -0.0003125 L 202.636781 -0.0003125 L 202.636781 11.898125 L 201.789125 11.898125 Z M 202.636781 -0.0003125 L 203.488344 -0.0003125 L 203.488344 11.97625 L 202.636781 11.97625 Z M 203.488344 -0.0003125 L 204.336 -0.0003125 L 204.336 12.089531 L 203.488344 12.089531 Z M 204.336 -0.0003125 L 205.183656 -0.0003125 L 205.183656 12.015313 L 204.336 12.015313 Z M 205.183656 -0.0003125 L 206.035219 -0.0003125 L 206.035219 11.179375 L 205.183656 11.179375 Z M 206.035219 -0.0003125 L 206.882875 -0.0003125 L 206.882875 10.847344 L 206.035219 10.847344 Z M 206.882875 -0.0003125 L 207.734438 -0.0003125 L 207.734438 9.937188 L 206.882875 9.937188 Z M 207.734438 -0.0003125 L 208.582094 -0.0003125 L 208.582094 10.499688 L 207.734438 10.499688 Z M 208.582094 -0.0003125 L 209.42975 -0.0003125 L 209.42975 10.343438 L 208.582094 10.343438 Z M 209.42975 -0.0003125 L 210.281313 -0.0003125 L 210.281313 10.034844 L 209.42975 10.034844 Z M 210.281313 -0.0003125 L 211.128969 -0.0003125 L 211.128969 9.335625 L 210.281313 9.335625 Z M 211.128969 -0.0003125 L 211.976625 -0.0003125 L 211.976625 9.081719 L 211.128969 9.081719 Z M 211.976625 -0.0003125 L 212.828188 -0.0003125 L 212.828188 9.530938 L 211.976625 9.530938 Z M 212.828188 -0.0003125 L 213.675844 -0.0003125 L 213.675844 9.41375 L 212.828188 9.41375 Z M 213.675844 -0.0003125 L 214.5235 -0.0003125 L 214.5235 8.773125 L 213.675844 8.773125 Z M 214.5235 -0.0003125 L 215.375063 -0.0003125 L 215.375063 9.296563 L 214.5235 9.296563 Z M 215.375063 -0.0003125 L 216.222719 -0.0003125 L 216.222719 7.687188 L 215.375063 7.687188 Z M 216.222719 -0.0003125 L 217.074281 -0.0003125 L 217.074281 8.171563 L 216.222719 8.171563 Z M 217.074281 -0.0003125 L 217.921938 -0.0003125 L 217.921938 8.441094 L 217.074281 8.441094 Z M 217.921938 -0.0003125 L 218.769594 -0.0003125 L 218.769594 7.687188 L 217.921938 7.687188 Z M 218.769594 -0.0003125 L 219.621156 -0.0003125 L 219.621156 7.237969 L 218.769594 7.237969 Z M 219.621156 -0.0003125 L 220.468813 -0.0003125 L 220.468813 7.374688 L 219.621156 7.374688 Z M 220.468813 -0.0003125 L 221.316469 -0.0003125 L 221.316469 8.034844 L 220.468813 8.034844 Z M 221.316469 -0.0003125 L 222.168031 -0.0003125 L 222.168031 7.027031 L 221.316469 7.027031 Z M 222.168031 -0.0003125 L 223.015688 -0.0003125 L 223.015688 6.464531 L 222.168031 6.464531 Z M 223.015688 -0.0003125 L 223.863344 -0.0003125 L 223.863344 7.2575 L 223.015688 7.2575 Z M 223.863344 -0.0003125 L 224.714906 -0.0003125 L 224.714906 6.484063 L 223.863344 6.484063 Z M 224.714906 -0.0003125 L 225.562563 -0.0003125 L 225.562563 6.386406 L 224.714906 6.386406 Z M 225.562563 -0.0003125 L 226.410219 -0.0003125 L 226.410219 6.152031 L 225.562563 6.152031 Z M 226.410219 -0.0003125 L 227.261781 -0.0003125 L 227.261781 5.277031 L 226.410219 5.277031 Z M 227.261781 -0.0003125 L 228.109438 -0.0003125 L 228.109438 5.491875 L 227.261781 5.491875 Z M 228.109438 -0.0003125 L 228.961 -0.0003125 L 228.961 5.066094 L 228.109438 5.066094 Z M 228.961 -0.0003125 L 229.808656 -0.0003125 L 229.808656 5.374688 L 228.961 5.374688 Z M 229.808656 -0.0003125 L 230.656313 -0.0003125 L 230.656313 4.85125 L 229.808656 4.85125 Z M 230.656313 -0.0003125 L 231.507875 -0.0003125 L 231.507875 4.909844 L 230.656313 4.909844 Z M 231.507875 -0.0003125 L 232.355531 -0.0003125 L 232.355531 4.870781 L 231.507875 4.870781 Z M 232.355531 -0.0003125 L 233.203188 -0.0003125 L 233.203188 4.073906 L 232.355531 4.073906 Z M 233.203188 -0.0003125 L 234.05475 -0.0003125 L 234.05475 3.72625 L 233.203188 3.72625 Z M 234.05475 -0.0003125 L 234.902406 -0.0003125 L 234.902406 3.609063 L 234.05475 3.609063 Z M 234.902406 -0.0003125 L 235.750063 -0.0003125 L 235.750063 3.027031 L 234.902406 3.027031 Z M 235.750063 -0.0003125 L 236.601625 -0.0003125 L 236.601625 3.804375 L 235.750063 3.804375 Z M 236.601625 -0.0003125 L 237.449281 -0.0003125 L 237.449281 3.589531 L 236.601625 3.589531 Z M 237.449281 -0.0003125 L 238.300844 -0.0003125 L 238.300844 3.027031 L 237.449281 3.027031 Z M 238.300844 -0.0003125 L 239.1485 -0.0003125 L 239.1485 2.85125 L 238.300844 2.85125 Z M 239.1485 -0.0003125 L 239.996156 -0.0003125 L 239.996156 3.261406 L 239.1485 3.261406 Z M 239.996156 -0.0003125 L 240.847719 -0.0003125 L 240.847719 2.195 L 239.996156 2.195 Z M 240.847719 -0.0003125 L 241.695375 -0.0003125 L 241.695375 2.831719 L 240.847719 2.831719 Z M 241.695375 -0.0003125 L 242.543031 -0.0003125 L 242.543031 2.347344 L 241.695375 2.347344 Z M 242.543031 -0.0003125 L 243.394594 -0.0003125 L 243.394594 2.640313 L 242.543031 2.640313 Z M 243.394594 -0.0003125 L 244.24225 -0.0003125 L 244.24225 2.405938 L 243.394594 2.405938 Z M 244.24225 -0.0003125 L 245.089906 -0.0003125 L 245.089906 2.195 L 244.24225 2.195 Z M 245.089906 -0.0003125 L 245.941469 -0.0003125 L 245.941469 2.484063 L 245.089906 2.484063 Z M 245.941469 -0.0003125 L 246.789125 -0.0003125 L 246.789125 2.210625 L 245.941469 2.210625 Z M 246.789125 -0.0003125 L 247.636781 -0.0003125 L 247.636781 2.155938 L 246.789125 2.155938 Z M 247.636781 -0.0003125 L 248.488344 -0.0003125 L 248.488344 1.667656 L 247.636781 1.667656 Z M 248.488344 -0.0003125 L 249.336 -0.0003125 L 249.336 1.980156 L 248.488344 1.980156 Z M 249.336 -0.0003125 L 250.187563 -0.0003125 L 250.187563 1.339531 L 249.336 1.339531 Z M 250.187563 -0.0003125 L 251.035219 -0.0003125 L 251.035219 1.534844 L 250.187563 1.534844 Z M 251.035219 -0.0003125 L 251.882875 -0.0003125 L 251.882875 1.47625 L 251.035219 1.47625 Z M 251.882875 -0.0003125 L 252.734438 -0.0003125 L 252.734438 1.902031 L 251.882875 1.902031 Z M 252.734438 -0.0003125 L 253.582094 -0.0003125 L 253.582094 1.515313 L 252.734438 1.515313 Z M 253.582094 -0.0003125 L 254.42975 -0.0003125 L 254.42975 1.300469 L 253.582094 1.300469 Z M 254.42975 -0.0003125 L 255.281313 -0.0003125 L 255.281313 1.16375 L 254.42975 1.16375 Z M 255.281313 -0.0003125 L 256.128969 -0.0003125 L 256.128969 1.085625 L 255.281313 1.085625 Z M 256.128969 -0.0003125 L 256.976625 -0.0003125 L 256.976625 1.105156 L 256.128969 1.105156 Z M 256.976625 -0.0003125 L 257.828188 -0.0003125 L 257.828188 1.183281 L 256.976625 1.183281 Z M 257.828188 -0.0003125 L 258.675844 -0.0003125 L 258.675844 0.737969 L 257.828188 0.737969 Z M 258.675844 -0.0003125 L 259.527406 -0.0003125 L 259.527406 0.968438 L 258.675844 0.968438 Z M 259.527406 -0.0003125 L 260.375063 -0.0003125 L 260.375063 0.835625 L 259.527406 0.835625 Z M 260.375063 -0.0003125 L 261.222719 -0.0003125 L 261.222719 0.737969 L 260.375063 0.737969 Z M 261.222719 -0.0003125 L 262.074281 -0.0003125 L 262.074281 0.91375 L 261.222719 0.91375 Z M 262.074281 -0.0003125 L 262.921938 -0.0003125 L 262.921938 0.894219 L 262.074281 0.894219 Z M 262.921938 -0.0003125 L 263.769594 -0.0003125 L 263.769594 0.562188 L 262.921938 0.562188 Z M 263.769594 -0.0003125 L 264.621156 -0.0003125 L 264.621156 1.0075 L 263.769594 1.0075 Z M 264.621156 -0.0003125 L 265.468813 -0.0003125 L 265.468813 0.659844 L 264.621156 0.659844 Z M 265.468813 -0.0003125 L 266.316469 -0.0003125 L 266.316469 0.698906 L 265.468813 0.698906 Z M 266.316469 -0.0003125 L 267.168031 -0.0003125 L 267.168031 0.835625 L 266.316469 0.835625 Z M 267.168031 -0.0003125 L 268.015688 -0.0003125 L 268.015688 0.620781 L 267.168031 0.620781 Z M 268.015688 -0.0003125 L 268.863344 -0.0003125 L 268.863344 0.659844 L 268.015688 0.659844 Z M 268.863344 -0.0003125 L 269.714906 -0.0003125 L 269.714906 0.542656 L 268.863344 0.542656 Z M 269.714906 -0.0003125 L 270.562563 -0.0003125 L 270.562563 0.640313 L 269.714906 0.640313 Z M 270.562563 -0.0003125 L 271.414125 -0.0003125 L 271.414125 0.835625 L 270.562563 0.835625 Z M 271.414125 -0.0003125 L 272.261781 -0.0003125 L 272.261781 0.718438 L 271.414125 0.718438 Z M 272.261781 -0.0003125 L 273.109438 -0.0003125 L 273.109438 0.581719 L 272.261781 0.581719 Z M 273.109438 -0.0003125 L 273.961 -0.0003125 L 273.961 0.640313 L 273.109438 0.640313 Z M 273.961 -0.0003125 L 274.808656 -0.0003125 L 274.808656 0.718438 L 273.961 0.718438 Z M 274.808656 -0.0003125 L 275.656313 -0.0003125 L 275.656313 0.542656 L 274.808656 0.542656 Z M 275.656313 -0.0003125 L 276.507875 -0.0003125 L 276.507875 0.60125 L 275.656313 0.60125 Z M 276.507875 -0.0003125 L 277.355531 -0.0003125 L 277.355531 0.523125 L 276.507875 0.523125 Z M 277.355531 -0.0003125 L 278.203188 -0.0003125 L 278.203188 0.640313 L 277.355531 0.640313 Z M 278.203188 -0.0003125 L 279.05475 -0.0003125 L 279.05475 0.698906 L 278.203188 0.698906 Z M 279.05475 -0.0003125 L 279.902406 -0.0003125 L 279.902406 0.777031 L 279.05475 0.777031 Z M 279.902406 -0.0003125 L 280.750063 -0.0003125 L 280.750063 0.425469 L 279.902406 0.425469 Z M 280.750063 -0.0003125 L 281.601625 -0.0003125 L 281.601625 0.698906 L 280.750063 0.698906 Z M 281.601625 -0.0003125 L 282.449281 -0.0003125 L 282.449281 0.620781 L 281.601625 0.620781 Z M 282.449281 -0.0003125 L 283.300844 -0.0003125 L 283.300844 0.874688 L 282.449281 0.874688 Z M 283.300844 -0.0003125 L 284.1485 -0.0003125 L 284.1485 0.640313 L 283.300844 0.640313 Z M 284.1485 -0.0003125 L 284.996156 -0.0003125 L 284.996156 0.640313 L 284.1485 0.640313 Z M 284.996156 -0.0003125 L 285.847719 -0.0003125 L 285.847719 0.562188 L 284.996156 0.562188 Z M 285.847719 -0.0003125 L 286.695375 -0.0003125 L 286.695375 0.718438 L 285.847719 0.718438 Z M 286.695375 -0.0003125 L 287.543031 -0.0003125 L 287.543031 0.562188 L 286.695375 0.562188 Z M 287.543031 -0.0003125 L 288.394594 -0.0003125 L 288.394594 0.562188 L 287.543031 0.562188 Z M 288.394594 -0.0003125 L 289.24225 -0.0003125 L 289.24225 0.718438 L 288.394594 0.718438 Z M 289.24225 -0.0003125 L 290.089906 -0.0003125 L 290.089906 0.581719 L 289.24225 0.581719 Z M 290.089906 -0.0003125 L 290.941469 -0.0003125 L 290.941469 0.464531 L 290.089906 0.464531 Z M 290.941469 -0.0003125 L 291.789125 -0.0003125 L 291.789125 0.542656 L 290.941469 0.542656 Z M 291.789125 -0.0003125 L 292.640688 -0.0003125 L 292.640688 0.386406 L 291.789125 0.386406 Z M 292.640688 -0.0003125 L 293.488344 -0.0003125 L 293.488344 0.620781 L 292.640688 0.620781 Z M 293.488344 -0.0003125 L 294.336 -0.0003125 L 294.336 0.542656 L 293.488344 0.542656 Z M 294.336 -0.0003125 L 295.187563 -0.0003125 L 295.187563 0.503594 L 294.336 0.503594 Z M 295.187563 -0.0003125 L 296.035219 -0.0003125 L 296.035219 0.35125 L 295.187563 0.35125 Z M 296.035219 -0.0003125 L 296.882875 -0.0003125 L 296.882875 0.581719 L 296.035219 0.581719 Z M 296.882875 -0.0003125 L 297.734438 -0.0003125 L 297.734438 0.562188 L 296.882875 0.562188 Z M 297.734438 -0.0003125 L 298.582094 -0.0003125 L 298.582094 0.366875 L 297.734438 0.366875 Z M 298.582094 -0.0003125 L 299.42975 -0.0003125 L 299.42975 0.366875 L 298.582094 0.366875 Z M 299.42975 -0.0003125 L 300.281313 -0.0003125 L 300.281313 0.659844 L 299.42975 0.659844 Z M 300.281313 -0.0003125 L 301.128969 -0.0003125 L 301.128969 0.464531 L 300.281313 0.464531 Z M 301.128969 -0.0003125 L 301.976625 -0.0003125 L 301.976625 0.542656 L 301.128969 0.542656 Z M 301.976625 -0.0003125 L 302.828188 -0.0003125 L 302.828188 0.523125 L 301.976625 0.523125 Z M 302.828188 -0.0003125 L 303.675844 -0.0003125 L 303.675844 0.405938 L 302.828188 0.405938 Z M 303.675844 -0.0003125 L 304.527406 -0.0003125 L 304.527406 0.718438 L 303.675844 0.718438 Z M 304.527406 -0.0003125 L 305.375063 -0.0003125 L 305.375063 0.405938 L 304.527406 0.405938 Z M 305.375063 -0.0003125 L 306.222719 -0.0003125 L 306.222719 0.366875 L 305.375063 0.366875 Z M 306.222719 -0.0003125 L 307.074281 -0.0003125 L 307.074281 0.523125 L 306.222719 0.523125 Z M 307.074281 -0.0003125 L 307.921938 -0.0003125 L 307.921938 0.234063 L 307.074281 0.234063 Z M 307.921938 -0.0003125 L 308.769594 -0.0003125 L 308.769594 0.659844 L 307.921938 0.659844 Z M 308.769594 -0.0003125 L 309.621156 -0.0003125 L 309.621156 0.425469 L 308.769594 0.425469 Z M 309.621156 -0.0003125 L 310.468813 -0.0003125 L 310.468813 0.60125 L 309.621156 0.60125 Z M 310.468813 -0.0003125 L 311.316469 -0.0003125 L 311.316469 0.445 L 310.468813 0.445 Z M 311.316469 -0.0003125 L 312.168031 -0.0003125 L 312.168031 0.35125 L 311.316469 0.35125 Z M 312.168031 -0.0003125 L 313.015688 -0.0003125 L 313.015688 0.445 L 312.168031 0.445 Z M 313.015688 -0.0003125 L 313.86725 -0.0003125 L 313.86725 0.659844 L 313.015688 0.659844 Z M 313.86725 -0.0003125 L 314.714906 -0.0003125 L 314.714906 0.312188 L 313.86725 0.312188 Z M 314.714906 -0.0003125 L 315.562563 -0.0003125 L 315.562563 0.386406 L 314.714906 0.386406 Z M 315.562563 -0.0003125 L 316.414125 -0.0003125 L 316.414125 155.437188 L 315.562563 155.437188 Z M 315.562563 -0.0003125 \" transform=\"matrix(1,0,0,-1,29.539,260.195)\"/>\n",
       "</g>\n",
       "<g style=\"fill:rgb(0%,0%,0%);fill-opacity:1;\">\n",
       "  <use xlink:href=\"#glyph-1487623024713069-1-7\" x=\"158.101\" y=\"10.128\"/>\n",
       "  <use xlink:href=\"#glyph-1487623024713069-1-8\" x=\"165.296019\" y=\"10.128\"/>\n",
       "  <use xlink:href=\"#glyph-1487623024713069-1-9\" x=\"168.06364\" y=\"10.128\"/>\n",
       "  <use xlink:href=\"#glyph-1487623024713069-1-10\" x=\"176.365508\" y=\"10.128\"/>\n",
       "  <use xlink:href=\"#glyph-1487623024713069-1-11\" x=\"180.792905\" y=\"10.128\"/>\n",
       "  <use xlink:href=\"#glyph-1487623024713069-1-12\" x=\"185.774225\" y=\"10.128\"/>\n",
       "  <use xlink:href=\"#glyph-1487623024713069-1-13\" x=\"190.755545\" y=\"10.128\"/>\n",
       "</g>\n",
       "<path style=\"fill:none;stroke-width:0.19925;stroke-linecap:butt;stroke-linejoin:miter;stroke:rgb(50%,50%,50%);stroke-opacity:1;stroke-miterlimit:10;\" d=\"M -0.00140625 -0.0013125 L -0.00140625 4.252594 M -0.00140625 238.635406 L -0.00140625 234.3815 M 49.717344 -0.0013125 L 49.717344 4.252594 M 49.717344 238.635406 L 49.717344 234.3815 M 99.436094 -0.0013125 L 99.436094 4.252594 M 99.436094 238.635406 L 99.436094 234.3815 M 149.154844 -0.0013125 L 149.154844 4.252594 M 149.154844 238.635406 L 149.154844 234.3815 M 198.873594 -0.0013125 L 198.873594 4.252594 M 198.873594 238.635406 L 198.873594 234.3815 M 248.592344 -0.0013125 L 248.592344 4.252594 M 248.592344 238.635406 L 248.592344 234.3815 \" transform=\"matrix(1,0,0,-1,401.31,260.194)\"/>\n",
       "<g clip-path=\"url(#clip-1487623024713069-2)\" clip-rule=\"nonzero\">\n",
       "<path style=\"fill:none;stroke-width:0.19925;stroke-linecap:butt;stroke-linejoin:miter;stroke:rgb(50%,50%,50%);stroke-opacity:1;stroke-miterlimit:10;\" d=\"M -26.849063 -0.0013125 L -22.599063 -0.0013125 M 268.482969 -0.0013125 L 264.229062 -0.0013125 M -26.849063 36.514313 L -22.599063 36.514313 M 268.482969 36.514313 L 264.229062 36.514313 M -26.849063 73.026031 L -22.599063 73.026031 M 268.482969 73.026031 L 264.229062 73.026031 M -26.849063 109.53775 L -22.599063 109.53775 M 268.482969 109.53775 L 264.229062 109.53775 M -26.849063 146.049469 L -22.599063 146.049469 M 268.482969 146.049469 L 264.229062 146.049469 M -26.849063 182.561188 L -22.599063 182.561188 M 268.482969 182.561188 L 264.229062 182.561188 M -26.849063 219.072906 L -22.599063 219.072906 M 268.482969 219.072906 L 264.229062 219.072906 \" transform=\"matrix(1,0,0,-1,401.31,260.194)\"/>\n",
       "</g>\n",
       "<g clip-path=\"url(#clip-1487623024713069-3)\" clip-rule=\"nonzero\">\n",
       "<path style=\"fill:none;stroke-width:0.3985;stroke-linecap:butt;stroke-linejoin:miter;stroke:rgb(0%,0%,0%);stroke-opacity:1;stroke-miterlimit:10;\" d=\"M -26.849063 -0.0013125 L -26.849063 238.635406 L 268.482969 238.635406 L 268.482969 -0.0013125 Z M -26.849063 -0.0013125 \" transform=\"matrix(1,0,0,-1,401.31,260.194)\"/>\n",
       "</g>\n",
       "<g style=\"fill:rgb(0%,0%,0%);fill-opacity:1;\">\n",
       "  <use xlink:href=\"#glyph-1487623024713069-1-3\" x=\"398.82\" y=\"270.134\"/>\n",
       "</g>\n",
       "<g style=\"fill:rgb(0%,0%,0%);fill-opacity:1;\">\n",
       "  <use xlink:href=\"#glyph-1487623024713069-1-14\" x=\"448.538\" y=\"270.134\"/>\n",
       "</g>\n",
       "<g style=\"fill:rgb(0%,0%,0%);fill-opacity:1;\">\n",
       "  <use xlink:href=\"#glyph-1487623024713069-1-6\" x=\"495.765\" y=\"270.134\"/>\n",
       "  <use xlink:href=\"#glyph-1487623024713069-1-3\" x=\"500.74632\" y=\"270.134\"/>\n",
       "</g>\n",
       "<g style=\"fill:rgb(0%,0%,0%);fill-opacity:1;\">\n",
       "  <use xlink:href=\"#glyph-1487623024713069-1-6\" x=\"545.483\" y=\"270.134\"/>\n",
       "  <use xlink:href=\"#glyph-1487623024713069-1-14\" x=\"550.46432\" y=\"270.134\"/>\n",
       "</g>\n",
       "<g style=\"fill:rgb(0%,0%,0%);fill-opacity:1;\">\n",
       "  <use xlink:href=\"#glyph-1487623024713069-1-2\" x=\"595.202\" y=\"270.134\"/>\n",
       "  <use xlink:href=\"#glyph-1487623024713069-1-3\" x=\"600.18332\" y=\"270.134\"/>\n",
       "</g>\n",
       "<g style=\"fill:rgb(0%,0%,0%);fill-opacity:1;\">\n",
       "  <use xlink:href=\"#glyph-1487623024713069-1-2\" x=\"644.92\" y=\"270.134\"/>\n",
       "  <use xlink:href=\"#glyph-1487623024713069-1-14\" x=\"649.90132\" y=\"270.134\"/>\n",
       "</g>\n",
       "<g style=\"fill:rgb(0%,0%,0%);fill-opacity:1;\">\n",
       "  <use xlink:href=\"#glyph-1487623024713069-1-3\" x=\"365.96\" y=\"263.404\"/>\n",
       "</g>\n",
       "<g style=\"fill:rgb(0%,0%,0%);fill-opacity:1;\">\n",
       "  <use xlink:href=\"#glyph-1487623024713069-1-3\" x=\"358.211\" y=\"226.892\"/>\n",
       "</g>\n",
       "<g style=\"fill:rgb(0%,0%,0%);fill-opacity:1;\">\n",
       "  <use xlink:href=\"#glyph-1487623024713069-2-1\" x=\"363.192\" y=\"226.892\"/>\n",
       "</g>\n",
       "<g style=\"fill:rgb(0%,0%,0%);fill-opacity:1;\">\n",
       "  <use xlink:href=\"#glyph-1487623024713069-1-2\" x=\"365.96\" y=\"226.892\"/>\n",
       "</g>\n",
       "<g style=\"fill:rgb(0%,0%,0%);fill-opacity:1;\">\n",
       "  <use xlink:href=\"#glyph-1487623024713069-1-3\" x=\"358.211\" y=\"190.38\"/>\n",
       "</g>\n",
       "<g style=\"fill:rgb(0%,0%,0%);fill-opacity:1;\">\n",
       "  <use xlink:href=\"#glyph-1487623024713069-2-1\" x=\"363.192\" y=\"190.38\"/>\n",
       "</g>\n",
       "<g style=\"fill:rgb(0%,0%,0%);fill-opacity:1;\">\n",
       "  <use xlink:href=\"#glyph-1487623024713069-1-1\" x=\"365.96\" y=\"190.38\"/>\n",
       "</g>\n",
       "<g style=\"fill:rgb(0%,0%,0%);fill-opacity:1;\">\n",
       "  <use xlink:href=\"#glyph-1487623024713069-1-3\" x=\"358.211\" y=\"153.868\"/>\n",
       "</g>\n",
       "<g style=\"fill:rgb(0%,0%,0%);fill-opacity:1;\">\n",
       "  <use xlink:href=\"#glyph-1487623024713069-2-1\" x=\"363.192\" y=\"153.868\"/>\n",
       "</g>\n",
       "<g style=\"fill:rgb(0%,0%,0%);fill-opacity:1;\">\n",
       "  <use xlink:href=\"#glyph-1487623024713069-1-4\" x=\"365.96\" y=\"153.868\"/>\n",
       "</g>\n",
       "<g style=\"fill:rgb(0%,0%,0%);fill-opacity:1;\">\n",
       "  <use xlink:href=\"#glyph-1487623024713069-1-3\" x=\"358.211\" y=\"117.357\"/>\n",
       "</g>\n",
       "<g style=\"fill:rgb(0%,0%,0%);fill-opacity:1;\">\n",
       "  <use xlink:href=\"#glyph-1487623024713069-2-1\" x=\"363.192\" y=\"117.357\"/>\n",
       "</g>\n",
       "<g style=\"fill:rgb(0%,0%,0%);fill-opacity:1;\">\n",
       "  <use xlink:href=\"#glyph-1487623024713069-1-5\" x=\"365.96\" y=\"117.357\"/>\n",
       "</g>\n",
       "<g style=\"fill:rgb(0%,0%,0%);fill-opacity:1;\">\n",
       "  <use xlink:href=\"#glyph-1487623024713069-1-6\" x=\"365.96\" y=\"80.845\"/>\n",
       "</g>\n",
       "<g style=\"fill:rgb(0%,0%,0%);fill-opacity:1;\">\n",
       "  <use xlink:href=\"#glyph-1487623024713069-1-6\" x=\"358.211\" y=\"44.333\"/>\n",
       "</g>\n",
       "<g style=\"fill:rgb(0%,0%,0%);fill-opacity:1;\">\n",
       "  <use xlink:href=\"#glyph-1487623024713069-2-1\" x=\"363.192\" y=\"44.333\"/>\n",
       "</g>\n",
       "<g style=\"fill:rgb(0%,0%,0%);fill-opacity:1;\">\n",
       "  <use xlink:href=\"#glyph-1487623024713069-1-2\" x=\"365.96\" y=\"44.333\"/>\n",
       "</g>\n",
       "<g style=\"fill:rgb(0%,0%,0%);fill-opacity:1;\">\n",
       "  <use xlink:href=\"#glyph-1487623024713069-0-2\" x=\"377.649\" y=\"14.206\"/>\n",
       "</g>\n",
       "<g style=\"fill:rgb(0%,0%,0%);fill-opacity:1;\">\n",
       "  <use xlink:href=\"#glyph-1487623024713069-1-6\" x=\"380.416\" y=\"14.206\"/>\n",
       "  <use xlink:href=\"#glyph-1487623024713069-1-3\" x=\"385.39732\" y=\"14.206\"/>\n",
       "</g>\n",
       "<g style=\"fill:rgb(0%,0%,0%);fill-opacity:1;\">\n",
       "  <use xlink:href=\"#glyph-1487623024713069-3-1\" x=\"390.379\" y=\"10.59\"/>\n",
       "</g>\n",
       "<g clip-path=\"url(#clip-1487623024713069-4)\" clip-rule=\"nonzero\">\n",
       "<path style=\"fill-rule:nonzero;fill:rgb(89.99939%,89.99939%,100%);fill-opacity:1;stroke-width:0.3985;stroke-linecap:butt;stroke-linejoin:miter;stroke:rgb(0%,0%,100%);stroke-opacity:1;stroke-miterlimit:10;\" d=\"M -0.00140625 -0.0013125 L 6.088437 -0.0013125 L 6.088437 174.201813 L -0.00140625 174.201813 Z M 6.088437 -0.0013125 L 12.174375 -0.0013125 L 12.174375 138.3815 L 6.088437 138.3815 Z M 12.174375 -0.0013125 L 18.264219 -0.0013125 L 18.264219 199.541656 L 12.174375 199.541656 Z M 18.264219 -0.0013125 L 24.354062 -0.0013125 L 24.354062 216.936188 L 18.264219 216.936188 Z M 24.354062 -0.0013125 L 30.44 -0.0013125 L 30.44 209.615875 L 24.354062 209.615875 Z M 30.44 -0.0013125 L 36.529844 -0.0013125 L 36.529844 186.049469 L 30.44 186.049469 Z M 36.529844 -0.0013125 L 42.615781 -0.0013125 L 42.615781 162.8815 L 36.529844 162.8815 Z M 42.615781 -0.0013125 L 48.705625 -0.0013125 L 48.705625 141.666656 L 42.615781 141.666656 Z M 48.705625 -0.0013125 L 54.791562 -0.0013125 L 54.791562 123.303375 L 48.705625 123.303375 Z M 54.791562 -0.0013125 L 60.881406 -0.0013125 L 60.881406 105.686188 L 54.791562 105.686188 Z M 60.881406 -0.0013125 L 66.967344 -0.0013125 L 66.967344 95.389313 L 60.881406 95.389313 Z M 66.967344 -0.0013125 L 73.057187 -0.0013125 L 73.057187 82.373688 L 66.967344 82.373688 Z M 73.057187 -0.0013125 L 79.143125 -0.0013125 L 79.143125 70.740875 L 73.057187 70.740875 Z M 79.143125 -0.0013125 L 85.232969 -0.0013125 L 85.232969 67.217438 L 79.143125 67.217438 Z M 85.232969 -0.0013125 L 91.322812 -0.0013125 L 91.322812 59.498688 L 85.232969 59.498688 Z M 91.322812 -0.0013125 L 97.40875 -0.0013125 L 97.40875 56.338531 L 91.322812 56.338531 Z M 97.40875 -0.0013125 L 103.498594 -0.0013125 L 103.498594 50.096344 L 97.40875 50.096344 Z M 103.498594 -0.0013125 L 109.584531 -0.0013125 L 109.584531 47.592438 L 103.498594 47.592438 Z M 109.584531 -0.0013125 L 115.674375 -0.0013125 L 115.674375 42.865875 L 109.584531 42.865875 Z M 115.674375 -0.0013125 L 121.760312 -0.0013125 L 121.760312 40.291656 L 115.674375 40.291656 Z M 121.760312 -0.0013125 L 127.850156 -0.0013125 L 127.850156 37.279938 L 121.760312 37.279938 Z M 127.850156 -0.0013125 L 133.936094 -0.0013125 L 133.936094 36.803375 L 127.850156 36.803375 Z M 133.936094 -0.0013125 L 140.025937 -0.0013125 L 140.025937 33.244781 L 133.936094 33.244781 Z M 140.025937 -0.0013125 L 146.111875 -0.0013125 L 146.111875 30.029938 L 140.025937 30.029938 Z M 146.111875 -0.0013125 L 152.201719 -0.0013125 L 152.201719 29.264313 L 146.111875 29.264313 Z M 152.201719 -0.0013125 L 158.291562 -0.0013125 L 158.291562 26.947906 L 152.201719 26.947906 Z M 158.291562 -0.0013125 L 164.3775 -0.0013125 L 164.3775 27.092438 L 158.291562 27.092438 Z M 164.3775 -0.0013125 L 170.467344 -0.0013125 L 170.467344 24.608063 L 164.3775 24.608063 Z M 170.467344 -0.0013125 L 176.553281 -0.0013125 L 176.553281 24.608063 L 170.467344 24.608063 Z M 176.553281 -0.0013125 L 182.643125 -0.0013125 L 182.643125 21.908844 L 176.553281 21.908844 Z M 182.643125 -0.0013125 L 188.729062 -0.0013125 L 188.729062 21.178375 L 182.643125 21.178375 Z M 188.729062 -0.0013125 L 194.818906 -0.0013125 L 194.818906 19.971344 L 188.729062 19.971344 Z M 194.818906 -0.0013125 L 200.904844 -0.0013125 L 200.904844 19.389313 L 194.818906 19.389313 Z M 200.904844 -0.0013125 L 206.994687 -0.0013125 L 206.994687 19.205719 L 200.904844 19.205719 Z M 206.994687 -0.0013125 L 213.080625 -0.0013125 L 213.080625 18.018219 L 206.994687 18.018219 Z M 213.080625 -0.0013125 L 219.170469 -0.0013125 L 219.170469 17.361969 L 213.080625 17.361969 Z M 219.170469 -0.0013125 L 225.260312 -0.0013125 L 225.260312 16.432281 L 219.170469 16.432281 Z M 225.260312 -0.0013125 L 231.34625 -0.0013125 L 231.34625 14.877594 L 225.260312 14.877594 Z M 231.34625 -0.0013125 L 237.436094 -0.0013125 L 237.436094 16.41275 L 231.34625 16.41275 Z M 237.436094 -0.0013125 L 243.522031 -0.0013125 L 243.522031 16.139313 L 237.436094 16.139313 Z M 243.522031 -0.0013125 L 249.611875 -0.0013125 L 249.611875 14.385406 L 243.522031 14.385406 Z M 249.611875 -0.0013125 L 255.697812 -0.0013125 L 255.697812 13.545563 L 249.611875 13.545563 Z M 255.697812 -0.0013125 L 261.787656 -0.0013125 L 261.787656 13.108063 L 255.697812 13.108063 Z M 261.787656 -0.0013125 L 267.873594 -0.0013125 L 267.873594 12.834625 L 261.787656 12.834625 Z M 267.873594 -0.0013125 L 273.963437 -0.0013125 L 273.963437 12.139313 L 267.873594 12.139313 Z M 273.963437 -0.0013125 L 280.049375 -0.0013125 L 280.049375 11.53775 L 273.963437 11.53775 Z M 280.049375 -0.0013125 L 286.139219 -0.0013125 L 286.139219 11.299469 L 280.049375 11.299469 Z M 286.139219 -0.0013125 L 292.225156 -0.0013125 L 292.225156 10.936188 L 286.139219 10.936188 Z M 292.229062 -0.0013125 L 298.315 -0.0013125 L 298.315 4461.244781 L 292.229062 4461.244781 Z M 292.229062 -0.0013125 \" transform=\"matrix(1,0,0,-1,401.31,260.194)\"/>\n",
       "</g>\n",
       "<g style=\"fill:rgb(0%,0%,0%);fill-opacity:1;\">\n",
       "  <use xlink:href=\"#glyph-1487623024713069-1-7\" x=\"484.183\" y=\"12.066\"/>\n",
       "  <use xlink:href=\"#glyph-1487623024713069-1-8\" x=\"491.378019\" y=\"12.066\"/>\n",
       "  <use xlink:href=\"#glyph-1487623024713069-1-9\" x=\"494.14564\" y=\"12.066\"/>\n",
       "  <use xlink:href=\"#glyph-1487623024713069-1-10\" x=\"502.447508\" y=\"12.066\"/>\n",
       "</g>\n",
       "<g style=\"fill:rgb(0%,0%,0%);fill-opacity:1;\">\n",
       "  <use xlink:href=\"#glyph-1487623024713069-1-15\" x=\"510.192464\" y=\"12.066\"/>\n",
       "  <use xlink:href=\"#glyph-1487623024713069-1-16\" x=\"514.066935\" y=\"12.066\"/>\n",
       "</g>\n",
       "<g style=\"fill:rgb(0%,0%,0%);fill-opacity:1;\">\n",
       "  <use xlink:href=\"#glyph-1487623024713069-1-17\" x=\"522.365814\" y=\"12.066\"/>\n",
       "  <use xlink:href=\"#glyph-1487623024713069-1-16\" x=\"529.560833\" y=\"12.066\"/>\n",
       "  <use xlink:href=\"#glyph-1487623024713069-1-18\" x=\"534.542153\" y=\"12.066\"/>\n",
       "  <use xlink:href=\"#glyph-1487623024713069-1-18\" x=\"537.309774\" y=\"12.066\"/>\n",
       "  <use xlink:href=\"#glyph-1487623024713069-1-8\" x=\"540.077395\" y=\"12.066\"/>\n",
       "  <use xlink:href=\"#glyph-1487623024713069-1-19\" x=\"542.845017\" y=\"12.066\"/>\n",
       "  <use xlink:href=\"#glyph-1487623024713069-1-8\" x=\"546.774282\" y=\"12.066\"/>\n",
       "  <use xlink:href=\"#glyph-1487623024713069-1-16\" x=\"549.541903\" y=\"12.066\"/>\n",
       "  <use xlink:href=\"#glyph-1487623024713069-1-20\" x=\"554.523223\" y=\"12.066\"/>\n",
       "</g>\n",
       "<path style=\"fill:none;stroke-width:0.19925;stroke-linecap:butt;stroke-linejoin:miter;stroke:rgb(50%,50%,50%);stroke-opacity:1;stroke-miterlimit:10;\" d=\"M -3.67625 -0.00165625 L -3.67625 4.25225 M -3.67625 238.635063 L -3.67625 234.381156 M 35.7925 -0.00165625 L 35.7925 4.25225 M 35.7925 238.635063 L 35.7925 234.381156 M 75.26125 -0.00165625 L 75.26125 4.25225 M 75.26125 238.635063 L 75.26125 234.381156 M 114.73 -0.00165625 L 114.73 4.25225 M 114.73 238.635063 L 114.73 234.381156 M 154.19875 -0.00165625 L 154.19875 4.25225 M 154.19875 238.635063 L 154.19875 234.381156 M 193.671406 -0.00165625 L 193.671406 4.25225 M 193.671406 238.635063 L 193.671406 234.381156 M 233.140156 -0.00165625 L 233.140156 4.25225 M 233.140156 238.635063 L 233.140156 234.381156 \" transform=\"matrix(1,0,0,-1,54.145,541.346)\"/>\n",
       "<path style=\"fill:none;stroke-width:0.19925;stroke-linecap:butt;stroke-linejoin:miter;stroke:rgb(50%,50%,50%);stroke-opacity:1;stroke-miterlimit:10;\" d=\"M -24.61375 -0.00165625 L -20.359844 -0.00165625 M 270.718281 -0.00165625 L 266.468281 -0.00165625 M -24.61375 28.338188 L -20.359844 28.338188 M 270.718281 28.338188 L 266.468281 28.338188 M -24.61375 56.678031 L -20.359844 56.678031 M 270.718281 56.678031 L 266.468281 56.678031 M -24.61375 85.017875 L -20.359844 85.017875 M 270.718281 85.017875 L 266.468281 85.017875 M -24.61375 113.357719 L -20.359844 113.357719 M 270.718281 113.357719 L 266.468281 113.357719 M -24.61375 141.697563 L -20.359844 141.697563 M 270.718281 141.697563 L 266.468281 141.697563 M -24.61375 170.037406 L -20.359844 170.037406 M 270.718281 170.037406 L 266.468281 170.037406 M -24.61375 198.37725 L -20.359844 198.37725 M 270.718281 198.37725 L 266.468281 198.37725 M -24.61375 226.717094 L -20.359844 226.717094 M 270.718281 226.717094 L 266.468281 226.717094 \" transform=\"matrix(1,0,0,-1,54.145,541.346)\"/>\n",
       "<path style=\"fill:none;stroke-width:0.3985;stroke-linecap:butt;stroke-linejoin:miter;stroke:rgb(0%,0%,0%);stroke-opacity:1;stroke-miterlimit:10;\" d=\"M -24.61375 -0.00165625 L -24.61375 238.635063 L 270.718281 238.635063 L 270.718281 -0.00165625 Z M -24.61375 -0.00165625 \" transform=\"matrix(1,0,0,-1,54.145,541.346)\"/>\n",
       "<g style=\"fill:rgb(0%,0%,0%);fill-opacity:1;\">\n",
       "  <use xlink:href=\"#glyph-1487623024713069-1-3\" x=\"47.979\" y=\"551.286\"/>\n",
       "</g>\n",
       "<g style=\"fill:rgb(0%,0%,0%);fill-opacity:1;\">\n",
       "  <use xlink:href=\"#glyph-1487623024713069-1-14\" x=\"87.448\" y=\"551.286\"/>\n",
       "</g>\n",
       "<g style=\"fill:rgb(0%,0%,0%);fill-opacity:1;\">\n",
       "  <use xlink:href=\"#glyph-1487623024713069-1-6\" x=\"124.425\" y=\"551.286\"/>\n",
       "  <use xlink:href=\"#glyph-1487623024713069-1-3\" x=\"129.40632\" y=\"551.286\"/>\n",
       "</g>\n",
       "<g style=\"fill:rgb(0%,0%,0%);fill-opacity:1;\">\n",
       "  <use xlink:href=\"#glyph-1487623024713069-1-6\" x=\"163.894\" y=\"551.286\"/>\n",
       "  <use xlink:href=\"#glyph-1487623024713069-1-14\" x=\"168.87532\" y=\"551.286\"/>\n",
       "</g>\n",
       "<g style=\"fill:rgb(0%,0%,0%);fill-opacity:1;\">\n",
       "  <use xlink:href=\"#glyph-1487623024713069-1-2\" x=\"203.362\" y=\"551.286\"/>\n",
       "  <use xlink:href=\"#glyph-1487623024713069-1-3\" x=\"208.34332\" y=\"551.286\"/>\n",
       "</g>\n",
       "<g style=\"fill:rgb(0%,0%,0%);fill-opacity:1;\">\n",
       "  <use xlink:href=\"#glyph-1487623024713069-1-2\" x=\"242.831\" y=\"551.286\"/>\n",
       "  <use xlink:href=\"#glyph-1487623024713069-1-14\" x=\"247.81232\" y=\"551.286\"/>\n",
       "</g>\n",
       "<g style=\"fill:rgb(0%,0%,0%);fill-opacity:1;\">\n",
       "  <use xlink:href=\"#glyph-1487623024713069-1-21\" x=\"282.299\" y=\"551.286\"/>\n",
       "  <use xlink:href=\"#glyph-1487623024713069-1-3\" x=\"287.28032\" y=\"551.286\"/>\n",
       "</g>\n",
       "<g style=\"fill:rgb(0%,0%,0%);fill-opacity:1;\">\n",
       "  <use xlink:href=\"#glyph-1487623024713069-1-3\" x=\"21.032\" y=\"544.556\"/>\n",
       "</g>\n",
       "<g style=\"fill:rgb(0%,0%,0%);fill-opacity:1;\">\n",
       "  <use xlink:href=\"#glyph-1487623024713069-1-6\" x=\"3.321\" y=\"515.248\"/>\n",
       "</g>\n",
       "<g style=\"fill:rgb(0%,0%,0%);fill-opacity:1;\">\n",
       "  <use xlink:href=\"#glyph-1487623024713069-2-2\" x=\"8.302\" y=\"515.248\"/>\n",
       "</g>\n",
       "<g style=\"fill:rgb(0%,0%,0%);fill-opacity:1;\">\n",
       "  <use xlink:href=\"#glyph-1487623024713069-1-3\" x=\"11.069\" y=\"515.248\"/>\n",
       "  <use xlink:href=\"#glyph-1487623024713069-1-3\" x=\"16.05032\" y=\"515.248\"/>\n",
       "  <use xlink:href=\"#glyph-1487623024713069-1-3\" x=\"21.03164\" y=\"515.248\"/>\n",
       "</g>\n",
       "<g style=\"fill:rgb(0%,0%,0%);fill-opacity:1;\">\n",
       "  <use xlink:href=\"#glyph-1487623024713069-1-2\" x=\"3.321\" y=\"486.909\"/>\n",
       "</g>\n",
       "<g style=\"fill:rgb(0%,0%,0%);fill-opacity:1;\">\n",
       "  <use xlink:href=\"#glyph-1487623024713069-2-2\" x=\"8.302\" y=\"486.909\"/>\n",
       "</g>\n",
       "<g style=\"fill:rgb(0%,0%,0%);fill-opacity:1;\">\n",
       "  <use xlink:href=\"#glyph-1487623024713069-1-3\" x=\"11.069\" y=\"486.909\"/>\n",
       "  <use xlink:href=\"#glyph-1487623024713069-1-3\" x=\"16.05032\" y=\"486.909\"/>\n",
       "  <use xlink:href=\"#glyph-1487623024713069-1-3\" x=\"21.03164\" y=\"486.909\"/>\n",
       "</g>\n",
       "<g style=\"fill:rgb(0%,0%,0%);fill-opacity:1;\">\n",
       "  <use xlink:href=\"#glyph-1487623024713069-1-21\" x=\"3.321\" y=\"458.57\"/>\n",
       "</g>\n",
       "<g style=\"fill:rgb(0%,0%,0%);fill-opacity:1;\">\n",
       "  <use xlink:href=\"#glyph-1487623024713069-2-2\" x=\"8.302\" y=\"458.57\"/>\n",
       "</g>\n",
       "<g style=\"fill:rgb(0%,0%,0%);fill-opacity:1;\">\n",
       "  <use xlink:href=\"#glyph-1487623024713069-1-3\" x=\"11.069\" y=\"458.57\"/>\n",
       "  <use xlink:href=\"#glyph-1487623024713069-1-3\" x=\"16.05032\" y=\"458.57\"/>\n",
       "  <use xlink:href=\"#glyph-1487623024713069-1-3\" x=\"21.03164\" y=\"458.57\"/>\n",
       "</g>\n",
       "<g style=\"fill:rgb(0%,0%,0%);fill-opacity:1;\">\n",
       "  <use xlink:href=\"#glyph-1487623024713069-1-1\" x=\"3.321\" y=\"430.231\"/>\n",
       "</g>\n",
       "<g style=\"fill:rgb(0%,0%,0%);fill-opacity:1;\">\n",
       "  <use xlink:href=\"#glyph-1487623024713069-2-2\" x=\"8.302\" y=\"430.231\"/>\n",
       "</g>\n",
       "<g style=\"fill:rgb(0%,0%,0%);fill-opacity:1;\">\n",
       "  <use xlink:href=\"#glyph-1487623024713069-1-3\" x=\"11.069\" y=\"430.231\"/>\n",
       "  <use xlink:href=\"#glyph-1487623024713069-1-3\" x=\"16.05032\" y=\"430.231\"/>\n",
       "  <use xlink:href=\"#glyph-1487623024713069-1-3\" x=\"21.03164\" y=\"430.231\"/>\n",
       "</g>\n",
       "<g style=\"fill:rgb(0%,0%,0%);fill-opacity:1;\">\n",
       "  <use xlink:href=\"#glyph-1487623024713069-1-14\" x=\"3.321\" y=\"401.892\"/>\n",
       "</g>\n",
       "<g style=\"fill:rgb(0%,0%,0%);fill-opacity:1;\">\n",
       "  <use xlink:href=\"#glyph-1487623024713069-2-2\" x=\"8.302\" y=\"401.892\"/>\n",
       "</g>\n",
       "<g style=\"fill:rgb(0%,0%,0%);fill-opacity:1;\">\n",
       "  <use xlink:href=\"#glyph-1487623024713069-1-3\" x=\"11.069\" y=\"401.892\"/>\n",
       "  <use xlink:href=\"#glyph-1487623024713069-1-3\" x=\"16.05032\" y=\"401.892\"/>\n",
       "  <use xlink:href=\"#glyph-1487623024713069-1-3\" x=\"21.03164\" y=\"401.892\"/>\n",
       "</g>\n",
       "<g style=\"fill:rgb(0%,0%,0%);fill-opacity:1;\">\n",
       "  <use xlink:href=\"#glyph-1487623024713069-1-4\" x=\"3.321\" y=\"373.552\"/>\n",
       "</g>\n",
       "<g style=\"fill:rgb(0%,0%,0%);fill-opacity:1;\">\n",
       "  <use xlink:href=\"#glyph-1487623024713069-2-2\" x=\"8.302\" y=\"373.552\"/>\n",
       "</g>\n",
       "<g style=\"fill:rgb(0%,0%,0%);fill-opacity:1;\">\n",
       "  <use xlink:href=\"#glyph-1487623024713069-1-3\" x=\"11.069\" y=\"373.552\"/>\n",
       "  <use xlink:href=\"#glyph-1487623024713069-1-3\" x=\"16.05032\" y=\"373.552\"/>\n",
       "  <use xlink:href=\"#glyph-1487623024713069-1-3\" x=\"21.03164\" y=\"373.552\"/>\n",
       "</g>\n",
       "<g style=\"fill:rgb(0%,0%,0%);fill-opacity:1;\">\n",
       "  <use xlink:href=\"#glyph-1487623024713069-1-22\" x=\"3.321\" y=\"345.213\"/>\n",
       "</g>\n",
       "<g style=\"fill:rgb(0%,0%,0%);fill-opacity:1;\">\n",
       "  <use xlink:href=\"#glyph-1487623024713069-2-2\" x=\"8.302\" y=\"345.213\"/>\n",
       "</g>\n",
       "<g style=\"fill:rgb(0%,0%,0%);fill-opacity:1;\">\n",
       "  <use xlink:href=\"#glyph-1487623024713069-1-3\" x=\"11.069\" y=\"345.213\"/>\n",
       "  <use xlink:href=\"#glyph-1487623024713069-1-3\" x=\"16.05032\" y=\"345.213\"/>\n",
       "  <use xlink:href=\"#glyph-1487623024713069-1-3\" x=\"21.03164\" y=\"345.213\"/>\n",
       "</g>\n",
       "<g style=\"fill:rgb(0%,0%,0%);fill-opacity:1;\">\n",
       "  <use xlink:href=\"#glyph-1487623024713069-1-5\" x=\"3.321\" y=\"316.874\"/>\n",
       "</g>\n",
       "<g style=\"fill:rgb(0%,0%,0%);fill-opacity:1;\">\n",
       "  <use xlink:href=\"#glyph-1487623024713069-2-2\" x=\"8.302\" y=\"316.874\"/>\n",
       "</g>\n",
       "<g style=\"fill:rgb(0%,0%,0%);fill-opacity:1;\">\n",
       "  <use xlink:href=\"#glyph-1487623024713069-1-3\" x=\"11.069\" y=\"316.874\"/>\n",
       "  <use xlink:href=\"#glyph-1487623024713069-1-3\" x=\"16.05032\" y=\"316.874\"/>\n",
       "  <use xlink:href=\"#glyph-1487623024713069-1-3\" x=\"21.03164\" y=\"316.874\"/>\n",
       "</g>\n",
       "<g clip-path=\"url(#clip-1487623024713069-5)\" clip-rule=\"nonzero\">\n",
       "<path style=\" stroke:none;fill-rule:nonzero;fill:rgb(89.99939%,89.99939%,100%);fill-opacity:1;\" d=\"M 54.144531 541.347656 L 55.257812 541.347656 L 55.257812 524.425781 L 54.144531 524.425781 Z M 55.257812 541.347656 L 56.371094 541.347656 L 56.371094 524.824219 L 55.257812 524.824219 Z M 56.371094 541.347656 L 57.484375 541.347656 L 57.484375 525.222656 L 56.371094 525.222656 Z M 57.484375 541.347656 L 58.597656 541.347656 L 58.597656 524.824219 L 57.484375 524.824219 Z M 58.597656 541.347656 L 59.714844 541.347656 L 59.714844 525.675781 L 58.597656 525.675781 Z M 59.714844 541.347656 L 60.828125 541.347656 L 60.828125 526.496094 L 59.714844 526.496094 Z M 60.828125 541.347656 L 61.941406 541.347656 L 61.941406 525.191406 L 60.828125 525.191406 Z M 61.941406 541.347656 L 63.054688 541.347656 L 63.054688 525.730469 L 61.941406 525.730469 Z M 63.054688 541.347656 L 64.167969 541.347656 L 64.167969 525.25 L 63.054688 525.25 Z M 64.167969 541.347656 L 65.28125 541.347656 L 65.28125 523.632812 L 64.167969 523.632812 Z M 65.28125 541.347656 L 66.394531 541.347656 L 66.394531 525.589844 L 65.28125 525.589844 Z M 66.394531 541.347656 L 67.507812 541.347656 L 67.507812 525.390625 L 66.394531 525.390625 Z M 67.507812 541.347656 L 68.621094 541.347656 L 68.621094 526.128906 L 67.507812 526.128906 Z M 68.621094 541.347656 L 69.734375 541.347656 L 69.734375 524.9375 L 68.621094 524.9375 Z M 69.734375 541.347656 L 70.847656 541.347656 L 70.847656 524.597656 L 69.734375 524.597656 Z M 70.847656 541.347656 L 71.960938 541.347656 L 71.960938 524.539062 L 70.847656 524.539062 Z M 71.960938 541.347656 L 73.078125 541.347656 L 73.078125 524.824219 L 71.960938 524.824219 Z M 73.078125 541.347656 L 74.191406 541.347656 L 74.191406 525.703125 L 73.078125 525.703125 Z M 74.191406 541.347656 L 75.304688 541.347656 L 75.304688 524.882812 L 74.191406 524.882812 Z M 75.304688 541.347656 L 76.417969 541.347656 L 76.417969 524.996094 L 75.304688 524.996094 Z M 76.417969 541.347656 L 77.53125 541.347656 L 77.53125 525.871094 L 76.417969 525.871094 Z M 77.53125 541.347656 L 78.644531 541.347656 L 78.644531 524.003906 L 77.53125 524.003906 Z M 78.644531 541.347656 L 79.757812 541.347656 L 79.757812 524.683594 L 78.644531 524.683594 Z M 79.757812 541.347656 L 80.871094 541.347656 L 80.871094 523.832031 L 79.757812 523.832031 Z M 80.871094 541.347656 L 81.984375 541.347656 L 81.984375 526.582031 L 80.871094 526.582031 Z M 81.984375 541.347656 L 83.097656 541.347656 L 83.097656 525.078125 L 81.984375 525.078125 Z M 83.097656 541.347656 L 84.210938 541.347656 L 84.210938 525.476562 L 83.097656 525.476562 Z M 84.210938 541.347656 L 85.324219 541.347656 L 85.324219 523.832031 L 84.210938 523.832031 Z M 85.324219 541.347656 L 86.441406 541.347656 L 86.441406 524.964844 L 85.324219 524.964844 Z M 86.441406 541.347656 L 87.554688 541.347656 L 87.554688 524.257812 L 86.441406 524.257812 Z M 87.554688 541.347656 L 88.667969 541.347656 L 88.667969 525.644531 L 87.554688 525.644531 Z M 88.667969 541.347656 L 89.78125 541.347656 L 89.78125 527.175781 L 88.667969 527.175781 Z M 89.78125 541.347656 L 90.894531 541.347656 L 90.894531 526.296875 L 89.78125 526.296875 Z M 90.894531 541.347656 L 92.007812 541.347656 L 92.007812 524.003906 L 90.894531 524.003906 Z M 92.007812 541.347656 L 93.121094 541.347656 L 93.121094 526.609375 L 92.007812 526.609375 Z M 93.121094 541.347656 L 94.234375 541.347656 L 94.234375 525.363281 L 93.121094 525.363281 Z M 94.234375 541.347656 L 95.347656 541.347656 L 95.347656 524.003906 L 94.234375 524.003906 Z M 95.347656 541.347656 L 96.460938 541.347656 L 96.460938 525.675781 L 95.347656 525.675781 Z M 96.460938 541.347656 L 97.574219 541.347656 L 97.574219 524.851562 L 96.460938 524.851562 Z M 97.574219 541.347656 L 98.6875 541.347656 L 98.6875 525.222656 L 97.574219 525.222656 Z M 98.6875 541.347656 L 99.804688 541.347656 L 99.804688 524.796875 L 98.6875 524.796875 Z M 99.804688 541.347656 L 100.917969 541.347656 L 100.917969 523.605469 L 99.804688 523.605469 Z M 100.917969 541.347656 L 102.03125 541.347656 L 102.03125 525.136719 L 100.917969 525.136719 Z M 102.03125 541.347656 L 103.144531 541.347656 L 103.144531 525.277344 L 102.03125 525.277344 Z M 103.144531 541.347656 L 104.257812 541.347656 L 104.257812 524.769531 L 103.144531 524.769531 Z M 104.257812 541.347656 L 105.371094 541.347656 L 105.371094 526.410156 L 104.257812 526.410156 Z M 105.371094 541.347656 L 106.484375 541.347656 L 106.484375 524.996094 L 105.371094 524.996094 Z M 106.484375 541.347656 L 107.597656 541.347656 L 107.597656 526.242188 L 106.484375 526.242188 Z M 107.597656 541.347656 L 108.710938 541.347656 L 108.710938 525.816406 L 107.597656 525.816406 Z M 108.710938 541.347656 L 109.824219 541.347656 L 109.824219 525.5625 L 108.710938 525.5625 Z M 109.824219 541.347656 L 110.9375 541.347656 L 110.9375 524.851562 L 109.824219 524.851562 Z M 110.9375 541.347656 L 112.050781 541.347656 L 112.050781 525.078125 L 110.9375 525.078125 Z M 112.050781 541.347656 L 113.167969 541.347656 L 113.167969 525.304688 L 112.050781 525.304688 Z M 113.167969 541.347656 L 114.28125 541.347656 L 114.28125 525.25 L 113.167969 525.25 Z M 114.28125 541.347656 L 115.394531 541.347656 L 115.394531 524.851562 L 114.28125 524.851562 Z M 115.394531 541.347656 L 116.507812 541.347656 L 116.507812 525.902344 L 115.394531 525.902344 Z M 116.507812 541.347656 L 117.621094 541.347656 L 117.621094 524.257812 L 116.507812 524.257812 Z M 117.621094 541.347656 L 118.734375 541.347656 L 118.734375 525.449219 L 117.621094 525.449219 Z M 118.734375 541.347656 L 119.847656 541.347656 L 119.847656 526.382812 L 118.734375 526.382812 Z M 119.847656 541.347656 L 120.960938 541.347656 L 120.960938 524.03125 L 119.847656 524.03125 Z M 120.960938 541.347656 L 122.074219 541.347656 L 122.074219 524.652344 L 120.960938 524.652344 Z M 122.074219 541.347656 L 123.1875 541.347656 L 123.1875 525.164062 L 122.074219 525.164062 Z M 123.1875 541.347656 L 124.300781 541.347656 L 124.300781 524.769531 L 123.1875 524.769531 Z M 124.300781 541.347656 L 125.414062 541.347656 L 125.414062 524.171875 L 124.300781 524.171875 Z M 125.414062 541.347656 L 126.53125 541.347656 L 126.53125 524.511719 L 125.414062 524.511719 Z M 126.53125 541.347656 L 127.644531 541.347656 L 127.644531 524.257812 L 126.53125 524.257812 Z M 127.644531 541.347656 L 128.757812 541.347656 L 128.757812 526.128906 L 127.644531 526.128906 Z M 128.757812 541.347656 L 129.871094 541.347656 L 129.871094 525.503906 L 128.757812 525.503906 Z M 129.871094 541.347656 L 130.984375 541.347656 L 130.984375 525.757812 L 129.871094 525.757812 Z M 130.984375 541.347656 L 132.097656 541.347656 L 132.097656 525.164062 L 130.984375 525.164062 Z M 132.097656 541.347656 L 133.210938 541.347656 L 133.210938 525.109375 L 132.097656 525.109375 Z M 133.210938 541.347656 L 134.324219 541.347656 L 134.324219 524.9375 L 133.210938 524.9375 Z M 134.324219 541.347656 L 135.4375 541.347656 L 135.4375 524.9375 L 134.324219 524.9375 Z M 135.4375 541.347656 L 136.550781 541.347656 L 136.550781 525.363281 L 135.4375 525.363281 Z M 136.550781 541.347656 L 137.664062 541.347656 L 137.664062 526.015625 L 136.550781 526.015625 Z M 137.664062 541.347656 L 138.777344 541.347656 L 138.777344 525.191406 L 137.664062 525.191406 Z M 138.777344 541.347656 L 139.894531 541.347656 L 139.894531 525.816406 L 138.777344 525.816406 Z M 139.894531 541.347656 L 141.007812 541.347656 L 141.007812 524.964844 L 139.894531 524.964844 Z M 141.007812 541.347656 L 142.121094 541.347656 L 142.121094 525.449219 L 141.007812 525.449219 Z M 142.121094 541.347656 L 143.234375 541.347656 L 143.234375 525.222656 L 142.121094 525.222656 Z M 143.234375 541.347656 L 144.347656 541.347656 L 144.347656 524.03125 L 143.234375 524.03125 Z M 144.347656 541.347656 L 145.460938 541.347656 L 145.460938 526.214844 L 144.347656 526.214844 Z M 145.460938 541.347656 L 146.574219 541.347656 L 146.574219 523.492188 L 145.460938 523.492188 Z M 146.574219 541.347656 L 147.6875 541.347656 L 147.6875 524.03125 L 146.574219 524.03125 Z M 147.6875 541.347656 L 148.800781 541.347656 L 148.800781 524.34375 L 147.6875 524.34375 Z M 148.800781 541.347656 L 149.914062 541.347656 L 149.914062 524.425781 L 148.800781 524.425781 Z M 149.914062 541.347656 L 151.027344 541.347656 L 151.027344 526.097656 L 149.914062 526.097656 Z M 151.027344 541.347656 L 152.140625 541.347656 L 152.140625 525.589844 L 151.027344 525.589844 Z M 152.140625 541.347656 L 153.257812 541.347656 L 153.257812 503.824219 L 152.140625 503.824219 Z M 153.257812 541.347656 L 154.371094 541.347656 L 154.371094 387.832031 L 153.257812 387.832031 Z M 154.371094 541.347656 L 155.484375 541.347656 L 155.484375 384.207031 L 154.371094 384.207031 Z M 155.484375 541.347656 L 156.597656 541.347656 L 156.597656 383.867188 L 155.484375 383.867188 Z M 156.597656 541.347656 L 157.710938 541.347656 L 157.710938 382.816406 L 156.597656 382.816406 Z M 157.710938 541.347656 L 158.824219 541.347656 L 158.824219 382.503906 L 157.710938 382.503906 Z M 158.824219 541.347656 L 159.9375 541.347656 L 159.9375 384.375 L 158.824219 384.375 Z M 159.9375 541.347656 L 161.050781 541.347656 L 161.050781 379.925781 L 159.9375 379.925781 Z M 161.050781 541.347656 L 162.164062 541.347656 L 162.164062 382.761719 L 161.050781 382.761719 Z M 162.164062 541.347656 L 163.277344 541.347656 L 163.277344 382.023438 L 162.164062 382.023438 Z M 163.277344 541.347656 L 164.390625 541.347656 L 164.390625 385.453125 L 163.277344 385.453125 Z M 164.390625 541.347656 L 165.503906 541.347656 L 165.503906 380.210938 L 164.390625 380.210938 Z M 165.503906 541.347656 L 166.621094 541.347656 L 166.621094 382.308594 L 165.503906 382.308594 Z M 166.621094 541.347656 L 167.734375 541.347656 L 167.734375 384.6875 L 166.621094 384.6875 Z M 167.734375 541.347656 L 168.847656 541.347656 L 168.847656 378.679688 L 167.734375 378.679688 Z M 168.847656 541.347656 L 169.960938 541.347656 L 169.960938 385.425781 L 168.847656 385.425781 Z M 169.960938 541.347656 L 171.074219 541.347656 L 171.074219 385.367188 L 169.960938 385.367188 Z M 171.074219 541.347656 L 172.1875 541.347656 L 172.1875 338.835938 L 171.074219 338.835938 Z M 172.1875 541.347656 L 173.300781 541.347656 L 173.300781 324.863281 L 172.1875 324.863281 Z M 173.300781 541.347656 L 174.414062 541.347656 L 174.414062 330.445312 L 173.300781 330.445312 Z M 174.414062 541.347656 L 175.527344 541.347656 L 175.527344 329.226562 L 174.414062 329.226562 Z M 175.527344 541.347656 L 176.640625 541.347656 L 176.640625 326.875 L 175.527344 326.875 Z M 176.640625 541.347656 L 177.753906 541.347656 L 177.753906 330.390625 L 176.640625 330.390625 Z M 177.753906 541.347656 L 178.867188 541.347656 L 178.867188 328.066406 L 177.753906 328.066406 Z M 178.867188 541.347656 L 179.984375 541.347656 L 179.984375 327.414062 L 178.867188 327.414062 Z M 179.984375 541.347656 L 181.097656 541.347656 L 181.097656 329.3125 L 179.984375 329.3125 Z M 181.097656 541.347656 L 182.210938 541.347656 L 182.210938 324.410156 L 181.097656 324.410156 Z M 182.210938 541.347656 L 183.324219 541.347656 L 183.324219 329.90625 L 182.210938 329.90625 Z M 183.324219 541.347656 L 184.4375 541.347656 L 184.4375 325.402344 L 183.324219 325.402344 Z M 184.4375 541.347656 L 185.550781 541.347656 L 185.550781 328.972656 L 184.4375 328.972656 Z M 185.550781 541.347656 L 186.664062 541.347656 L 186.664062 330.050781 L 185.550781 330.050781 Z M 186.664062 541.347656 L 187.777344 541.347656 L 187.777344 332.882812 L 186.664062 332.882812 Z M 187.777344 541.347656 L 188.890625 541.347656 L 188.890625 443.433594 L 187.777344 443.433594 Z M 188.890625 541.347656 L 190.003906 541.347656 L 190.003906 451.226562 L 188.890625 451.226562 Z M 190.003906 541.347656 L 191.117188 541.347656 L 191.117188 448.621094 L 190.003906 448.621094 Z M 191.117188 541.347656 L 192.230469 541.347656 L 192.230469 449.980469 L 191.117188 449.980469 Z M 192.230469 541.347656 L 193.347656 541.347656 L 193.347656 449.414062 L 192.230469 449.414062 Z M 193.347656 541.347656 L 194.460938 541.347656 L 194.460938 451.765625 L 193.347656 451.765625 Z M 194.460938 541.347656 L 195.574219 541.347656 L 195.574219 451.9375 L 194.460938 451.9375 Z M 195.574219 541.347656 L 196.6875 541.347656 L 196.6875 451.9375 L 195.574219 451.9375 Z M 196.6875 541.347656 L 197.800781 541.347656 L 197.800781 451.539062 L 196.6875 451.539062 Z M 197.800781 541.347656 L 198.914062 541.347656 L 198.914062 451.964844 L 197.800781 451.964844 Z M 198.914062 541.347656 L 200.027344 541.347656 L 200.027344 452.984375 L 198.914062 452.984375 Z M 200.027344 541.347656 L 201.140625 541.347656 L 201.140625 451.285156 L 200.027344 451.285156 Z M 201.140625 541.347656 L 202.253906 541.347656 L 202.253906 452.332031 L 201.140625 452.332031 Z M 202.253906 541.347656 L 203.367188 541.347656 L 203.367188 453.15625 L 202.253906 453.15625 Z M 203.367188 541.347656 L 204.480469 541.347656 L 204.480469 451 L 203.367188 451 Z M 204.480469 541.347656 L 205.59375 541.347656 L 205.59375 452.359375 L 204.480469 452.359375 Z M 205.59375 541.347656 L 206.710938 541.347656 L 206.710938 447.910156 L 205.59375 447.910156 Z M 206.710938 541.347656 L 207.824219 541.347656 L 207.824219 448.875 L 206.710938 448.875 Z M 207.824219 541.347656 L 208.9375 541.347656 L 208.9375 453.324219 L 207.824219 453.324219 Z M 208.9375 541.347656 L 210.050781 541.347656 L 210.050781 450.800781 L 208.9375 450.800781 Z M 210.050781 541.347656 L 211.164062 541.347656 L 211.164062 452.078125 L 210.050781 452.078125 Z M 211.164062 541.347656 L 212.277344 541.347656 L 212.277344 452.730469 L 211.164062 452.730469 Z M 212.277344 541.347656 L 213.390625 541.347656 L 213.390625 452.589844 L 212.277344 452.589844 Z M 213.390625 541.347656 L 214.503906 541.347656 L 214.503906 452.671875 L 213.390625 452.671875 Z M 214.503906 541.347656 L 215.617188 541.347656 L 215.617188 449.101562 L 214.503906 449.101562 Z M 215.617188 541.347656 L 216.730469 541.347656 L 216.730469 497.164062 L 215.617188 497.164062 Z M 216.730469 541.347656 L 217.84375 541.347656 L 217.84375 516.152344 L 216.730469 516.152344 Z M 217.84375 541.347656 L 218.957031 541.347656 L 218.957031 516.550781 L 217.84375 516.550781 Z M 218.957031 541.347656 L 220.074219 541.347656 L 220.074219 516.664062 L 218.957031 516.664062 Z M 220.074219 541.347656 L 221.1875 541.347656 L 221.1875 516.519531 L 220.074219 516.519531 Z M 221.1875 541.347656 L 222.300781 541.347656 L 222.300781 517.34375 L 221.1875 517.34375 Z M 222.300781 541.347656 L 223.414062 541.347656 L 223.414062 517.542969 L 222.300781 517.542969 Z M 223.414062 541.347656 L 224.527344 541.347656 L 224.527344 516.125 L 223.414062 516.125 Z M 224.527344 541.347656 L 225.640625 541.347656 L 225.640625 517.257812 L 224.527344 517.257812 Z M 225.640625 541.347656 L 226.753906 541.347656 L 226.753906 515.898438 L 225.640625 515.898438 Z M 226.753906 541.347656 L 227.867188 541.347656 L 227.867188 517.003906 L 226.753906 517.003906 Z M 227.867188 541.347656 L 228.980469 541.347656 L 228.980469 516.917969 L 227.867188 516.917969 Z M 228.980469 541.347656 L 230.09375 541.347656 L 230.09375 515.585938 L 228.980469 515.585938 Z M 230.09375 541.347656 L 231.207031 541.347656 L 231.207031 517.910156 L 230.09375 517.910156 Z M 231.207031 541.347656 L 232.320312 541.347656 L 232.320312 517.65625 L 231.207031 517.65625 Z M 232.320312 541.347656 L 233.4375 541.347656 L 233.4375 515.726562 L 232.320312 515.726562 Z M 233.4375 541.347656 L 234.550781 541.347656 L 234.550781 517.484375 L 233.4375 517.484375 Z M 234.550781 541.347656 L 235.664062 541.347656 L 235.664062 517.03125 L 234.550781 517.03125 Z M 235.664062 541.347656 L 236.777344 541.347656 L 236.777344 517.398438 L 235.664062 517.398438 Z M 236.777344 541.347656 L 237.890625 541.347656 L 237.890625 517.117188 L 236.777344 517.117188 Z M 237.890625 541.347656 L 239.003906 541.347656 L 239.003906 516.238281 L 237.890625 516.238281 Z M 239.003906 541.347656 L 240.117188 541.347656 L 240.117188 516.011719 L 239.003906 516.011719 Z M 240.117188 541.347656 L 241.230469 541.347656 L 241.230469 515.753906 L 240.117188 515.753906 Z M 241.230469 541.347656 L 242.34375 541.347656 L 242.34375 517.65625 L 241.230469 517.65625 Z M 242.34375 541.347656 L 243.457031 541.347656 L 243.457031 516.664062 L 242.34375 516.664062 Z M 243.457031 541.347656 L 244.570312 541.347656 L 244.570312 516.179688 L 243.457031 516.179688 Z M 244.570312 541.347656 L 245.683594 541.347656 L 245.683594 516.578125 L 244.570312 516.578125 Z M 245.683594 541.347656 L 246.800781 541.347656 L 246.800781 516.179688 L 245.683594 516.179688 Z M 246.800781 541.347656 L 247.914062 541.347656 L 247.914062 515.472656 L 246.800781 515.472656 Z M 247.914062 541.347656 L 249.027344 541.347656 L 249.027344 516.519531 L 247.914062 516.519531 Z M 249.027344 541.347656 L 250.140625 541.347656 L 250.140625 517.542969 L 249.027344 517.542969 Z M 250.140625 541.347656 L 251.253906 541.347656 L 251.253906 515.132812 L 250.140625 515.132812 Z M 251.253906 541.347656 L 252.367188 541.347656 L 252.367188 515.074219 L 251.253906 515.074219 Z M 252.367188 541.347656 L 253.480469 541.347656 L 253.480469 516.40625 L 252.367188 516.40625 Z M 253.480469 541.347656 L 254.59375 541.347656 L 254.59375 514.992188 L 253.480469 514.992188 Z M 254.59375 541.347656 L 255.707031 541.347656 L 255.707031 517.085938 L 254.59375 517.085938 Z M 255.707031 541.347656 L 256.820312 541.347656 L 256.820312 516.605469 L 255.707031 516.605469 Z M 256.820312 541.347656 L 257.933594 541.347656 L 257.933594 516.632812 L 256.820312 516.632812 Z M 257.933594 541.347656 L 259.046875 541.347656 L 259.046875 516.492188 L 257.933594 516.492188 Z M 259.046875 541.347656 L 260.164062 541.347656 L 260.164062 515.839844 L 259.046875 515.839844 Z M 260.164062 541.347656 L 261.277344 541.347656 L 261.277344 517.429688 L 260.164062 517.429688 Z M 261.277344 541.347656 L 262.390625 541.347656 L 262.390625 515.753906 L 261.277344 515.753906 Z M 262.390625 541.347656 L 263.503906 541.347656 L 263.503906 517.429688 L 262.390625 517.429688 Z M 263.503906 541.347656 L 264.617188 541.347656 L 264.617188 516.972656 L 263.503906 516.972656 Z M 264.617188 541.347656 L 265.730469 541.347656 L 265.730469 516.4375 L 264.617188 516.4375 Z M 265.730469 541.347656 L 266.84375 541.347656 L 266.84375 516.066406 L 265.730469 516.066406 Z M 266.84375 541.347656 L 267.957031 541.347656 L 267.957031 515.300781 L 266.84375 515.300781 Z M 267.957031 541.347656 L 269.070312 541.347656 L 269.070312 516.4375 L 267.957031 516.4375 Z M 269.070312 541.347656 L 270.183594 541.347656 L 270.183594 516.804688 L 269.070312 516.804688 Z M 270.183594 541.347656 L 271.296875 541.347656 L 271.296875 516.632812 L 270.183594 516.632812 Z M 271.296875 541.347656 L 272.410156 541.347656 L 272.410156 515.074219 L 271.296875 515.074219 Z M 272.410156 541.347656 L 273.527344 541.347656 L 273.527344 517.457031 L 272.410156 517.457031 Z M 273.527344 541.347656 L 274.640625 541.347656 L 274.640625 518.757812 L 273.527344 518.757812 Z M 274.640625 541.347656 L 275.753906 541.347656 L 275.753906 517.910156 L 274.640625 517.910156 Z M 275.753906 541.347656 L 276.867188 541.347656 L 276.867188 516.578125 L 275.753906 516.578125 Z M 276.867188 541.347656 L 277.980469 541.347656 L 277.980469 516.691406 L 276.867188 516.691406 Z M 277.980469 541.347656 L 279.09375 541.347656 L 279.09375 515.5 L 277.980469 515.5 Z M 279.09375 541.347656 L 280.207031 541.347656 L 280.207031 516.890625 L 279.09375 516.890625 Z M 280.207031 541.347656 L 281.320312 541.347656 L 281.320312 516.777344 L 280.207031 516.777344 Z M 281.320312 541.347656 L 282.433594 541.347656 L 282.433594 517.625 L 281.320312 517.625 Z M 282.433594 541.347656 L 283.546875 541.347656 L 283.546875 516.804688 L 282.433594 516.804688 Z M 283.546875 541.347656 L 284.660156 541.347656 L 284.660156 515.785156 L 283.546875 515.785156 Z M 284.660156 541.347656 L 285.773438 541.347656 L 285.773438 516.804688 L 284.660156 516.804688 Z M 285.773438 541.347656 L 286.890625 541.347656 L 286.890625 516.265625 L 285.773438 516.265625 Z M 286.890625 541.347656 L 288.003906 541.347656 L 288.003906 517.484375 L 286.890625 517.484375 Z M 288.003906 541.347656 L 289.117188 541.347656 L 289.117188 515.699219 L 288.003906 515.699219 Z M 289.117188 541.347656 L 290.230469 541.347656 L 290.230469 517.085938 L 289.117188 517.085938 Z M 290.230469 541.347656 L 291.34375 541.347656 L 291.34375 516.832031 L 290.230469 516.832031 Z M 291.34375 541.347656 L 292.457031 541.347656 L 292.457031 516.492188 L 291.34375 516.492188 Z M 292.457031 541.347656 L 293.570312 541.347656 L 293.570312 515.753906 L 292.457031 515.753906 Z M 293.570312 541.347656 L 294.683594 541.347656 L 294.683594 516.351562 L 293.570312 516.351562 Z M 294.683594 541.347656 L 295.796875 541.347656 L 295.796875 516.378906 L 294.683594 516.378906 Z M 295.796875 541.347656 L 296.910156 541.347656 L 296.910156 517.796875 L 295.796875 517.796875 Z M 296.910156 541.347656 L 298.023438 541.347656 L 298.023438 515.5 L 296.910156 515.5 Z M 298.023438 541.347656 L 299.136719 541.347656 L 299.136719 517.910156 L 298.023438 517.910156 Z M 299.136719 541.347656 L 300.253906 541.347656 L 300.253906 516.324219 L 299.136719 516.324219 Z M 299.136719 541.347656 \"/>\n",
       "</g>\n",
       "<g clip-path=\"url(#clip-1487623024713069-6)\" clip-rule=\"nonzero\">\n",
       "<path style=\"fill:none;stroke-width:0.3985;stroke-linecap:butt;stroke-linejoin:miter;stroke:rgb(0%,0%,100%);stroke-opacity:1;stroke-miterlimit:10;\" d=\"M -0.00046875 -0.00165625 L 1.112812 -0.00165625 L 1.112812 16.920219 L -0.00046875 16.920219 Z M 1.112812 -0.00165625 L 2.226094 -0.00165625 L 2.226094 16.521781 L 1.112812 16.521781 Z M 2.226094 -0.00165625 L 3.339375 -0.00165625 L 3.339375 16.123344 L 2.226094 16.123344 Z M 3.339375 -0.00165625 L 4.452656 -0.00165625 L 4.452656 16.521781 L 3.339375 16.521781 Z M 4.452656 -0.00165625 L 5.569844 -0.00165625 L 5.569844 15.670219 L 4.452656 15.670219 Z M 5.569844 -0.00165625 L 6.683125 -0.00165625 L 6.683125 14.849906 L 5.569844 14.849906 Z M 6.683125 -0.00165625 L 7.796406 -0.00165625 L 7.796406 16.154594 L 6.683125 16.154594 Z M 7.796406 -0.00165625 L 8.909687 -0.00165625 L 8.909687 15.615531 L 7.796406 15.615531 Z M 8.909687 -0.00165625 L 10.022969 -0.00165625 L 10.022969 16.096 L 8.909687 16.096 Z M 10.022969 -0.00165625 L 11.13625 -0.00165625 L 11.13625 17.713188 L 10.022969 17.713188 Z M 11.13625 -0.00165625 L 12.249531 -0.00165625 L 12.249531 15.756156 L 11.13625 15.756156 Z M 12.249531 -0.00165625 L 13.362812 -0.00165625 L 13.362812 15.955375 L 12.249531 15.955375 Z M 13.362812 -0.00165625 L 14.476094 -0.00165625 L 14.476094 15.217094 L 13.362812 15.217094 Z M 14.476094 -0.00165625 L 15.589375 -0.00165625 L 15.589375 16.4085 L 14.476094 16.4085 Z M 15.589375 -0.00165625 L 16.702656 -0.00165625 L 16.702656 16.748344 L 15.589375 16.748344 Z M 16.702656 -0.00165625 L 17.815937 -0.00165625 L 17.815937 16.806938 L 16.702656 16.806938 Z M 17.815937 -0.00165625 L 18.933125 -0.00165625 L 18.933125 16.521781 L 17.815937 16.521781 Z M 18.933125 -0.00165625 L 20.046406 -0.00165625 L 20.046406 15.642875 L 18.933125 15.642875 Z M 20.046406 -0.00165625 L 21.159687 -0.00165625 L 21.159687 16.463188 L 20.046406 16.463188 Z M 21.159687 -0.00165625 L 22.272969 -0.00165625 L 22.272969 16.349906 L 21.159687 16.349906 Z M 22.272969 -0.00165625 L 23.38625 -0.00165625 L 23.38625 15.474906 L 22.272969 15.474906 Z M 23.38625 -0.00165625 L 24.499531 -0.00165625 L 24.499531 17.342094 L 23.38625 17.342094 Z M 24.499531 -0.00165625 L 25.612812 -0.00165625 L 25.612812 16.662406 L 24.499531 16.662406 Z M 25.612812 -0.00165625 L 26.726094 -0.00165625 L 26.726094 17.513969 L 25.612812 17.513969 Z M 26.726094 -0.00165625 L 27.839375 -0.00165625 L 27.839375 14.763969 L 26.726094 14.763969 Z M 27.839375 -0.00165625 L 28.952656 -0.00165625 L 28.952656 16.267875 L 27.839375 16.267875 Z M 28.952656 -0.00165625 L 30.065937 -0.00165625 L 30.065937 15.869438 L 28.952656 15.869438 Z M 30.065937 -0.00165625 L 31.179219 -0.00165625 L 31.179219 17.513969 L 30.065937 17.513969 Z M 31.179219 -0.00165625 L 32.296406 -0.00165625 L 32.296406 16.381156 L 31.179219 16.381156 Z M 32.296406 -0.00165625 L 33.409687 -0.00165625 L 33.409687 17.088188 L 32.296406 17.088188 Z M 33.409687 -0.00165625 L 34.522969 -0.00165625 L 34.522969 15.701469 L 33.409687 15.701469 Z M 34.522969 -0.00165625 L 35.63625 -0.00165625 L 35.63625 14.170219 L 34.522969 14.170219 Z M 35.63625 -0.00165625 L 36.749531 -0.00165625 L 36.749531 15.049125 L 35.63625 15.049125 Z M 36.749531 -0.00165625 L 37.862812 -0.00165625 L 37.862812 17.342094 L 36.749531 17.342094 Z M 37.862812 -0.00165625 L 38.976094 -0.00165625 L 38.976094 14.736625 L 37.862812 14.736625 Z M 38.976094 -0.00165625 L 40.089375 -0.00165625 L 40.089375 15.982719 L 38.976094 15.982719 Z M 40.089375 -0.00165625 L 41.202656 -0.00165625 L 41.202656 17.342094 L 40.089375 17.342094 Z M 41.202656 -0.00165625 L 42.315937 -0.00165625 L 42.315937 15.670219 L 41.202656 15.670219 Z M 42.315937 -0.00165625 L 43.429219 -0.00165625 L 43.429219 16.494438 L 42.315937 16.494438 Z M 43.429219 -0.00165625 L 44.5425 -0.00165625 L 44.5425 16.123344 L 43.429219 16.123344 Z M 44.5425 -0.00165625 L 45.659687 -0.00165625 L 45.659687 16.549125 L 44.5425 16.549125 Z M 45.659687 -0.00165625 L 46.772969 -0.00165625 L 46.772969 17.740531 L 45.659687 17.740531 Z M 46.772969 -0.00165625 L 47.88625 -0.00165625 L 47.88625 16.209281 L 46.772969 16.209281 Z M 47.88625 -0.00165625 L 48.999531 -0.00165625 L 48.999531 16.068656 L 47.88625 16.068656 Z M 48.999531 -0.00165625 L 50.112812 -0.00165625 L 50.112812 16.576469 L 48.999531 16.576469 Z M 50.112812 -0.00165625 L 51.226094 -0.00165625 L 51.226094 14.935844 L 50.112812 14.935844 Z M 51.226094 -0.00165625 L 52.339375 -0.00165625 L 52.339375 16.349906 L 51.226094 16.349906 Z M 52.339375 -0.00165625 L 53.452656 -0.00165625 L 53.452656 15.103813 L 52.339375 15.103813 Z M 53.452656 -0.00165625 L 54.565937 -0.00165625 L 54.565937 15.529594 L 53.452656 15.529594 Z M 54.565937 -0.00165625 L 55.679219 -0.00165625 L 55.679219 15.7835 L 54.565937 15.7835 Z M 55.679219 -0.00165625 L 56.7925 -0.00165625 L 56.7925 16.494438 L 55.679219 16.494438 Z M 56.7925 -0.00165625 L 57.905781 -0.00165625 L 57.905781 16.267875 L 56.7925 16.267875 Z M 57.905781 -0.00165625 L 59.022969 -0.00165625 L 59.022969 16.041313 L 57.905781 16.041313 Z M 59.022969 -0.00165625 L 60.13625 -0.00165625 L 60.13625 16.096 L 59.022969 16.096 Z M 60.13625 -0.00165625 L 61.249531 -0.00165625 L 61.249531 16.494438 L 60.13625 16.494438 Z M 61.249531 -0.00165625 L 62.362812 -0.00165625 L 62.362812 15.443656 L 61.249531 15.443656 Z M 62.362812 -0.00165625 L 63.476094 -0.00165625 L 63.476094 17.088188 L 62.362812 17.088188 Z M 63.476094 -0.00165625 L 64.589375 -0.00165625 L 64.589375 15.896781 L 63.476094 15.896781 Z M 64.589375 -0.00165625 L 65.702656 -0.00165625 L 65.702656 14.963188 L 64.589375 14.963188 Z M 65.702656 -0.00165625 L 66.815937 -0.00165625 L 66.815937 17.31475 L 65.702656 17.31475 Z M 66.815937 -0.00165625 L 67.929219 -0.00165625 L 67.929219 16.693656 L 66.815937 16.693656 Z M 67.929219 -0.00165625 L 69.0425 -0.00165625 L 69.0425 16.181938 L 67.929219 16.181938 Z M 69.0425 -0.00165625 L 70.155781 -0.00165625 L 70.155781 16.576469 L 69.0425 16.576469 Z M 70.155781 -0.00165625 L 71.269062 -0.00165625 L 71.269062 17.174125 L 70.155781 17.174125 Z M 71.269062 -0.00165625 L 72.38625 -0.00165625 L 72.38625 16.834281 L 71.269062 16.834281 Z M 72.38625 -0.00165625 L 73.499531 -0.00165625 L 73.499531 17.088188 L 72.38625 17.088188 Z M 73.499531 -0.00165625 L 74.612812 -0.00165625 L 74.612812 15.217094 L 73.499531 15.217094 Z M 74.612812 -0.00165625 L 75.726094 -0.00165625 L 75.726094 15.842094 L 74.612812 15.842094 Z M 75.726094 -0.00165625 L 76.839375 -0.00165625 L 76.839375 15.588188 L 75.726094 15.588188 Z M 76.839375 -0.00165625 L 77.952656 -0.00165625 L 77.952656 16.181938 L 76.839375 16.181938 Z M 77.952656 -0.00165625 L 79.065937 -0.00165625 L 79.065937 16.236625 L 77.952656 16.236625 Z M 79.065937 -0.00165625 L 80.179219 -0.00165625 L 80.179219 16.4085 L 79.065937 16.4085 Z M 80.179219 -0.00165625 L 81.2925 -0.00165625 L 81.2925 16.4085 L 80.179219 16.4085 Z M 81.2925 -0.00165625 L 82.405781 -0.00165625 L 82.405781 15.982719 L 81.2925 15.982719 Z M 82.405781 -0.00165625 L 83.519062 -0.00165625 L 83.519062 15.330375 L 82.405781 15.330375 Z M 83.519062 -0.00165625 L 84.632344 -0.00165625 L 84.632344 16.154594 L 83.519062 16.154594 Z M 84.632344 -0.00165625 L 85.749531 -0.00165625 L 85.749531 15.529594 L 84.632344 15.529594 Z M 85.749531 -0.00165625 L 86.862812 -0.00165625 L 86.862812 16.381156 L 85.749531 16.381156 Z M 86.862812 -0.00165625 L 87.976094 -0.00165625 L 87.976094 15.896781 L 86.862812 15.896781 Z M 87.976094 -0.00165625 L 89.089375 -0.00165625 L 89.089375 16.123344 L 87.976094 16.123344 Z M 89.089375 -0.00165625 L 90.202656 -0.00165625 L 90.202656 17.31475 L 89.089375 17.31475 Z M 90.202656 -0.00165625 L 91.315937 -0.00165625 L 91.315937 15.131156 L 90.202656 15.131156 Z M 91.315937 -0.00165625 L 92.429219 -0.00165625 L 92.429219 17.853813 L 91.315937 17.853813 Z M 92.429219 -0.00165625 L 93.5425 -0.00165625 L 93.5425 17.31475 L 92.429219 17.31475 Z M 93.5425 -0.00165625 L 94.655781 -0.00165625 L 94.655781 17.00225 L 93.5425 17.00225 Z M 94.655781 -0.00165625 L 95.769062 -0.00165625 L 95.769062 16.920219 L 94.655781 16.920219 Z M 95.769062 -0.00165625 L 96.882344 -0.00165625 L 96.882344 15.248344 L 95.769062 15.248344 Z M 96.882344 -0.00165625 L 97.995625 -0.00165625 L 97.995625 15.756156 L 96.882344 15.756156 Z M 97.995625 -0.00165625 L 99.112812 -0.00165625 L 99.112812 37.521781 L 97.995625 37.521781 Z M 99.112812 -0.00165625 L 100.226094 -0.00165625 L 100.226094 153.513969 L 99.112812 153.513969 Z M 100.226094 -0.00165625 L 101.339375 -0.00165625 L 101.339375 157.138969 L 100.226094 157.138969 Z M 101.339375 -0.00165625 L 102.452656 -0.00165625 L 102.452656 157.478813 L 101.339375 157.478813 Z M 102.452656 -0.00165625 L 103.565937 -0.00165625 L 103.565937 158.529594 L 102.452656 158.529594 Z M 103.565937 -0.00165625 L 104.679219 -0.00165625 L 104.679219 158.842094 L 103.565937 158.842094 Z M 104.679219 -0.00165625 L 105.7925 -0.00165625 L 105.7925 156.971 L 104.679219 156.971 Z M 105.7925 -0.00165625 L 106.905781 -0.00165625 L 106.905781 161.420219 L 105.7925 161.420219 Z M 106.905781 -0.00165625 L 108.019062 -0.00165625 L 108.019062 158.584281 L 106.905781 158.584281 Z M 108.019062 -0.00165625 L 109.132344 -0.00165625 L 109.132344 159.322563 L 108.019062 159.322563 Z M 109.132344 -0.00165625 L 110.245625 -0.00165625 L 110.245625 155.892875 L 109.132344 155.892875 Z M 110.245625 -0.00165625 L 111.358906 -0.00165625 L 111.358906 161.135063 L 110.245625 161.135063 Z M 111.358906 -0.00165625 L 112.476094 -0.00165625 L 112.476094 159.037406 L 111.358906 159.037406 Z M 112.476094 -0.00165625 L 113.589375 -0.00165625 L 113.589375 156.6585 L 112.476094 156.6585 Z M 113.589375 -0.00165625 L 114.702656 -0.00165625 L 114.702656 162.666313 L 113.589375 162.666313 Z M 114.702656 -0.00165625 L 115.815937 -0.00165625 L 115.815937 155.920219 L 114.702656 155.920219 Z M 115.815937 -0.00165625 L 116.929219 -0.00165625 L 116.929219 155.978813 L 115.815937 155.978813 Z M 116.929219 -0.00165625 L 118.0425 -0.00165625 L 118.0425 202.510063 L 116.929219 202.510063 Z M 118.0425 -0.00165625 L 119.155781 -0.00165625 L 119.155781 216.482719 L 118.0425 216.482719 Z M 119.155781 -0.00165625 L 120.269062 -0.00165625 L 120.269062 210.900688 L 119.155781 210.900688 Z M 120.269062 -0.00165625 L 121.382344 -0.00165625 L 121.382344 212.119438 L 120.269062 212.119438 Z M 121.382344 -0.00165625 L 122.495625 -0.00165625 L 122.495625 214.471 L 121.382344 214.471 Z M 122.495625 -0.00165625 L 123.608906 -0.00165625 L 123.608906 210.955375 L 122.495625 210.955375 Z M 123.608906 -0.00165625 L 124.722187 -0.00165625 L 124.722187 213.279594 L 123.608906 213.279594 Z M 124.722187 -0.00165625 L 125.839375 -0.00165625 L 125.839375 213.931938 L 124.722187 213.931938 Z M 125.839375 -0.00165625 L 126.952656 -0.00165625 L 126.952656 212.0335 L 125.839375 212.0335 Z M 126.952656 -0.00165625 L 128.065937 -0.00165625 L 128.065937 216.935844 L 126.952656 216.935844 Z M 128.065937 -0.00165625 L 129.179219 -0.00165625 L 129.179219 211.43975 L 128.065937 211.43975 Z M 129.179219 -0.00165625 L 130.2925 -0.00165625 L 130.2925 215.943656 L 129.179219 215.943656 Z M 130.2925 -0.00165625 L 131.405781 -0.00165625 L 131.405781 212.373344 L 130.2925 212.373344 Z M 131.405781 -0.00165625 L 132.519062 -0.00165625 L 132.519062 211.295219 L 131.405781 211.295219 Z M 132.519062 -0.00165625 L 133.632344 -0.00165625 L 133.632344 208.463188 L 132.519062 208.463188 Z M 133.632344 -0.00165625 L 134.745625 -0.00165625 L 134.745625 97.912406 L 133.632344 97.912406 Z M 134.745625 -0.00165625 L 135.858906 -0.00165625 L 135.858906 90.119438 L 134.745625 90.119438 Z M 135.858906 -0.00165625 L 136.972187 -0.00165625 L 136.972187 92.724906 L 135.858906 92.724906 Z M 136.972187 -0.00165625 L 138.085469 -0.00165625 L 138.085469 91.365531 L 136.972187 91.365531 Z M 138.085469 -0.00165625 L 139.202656 -0.00165625 L 139.202656 91.931938 L 138.085469 91.931938 Z M 139.202656 -0.00165625 L 140.315937 -0.00165625 L 140.315937 89.580375 L 139.202656 89.580375 Z M 140.315937 -0.00165625 L 141.429219 -0.00165625 L 141.429219 89.4085 L 140.315937 89.4085 Z M 141.429219 -0.00165625 L 142.5425 -0.00165625 L 142.5425 89.4085 L 141.429219 89.4085 Z M 142.5425 -0.00165625 L 143.655781 -0.00165625 L 143.655781 89.806938 L 142.5425 89.806938 Z M 143.655781 -0.00165625 L 144.769062 -0.00165625 L 144.769062 89.381156 L 143.655781 89.381156 Z M 144.769062 -0.00165625 L 145.882344 -0.00165625 L 145.882344 88.361625 L 144.769062 88.361625 Z M 145.882344 -0.00165625 L 146.995625 -0.00165625 L 146.995625 90.060844 L 145.882344 90.060844 Z M 146.995625 -0.00165625 L 148.108906 -0.00165625 L 148.108906 89.013969 L 146.995625 89.013969 Z M 148.108906 -0.00165625 L 149.222187 -0.00165625 L 149.222187 88.18975 L 148.108906 88.18975 Z M 149.222187 -0.00165625 L 150.335469 -0.00165625 L 150.335469 90.346 L 149.222187 90.346 Z M 150.335469 -0.00165625 L 151.44875 -0.00165625 L 151.44875 88.986625 L 150.335469 88.986625 Z M 151.44875 -0.00165625 L 152.565937 -0.00165625 L 152.565937 93.435844 L 151.44875 93.435844 Z M 152.565937 -0.00165625 L 153.679219 -0.00165625 L 153.679219 92.471 L 152.565937 92.471 Z M 153.679219 -0.00165625 L 154.7925 -0.00165625 L 154.7925 88.021781 L 153.679219 88.021781 Z M 154.7925 -0.00165625 L 155.905781 -0.00165625 L 155.905781 90.545219 L 154.7925 90.545219 Z M 155.905781 -0.00165625 L 157.019062 -0.00165625 L 157.019062 89.267875 L 155.905781 89.267875 Z M 157.019062 -0.00165625 L 158.132344 -0.00165625 L 158.132344 88.615531 L 157.019062 88.615531 Z M 158.132344 -0.00165625 L 159.245625 -0.00165625 L 159.245625 88.756156 L 158.132344 88.756156 Z M 159.245625 -0.00165625 L 160.358906 -0.00165625 L 160.358906 88.674125 L 159.245625 88.674125 Z M 160.358906 -0.00165625 L 161.472187 -0.00165625 L 161.472187 92.244438 L 160.358906 92.244438 Z M 161.472187 -0.00165625 L 162.585469 -0.00165625 L 162.585469 44.181938 L 161.472187 44.181938 Z M 162.585469 -0.00165625 L 163.69875 -0.00165625 L 163.69875 25.193656 L 162.585469 25.193656 Z M 163.69875 -0.00165625 L 164.812031 -0.00165625 L 164.812031 24.795219 L 163.69875 24.795219 Z M 164.812031 -0.00165625 L 165.929219 -0.00165625 L 165.929219 24.681938 L 164.812031 24.681938 Z M 165.929219 -0.00165625 L 167.0425 -0.00165625 L 167.0425 24.826469 L 165.929219 24.826469 Z M 167.0425 -0.00165625 L 168.155781 -0.00165625 L 168.155781 24.00225 L 167.0425 24.00225 Z M 168.155781 -0.00165625 L 169.269062 -0.00165625 L 169.269062 23.803031 L 168.155781 23.803031 Z M 169.269062 -0.00165625 L 170.382344 -0.00165625 L 170.382344 25.221 L 169.269062 25.221 Z M 170.382344 -0.00165625 L 171.495625 -0.00165625 L 171.495625 24.088188 L 170.382344 24.088188 Z M 171.495625 -0.00165625 L 172.608906 -0.00165625 L 172.608906 25.447563 L 171.495625 25.447563 Z M 172.608906 -0.00165625 L 173.722187 -0.00165625 L 173.722187 24.342094 L 172.608906 24.342094 Z M 173.722187 -0.00165625 L 174.835469 -0.00165625 L 174.835469 24.428031 L 173.722187 24.428031 Z M 174.835469 -0.00165625 L 175.94875 -0.00165625 L 175.94875 25.760063 L 174.835469 25.760063 Z M 175.94875 -0.00165625 L 177.062031 -0.00165625 L 177.062031 23.435844 L 175.94875 23.435844 Z M 177.062031 -0.00165625 L 178.175312 -0.00165625 L 178.175312 23.68975 L 177.062031 23.68975 Z M 178.175312 -0.00165625 L 179.2925 -0.00165625 L 179.2925 25.619438 L 178.175312 25.619438 Z M 179.2925 -0.00165625 L 180.405781 -0.00165625 L 180.405781 23.861625 L 179.2925 23.861625 Z M 180.405781 -0.00165625 L 181.519062 -0.00165625 L 181.519062 24.31475 L 180.405781 24.31475 Z M 181.519062 -0.00165625 L 182.632344 -0.00165625 L 182.632344 23.947563 L 181.519062 23.947563 Z M 182.632344 -0.00165625 L 183.745625 -0.00165625 L 183.745625 24.228813 L 182.632344 24.228813 Z M 183.745625 -0.00165625 L 184.858906 -0.00165625 L 184.858906 25.107719 L 183.745625 25.107719 Z M 184.858906 -0.00165625 L 185.972187 -0.00165625 L 185.972187 25.334281 L 184.858906 25.334281 Z M 185.972187 -0.00165625 L 187.085469 -0.00165625 L 187.085469 25.592094 L 185.972187 25.592094 Z M 187.085469 -0.00165625 L 188.19875 -0.00165625 L 188.19875 23.68975 L 187.085469 23.68975 Z M 188.19875 -0.00165625 L 189.312031 -0.00165625 L 189.312031 24.681938 L 188.19875 24.681938 Z M 189.312031 -0.00165625 L 190.425312 -0.00165625 L 190.425312 25.166313 L 189.312031 25.166313 Z M 190.425312 -0.00165625 L 191.538594 -0.00165625 L 191.538594 24.767875 L 190.425312 24.767875 Z M 191.538594 -0.00165625 L 192.655781 -0.00165625 L 192.655781 25.166313 L 191.538594 25.166313 Z M 192.655781 -0.00165625 L 193.769062 -0.00165625 L 193.769062 25.873344 L 192.655781 25.873344 Z M 193.769062 -0.00165625 L 194.882344 -0.00165625 L 194.882344 24.826469 L 193.769062 24.826469 Z M 194.882344 -0.00165625 L 195.995625 -0.00165625 L 195.995625 23.803031 L 194.882344 23.803031 Z M 195.995625 -0.00165625 L 197.108906 -0.00165625 L 197.108906 26.213188 L 195.995625 26.213188 Z M 197.108906 -0.00165625 L 198.222187 -0.00165625 L 198.222187 26.271781 L 197.108906 26.271781 Z M 198.222187 -0.00165625 L 199.335469 -0.00165625 L 199.335469 24.93975 L 198.222187 24.93975 Z M 199.335469 -0.00165625 L 200.44875 -0.00165625 L 200.44875 26.353813 L 199.335469 26.353813 Z M 200.44875 -0.00165625 L 201.562031 -0.00165625 L 201.562031 24.260063 L 200.44875 24.260063 Z M 201.562031 -0.00165625 L 202.675312 -0.00165625 L 202.675312 24.740531 L 201.562031 24.740531 Z M 202.675312 -0.00165625 L 203.788594 -0.00165625 L 203.788594 24.713188 L 202.675312 24.713188 Z M 203.788594 -0.00165625 L 204.901875 -0.00165625 L 204.901875 24.853813 L 203.788594 24.853813 Z M 204.901875 -0.00165625 L 206.019062 -0.00165625 L 206.019062 25.506156 L 204.901875 25.506156 Z M 206.019062 -0.00165625 L 207.132344 -0.00165625 L 207.132344 23.916313 L 206.019062 23.916313 Z M 207.132344 -0.00165625 L 208.245625 -0.00165625 L 208.245625 25.592094 L 207.132344 25.592094 Z M 208.245625 -0.00165625 L 209.358906 -0.00165625 L 209.358906 23.916313 L 208.245625 23.916313 Z M 209.358906 -0.00165625 L 210.472187 -0.00165625 L 210.472187 24.373344 L 209.358906 24.373344 Z M 210.472187 -0.00165625 L 211.585469 -0.00165625 L 211.585469 24.9085 L 210.472187 24.9085 Z M 211.585469 -0.00165625 L 212.69875 -0.00165625 L 212.69875 25.279594 L 211.585469 25.279594 Z M 212.69875 -0.00165625 L 213.812031 -0.00165625 L 213.812031 26.045219 L 212.69875 26.045219 Z M 213.812031 -0.00165625 L 214.925312 -0.00165625 L 214.925312 24.9085 L 213.812031 24.9085 Z M 214.925312 -0.00165625 L 216.038594 -0.00165625 L 216.038594 24.541313 L 214.925312 24.541313 Z M 216.038594 -0.00165625 L 217.151875 -0.00165625 L 217.151875 24.713188 L 216.038594 24.713188 Z M 217.151875 -0.00165625 L 218.265156 -0.00165625 L 218.265156 26.271781 L 217.151875 26.271781 Z M 218.265156 -0.00165625 L 219.382344 -0.00165625 L 219.382344 23.888969 L 218.265156 23.888969 Z M 219.382344 -0.00165625 L 220.495625 -0.00165625 L 220.495625 22.588188 L 219.382344 22.588188 Z M 220.495625 -0.00165625 L 221.608906 -0.00165625 L 221.608906 23.435844 L 220.495625 23.435844 Z M 221.608906 -0.00165625 L 222.722187 -0.00165625 L 222.722187 24.767875 L 221.608906 24.767875 Z M 222.722187 -0.00165625 L 223.835469 -0.00165625 L 223.835469 24.654594 L 222.722187 24.654594 Z M 223.835469 -0.00165625 L 224.94875 -0.00165625 L 224.94875 25.846 L 223.835469 25.846 Z M 224.94875 -0.00165625 L 226.062031 -0.00165625 L 226.062031 24.455375 L 224.94875 24.455375 Z M 226.062031 -0.00165625 L 227.175312 -0.00165625 L 227.175312 24.568656 L 226.062031 24.568656 Z M 227.175312 -0.00165625 L 228.288594 -0.00165625 L 228.288594 23.721 L 227.175312 23.721 Z M 228.288594 -0.00165625 L 229.401875 -0.00165625 L 229.401875 24.541313 L 228.288594 24.541313 Z M 229.401875 -0.00165625 L 230.515156 -0.00165625 L 230.515156 25.560844 L 229.401875 25.560844 Z M 230.515156 -0.00165625 L 231.628437 -0.00165625 L 231.628437 24.541313 L 230.515156 24.541313 Z M 231.628437 -0.00165625 L 232.745625 -0.00165625 L 232.745625 25.080375 L 231.628437 25.080375 Z M 232.745625 -0.00165625 L 233.858906 -0.00165625 L 233.858906 23.861625 L 232.745625 23.861625 Z M 233.858906 -0.00165625 L 234.972187 -0.00165625 L 234.972187 25.646781 L 233.858906 25.646781 Z M 234.972187 -0.00165625 L 236.085469 -0.00165625 L 236.085469 24.260063 L 234.972187 24.260063 Z M 236.085469 -0.00165625 L 237.19875 -0.00165625 L 237.19875 24.513969 L 236.085469 24.513969 Z M 237.19875 -0.00165625 L 238.312031 -0.00165625 L 238.312031 24.853813 L 237.19875 24.853813 Z M 238.312031 -0.00165625 L 239.425312 -0.00165625 L 239.425312 25.592094 L 238.312031 25.592094 Z M 239.425312 -0.00165625 L 240.538594 -0.00165625 L 240.538594 24.994438 L 239.425312 24.994438 Z M 240.538594 -0.00165625 L 241.651875 -0.00165625 L 241.651875 24.967094 L 240.538594 24.967094 Z M 241.651875 -0.00165625 L 242.765156 -0.00165625 L 242.765156 23.549125 L 241.651875 23.549125 Z M 242.765156 -0.00165625 L 243.878437 -0.00165625 L 243.878437 25.846 L 242.765156 25.846 Z M 243.878437 -0.00165625 L 244.991719 -0.00165625 L 244.991719 23.435844 L 243.878437 23.435844 Z M 244.991719 -0.00165625 L 246.108906 -0.00165625 L 246.108906 25.021781 L 244.991719 25.021781 Z M 244.991719 -0.00165625 \" transform=\"matrix(1,0,0,-1,54.145,541.346)\"/>\n",
       "</g>\n",
       "<g style=\"fill:rgb(0%,0%,0%);fill-opacity:1;\">\n",
       "  <use xlink:href=\"#glyph-1487623024713069-1-23\" x=\"159.624\" y=\"291.28\"/>\n",
       "</g>\n",
       "<g style=\"fill:rgb(0%,0%,0%);fill-opacity:1;\">\n",
       "  <use xlink:href=\"#glyph-1487623024713069-1-10\" x=\"166.269081\" y=\"291.28\"/>\n",
       "  <use xlink:href=\"#glyph-1487623024713069-1-18\" x=\"170.696478\" y=\"291.28\"/>\n",
       "  <use xlink:href=\"#glyph-1487623024713069-1-16\" x=\"173.464099\" y=\"291.28\"/>\n",
       "</g>\n",
       "<g style=\"fill:rgb(0%,0%,0%);fill-opacity:1;\">\n",
       "  <use xlink:href=\"#glyph-1487623024713069-1-24\" x=\"178.714411\" y=\"291.28\"/>\n",
       "  <use xlink:href=\"#glyph-1487623024713069-1-8\" x=\"183.141808\" y=\"291.28\"/>\n",
       "  <use xlink:href=\"#glyph-1487623024713069-1-15\" x=\"185.909429\" y=\"291.28\"/>\n",
       "</g>\n",
       "<g style=\"fill:rgb(0%,0%,0%);fill-opacity:1;\">\n",
       "  <use xlink:href=\"#glyph-1487623024713069-1-25\" x=\"189.514909\" y=\"291.28\"/>\n",
       "</g>\n",
       "<path style=\"fill:none;stroke-width:0.19925;stroke-linecap:butt;stroke-linejoin:miter;stroke:rgb(50%,50%,50%);stroke-opacity:1;stroke-miterlimit:10;\" d=\"M -21.204625 -0.00175 L -21.204625 4.252156 M -21.204625 238.631062 L -21.204625 234.381062 M 6.381313 -0.00175 L 6.381313 4.252156 M 6.381313 238.631062 L 6.381313 234.381062 M 33.971156 -0.00175 L 33.971156 4.252156 M 33.971156 238.631062 L 33.971156 234.381062 M 61.561 -0.00175 L 61.561 4.252156 M 61.561 238.631062 L 61.561 234.381062 M 89.146938 -0.00175 L 89.146938 4.252156 M 89.146938 238.631062 L 89.146938 234.381062 M 116.736781 -0.00175 L 116.736781 4.252156 M 116.736781 238.631062 L 116.736781 234.381062 M 144.326625 -0.00175 L 144.326625 4.252156 M 144.326625 238.631062 L 144.326625 234.381062 M 171.912563 -0.00175 L 171.912563 4.252156 M 171.912563 238.631062 L 171.912563 234.381062 M 199.502406 -0.00175 L 199.502406 4.252156 M 199.502406 238.631062 L 199.502406 234.381062 M 227.09225 -0.00175 L 227.09225 4.252156 M 227.09225 238.631062 L 227.09225 234.381062 M 254.678188 -0.00175 L 254.678188 4.252156 M 254.678188 238.631062 L 254.678188 234.381062 \" transform=\"matrix(1,0,0,-1,401.314,541.342)\"/>\n",
       "<g clip-path=\"url(#clip-1487623024713069-7)\" clip-rule=\"nonzero\">\n",
       "<path style=\"fill:none;stroke-width:0.19925;stroke-linecap:butt;stroke-linejoin:miter;stroke:rgb(50%,50%,50%);stroke-opacity:1;stroke-miterlimit:10;\" d=\"M -26.849156 -0.00175 L -22.59525 -0.00175 M 268.475063 -0.00175 L 264.221156 -0.00175 M -26.849156 51.236531 L -22.59525 51.236531 M 268.475063 51.236531 L 264.221156 51.236531 M -26.849156 102.474812 L -22.59525 102.474812 M 268.475063 102.474812 L 264.221156 102.474812 M -26.849156 153.709187 L -22.59525 153.709187 M 268.475063 153.709187 L 264.221156 153.709187 M -26.849156 204.947469 L -22.59525 204.947469 M 268.475063 204.947469 L 264.221156 204.947469 \" transform=\"matrix(1,0,0,-1,401.314,541.342)\"/>\n",
       "</g>\n",
       "<g clip-path=\"url(#clip-1487623024713069-8)\" clip-rule=\"nonzero\">\n",
       "<path style=\"fill:none;stroke-width:0.3985;stroke-linecap:butt;stroke-linejoin:miter;stroke:rgb(0%,0%,0%);stroke-opacity:1;stroke-miterlimit:10;\" d=\"M -26.849156 -0.00175 L -26.849156 238.631062 L 268.475063 238.631062 L 268.475063 -0.00175 Z M -26.849156 -0.00175 \" transform=\"matrix(1,0,0,-1,401.314,541.342)\"/>\n",
       "</g>\n",
       "<g style=\"fill:rgb(0%,0%,0%);fill-opacity:1;\">\n",
       "  <use xlink:href=\"#glyph-1487623024713069-0-1\" x=\"371.252\" y=\"551.282\"/>\n",
       "</g>\n",
       "<g style=\"fill:rgb(0%,0%,0%);fill-opacity:1;\">\n",
       "  <use xlink:href=\"#glyph-1487623024713069-1-6\" x=\"379.001\" y=\"551.282\"/>\n",
       "  <use xlink:href=\"#glyph-1487623024713069-1-3\" x=\"383.98232\" y=\"551.282\"/>\n",
       "</g>\n",
       "<g style=\"fill:rgb(0%,0%,0%);fill-opacity:1;\">\n",
       "  <use xlink:href=\"#glyph-1487623024713069-1-3\" x=\"405.205\" y=\"551.282\"/>\n",
       "</g>\n",
       "<g style=\"fill:rgb(0%,0%,0%);fill-opacity:1;\">\n",
       "  <use xlink:href=\"#glyph-1487623024713069-1-6\" x=\"430.303\" y=\"551.282\"/>\n",
       "  <use xlink:href=\"#glyph-1487623024713069-1-3\" x=\"435.28432\" y=\"551.282\"/>\n",
       "</g>\n",
       "<g style=\"fill:rgb(0%,0%,0%);fill-opacity:1;\">\n",
       "  <use xlink:href=\"#glyph-1487623024713069-1-2\" x=\"457.891\" y=\"551.282\"/>\n",
       "  <use xlink:href=\"#glyph-1487623024713069-1-3\" x=\"462.87232\" y=\"551.282\"/>\n",
       "</g>\n",
       "<g style=\"fill:rgb(0%,0%,0%);fill-opacity:1;\">\n",
       "  <use xlink:href=\"#glyph-1487623024713069-1-21\" x=\"485.479\" y=\"551.282\"/>\n",
       "  <use xlink:href=\"#glyph-1487623024713069-1-3\" x=\"490.46032\" y=\"551.282\"/>\n",
       "</g>\n",
       "<g style=\"fill:rgb(0%,0%,0%);fill-opacity:1;\">\n",
       "  <use xlink:href=\"#glyph-1487623024713069-1-1\" x=\"513.067\" y=\"551.282\"/>\n",
       "  <use xlink:href=\"#glyph-1487623024713069-1-3\" x=\"518.04832\" y=\"551.282\"/>\n",
       "</g>\n",
       "<g style=\"fill:rgb(0%,0%,0%);fill-opacity:1;\">\n",
       "  <use xlink:href=\"#glyph-1487623024713069-1-14\" x=\"540.656\" y=\"551.282\"/>\n",
       "  <use xlink:href=\"#glyph-1487623024713069-1-3\" x=\"545.63732\" y=\"551.282\"/>\n",
       "</g>\n",
       "<g style=\"fill:rgb(0%,0%,0%);fill-opacity:1;\">\n",
       "  <use xlink:href=\"#glyph-1487623024713069-1-4\" x=\"568.244\" y=\"551.282\"/>\n",
       "  <use xlink:href=\"#glyph-1487623024713069-1-3\" x=\"573.22532\" y=\"551.282\"/>\n",
       "</g>\n",
       "<g style=\"fill:rgb(0%,0%,0%);fill-opacity:1;\">\n",
       "  <use xlink:href=\"#glyph-1487623024713069-1-22\" x=\"595.832\" y=\"551.282\"/>\n",
       "  <use xlink:href=\"#glyph-1487623024713069-1-3\" x=\"600.81332\" y=\"551.282\"/>\n",
       "</g>\n",
       "<g style=\"fill:rgb(0%,0%,0%);fill-opacity:1;\">\n",
       "  <use xlink:href=\"#glyph-1487623024713069-1-5\" x=\"623.42\" y=\"551.282\"/>\n",
       "  <use xlink:href=\"#glyph-1487623024713069-1-3\" x=\"628.40132\" y=\"551.282\"/>\n",
       "</g>\n",
       "<g style=\"fill:rgb(0%,0%,0%);fill-opacity:1;\">\n",
       "  <use xlink:href=\"#glyph-1487623024713069-1-26\" x=\"651.008\" y=\"551.282\"/>\n",
       "  <use xlink:href=\"#glyph-1487623024713069-1-3\" x=\"655.98932\" y=\"551.282\"/>\n",
       "</g>\n",
       "<g style=\"fill:rgb(0%,0%,0%);fill-opacity:1;\">\n",
       "  <use xlink:href=\"#glyph-1487623024713069-1-3\" x=\"365.964\" y=\"544.552\"/>\n",
       "</g>\n",
       "<g style=\"fill:rgb(0%,0%,0%);fill-opacity:1;\">\n",
       "  <use xlink:href=\"#glyph-1487623024713069-1-2\" x=\"348.253\" y=\"492.348\"/>\n",
       "</g>\n",
       "<g style=\"fill:rgb(0%,0%,0%);fill-opacity:1;\">\n",
       "  <use xlink:href=\"#glyph-1487623024713069-2-2\" x=\"353.234\" y=\"492.348\"/>\n",
       "</g>\n",
       "<g style=\"fill:rgb(0%,0%,0%);fill-opacity:1;\">\n",
       "  <use xlink:href=\"#glyph-1487623024713069-1-3\" x=\"356.002\" y=\"492.348\"/>\n",
       "  <use xlink:href=\"#glyph-1487623024713069-1-3\" x=\"360.98332\" y=\"492.348\"/>\n",
       "  <use xlink:href=\"#glyph-1487623024713069-1-3\" x=\"365.96464\" y=\"492.348\"/>\n",
       "</g>\n",
       "<g style=\"fill:rgb(0%,0%,0%);fill-opacity:1;\">\n",
       "  <use xlink:href=\"#glyph-1487623024713069-1-1\" x=\"348.253\" y=\"441.112\"/>\n",
       "</g>\n",
       "<g style=\"fill:rgb(0%,0%,0%);fill-opacity:1;\">\n",
       "  <use xlink:href=\"#glyph-1487623024713069-2-2\" x=\"353.234\" y=\"441.112\"/>\n",
       "</g>\n",
       "<g style=\"fill:rgb(0%,0%,0%);fill-opacity:1;\">\n",
       "  <use xlink:href=\"#glyph-1487623024713069-1-3\" x=\"356.002\" y=\"441.112\"/>\n",
       "  <use xlink:href=\"#glyph-1487623024713069-1-3\" x=\"360.98332\" y=\"441.112\"/>\n",
       "  <use xlink:href=\"#glyph-1487623024713069-1-3\" x=\"365.96464\" y=\"441.112\"/>\n",
       "</g>\n",
       "<g style=\"fill:rgb(0%,0%,0%);fill-opacity:1;\">\n",
       "  <use xlink:href=\"#glyph-1487623024713069-1-4\" x=\"348.253\" y=\"389.875\"/>\n",
       "</g>\n",
       "<g style=\"fill:rgb(0%,0%,0%);fill-opacity:1;\">\n",
       "  <use xlink:href=\"#glyph-1487623024713069-2-2\" x=\"353.234\" y=\"389.875\"/>\n",
       "</g>\n",
       "<g style=\"fill:rgb(0%,0%,0%);fill-opacity:1;\">\n",
       "  <use xlink:href=\"#glyph-1487623024713069-1-3\" x=\"356.002\" y=\"389.875\"/>\n",
       "  <use xlink:href=\"#glyph-1487623024713069-1-3\" x=\"360.98332\" y=\"389.875\"/>\n",
       "  <use xlink:href=\"#glyph-1487623024713069-1-3\" x=\"365.96464\" y=\"389.875\"/>\n",
       "</g>\n",
       "<g style=\"fill:rgb(0%,0%,0%);fill-opacity:1;\">\n",
       "  <use xlink:href=\"#glyph-1487623024713069-1-5\" x=\"348.253\" y=\"338.639\"/>\n",
       "</g>\n",
       "<g style=\"fill:rgb(0%,0%,0%);fill-opacity:1;\">\n",
       "  <use xlink:href=\"#glyph-1487623024713069-2-2\" x=\"353.234\" y=\"338.639\"/>\n",
       "</g>\n",
       "<g style=\"fill:rgb(0%,0%,0%);fill-opacity:1;\">\n",
       "  <use xlink:href=\"#glyph-1487623024713069-1-3\" x=\"356.002\" y=\"338.639\"/>\n",
       "  <use xlink:href=\"#glyph-1487623024713069-1-3\" x=\"360.98332\" y=\"338.639\"/>\n",
       "  <use xlink:href=\"#glyph-1487623024713069-1-3\" x=\"365.96464\" y=\"338.639\"/>\n",
       "</g>\n",
       "<g clip-path=\"url(#clip-1487623024713069-9)\" clip-rule=\"nonzero\">\n",
       "<path style=\"fill-rule:nonzero;fill:rgb(89.99939%,89.99939%,100%);fill-opacity:1;stroke-width:0.3985;stroke-linecap:butt;stroke-linejoin:miter;stroke:rgb(0%,0%,100%);stroke-opacity:1;stroke-miterlimit:10;\" d=\"M -0.0015 -0.00175 L 1.549281 -0.00175 L 1.549281 146.896687 L -0.0015 146.896687 Z M 1.549281 -0.00175 L 3.100063 -0.00175 L 3.100063 148.482625 L 1.549281 148.482625 Z M 3.100063 -0.00175 L 4.65475 -0.00175 L 4.65475 148.740437 L 3.100063 148.740437 Z M 4.65475 -0.00175 L 6.205531 -0.00175 L 6.205531 147.228719 L 4.65475 147.228719 Z M 6.205531 -0.00175 L 7.756313 -0.00175 L 7.756313 147.611531 L 6.205531 147.611531 Z M 7.756313 -0.00175 L 9.307094 -0.00175 L 9.307094 146.99825 L 7.756313 146.99825 Z M 9.307094 -0.00175 L 10.857875 -0.00175 L 10.857875 145.43575 L 9.307094 145.43575 Z M 10.857875 -0.00175 L 12.408656 -0.00175 L 12.408656 147.127156 L 10.857875 147.127156 Z M 12.408656 -0.00175 L 13.959438 -0.00175 L 13.959438 148.842 L 12.408656 148.842 Z M 13.959438 -0.00175 L 15.510219 -0.00175 L 15.510219 145.689656 L 13.959438 145.689656 Z M 15.510219 -0.00175 L 17.061 -0.00175 L 17.061 149.302937 L 15.510219 149.302937 Z M 17.061 -0.00175 L 18.611781 -0.00175 L 18.611781 147.228719 L 17.061 147.228719 Z M 18.611781 -0.00175 L 20.162563 -0.00175 L 20.162563 146.896687 L 18.611781 146.896687 Z M 20.162563 -0.00175 L 21.713344 -0.00175 L 21.713344 168.31075 L 20.162563 168.31075 Z M 21.713344 -0.00175 L 23.264125 -0.00175 L 23.264125 215.166219 L 21.713344 215.166219 Z M 23.264125 -0.00175 L 24.814906 -0.00175 L 24.814906 213.220906 L 23.264125 213.220906 Z M 24.814906 -0.00175 L 26.365688 -0.00175 L 26.365688 213.580281 L 24.814906 213.580281 Z M 26.365688 -0.00175 L 27.916469 -0.00175 L 27.916469 216.295125 L 26.365688 216.295125 Z M 27.916469 -0.00175 L 29.46725 -0.00175 L 29.46725 213.119344 L 27.916469 213.119344 Z M 29.46725 -0.00175 L 31.018031 -0.00175 L 31.018031 215.322469 L 29.46725 215.322469 Z M 31.018031 -0.00175 L 32.568813 -0.00175 L 32.568813 216.93575 L 31.018031 216.93575 Z M 32.568813 -0.00175 L 34.119594 -0.00175 L 34.119594 214.451375 L 32.568813 214.451375 Z M 34.119594 -0.00175 L 35.670375 -0.00175 L 35.670375 210.967 L 34.119594 210.967 Z M 35.670375 -0.00175 L 37.221156 -0.00175 L 37.221156 158.576375 L 35.670375 158.576375 Z M 37.221156 -0.00175 L 38.771938 -0.00175 L 38.771938 142.951375 L 37.221156 142.951375 Z M 38.771938 -0.00175 L 40.322719 -0.00175 L 40.322719 143.103719 L 38.771938 143.103719 Z M 40.322719 -0.00175 L 41.8735 -0.00175 L 41.8735 140.642781 L 40.322719 140.642781 Z M 41.8735 -0.00175 L 43.428188 -0.00175 L 43.428188 143.896687 L 41.8735 143.896687 Z M 43.428188 -0.00175 L 44.978969 -0.00175 L 44.978969 141.158406 L 43.428188 141.158406 Z M 44.978969 -0.00175 L 46.52975 -0.00175 L 46.52975 140.232625 L 44.978969 140.232625 Z M 46.52975 -0.00175 L 48.080531 -0.00175 L 48.080531 139.900594 L 46.52975 139.900594 Z M 48.080531 -0.00175 L 49.631313 -0.00175 L 49.631313 144.638875 L 48.080531 144.638875 Z M 49.631313 -0.00175 L 51.182094 -0.00175 L 51.182094 142.513875 L 49.631313 142.513875 Z M 51.182094 -0.00175 L 52.732875 -0.00175 L 52.732875 144.693562 L 51.182094 144.693562 Z M 52.732875 -0.00175 L 54.283656 -0.00175 L 54.283656 143.052937 L 52.732875 143.052937 Z M 54.283656 -0.00175 L 55.834438 -0.00175 L 55.834438 141.744344 L 54.283656 141.744344 Z M 55.834438 -0.00175 L 57.385219 -0.00175 L 57.385219 140.720906 L 55.834438 140.720906 Z M 57.385219 -0.00175 L 58.936 -0.00175 L 58.936 121.021687 L 57.385219 121.021687 Z M 58.936 -0.00175 L 60.486781 -0.00175 L 60.486781 103.06075 L 58.936 103.06075 Z M 60.486781 -0.00175 L 62.037563 -0.00175 L 62.037563 100.756062 L 60.486781 100.756062 Z M 62.037563 -0.00175 L 63.588344 -0.00175 L 63.588344 103.189656 L 62.037563 103.189656 Z M 63.588344 -0.00175 L 65.139125 -0.00175 L 65.139125 101.166219 L 63.588344 101.166219 Z M 65.139125 -0.00175 L 66.689906 -0.00175 L 66.689906 100.193562 L 65.139125 100.193562 Z M 66.689906 -0.00175 L 68.240688 -0.00175 L 68.240688 103.369344 L 66.689906 103.369344 Z M 68.240688 -0.00175 L 69.791469 -0.00175 L 69.791469 104.392781 L 68.240688 104.392781 Z M 69.791469 -0.00175 L 71.34225 -0.00175 L 71.34225 98.37325 L 69.791469 98.37325 Z M 71.34225 -0.00175 L 72.893031 -0.00175 L 72.893031 103.06075 L 71.34225 103.06075 Z M 72.893031 -0.00175 L 74.443813 -0.00175 L 74.443813 101.525594 L 72.893031 101.525594 Z M 74.443813 -0.00175 L 75.994594 -0.00175 L 75.994594 103.138875 L 74.443813 103.138875 Z M 75.994594 -0.00175 L 77.545375 -0.00175 L 77.545375 103.267781 L 75.994594 103.267781 Z M 77.545375 -0.00175 L 79.096156 -0.00175 L 79.096156 104.7795 L 77.545375 104.7795 Z M 79.096156 -0.00175 L 80.646938 -0.00175 L 80.646938 102.908406 L 79.096156 102.908406 Z M 80.650844 -0.00175 L 82.201625 -0.00175 L 82.201625 102.474812 L 80.650844 102.474812 Z M 82.201625 -0.00175 L 83.752406 -0.00175 L 83.752406 103.806844 L 82.201625 103.806844 Z M 83.752406 -0.00175 L 85.303188 -0.00175 L 85.303188 103.115437 L 83.752406 103.115437 Z M 85.303188 -0.00175 L 86.853969 -0.00175 L 86.853969 102.576375 L 85.303188 102.576375 Z M 86.853969 -0.00175 L 88.40475 -0.00175 L 88.40475 101.49825 L 86.853969 101.49825 Z M 88.40475 -0.00175 L 89.955531 -0.00175 L 89.955531 40.552937 L 88.40475 40.552937 Z M 89.955531 -0.00175 L 91.506313 -0.00175 L 91.506313 18.342 L 89.955531 18.342 Z M 91.506313 -0.00175 L 93.057094 -0.00175 L 93.057094 17.752156 L 91.506313 17.752156 Z M 93.057094 -0.00175 L 94.607875 -0.00175 L 94.607875 16.986531 L 93.057094 16.986531 Z M 94.607875 -0.00175 L 96.158656 -0.00175 L 96.158656 17.982625 L 94.607875 17.982625 Z M 96.158656 -0.00175 L 97.709438 -0.00175 L 97.709438 18.06075 L 96.158656 18.06075 Z M 97.709438 -0.00175 L 99.260219 -0.00175 L 99.260219 16.599812 L 97.709438 16.599812 Z M 99.260219 -0.00175 L 100.811 -0.00175 L 100.811 17.240437 L 99.260219 17.240437 Z M 100.811 -0.00175 L 102.361781 -0.00175 L 102.361781 17.627156 L 100.811 17.627156 Z M 102.361781 -0.00175 L 103.912563 -0.00175 L 103.912563 19.084187 L 102.361781 19.084187 Z M 103.912563 -0.00175 L 105.463344 -0.00175 L 105.463344 16.138875 L 103.912563 16.138875 Z M 105.463344 -0.00175 L 107.014125 -0.00175 L 107.014125 17.908406 L 105.463344 17.908406 Z M 107.014125 -0.00175 L 108.564906 -0.00175 L 108.564906 17.802937 L 107.014125 17.802937 Z M 108.564906 -0.00175 L 110.115688 -0.00175 L 110.115688 17.677937 L 108.564906 17.677937 Z M 110.115688 -0.00175 L 111.666469 -0.00175 L 111.666469 17.267781 L 110.115688 17.267781 Z M 111.666469 -0.00175 L 113.21725 -0.00175 L 113.21725 17.06075 L 111.666469 17.06075 Z M 113.21725 -0.00175 L 114.768031 -0.00175 L 114.768031 16.728719 L 113.21725 16.728719 Z M 114.768031 -0.00175 L 116.318813 -0.00175 L 116.318813 18.263875 L 114.768031 18.263875 Z M 116.318813 -0.00175 L 117.869594 -0.00175 L 117.869594 17.572469 L 116.318813 17.572469 Z M 117.869594 -0.00175 L 119.424281 -0.00175 L 119.424281 18.392781 L 117.869594 18.392781 Z M 119.424281 -0.00175 L 120.975063 -0.00175 L 120.975063 16.959187 L 119.424281 16.959187 Z M 120.975063 -0.00175 L 122.525844 -0.00175 L 122.525844 17.521687 L 120.975063 17.521687 Z M 122.525844 -0.00175 L 124.076625 -0.00175 L 124.076625 16.599812 L 122.525844 16.599812 Z M 124.076625 -0.00175 L 125.627406 -0.00175 L 125.627406 17.267781 L 124.076625 17.267781 Z M 125.627406 -0.00175 L 127.178188 -0.00175 L 127.178188 17.728719 L 125.627406 17.728719 Z M 127.178188 -0.00175 L 128.728969 -0.00175 L 128.728969 17.369344 L 127.178188 17.369344 Z M 128.728969 -0.00175 L 130.27975 -0.00175 L 130.27975 17.217 L 128.728969 17.217 Z M 130.27975 -0.00175 L 131.830531 -0.00175 L 131.830531 17.599812 L 130.27975 17.599812 Z M 131.830531 -0.00175 L 133.381313 -0.00175 L 133.381313 17.830281 L 131.830531 17.830281 Z M 133.381313 -0.00175 L 134.932094 -0.00175 L 134.932094 16.677937 L 133.381313 16.677937 Z M 134.932094 -0.00175 L 136.482875 -0.00175 L 136.482875 18.240437 L 134.932094 18.240437 Z M 136.482875 -0.00175 L 138.033656 -0.00175 L 138.033656 18.240437 L 136.482875 18.240437 Z M 138.033656 -0.00175 L 139.584438 -0.00175 L 139.584438 18.033406 L 138.033656 18.033406 Z M 139.584438 -0.00175 L 141.135219 -0.00175 L 141.135219 17.959187 L 139.584438 17.959187 Z M 141.135219 -0.00175 L 142.686 -0.00175 L 142.686 18.189656 L 141.135219 18.189656 Z M 142.686 -0.00175 L 144.236781 -0.00175 L 144.236781 16.420125 L 142.686 16.420125 Z M 144.236781 -0.00175 L 145.787563 -0.00175 L 145.787563 18.342 L 144.236781 18.342 Z M 145.787563 -0.00175 L 147.338344 -0.00175 L 147.338344 17.342 L 145.787563 17.342 Z M 147.338344 -0.00175 L 148.889125 -0.00175 L 148.889125 16.830281 L 147.338344 16.830281 Z M 148.889125 -0.00175 L 150.439906 -0.00175 L 150.439906 18.392781 L 148.889125 18.392781 Z M 150.439906 -0.00175 L 151.990688 -0.00175 L 151.990688 16.470906 L 150.439906 16.470906 Z M 151.990688 -0.00175 L 153.541469 -0.00175 L 153.541469 17.162312 L 151.990688 17.162312 Z M 153.541469 -0.00175 L 155.09225 -0.00175 L 155.09225 17.830281 L 153.541469 17.830281 Z M 155.09225 -0.00175 L 156.643031 -0.00175 L 156.643031 16.728719 L 155.09225 16.728719 Z M 156.643031 -0.00175 L 158.197719 -0.00175 L 158.197719 17.111531 L 156.643031 17.111531 Z M 158.197719 -0.00175 L 159.7485 -0.00175 L 159.7485 18.369344 L 158.197719 18.369344 Z M 159.7485 -0.00175 L 161.299281 -0.00175 L 161.299281 18.162312 L 159.7485 18.162312 Z M 161.299281 -0.00175 L 162.850063 -0.00175 L 162.850063 17.982625 L 161.299281 17.982625 Z M 162.850063 -0.00175 L 164.400844 -0.00175 L 164.400844 18.111531 L 162.850063 18.111531 Z M 164.400844 -0.00175 L 165.951625 -0.00175 L 165.951625 18.189656 L 164.400844 18.189656 Z M 165.951625 -0.00175 L 167.502406 -0.00175 L 167.502406 18.213094 L 165.951625 18.213094 Z M 167.502406 -0.00175 L 169.053188 -0.00175 L 169.053188 17.982625 L 167.502406 17.982625 Z M 169.053188 -0.00175 L 170.603969 -0.00175 L 170.603969 17.982625 L 169.053188 17.982625 Z M 170.603969 -0.00175 L 172.15475 -0.00175 L 172.15475 17.881062 L 170.603969 17.881062 Z M 172.15475 -0.00175 L 173.705531 -0.00175 L 173.705531 18.599812 L 172.15475 18.599812 Z M 173.705531 -0.00175 L 175.256313 -0.00175 L 175.256313 16.295125 L 173.705531 16.295125 Z M 175.256313 -0.00175 L 176.807094 -0.00175 L 176.807094 17.06075 L 175.256313 17.06075 Z M 176.807094 -0.00175 L 178.357875 -0.00175 L 178.357875 17.802937 L 176.807094 17.802937 Z M 178.357875 -0.00175 L 179.908656 -0.00175 L 179.908656 16.728719 L 178.357875 16.728719 Z M 179.908656 -0.00175 L 181.459438 -0.00175 L 181.459438 17.572469 L 179.908656 17.572469 Z M 181.459438 -0.00175 L 183.010219 -0.00175 L 183.010219 17.7795 L 181.459438 17.7795 Z M 183.010219 -0.00175 L 184.561 -0.00175 L 184.561 16.908406 L 183.010219 16.908406 Z M 184.561 -0.00175 L 186.111781 -0.00175 L 186.111781 17.369344 L 184.561 17.369344 Z M 186.111781 -0.00175 L 187.662563 -0.00175 L 187.662563 15.986531 L 186.111781 15.986531 Z M 187.662563 -0.00175 L 189.213344 -0.00175 L 189.213344 17.908406 L 187.662563 17.908406 Z M 189.213344 -0.00175 L 190.764125 -0.00175 L 190.764125 18.369344 L 189.213344 18.369344 Z M 190.764125 -0.00175 L 192.314906 -0.00175 L 192.314906 16.447469 L 190.764125 16.447469 Z M 192.314906 -0.00175 L 193.865688 -0.00175 L 193.865688 17.342 L 192.314906 17.342 Z M 193.865688 -0.00175 L 195.420375 -0.00175 L 195.420375 17.857625 L 193.865688 17.857625 Z M 195.420375 -0.00175 L 196.971156 -0.00175 L 196.971156 17.369344 L 195.420375 17.369344 Z M 196.971156 -0.00175 L 198.521938 -0.00175 L 198.521938 19.189656 L 196.971156 19.189656 Z M 198.521938 -0.00175 L 200.072719 -0.00175 L 200.072719 18.701375 L 198.521938 18.701375 Z M 200.072719 -0.00175 L 201.6235 -0.00175 L 201.6235 17.908406 L 200.072719 17.908406 Z M 201.6235 -0.00175 L 203.174281 -0.00175 L 203.174281 17.49825 L 201.6235 17.49825 Z M 203.174281 -0.00175 L 204.725063 -0.00175 L 204.725063 16.037312 L 203.174281 16.037312 Z M 204.725063 -0.00175 L 206.275844 -0.00175 L 206.275844 18.599812 L 204.725063 18.599812 Z M 206.275844 -0.00175 L 207.826625 -0.00175 L 207.826625 17.470906 L 206.275844 17.470906 Z M 207.826625 -0.00175 L 209.377406 -0.00175 L 209.377406 16.857625 L 207.826625 16.857625 Z M 209.377406 -0.00175 L 210.928188 -0.00175 L 210.928188 16.959187 L 209.377406 16.959187 Z M 210.928188 -0.00175 L 212.478969 -0.00175 L 212.478969 17.318562 L 210.928188 17.318562 Z M 212.478969 -0.00175 L 214.02975 -0.00175 L 214.02975 17.318562 L 212.478969 17.318562 Z M 214.02975 -0.00175 L 215.580531 -0.00175 L 215.580531 17.49825 L 214.02975 17.49825 Z M 215.580531 -0.00175 L 217.131313 -0.00175 L 217.131313 16.576375 L 215.580531 16.576375 Z M 217.131313 -0.00175 L 218.682094 -0.00175 L 218.682094 17.217 L 217.131313 17.217 Z M 218.682094 -0.00175 L 220.232875 -0.00175 L 220.232875 16.49825 L 218.682094 16.49825 Z M 220.232875 -0.00175 L 221.783656 -0.00175 L 221.783656 18.62325 L 220.232875 18.62325 Z M 221.783656 -0.00175 L 223.334438 -0.00175 L 223.334438 17.318562 L 221.783656 17.318562 Z M 223.334438 -0.00175 L 224.885219 -0.00175 L 224.885219 17.599812 L 223.334438 17.599812 Z M 224.885219 -0.00175 L 226.436 -0.00175 L 226.436 17.240437 L 224.885219 17.240437 Z M 226.436 -0.00175 L 227.986781 -0.00175 L 227.986781 17.830281 L 226.436 17.830281 Z M 227.986781 -0.00175 L 229.537563 -0.00175 L 229.537563 17.959187 L 227.986781 17.959187 Z M 229.537563 -0.00175 L 231.088344 -0.00175 L 231.088344 16.088094 L 229.537563 16.088094 Z M 231.088344 -0.00175 L 232.639125 -0.00175 L 232.639125 17.49825 L 231.088344 17.49825 Z M 232.639125 -0.00175 L 234.193813 -0.00175 L 234.193813 16.881062 L 232.639125 16.881062 Z M 234.193813 -0.00175 L 235.744594 -0.00175 L 235.744594 18.111531 L 234.193813 18.111531 Z M 235.744594 -0.00175 L 237.295375 -0.00175 L 237.295375 18.088094 L 235.744594 18.088094 Z M 237.295375 -0.00175 L 238.846156 -0.00175 L 238.846156 17.599812 L 237.295375 17.599812 Z M 238.846156 -0.00175 L 240.396938 -0.00175 L 240.396938 18.549031 L 238.846156 18.549031 Z M 240.396938 -0.00175 L 241.947719 -0.00175 L 241.947719 19.084187 L 240.396938 19.084187 Z M 241.947719 -0.00175 L 243.4985 -0.00175 L 243.4985 18.111531 L 241.947719 18.111531 Z M 243.4985 -0.00175 L 245.049281 -0.00175 L 245.049281 17.49825 L 243.4985 17.49825 Z M 245.049281 -0.00175 L 246.600063 -0.00175 L 246.600063 17.677937 L 245.049281 17.677937 Z M 246.600063 -0.00175 L 248.150844 -0.00175 L 248.150844 17.959187 L 246.600063 17.959187 Z M 248.150844 -0.00175 L 249.701625 -0.00175 L 249.701625 17.959187 L 248.150844 17.959187 Z M 249.701625 -0.00175 L 251.252406 -0.00175 L 251.252406 17.752156 L 249.701625 17.752156 Z M 251.252406 -0.00175 L 252.803188 -0.00175 L 252.803188 17.549031 L 251.252406 17.549031 Z M 252.803188 -0.00175 L 254.353969 -0.00175 L 254.353969 17.7795 L 252.803188 17.7795 Z M 254.353969 -0.00175 L 255.90475 -0.00175 L 255.90475 16.908406 L 254.353969 16.908406 Z M 255.90475 -0.00175 L 257.455531 -0.00175 L 257.455531 17.088094 L 255.90475 17.088094 Z M 257.455531 -0.00175 L 259.006313 -0.00175 L 259.006313 17.369344 L 257.455531 17.369344 Z M 259.006313 -0.00175 L 260.557094 -0.00175 L 260.557094 18.369344 L 259.006313 18.369344 Z M 260.557094 -0.00175 L 262.107875 -0.00175 L 262.107875 18.240437 L 260.557094 18.240437 Z M 262.107875 -0.00175 L 263.658656 -0.00175 L 263.658656 16.830281 L 262.107875 16.830281 Z M 263.658656 -0.00175 L 265.209438 -0.00175 L 265.209438 16.627156 L 263.658656 16.627156 Z M 265.209438 -0.00175 L 266.760219 -0.00175 L 266.760219 18.599812 L 265.209438 18.599812 Z M 266.760219 -0.00175 L 268.311 -0.00175 L 268.311 11.6545 L 266.760219 11.6545 Z M 268.311 -0.00175 L 269.861781 -0.00175 Z M 269.861781 -0.00175 L 271.416469 -0.00175 Z M 271.416469 -0.00175 L 272.96725 -0.00175 Z M 272.96725 -0.00175 L 274.518031 -0.00175 Z M 274.518031 -0.00175 L 276.068813 -0.00175 Z M 276.068813 -0.00175 L 277.619594 -0.00175 Z M 277.619594 -0.00175 L 279.170375 -0.00175 Z M 279.170375 -0.00175 L 280.721156 -0.00175 Z M 280.721156 -0.00175 L 282.271938 -0.00175 L 282.271938 102.474812 L 280.721156 102.474812 Z M 280.721156 -0.00175 \" transform=\"matrix(1,0,0,-1,401.314,541.342)\"/>\n",
       "</g>\n",
       "<g style=\"fill:rgb(0%,0%,0%);fill-opacity:1;\">\n",
       "  <use xlink:href=\"#glyph-1487623024713069-1-27\" x=\"492.195\" y=\"293.216\"/>\n",
       "  <use xlink:href=\"#glyph-1487623024713069-1-8\" x=\"499.805461\" y=\"293.216\"/>\n",
       "  <use xlink:href=\"#glyph-1487623024713069-1-19\" x=\"502.573082\" y=\"293.216\"/>\n",
       "  <use xlink:href=\"#glyph-1487623024713069-1-15\" x=\"506.502347\" y=\"293.216\"/>\n",
       "  <use xlink:href=\"#glyph-1487623024713069-1-12\" x=\"510.376818\" y=\"293.216\"/>\n",
       "  <use xlink:href=\"#glyph-1487623024713069-1-20\" x=\"515.358138\" y=\"293.216\"/>\n",
       "  <use xlink:href=\"#glyph-1487623024713069-1-24\" x=\"520.893381\" y=\"293.216\"/>\n",
       "  <use xlink:href=\"#glyph-1487623024713069-1-10\" x=\"525.320778\" y=\"293.216\"/>\n",
       "</g>\n",
       "<g style=\"fill:rgb(0%,0%,0%);fill-opacity:1;\">\n",
       "  <use xlink:href=\"#glyph-1487623024713069-1-28\" x=\"533.065734\" y=\"293.216\"/>\n",
       "</g>\n",
       "<g style=\"fill:rgb(0%,0%,0%);fill-opacity:1;\">\n",
       "  <use xlink:href=\"#glyph-1487623024713069-1-16\" x=\"538.742447\" y=\"293.216\"/>\n",
       "  <use xlink:href=\"#glyph-1487623024713069-1-29\" x=\"543.723767\" y=\"293.216\"/>\n",
       "  <use xlink:href=\"#glyph-1487623024713069-1-10\" x=\"547.626133\" y=\"293.216\"/>\n",
       "</g>\n",
       "</g>\n",
       "</svg>\n",
       "\n"
      ],
      "text/plain": [
       "PGFPlots.GroupPlot(PGFPlots.Axis[PGFPlots.Axis(PGFPlots.Plots.Plot[PGFPlots.Plots.Histogram(Real[10.0,1.4541,0.390035,0.975872,3.64271,0.35467,0.621855,2.68799,-0.0240379,0.335443  …  0.88928,0.14129,-0.00698655,1.54525,4.08072,1.84172,0.9445,2.61185,0.50095,0.546143],100,false,false,\"fill=blue!10\",:default)],\"Timegap\",nothing,nothing,nothing,nothing,nothing,nothing,-5,9,0,nothing,nothing,nothing,nothing,nothing,nothing,\"12cm\",\"10cm\",nothing,nothing,nothing,nothing,nothing,nothing,nothing,nothing,\"axis\"),PGFPlots.Axis(PGFPlots.Plots.Plot[PGFPlots.Plots.Histogram(Real[30.0,1.53905,30.0,30.0,30.0,1.56558,1.90053,18.5642,30.0,30.0  …  30.0,30.0,30.0,30.0,30.0,2.47413,30.0,11.6243,30.0,9.6984],100,false,false,\"fill=blue!10\",:default)],\"Time to Collision\",nothing,nothing,nothing,nothing,nothing,nothing,nothing,27,0,nothing,nothing,nothing,nothing,nothing,nothing,\"12cm\",\"10cm\",nothing,nothing,nothing,nothing,nothing,nothing,nothing,nothing,\"axis\"),PGFPlots.Axis(PGFPlots.Plots.Plot[PGFPlots.Plots.Histogram(Real[1.04803,18.9858,16.5396,15.2196,7.80827,10.0953,15.0049,17.5454,16.223,15.2582  …  17.9453,17.1091,13.6737,13.802,7.20176,28.1751,21.8594,28.1944,25.7264,27.2616],100,false,false,\"fill=blue!10\",:default)],\"Velocity\",nothing,nothing,nothing,nothing,nothing,nothing,nothing,nothing,0,nothing,nothing,nothing,nothing,nothing,nothing,\"12cm\",\"10cm\",nothing,nothing,nothing,nothing,nothing,nothing,nothing,nothing,\"axis\"),PGFPlots.Axis(PGFPlots.Plots.Plot[PGFPlots.Plots.Histogram(Real[100.0,27.6071,6.45101,14.8524,28.4433,3.5805,9.33087,47.1617,-0.389966,5.11827  …  15.9584,2.41734,-0.0955317,21.3275,29.3884,51.8907,20.6462,73.6396,12.8877,14.8887],100,false,false,\"fill=blue!10\",:default)],\"Distance Fore\",nothing,nothing,nothing,nothing,nothing,nothing,nothing,95,0,nothing,nothing,nothing,nothing,nothing,nothing,\"12cm\",\"10cm\",nothing,nothing,nothing,nothing,nothing,nothing,nothing,nothing,\"axis\")],(2,2),nothing,\"horizontal sep = 1.75cm, vertical sep = 1.5cm\")"
      ]
     },
     "execution_count": 30,
     "metadata": {},
     "output_type": "execute_result"
    }
   ],
   "source": [
    "# analyze emergent behavior\n",
    "g = GroupPlot(2, 2, groupStyle = \"horizontal sep = 1.75cm, vertical sep = 1.5cm\")\n",
    "nbins = 100\n",
    "timegap_axis = Axis(Plots.Histogram(emergent[\"timegap\"], bins=nbins), \n",
    "                    ymin=0, \n",
    "                    xmax=9, \n",
    "                    xmin=-5,\n",
    "                    width=\"12cm\",\n",
    "                    height=\"10cm\",\n",
    "                    title=\"Timegap\")\n",
    "push!(g, timegap_axis)\n",
    "ttc_axis = Axis(Plots.Histogram(emergent[\"ttc\"], bins=nbins), \n",
    "                    ymin=0, \n",
    "                    xmax=27,\n",
    "                    width=\"12cm\",\n",
    "                    height=\"10cm\",\n",
    "                    title=\"Time to Collision\")\n",
    "push!(g, ttc_axis)\n",
    "velocity_axis = Axis(Plots.Histogram(emergent[\"velocity\"], bins=nbins), \n",
    "                    ymin=0,  \n",
    "                    width=\"12cm\",\n",
    "                    height=\"10cm\",\n",
    "                    title=\"Velocity\")\n",
    "push!(g, velocity_axis)\n",
    "distance_fore_axis = Axis(Plots.Histogram(emergent[\"distance_fore\"], bins=nbins), \n",
    "                    ymin=0,  \n",
    "                    xmax=95,\n",
    "                    width=\"12cm\",\n",
    "                    height=\"10cm\",\n",
    "                    title=\"Distance Fore\")\n",
    "push!(g, distance_fore_axis)\n",
    "g"
   ]
  },
  {
   "cell_type": "code",
   "execution_count": 31,
   "metadata": {
    "collapsed": false
   },
   "outputs": [],
   "source": [
    "TikzPictures.save(\"/Users/wulfebw/Desktop/hist_high_target.pdf\", g)"
   ]
  },
  {
   "cell_type": "code",
   "execution_count": null,
   "metadata": {
    "collapsed": false
   },
   "outputs": [],
   "source": [
    "cutpoints"
   ]
  },
  {
   "cell_type": "code",
   "execution_count": null,
   "metadata": {
    "collapsed": true
   },
   "outputs": [],
   "source": []
  }
 ],
 "metadata": {
  "kernelspec": {
   "display_name": "Julia 0.5.0",
   "language": "julia",
   "name": "julia-0.5"
  },
  "language_info": {
   "file_extension": ".jl",
   "mimetype": "application/julia",
   "name": "julia",
   "version": "0.5.0"
  },
  "widgets": {
   "state": {
    "01068093-a1dd-4fd9-b3a3-ee1d5ce19c92": {
     "views": [
      {
       "cell_index": 11
      }
     ]
    },
    "039c666d-f181-47b6-af30-c0d4b8fb3c23": {
     "views": [
      {
       "cell_index": 11
      }
     ]
    },
    "0a65f533-3c6c-4bbf-9055-c1f15c0747f1": {
     "views": [
      {
       "cell_index": 11
      }
     ]
    },
    "0b78e2e5-3f63-4efb-8b85-86509bdd7179": {
     "views": [
      {
       "cell_index": 11
      }
     ]
    },
    "0cbb184b-bca3-4b46-adc8-02574577857a": {
     "views": [
      {
       "cell_index": 11
      }
     ]
    },
    "12b38157-9fec-44c3-9f8a-9838827f0b63": {
     "views": [
      {
       "cell_index": 11
      }
     ]
    },
    "12c33f9a-3214-4129-ac1e-4d0938ac914b": {
     "views": [
      {
       "cell_index": 12
      }
     ]
    },
    "221322b8-4d8f-4a2b-80db-667511847e12": {
     "views": [
      {
       "cell_index": 11
      }
     ]
    },
    "228a918e-a4e2-4b8f-9484-2f9bf4af0bf0": {
     "views": [
      {
       "cell_index": 11
      }
     ]
    },
    "23d587ef-d4f1-4608-b672-6b6c9521068f": {
     "views": [
      {
       "cell_index": 11
      }
     ]
    },
    "24496454-29c4-426c-8668-aa5bfdd048ca": {
     "views": [
      {
       "cell_index": 11
      }
     ]
    },
    "2b1e1189-9817-47e2-8ab4-4bd9a2ccb70d": {
     "views": [
      {
       "cell_index": 11
      }
     ]
    },
    "2e443b86-0d5b-44a8-97a6-27278e0527ba": {
     "views": [
      {
       "cell_index": 11
      }
     ]
    },
    "2f190bf7-c985-45e3-85f4-e8c6d1605bd1": {
     "views": [
      {
       "cell_index": 11
      }
     ]
    },
    "30db186a-6205-4b00-bb19-1cb541697a3f": {
     "views": [
      {
       "cell_index": 11
      }
     ]
    },
    "4124b730-22fb-4e27-9dc2-92812734d4b0": {
     "views": [
      {
       "cell_index": 11
      }
     ]
    },
    "475cbfd0-74c7-4f5f-91a2-2647373438eb": {
     "views": [
      {
       "cell_index": 11
      }
     ]
    },
    "4b180250-3772-43fa-87a4-3c12851ad82d": {
     "views": [
      {
       "cell_index": 11
      }
     ]
    },
    "4c52a34a-716c-48da-9d8f-f2f0602096f4": {
     "views": [
      {
       "cell_index": 11
      }
     ]
    },
    "4f4708ca-c5cd-49df-a82e-37c4afbc7102": {
     "views": [
      {
       "cell_index": 11
      }
     ]
    },
    "52c96b05-d37b-4c17-932d-735166957624": {
     "views": [
      {
       "cell_index": 11
      }
     ]
    },
    "5425e145-0fd1-4731-bf93-791ca4afcdcc": {
     "views": [
      {
       "cell_index": 11
      }
     ]
    },
    "59654b16-8411-4cb9-af14-6ee2f42f766b": {
     "views": [
      {
       "cell_index": 11
      }
     ]
    },
    "5e643f0d-4278-4920-8968-1ca0723e3951": {
     "views": [
      {
       "cell_index": 11
      }
     ]
    },
    "603b470f-6fa1-4feb-8ddf-6f390f47ff99": {
     "views": [
      {
       "cell_index": 11
      }
     ]
    },
    "62a118cf-5b0e-4edf-952c-ba55f8eaeb66": {
     "views": [
      {
       "cell_index": 11
      }
     ]
    },
    "635d6e67-6a62-4bdf-9a32-2893413fb916": {
     "views": [
      {
       "cell_index": 11
      }
     ]
    },
    "64559c79-2e45-407b-9252-3090560fb36d": {
     "views": [
      {
       "cell_index": 11
      }
     ]
    },
    "6d88965b-ca81-47f7-978f-35f7913df7ee": {
     "views": [
      {
       "cell_index": 11
      }
     ]
    },
    "6e094931-310d-42b1-ae66-f45db8c9baed": {
     "views": [
      {
       "cell_index": 11
      }
     ]
    },
    "721cfbe4-8116-4519-a612-d91fac2c4ad4": {
     "views": [
      {
       "cell_index": 11
      }
     ]
    },
    "74b12a76-d212-449e-93f3-0c151420767e": {
     "views": [
      {
       "cell_index": 11
      }
     ]
    },
    "799ff4de-5c02-4151-ab19-bf342ac11e80": {
     "views": [
      {
       "cell_index": 11
      }
     ]
    },
    "7a15dca9-c24e-4489-8d01-b6c7945ae395": {
     "views": [
      {
       "cell_index": 11
      }
     ]
    },
    "7de17c5f-2fe7-44c2-b2b9-ebcde4edaf17": {
     "views": [
      {
       "cell_index": 11
      }
     ]
    },
    "8df471ce-d284-4f4e-bd15-22a40347cc36": {
     "views": [
      {
       "cell_index": 11
      }
     ]
    },
    "91ca0568-a869-4eb3-b89f-405d18d78b28": {
     "views": [
      {
       "cell_index": 11
      }
     ]
    },
    "9329f990-240d-4f3d-a5ec-98764a2611f6": {
     "views": [
      {
       "cell_index": 11
      }
     ]
    },
    "93e65f92-408c-4b66-b800-e17ebfaa6334": {
     "views": [
      {
       "cell_index": 11
      }
     ]
    },
    "945b066a-5561-4e75-99c9-f141fa0771ac": {
     "views": [
      {
       "cell_index": 11
      }
     ]
    },
    "9561ceab-57cd-441f-b287-4cfb97b756d5": {
     "views": [
      {
       "cell_index": 11
      }
     ]
    },
    "a0ec69c1-615d-4ab0-ba23-d7ba6f0551ee": {
     "views": [
      {
       "cell_index": 11
      }
     ]
    },
    "a28f9985-ef2e-404c-afa5-2a274bfebc73": {
     "views": [
      {
       "cell_index": 11
      }
     ]
    },
    "a3278e42-34aa-46ef-a48d-d1bcae646908": {
     "views": [
      {
       "cell_index": 11
      }
     ]
    },
    "a3dbf0eb-73ba-41f7-b849-be03a96a2844": {
     "views": [
      {
       "cell_index": 11
      }
     ]
    },
    "b00a5d8e-71af-41d2-934d-e617a12b8d09": {
     "views": [
      {
       "cell_index": 11
      }
     ]
    },
    "b20bff8f-87f4-4f3d-ab6f-90bc19828cf0": {
     "views": [
      {
       "cell_index": 11
      }
     ]
    },
    "bc080bc8-babc-427c-96c2-46abc5fcd680": {
     "views": [
      {
       "cell_index": 11
      }
     ]
    },
    "c926a992-d10d-413a-94ca-cccd8ca0f0ab": {
     "views": [
      {
       "cell_index": 11
      }
     ]
    },
    "ce01f60c-51c5-49ac-bbfa-3a2bdecb6b47": {
     "views": [
      {
       "cell_index": 11
      }
     ]
    },
    "cef8e52c-f39a-489b-a1d1-f3ee90eb77f3": {
     "views": [
      {
       "cell_index": 11
      }
     ]
    },
    "cfb5c48c-250b-47b2-a6e1-432e6cbd16eb": {
     "views": [
      {
       "cell_index": 11
      }
     ]
    },
    "d01ec5e8-039e-432a-9887-8561c52f1873": {
     "views": [
      {
       "cell_index": 11
      }
     ]
    },
    "dcc0c8fa-912a-4ac7-8872-82d6b346c774": {
     "views": [
      {
       "cell_index": 11
      }
     ]
    },
    "ea270092-51ef-412e-a6aa-f469562338c8": {
     "views": [
      {
       "cell_index": 11
      }
     ]
    },
    "efa17ea8-8e15-4d27-bb1a-e4c6b004b57a": {
     "views": [
      {
       "cell_index": 11
      }
     ]
    },
    "f1637e93-1182-42ea-bd02-2dbf0bdc4b5d": {
     "views": [
      {
       "cell_index": 11
      }
     ]
    },
    "f765319e-6a28-467c-ab8e-b3eea9554c81": {
     "views": [
      {
       "cell_index": 11
      }
     ]
    },
    "f898b233-75c0-48b6-9067-88286bf57b20": {
     "views": [
      {
       "cell_index": 11
      }
     ]
    },
    "f8bd1fd5-9572-47c0-983b-015417f8c116": {
     "views": [
      {
       "cell_index": 11
      }
     ]
    },
    "fb40ec7e-3737-404e-bc6c-a51a480c6305": {
     "views": [
      {
       "cell_index": 11
      }
     ]
    },
    "ff10cd3e-a219-40dc-b1c2-74a302f3c197": {
     "views": [
      {
       "cell_index": 11
      }
     ]
    }
   },
   "version": "1.2.0"
  }
 },
 "nbformat": 4,
 "nbformat_minor": 1
}
