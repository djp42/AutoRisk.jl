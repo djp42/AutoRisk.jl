{
 "cells": [
  {
   "cell_type": "code",
   "execution_count": 3,
   "metadata": {
    "collapsed": false
   },
   "outputs": [
    {
     "data": {
      "text/html": [
       "<div id=\"interact-js-shim\">\n",
       "    <script charset=\"utf-8\">\n",
       "(function (IPython, $, _, MathJax) {\n",
       "    $.event.special.destroyed = {\n",
       "\tremove: function(o) {\n",
       "\t    if (o.handler) {\n",
       "\t\to.handler.apply(this, arguments)\n",
       "\t    }\n",
       "\t}\n",
       "    }\n",
       "\n",
       "    var OutputArea = IPython.version >= \"4.0.0\" ? require(\"notebook/js/outputarea\").OutputArea : IPython.OutputArea;\n",
       "\n",
       "    var redrawValue = function (container, type, val) {\n",
       "\tvar selector = $(\"<div/>\");\n",
       "\tvar oa = new OutputArea(_.extend(selector, {\n",
       "\t    selector: selector,\n",
       "\t    prompt_area: true,\n",
       "\t    events: IPython.events,\n",
       "\t    keyboard_manager: IPython.keyboard_manager\n",
       "\t})); // Hack to work with IPython 2.1.0\n",
       "\n",
       "\tswitch (type) {\n",
       "\tcase \"image/png\":\n",
       "            var _src = 'data:' + type + ';base64,' + val;\n",
       "\t    $(container).find(\"img\").attr('src', _src);\n",
       "\t    break;\n",
       "\tcase \"text/latex\":\n",
       "\t\tif (MathJax){\n",
       "\t\t\tvar math = MathJax.Hub.getAllJax(container)[0];\n",
       "\t\t\tMathJax.Hub.Queue([\"Text\", math, val.replace(/^\\${1,2}|\\${1,2}$/g, '')]);\n",
       "\t\t\tbreak;\n",
       "\t\t}\n",
       "\tdefault:\n",
       "\t    var toinsert = OutputArea.append_map[type].apply(\n",
       "\t\toa, [val, {}, selector]\n",
       "\t    );\n",
       "\t    $(container).empty().append(toinsert.contents());\n",
       "\t    selector.remove();\n",
       "\t}\n",
       "    }\n",
       "\n",
       "\n",
       "    $(document).ready(function() {\n",
       "\tfunction initComm(evt, data) {\n",
       "\t    var comm_manager = data.kernel.comm_manager;\n",
       "        //_.extend(comm_manager.targets, require(\"widgets/js/widget\"))\n",
       "\t    comm_manager.register_target(\"Signal\", function (comm) {\n",
       "            comm.on_msg(function (msg) {\n",
       "                var val = msg.content.data.value;\n",
       "                $(\".signal-\" + comm.comm_id).each(function() {\n",
       "                var type = $(this).data(\"type\");\n",
       "                if (typeof(val[type]) !== \"undefined\" && val[type] !== null) {\n",
       "                    redrawValue(this, type, val[type], type);\n",
       "                }\n",
       "                });\n",
       "                delete val;\n",
       "                delete msg.content.data.value;\n",
       "            });\n",
       "\t    });\n",
       "\n",
       "\t    // coordingate with Comm and redraw Signals\n",
       "\t    // XXX: Test using Reactive here to improve performance\n",
       "\t    $([IPython.events]).on(\n",
       "\t\t'output_appended.OutputArea', function (event, type, value, md, toinsert) {\n",
       "\t\t    if (md && md.reactive) {\n",
       "                // console.log(md.comm_id);\n",
       "                toinsert.addClass(\"signal-\" + md.comm_id);\n",
       "                toinsert.data(\"type\", type);\n",
       "                // Signal back indicating the mimetype required\n",
       "                var comm_manager = IPython.notebook.kernel.comm_manager;\n",
       "                var comm = comm_manager.comms[md.comm_id];\n",
       "                comm.then(function (c) {\n",
       "                    c.send({action: \"subscribe_mime\",\n",
       "                       mime: type});\n",
       "                    toinsert.bind(\"destroyed\", function() {\n",
       "                        c.send({action: \"unsubscribe_mime\",\n",
       "                               mime: type});\n",
       "                    });\n",
       "                })\n",
       "\t\t    }\n",
       "\t    });\n",
       "\t}\n",
       "\n",
       "\ttry {\n",
       "\t    // try to initialize right away. otherwise, wait on the status_started event.\n",
       "\t    initComm(undefined, IPython.notebook);\n",
       "\t} catch (e) {\n",
       "\t    $([IPython.events]).on('kernel_created.Kernel kernel_created.Session', initComm);\n",
       "\t}\n",
       "    });\n",
       "})(IPython, jQuery, _, MathJax);\n",
       "</script>\n",
       "    <script>\n",
       "        window.interactLoadedFlag = true\n",
       "       $(\"#interact-js-shim\").bind(\"destroyed\", function () {\n",
       "           if (window.interactLoadedFlag) {\n",
       "               console.warn(\"JavaScript required by Interact will be removed if you remove this cell or run using Interact more than once.\")\n",
       "           }\n",
       "       })\n",
       "       $([IPython.events]).on(\"kernel_starting.Kernel kernel_restarting.Kernel\", function () { window.interactLoadedFlag = false })\n",
       "   </script>\n",
       "</div>"
      ]
     },
     "metadata": {},
     "output_type": "display_data"
    }
   ],
   "source": [
    "using AutomotiveDrivingModels\n",
    "using AutoViz\n",
    "using AutoRisk\n",
    "using BayesNets\n",
    "using DataFrames\n",
    "using Discretizers\n",
    "using Distributions\n",
    "using HDF5\n",
    "using Interact\n",
    "using PGFPlots\n",
    "using TikzPictures"
   ]
  },
  {
   "cell_type": "code",
   "execution_count": 4,
   "metadata": {
    "collapsed": false
   },
   "outputs": [],
   "source": [
    "# load the data\n",
    "input_filepath = \"../../data/datasets/2_19/risk_10_sec_10_timesteps.h5\"\n",
    "# input_filepath = \"/Users/wulfebw/Dropbox/File_Transfers/risk/risk_.1_sec_full.h5\"\n",
    "raw_features = h5open(input_filepath, \"r\") do file\n",
    "    read(file, \"risk/features\")\n",
    "end;"
   ]
  },
  {
   "cell_type": "code",
   "execution_count": 5,
   "metadata": {
    "collapsed": false
   },
   "outputs": [],
   "source": [
    "debug_size = min(10000, size(raw_features, 3))\n",
    "timestep = size(raw_features, 2)\n",
    "features = view(raw_features, :, timestep, 1:debug_size)\n",
    "\n",
    "# discard samples that have features outside of bounds\n",
    "min_v, max_v = 0., 50.\n",
    "min_d_fore, max_d_fore = 0., 100.\n",
    "valid_idxs_v = find(min_v .< features[3,:] .< max_v)\n",
    "valid_idxs_d_fore = find(min_d_fore .< features[26,:] .< max_d_fore)\n",
    "valid_idxs_v_fore = find(min_v .< features[27,:] .< max_v)\n",
    "valid_idxs = intersect(valid_idxs_v, valid_idxs_d_fore, valid_idxs_v_fore)\n",
    "features = view(features, :, valid_idxs)\n",
    "\n",
    "# make targets a feature\n",
    "use_target_variable = true\n",
    "target_idx = 3\n",
    "if use_target_variable\n",
    "    targets = h5open(input_filepath, \"r\") do file\n",
    "        read(file, \"risk/targets\")\n",
    "    end;\n",
    "    target = view(targets, target_idx, valid_idxs)\n",
    "else\n",
    "    target = zeros(1, size(features, 2))\n",
    "end\n",
    "\n",
    "# select features\n",
    "v = features[3,:]\n",
    "d_fore = features[26,:]\n",
    "v_fore = features[27,:];"
   ]
  },
  {
   "cell_type": "code",
   "execution_count": 6,
   "metadata": {
    "collapsed": false
   },
   "outputs": [],
   "source": [
    "# discretize the data\n",
    "# features\n",
    "num_bins = [5, 5, 5]\n",
    "data = [v, d_fore, v_fore]\n",
    "num_samples = length(v)\n",
    "disc_data = zeros(Int, num_samples, 3)\n",
    "cutpoints = []\n",
    "discs = []\n",
    "for (f, vals) in enumerate(data)\n",
    "    disc = LinearDiscretizer(binedges(DiscretizeUniformCount(num_bins[f]), vals))\n",
    "    push!(cutpoints, disc.binedges)\n",
    "    for (i, val) in enumerate(vals)\n",
    "        c = 0\n",
    "        for (c, (lo, hi)) in enumerate(zip(disc.binedges, disc.binedges[2:end]))\n",
    "            if lo <= val < hi\n",
    "                break\n",
    "            end\n",
    "        end\n",
    "        disc_data[i, f] = c\n",
    "    end\n",
    "end\n",
    "\n",
    "# targets\n",
    "disc_target = ones(Int, num_samples)\n",
    "idxs = find(target .> 0)\n",
    "disc_target[idxs] = 2;"
   ]
  },
  {
   "cell_type": "code",
   "execution_count": 7,
   "metadata": {
    "collapsed": false
   },
   "outputs": [],
   "source": [
    "# convert data to dataframe\n",
    "data = DataFrame(\n",
    "        velocity = disc_data[:,1], \n",
    "        foredistance = disc_data[:,2], \n",
    "        forevelocity = disc_data[:,3],\n",
    "        target = disc_target\n",
    ");"
   ]
  },
  {
   "cell_type": "code",
   "execution_count": 8,
   "metadata": {
    "collapsed": false
   },
   "outputs": [
    {
     "data": {
      "image/svg+xml": [
       "<?xml version=\"1.0\" encoding=\"UTF-8\"?>\n",
       "<svg xmlns=\"http://www.w3.org/2000/svg\" xmlns:xlink=\"http://www.w3.org/1999/xlink\" width=\"142.132pt\" height=\"71.902pt\" viewBox=\"0 0 142.132 71.902\" version=\"1.1\">\n",
       "<defs>\n",
       "<g>\n",
       "<symbol overflow=\"visible\" id=\"glyph-1488165746378671-0-0\">\n",
       "<path style=\"stroke:none;\" d=\"\"/>\n",
       "</symbol>\n",
       "<symbol overflow=\"visible\" id=\"glyph-1488165746378671-0-1\">\n",
       "<path style=\"stroke:none;\" d=\"M 3.3125 -1.234375 L 3.3125 -1.796875 L 3.0625 -1.796875 L 3.0625 -1.25 C 3.0625 -0.515625 2.765625 -0.140625 2.390625 -0.140625 C 1.71875 -0.140625 1.71875 -1.046875 1.71875 -1.21875 L 1.71875 -3.984375 L 3.15625 -3.984375 L 3.15625 -4.296875 L 1.71875 -4.296875 L 1.71875 -6.125 L 1.46875 -6.125 C 1.46875 -5.3125 1.171875 -4.25 0.1875 -4.203125 L 0.1875 -3.984375 L 1.03125 -3.984375 L 1.03125 -1.234375 C 1.03125 -0.015625 1.96875 0.109375 2.328125 0.109375 C 3.03125 0.109375 3.3125 -0.59375 3.3125 -1.234375 Z M 3.3125 -1.234375 \"/>\n",
       "</symbol>\n",
       "<symbol overflow=\"visible\" id=\"glyph-1488165746378671-0-2\">\n",
       "<path style=\"stroke:none;\" d=\"M 4.8125 -0.890625 L 4.8125 -1.453125 L 4.5625 -1.453125 L 4.5625 -0.890625 C 4.5625 -0.3125 4.3125 -0.25 4.203125 -0.25 C 3.875 -0.25 3.84375 -0.703125 3.84375 -0.75 L 3.84375 -2.734375 C 3.84375 -3.15625 3.84375 -3.546875 3.484375 -3.921875 C 3.09375 -4.3125 2.59375 -4.46875 2.109375 -4.46875 C 1.296875 -4.46875 0.609375 -4 0.609375 -3.34375 C 0.609375 -3.046875 0.8125 -2.875 1.0625 -2.875 C 1.34375 -2.875 1.53125 -3.078125 1.53125 -3.328125 C 1.53125 -3.453125 1.46875 -3.78125 1.015625 -3.78125 C 1.28125 -4.140625 1.78125 -4.25 2.09375 -4.25 C 2.578125 -4.25 3.15625 -3.859375 3.15625 -2.96875 L 3.15625 -2.609375 C 2.640625 -2.578125 1.9375 -2.546875 1.3125 -2.25 C 0.5625 -1.90625 0.3125 -1.390625 0.3125 -0.953125 C 0.3125 -0.140625 1.28125 0.109375 1.90625 0.109375 C 2.578125 0.109375 3.03125 -0.296875 3.21875 -0.75 C 3.265625 -0.359375 3.53125 0.0625 4 0.0625 C 4.203125 0.0625 4.8125 -0.078125 4.8125 -0.890625 Z M 3.15625 -1.390625 C 3.15625 -0.453125 2.4375 -0.109375 1.984375 -0.109375 C 1.5 -0.109375 1.09375 -0.453125 1.09375 -0.953125 C 1.09375 -1.5 1.5 -2.328125 3.15625 -2.390625 Z M 3.15625 -1.390625 \"/>\n",
       "</symbol>\n",
       "<symbol overflow=\"visible\" id=\"glyph-1488165746378671-0-3\">\n",
       "<path style=\"stroke:none;\" d=\"M 3.625 -3.796875 C 3.625 -4.109375 3.3125 -4.40625 2.890625 -4.40625 C 2.15625 -4.40625 1.796875 -3.734375 1.671875 -3.3125 L 1.671875 -4.40625 L 0.28125 -4.296875 L 0.28125 -3.984375 C 0.984375 -3.984375 1.0625 -3.921875 1.0625 -3.421875 L 1.0625 -0.75 C 1.0625 -0.3125 0.953125 -0.3125 0.28125 -0.3125 L 0.28125 0 L 1.421875 -0.03125 C 1.8125 -0.03125 2.28125 -0.03125 2.6875 0 L 2.6875 -0.3125 L 2.46875 -0.3125 C 1.734375 -0.3125 1.71875 -0.421875 1.71875 -0.78125 L 1.71875 -2.3125 C 1.71875 -3.296875 2.140625 -4.1875 2.890625 -4.1875 C 2.953125 -4.1875 2.984375 -4.1875 3 -4.171875 C 2.96875 -4.171875 2.765625 -4.046875 2.765625 -3.78125 C 2.765625 -3.515625 2.984375 -3.359375 3.203125 -3.359375 C 3.375 -3.359375 3.625 -3.484375 3.625 -3.796875 Z M 3.625 -3.796875 \"/>\n",
       "</symbol>\n",
       "<symbol overflow=\"visible\" id=\"glyph-1488165746378671-0-4\">\n",
       "<path style=\"stroke:none;\" d=\"M 4.828125 -4.03125 C 4.828125 -4.203125 4.71875 -4.515625 4.328125 -4.515625 C 4.125 -4.515625 3.6875 -4.453125 3.265625 -4.046875 C 2.84375 -4.375 2.4375 -4.40625 2.21875 -4.40625 C 1.28125 -4.40625 0.59375 -3.71875 0.59375 -2.953125 C 0.59375 -2.515625 0.8125 -2.140625 1.0625 -1.921875 C 0.9375 -1.78125 0.75 -1.453125 0.75 -1.09375 C 0.75 -0.78125 0.890625 -0.40625 1.203125 -0.203125 C 0.59375 -0.046875 0.28125 0.390625 0.28125 0.78125 C 0.28125 1.5 1.265625 2.046875 2.484375 2.046875 C 3.65625 2.046875 4.6875 1.546875 4.6875 0.765625 C 4.6875 0.421875 4.5625 -0.09375 4.046875 -0.375 C 3.515625 -0.640625 2.9375 -0.640625 2.328125 -0.640625 C 2.078125 -0.640625 1.65625 -0.640625 1.578125 -0.65625 C 1.265625 -0.703125 1.0625 -1 1.0625 -1.328125 C 1.0625 -1.359375 1.0625 -1.59375 1.21875 -1.796875 C 1.609375 -1.515625 2.03125 -1.484375 2.21875 -1.484375 C 3.140625 -1.484375 3.828125 -2.171875 3.828125 -2.9375 C 3.828125 -3.3125 3.671875 -3.671875 3.421875 -3.90625 C 3.78125 -4.25 4.140625 -4.296875 4.3125 -4.296875 C 4.3125 -4.296875 4.390625 -4.296875 4.421875 -4.28125 C 4.3125 -4.25 4.25 -4.140625 4.25 -4.015625 C 4.25 -3.84375 4.390625 -3.734375 4.546875 -3.734375 C 4.640625 -3.734375 4.828125 -3.796875 4.828125 -4.03125 Z M 3.078125 -2.953125 C 3.078125 -2.6875 3.078125 -2.359375 2.921875 -2.109375 C 2.84375 -2 2.609375 -1.71875 2.21875 -1.71875 C 1.34375 -1.71875 1.34375 -2.71875 1.34375 -2.9375 C 1.34375 -3.203125 1.359375 -3.53125 1.5 -3.78125 C 1.578125 -3.890625 1.8125 -4.171875 2.21875 -4.171875 C 3.078125 -4.171875 3.078125 -3.1875 3.078125 -2.953125 Z M 4.171875 0.78125 C 4.171875 1.328125 3.46875 1.828125 2.5 1.828125 C 1.484375 1.828125 0.796875 1.3125 0.796875 0.78125 C 0.796875 0.328125 1.171875 -0.046875 1.609375 -0.0625 L 2.203125 -0.0625 C 3.0625 -0.0625 4.171875 -0.0625 4.171875 0.78125 Z M 4.171875 0.78125 \"/>\n",
       "</symbol>\n",
       "<symbol overflow=\"visible\" id=\"glyph-1488165746378671-0-5\">\n",
       "<path style=\"stroke:none;\" d=\"M 4.140625 -1.1875 C 4.140625 -1.28125 4.0625 -1.3125 4 -1.3125 C 3.921875 -1.3125 3.890625 -1.25 3.875 -1.171875 C 3.53125 -0.140625 2.625 -0.140625 2.53125 -0.140625 C 2.03125 -0.140625 1.640625 -0.4375 1.40625 -0.8125 C 1.109375 -1.28125 1.109375 -1.9375 1.109375 -2.296875 L 3.890625 -2.296875 C 4.109375 -2.296875 4.140625 -2.296875 4.140625 -2.515625 C 4.140625 -3.5 3.59375 -4.46875 2.359375 -4.46875 C 1.203125 -4.46875 0.28125 -3.4375 0.28125 -2.1875 C 0.28125 -0.859375 1.328125 0.109375 2.46875 0.109375 C 3.6875 0.109375 4.140625 -1 4.140625 -1.1875 Z M 3.484375 -2.515625 L 1.109375 -2.515625 C 1.171875 -4 2.015625 -4.25 2.359375 -4.25 C 3.375 -4.25 3.484375 -2.90625 3.484375 -2.515625 Z M 3.484375 -2.515625 \"/>\n",
       "</symbol>\n",
       "<symbol overflow=\"visible\" id=\"glyph-1488165746378671-0-6\">\n",
       "<path style=\"stroke:none;\" d=\"M 3.5625 -6.328125 C 3.5625 -6.703125 3.1875 -7.03125 2.65625 -7.03125 C 1.96875 -7.03125 1.109375 -6.5 1.109375 -5.4375 L 1.109375 -4.296875 L 0.328125 -4.296875 L 0.328125 -3.984375 L 1.109375 -3.984375 L 1.109375 -0.75 C 1.109375 -0.3125 1 -0.3125 0.34375 -0.3125 L 0.34375 0 L 1.46875 -0.03125 C 1.875 -0.03125 2.34375 -0.03125 2.734375 0 L 2.734375 -0.3125 L 2.53125 -0.3125 C 1.796875 -0.3125 1.78125 -0.421875 1.78125 -0.78125 L 1.78125 -3.984375 L 2.90625 -3.984375 L 2.90625 -4.296875 L 1.75 -4.296875 L 1.75 -5.453125 C 1.75 -6.328125 2.21875 -6.8125 2.65625 -6.8125 C 2.6875 -6.8125 2.84375 -6.8125 2.984375 -6.734375 C 2.875 -6.703125 2.6875 -6.5625 2.6875 -6.3125 C 2.6875 -6.09375 2.84375 -5.890625 3.125 -5.890625 C 3.40625 -5.890625 3.5625 -6.09375 3.5625 -6.328125 Z M 3.5625 -6.328125 \"/>\n",
       "</symbol>\n",
       "<symbol overflow=\"visible\" id=\"glyph-1488165746378671-0-7\">\n",
       "<path style=\"stroke:none;\" d=\"M 4.6875 -2.140625 C 4.6875 -3.40625 3.703125 -4.46875 2.5 -4.46875 C 1.25 -4.46875 0.28125 -3.375 0.28125 -2.140625 C 0.28125 -0.84375 1.3125 0.109375 2.484375 0.109375 C 3.6875 0.109375 4.6875 -0.875 4.6875 -2.140625 Z M 3.875 -2.21875 C 3.875 -1.859375 3.875 -1.3125 3.65625 -0.875 C 3.421875 -0.421875 2.984375 -0.140625 2.5 -0.140625 C 2.0625 -0.140625 1.625 -0.34375 1.359375 -0.8125 C 1.109375 -1.25 1.109375 -1.859375 1.109375 -2.21875 C 1.109375 -2.609375 1.109375 -3.140625 1.34375 -3.578125 C 1.609375 -4.03125 2.078125 -4.25 2.484375 -4.25 C 2.921875 -4.25 3.34375 -4.03125 3.609375 -3.59375 C 3.875 -3.171875 3.875 -2.59375 3.875 -2.21875 Z M 3.875 -2.21875 \"/>\n",
       "</symbol>\n",
       "<symbol overflow=\"visible\" id=\"glyph-1488165746378671-0-8\">\n",
       "<path style=\"stroke:none;\" d=\"M 5.0625 -3.984375 L 5.0625 -4.296875 C 4.828125 -4.28125 4.546875 -4.265625 4.3125 -4.265625 L 3.453125 -4.296875 L 3.453125 -3.984375 C 3.8125 -3.984375 3.921875 -3.75 3.921875 -3.5625 C 3.921875 -3.46875 3.90625 -3.421875 3.875 -3.3125 L 2.84375 -0.78125 L 1.734375 -3.5625 C 1.671875 -3.6875 1.671875 -3.734375 1.671875 -3.734375 C 1.671875 -3.984375 2.0625 -3.984375 2.25 -3.984375 L 2.25 -4.296875 L 1.15625 -4.265625 C 0.890625 -4.265625 0.484375 -4.28125 0.1875 -4.296875 L 0.1875 -3.984375 C 0.8125 -3.984375 0.859375 -3.921875 0.984375 -3.625 L 2.421875 -0.078125 C 2.484375 0.0625 2.5 0.109375 2.625 0.109375 C 2.765625 0.109375 2.796875 0.015625 2.84375 -0.078125 L 4.140625 -3.3125 C 4.234375 -3.546875 4.40625 -3.984375 5.0625 -3.984375 Z M 5.0625 -3.984375 \"/>\n",
       "</symbol>\n",
       "<symbol overflow=\"visible\" id=\"glyph-1488165746378671-0-9\">\n",
       "<path style=\"stroke:none;\" d=\"M 2.546875 0 L 2.546875 -0.3125 C 1.875 -0.3125 1.765625 -0.3125 1.765625 -0.75 L 1.765625 -6.921875 L 0.328125 -6.8125 L 0.328125 -6.5 C 1.03125 -6.5 1.109375 -6.4375 1.109375 -5.9375 L 1.109375 -0.75 C 1.109375 -0.3125 1 -0.3125 0.328125 -0.3125 L 0.328125 0 L 1.4375 -0.03125 Z M 2.546875 0 \"/>\n",
       "</symbol>\n",
       "<symbol overflow=\"visible\" id=\"glyph-1488165746378671-0-10\">\n",
       "<path style=\"stroke:none;\" d=\"M 4.140625 -1.1875 C 4.140625 -1.28125 4.03125 -1.28125 4 -1.28125 C 3.921875 -1.28125 3.890625 -1.25 3.875 -1.1875 C 3.59375 -0.265625 2.9375 -0.140625 2.578125 -0.140625 C 2.046875 -0.140625 1.171875 -0.5625 1.171875 -2.171875 C 1.171875 -3.796875 1.984375 -4.21875 2.515625 -4.21875 C 2.609375 -4.21875 3.234375 -4.203125 3.578125 -3.84375 C 3.171875 -3.8125 3.109375 -3.515625 3.109375 -3.390625 C 3.109375 -3.125 3.296875 -2.9375 3.5625 -2.9375 C 3.828125 -2.9375 4.03125 -3.09375 4.03125 -3.40625 C 4.03125 -4.078125 3.265625 -4.46875 2.5 -4.46875 C 1.25 -4.46875 0.34375 -3.390625 0.34375 -2.15625 C 0.34375 -0.875 1.328125 0.109375 2.484375 0.109375 C 3.8125 0.109375 4.140625 -1.09375 4.140625 -1.1875 Z M 4.140625 -1.1875 \"/>\n",
       "</symbol>\n",
       "<symbol overflow=\"visible\" id=\"glyph-1488165746378671-0-11\">\n",
       "<path style=\"stroke:none;\" d=\"M 2.46875 0 L 2.46875 -0.3125 C 1.796875 -0.3125 1.765625 -0.359375 1.765625 -0.75 L 1.765625 -4.40625 L 0.375 -4.296875 L 0.375 -3.984375 C 1.015625 -3.984375 1.109375 -3.921875 1.109375 -3.4375 L 1.109375 -0.75 C 1.109375 -0.3125 1 -0.3125 0.328125 -0.3125 L 0.328125 0 L 1.421875 -0.03125 C 1.78125 -0.03125 2.125 -0.015625 2.46875 0 Z M 1.90625 -6.015625 C 1.90625 -6.296875 1.6875 -6.546875 1.390625 -6.546875 C 1.046875 -6.546875 0.84375 -6.265625 0.84375 -6.015625 C 0.84375 -5.75 1.078125 -5.5 1.375 -5.5 C 1.71875 -5.5 1.90625 -5.765625 1.90625 -6.015625 Z M 1.90625 -6.015625 \"/>\n",
       "</symbol>\n",
       "<symbol overflow=\"visible\" id=\"glyph-1488165746378671-0-12\">\n",
       "<path style=\"stroke:none;\" d=\"M 5.0625 -3.984375 L 5.0625 -4.296875 C 4.828125 -4.28125 4.546875 -4.265625 4.3125 -4.265625 L 3.453125 -4.296875 L 3.453125 -3.984375 C 3.765625 -3.984375 3.921875 -3.8125 3.921875 -3.5625 C 3.921875 -3.453125 3.90625 -3.4375 3.859375 -3.3125 L 2.84375 -0.875 L 1.75 -3.546875 C 1.703125 -3.65625 1.6875 -3.6875 1.6875 -3.734375 C 1.6875 -3.984375 2.046875 -3.984375 2.25 -3.984375 L 2.25 -4.296875 L 1.15625 -4.265625 C 0.890625 -4.265625 0.484375 -4.28125 0.1875 -4.296875 L 0.1875 -3.984375 C 0.671875 -3.984375 0.859375 -3.984375 1 -3.640625 L 2.5 0 L 2.25 0.59375 C 2.03125 1.140625 1.75 1.828125 1.109375 1.828125 C 1.0625 1.828125 0.828125 1.828125 0.640625 1.640625 C 0.953125 1.609375 1.03125 1.390625 1.03125 1.21875 C 1.03125 0.96875 0.84375 0.8125 0.609375 0.8125 C 0.40625 0.8125 0.1875 0.9375 0.1875 1.234375 C 0.1875 1.6875 0.609375 2.046875 1.109375 2.046875 C 1.734375 2.046875 2.140625 1.46875 2.375 0.90625 L 4.140625 -3.34375 C 4.390625 -3.984375 4.90625 -3.984375 5.0625 -3.984375 Z M 5.0625 -3.984375 \"/>\n",
       "</symbol>\n",
       "<symbol overflow=\"visible\" id=\"glyph-1488165746378671-0-13\">\n",
       "<path style=\"stroke:none;\" d=\"M 5.25 0 L 5.25 -0.3125 C 4.5625 -0.3125 4.46875 -0.375 4.46875 -0.875 L 4.46875 -6.921875 L 3.046875 -6.8125 L 3.046875 -6.5 C 3.734375 -6.5 3.8125 -6.4375 3.8125 -5.9375 L 3.8125 -3.78125 C 3.53125 -4.140625 3.09375 -4.40625 2.5625 -4.40625 C 1.390625 -4.40625 0.34375 -3.421875 0.34375 -2.140625 C 0.34375 -0.875 1.3125 0.109375 2.453125 0.109375 C 3.09375 0.109375 3.53125 -0.234375 3.78125 -0.546875 L 3.78125 0.109375 Z M 3.78125 -1.171875 C 3.78125 -1 3.78125 -0.984375 3.671875 -0.8125 C 3.375 -0.328125 2.9375 -0.109375 2.5 -0.109375 C 2.046875 -0.109375 1.6875 -0.375 1.453125 -0.75 C 1.203125 -1.15625 1.171875 -1.71875 1.171875 -2.140625 C 1.171875 -2.5 1.1875 -3.09375 1.46875 -3.546875 C 1.6875 -3.859375 2.0625 -4.1875 2.609375 -4.1875 C 2.953125 -4.1875 3.375 -4.03125 3.671875 -3.59375 C 3.78125 -3.421875 3.78125 -3.40625 3.78125 -3.21875 Z M 3.78125 -1.171875 \"/>\n",
       "</symbol>\n",
       "<symbol overflow=\"visible\" id=\"glyph-1488165746378671-0-14\">\n",
       "<path style=\"stroke:none;\" d=\"M 3.59375 -1.28125 C 3.59375 -1.796875 3.296875 -2.109375 3.171875 -2.21875 C 2.84375 -2.546875 2.453125 -2.625 2.03125 -2.703125 C 1.46875 -2.8125 0.8125 -2.9375 0.8125 -3.515625 C 0.8125 -3.875 1.0625 -4.28125 1.921875 -4.28125 C 3.015625 -4.28125 3.078125 -3.375 3.09375 -3.078125 C 3.09375 -2.984375 3.203125 -2.984375 3.203125 -2.984375 C 3.34375 -2.984375 3.34375 -3.03125 3.34375 -3.21875 L 3.34375 -4.234375 C 3.34375 -4.390625 3.34375 -4.46875 3.234375 -4.46875 C 3.1875 -4.46875 3.15625 -4.46875 3.03125 -4.34375 C 3 -4.3125 2.90625 -4.21875 2.859375 -4.1875 C 2.484375 -4.46875 2.078125 -4.46875 1.921875 -4.46875 C 0.703125 -4.46875 0.328125 -3.796875 0.328125 -3.234375 C 0.328125 -2.890625 0.484375 -2.609375 0.75 -2.390625 C 1.078125 -2.140625 1.359375 -2.078125 2.078125 -1.9375 C 2.296875 -1.890625 3.109375 -1.734375 3.109375 -1.015625 C 3.109375 -0.515625 2.765625 -0.109375 1.984375 -0.109375 C 1.140625 -0.109375 0.78125 -0.671875 0.59375 -1.53125 C 0.5625 -1.65625 0.5625 -1.6875 0.453125 -1.6875 C 0.328125 -1.6875 0.328125 -1.625 0.328125 -1.453125 L 0.328125 -0.125 C 0.328125 0.046875 0.328125 0.109375 0.4375 0.109375 C 0.484375 0.109375 0.5 0.09375 0.6875 -0.09375 C 0.703125 -0.109375 0.703125 -0.125 0.890625 -0.3125 C 1.328125 0.09375 1.78125 0.109375 1.984375 0.109375 C 3.125 0.109375 3.59375 -0.5625 3.59375 -1.28125 Z M 3.59375 -1.28125 \"/>\n",
       "</symbol>\n",
       "<symbol overflow=\"visible\" id=\"glyph-1488165746378671-0-15\">\n",
       "<path style=\"stroke:none;\" d=\"M 5.328125 0 L 5.328125 -0.3125 C 4.8125 -0.3125 4.5625 -0.3125 4.5625 -0.609375 L 4.5625 -2.515625 C 4.5625 -3.375 4.5625 -3.671875 4.25 -4.03125 C 4.109375 -4.203125 3.78125 -4.40625 3.203125 -4.40625 C 2.46875 -4.40625 2 -3.984375 1.71875 -3.359375 L 1.71875 -4.40625 L 0.3125 -4.296875 L 0.3125 -3.984375 C 1.015625 -3.984375 1.09375 -3.921875 1.09375 -3.421875 L 1.09375 -0.75 C 1.09375 -0.3125 0.984375 -0.3125 0.3125 -0.3125 L 0.3125 0 L 1.453125 -0.03125 L 2.5625 0 L 2.5625 -0.3125 C 1.890625 -0.3125 1.78125 -0.3125 1.78125 -0.75 L 1.78125 -2.59375 C 1.78125 -3.625 2.5 -4.1875 3.125 -4.1875 C 3.765625 -4.1875 3.875 -3.65625 3.875 -3.078125 L 3.875 -0.75 C 3.875 -0.3125 3.765625 -0.3125 3.09375 -0.3125 L 3.09375 0 L 4.21875 -0.03125 Z M 5.328125 0 \"/>\n",
       "</symbol>\n",
       "</g>\n",
       "</defs>\n",
       "<g id=\"surface1\">\n",
       "<path style=\"fill:none;stroke-width:0.3985;stroke-linecap:butt;stroke-linejoin:miter;stroke:rgb(0%,0%,0%);stroke-opacity:1;stroke-miterlimit:10;\" d=\"M -8.793906 -7.609531 L -24.219688 -20.961094 \" transform=\"matrix(1,0,0,-1,125.79,7.41)\"/>\n",
       "<path style=\"fill:none;stroke-width:0.31879;stroke-linecap:round;stroke-linejoin:round;stroke:rgb(0%,0%,0%);stroke-opacity:1;stroke-miterlimit:10;\" d=\"M -1.196375 1.593809 C -1.095277 0.996251 -0.000477394 0.100274 0.299485 0.000386559 C 0.000251058 -0.10129 -1.095073 -0.997804 -1.195539 -1.59609 \" transform=\"matrix(-0.75818,0.65617,0.65617,0.75818,101.57056,28.3696)\"/>\n",
       "<path style=\"fill:none;stroke-width:0.3985;stroke-linecap:butt;stroke-linejoin:miter;stroke:rgb(0%,0%,0%);stroke-opacity:1;stroke-miterlimit:10;\" d=\"M -0.0009375 -7.609531 L -0.0009375 -28.347813 L -11.528281 -48.297031 \" transform=\"matrix(1,0,0,-1,125.79,7.41)\"/>\n",
       "<path style=\"fill:none;stroke-width:0.31879;stroke-linecap:round;stroke-linejoin:round;stroke:rgb(0%,0%,0%);stroke-opacity:1;stroke-miterlimit:10;\" d=\"M -1.19653 1.595472 C -1.097566 0.996193 -0.000497572 0.10133 0.300342 0.000879561 C -0.000495128 -0.101002 -1.097692 -0.995741 -1.19769 -1.593075 \" transform=\"matrix(-0.50197,0.86877,0.86877,0.50197,114.26328,55.70738)\"/>\n",
       "<path style=\"fill:none;stroke-width:0.3985;stroke-linecap:butt;stroke-linejoin:miter;stroke:rgb(0%,0%,0%);stroke-opacity:1;stroke-miterlimit:10;\" d=\"M -74.391563 -36.398594 L -37.211875 -49.406406 \" transform=\"matrix(1,0,0,-1,125.79,7.41)\"/>\n",
       "<path style=\"fill:none;stroke-width:0.31879;stroke-linecap:round;stroke-linejoin:round;stroke:rgb(0%,0%,0%);stroke-opacity:1;stroke-miterlimit:10;\" d=\"M -1.195373 1.593621 C -1.097883 0.996472 -0.000813944 0.101228 0.298746 -0.000275639 C -0.000297358 -0.100757 -1.094367 -0.995072 -1.1939 -1.595128 \" transform=\"matrix(0.94678,0.33119,0.33119,-0.94678,88.57662,56.81486)\"/>\n",
       "<path style=\"fill:none;stroke-width:0.3985;stroke-linecap:butt;stroke-linejoin:miter;stroke:rgb(0%,0%,0%);stroke-opacity:1;stroke-miterlimit:10;\" d=\"M -28.661094 -35.43375 L -21.2275 -48.297031 \" transform=\"matrix(1,0,0,-1,125.79,7.41)\"/>\n",
       "<path style=\"fill:none;stroke-width:0.31879;stroke-linecap:round;stroke-linejoin:round;stroke:rgb(0%,0%,0%);stroke-opacity:1;stroke-miterlimit:10;\" d=\"M -1.195917 1.596207 C -1.097855 0.995498 -0.000632122 0.100769 0.30021 -0.00110847 C 0.00131659 -0.0981944 -1.097695 -0.996456 -1.194702 -1.592371 \" transform=\"matrix(0.50195,0.86877,0.86877,-0.50195,104.56121,55.70738)\"/>\n",
       "<g style=\"fill:rgb(0%,0%,0%);fill-opacity:1;\">\n",
       "  <use xlink:href=\"#glyph-1488165746378671-0-1\" x=\"112.769\" y=\"9.448\"/>\n",
       "  <use xlink:href=\"#glyph-1488165746378671-0-2\" x=\"116.644467\" y=\"9.448\"/>\n",
       "  <use xlink:href=\"#glyph-1488165746378671-0-3\" x=\"121.625787\" y=\"9.448\"/>\n",
       "  <use xlink:href=\"#glyph-1488165746378671-0-4\" x=\"125.531142\" y=\"9.448\"/>\n",
       "  <use xlink:href=\"#glyph-1488165746378671-0-5\" x=\"130.512462\" y=\"9.448\"/>\n",
       "  <use xlink:href=\"#glyph-1488165746378671-0-1\" x=\"134.935874\" y=\"9.448\"/>\n",
       "</g>\n",
       "<g style=\"fill:rgb(0%,0%,0%);fill-opacity:1;\">\n",
       "  <use xlink:href=\"#glyph-1488165746378671-0-6\" x=\"3.321\" y=\"38.247\"/>\n",
       "  <use xlink:href=\"#glyph-1488165746378671-0-7\" x=\"6.369568\" y=\"38.247\"/>\n",
       "  <use xlink:href=\"#glyph-1488165746378671-0-3\" x=\"11.350888\" y=\"38.247\"/>\n",
       "  <use xlink:href=\"#glyph-1488165746378671-0-5\" x=\"15.256243\" y=\"38.247\"/>\n",
       "  <use xlink:href=\"#glyph-1488165746378671-0-8\" x=\"19.679655\" y=\"38.247\"/>\n",
       "  <use xlink:href=\"#glyph-1488165746378671-0-5\" x=\"24.939929\" y=\"38.247\"/>\n",
       "  <use xlink:href=\"#glyph-1488165746378671-0-9\" x=\"29.363341\" y=\"38.247\"/>\n",
       "  <use xlink:href=\"#glyph-1488165746378671-0-7\" x=\"32.132955\" y=\"38.247\"/>\n",
       "  <use xlink:href=\"#glyph-1488165746378671-0-10\" x=\"37.114275\" y=\"38.247\"/>\n",
       "  <use xlink:href=\"#glyph-1488165746378671-0-11\" x=\"41.537687\" y=\"38.247\"/>\n",
       "  <use xlink:href=\"#glyph-1488165746378671-0-1\" x=\"44.307301\" y=\"38.247\"/>\n",
       "  <use xlink:href=\"#glyph-1488165746378671-0-12\" x=\"48.182768\" y=\"38.247\"/>\n",
       "</g>\n",
       "<g style=\"fill:rgb(0%,0%,0%);fill-opacity:1;\">\n",
       "  <use xlink:href=\"#glyph-1488165746378671-0-6\" x=\"67.117\" y=\"39.214\"/>\n",
       "  <use xlink:href=\"#glyph-1488165746378671-0-7\" x=\"70.165568\" y=\"39.214\"/>\n",
       "  <use xlink:href=\"#glyph-1488165746378671-0-3\" x=\"75.146888\" y=\"39.214\"/>\n",
       "  <use xlink:href=\"#glyph-1488165746378671-0-5\" x=\"79.052243\" y=\"39.214\"/>\n",
       "  <use xlink:href=\"#glyph-1488165746378671-0-13\" x=\"83.475655\" y=\"39.214\"/>\n",
       "  <use xlink:href=\"#glyph-1488165746378671-0-11\" x=\"89.014883\" y=\"39.214\"/>\n",
       "  <use xlink:href=\"#glyph-1488165746378671-0-14\" x=\"91.784497\" y=\"39.214\"/>\n",
       "  <use xlink:href=\"#glyph-1488165746378671-0-1\" x=\"95.709777\" y=\"39.214\"/>\n",
       "  <use xlink:href=\"#glyph-1488165746378671-0-2\" x=\"99.585244\" y=\"39.214\"/>\n",
       "  <use xlink:href=\"#glyph-1488165746378671-0-15\" x=\"104.566564\" y=\"39.214\"/>\n",
       "  <use xlink:href=\"#glyph-1488165746378671-0-10\" x=\"110.105792\" y=\"39.214\"/>\n",
       "  <use xlink:href=\"#glyph-1488165746378671-0-5\" x=\"114.529204\" y=\"39.214\"/>\n",
       "</g>\n",
       "<g style=\"fill:rgb(0%,0%,0%);fill-opacity:1;\">\n",
       "  <use xlink:href=\"#glyph-1488165746378671-0-8\" x=\"92.531\" y=\"66.539\"/>\n",
       "  <use xlink:href=\"#glyph-1488165746378671-0-5\" x=\"97.791274\" y=\"66.539\"/>\n",
       "  <use xlink:href=\"#glyph-1488165746378671-0-9\" x=\"102.214686\" y=\"66.539\"/>\n",
       "  <use xlink:href=\"#glyph-1488165746378671-0-7\" x=\"104.9843\" y=\"66.539\"/>\n",
       "  <use xlink:href=\"#glyph-1488165746378671-0-10\" x=\"109.96562\" y=\"66.539\"/>\n",
       "  <use xlink:href=\"#glyph-1488165746378671-0-11\" x=\"114.389032\" y=\"66.539\"/>\n",
       "  <use xlink:href=\"#glyph-1488165746378671-0-1\" x=\"117.158646\" y=\"66.539\"/>\n",
       "  <use xlink:href=\"#glyph-1488165746378671-0-12\" x=\"121.034113\" y=\"66.539\"/>\n",
       "</g>\n",
       "</g>\n",
       "</svg>\n",
       "\n"
      ],
      "text/plain": [
       "BayesNets.BayesNet{BayesNets.CPDs.CategoricalCPD{Distributions.Categorical{Float64}}}({4, 4} directed graph,BayesNets.CPDs.CategoricalCPD{Distributions.Categorical{Float64}}[BayesNets.CPDs.CategoricalCPD{Distributions.Categorical{Float64}}(:target,Symbol[],Int64[],Distributions.Categorical{Float64}[Distributions.Categorical{Float64}(K=2, p=[0.998055,0.00194473])]),BayesNets.CPDs.CategoricalCPD{Distributions.Categorical{Float64}}(:forevelocity,Symbol[],Int64[],Distributions.Categorical{Float64}[Distributions.Categorical{Float64}(K=5, p=[0.2,0.2,0.2,0.2,0.2])]),BayesNets.CPDs.CategoricalCPD{Distributions.Categorical{Float64}}(:foredistance,Symbol[:target],[2],Distributions.Categorical{Float64}[Distributions.Categorical{Float64}(K=5, p=[0.199672,0.199877,0.200185,0.200287,0.199979]),Distributions.Categorical{Float64}(K=5, p=[0.368421,0.263158,0.105263,0.0526316,0.210526])]),BayesNets.CPDs.CategoricalCPD{Distributions.Categorical{Float64}}(:velocity,Symbol[:foredistance,:forevelocity,:target],[5,5,2],Distributions.Categorical{Float64}[Distributions.Categorical{Float64}(K=5, p=[0.912851,0.0768095,0.0103397,0.0,0.0]),Distributions.Categorical{Float64}(K=5, p=[0.853354,0.138846,0.00312012,0.00468019,0.0]),Distributions.Categorical{Float64}(K=5, p=[0.698052,0.220779,0.0746753,0.0,0.00649351]),Distributions.Categorical{Float64}(K=5, p=[0.348958,0.359375,0.1875,0.0625,0.0416667]),Distributions.Categorical{Float64}(K=5, p=[0.0373134,0.320896,0.313433,0.171642,0.156716]),Distributions.Categorical{Float64}(K=5, p=[0.0732394,0.71831,0.2,0.0084507,0.0]),Distributions.Categorical{Float64}(K=5, p=[0.270073,0.642336,0.0788321,0.00583942,0.00291971]),Distributions.Categorical{Float64}(K=5, p=[0.353723,0.289894,0.292553,0.0531915,0.0106383]),Distributions.Categorical{Float64}(K=5, p=[0.156863,0.460784,0.183007,0.183007,0.0163399]),Distributions.Categorical{Float64}(K=5, p=[0.030837,0.127753,0.365639,0.242291,0.23348])  …  Distributions.Categorical{Float64}(K=5, p=[0.0,0.0,1.0,0.0,0.0]),Distributions.Categorical{Float64}(K=5, p=[0.0,0.0,1.0,0.0,0.0]),Distributions.Categorical{Float64}(K=5, p=[0.2,0.2,0.2,0.2,0.2]),Distributions.Categorical{Float64}(K=5, p=[0.2,0.2,0.2,0.2,0.2]),Distributions.Categorical{Float64}(K=5, p=[0.2,0.2,0.2,0.2,0.2]),Distributions.Categorical{Float64}(K=5, p=[0.0,0.0,0.0,0.0,1.0]),Distributions.Categorical{Float64}(K=5, p=[0.2,0.2,0.2,0.2,0.2]),Distributions.Categorical{Float64}(K=5, p=[0.0,0.0,0.0,0.0,1.0]),Distributions.Categorical{Float64}(K=5, p=[0.2,0.2,0.2,0.2,0.2]),Distributions.Categorical{Float64}(K=5, p=[0.333333,0.0,0.0,0.0,0.666667])])],Dict(:velocity=>4,:foredistance=>3,:forevelocity=>2,:target=>1))"
      ]
     },
     "execution_count": 8,
     "metadata": {},
     "output_type": "execute_result"
    }
   ],
   "source": [
    "# fit a bayesnet\n",
    "bn = fit(DiscreteBayesNet, data, \n",
    "    (:target=>:foredistance, \n",
    "    :target=>:velocity,\n",
    "    :foredistance=>:velocity,\n",
    "    :forevelocity=>:velocity)\n",
    ")"
   ]
  },
  {
   "cell_type": "code",
   "execution_count": 9,
   "metadata": {
    "collapsed": false
   },
   "outputs": [],
   "source": [
    "# # could also fit the structure, but skip that for now\n",
    "# params = GreedyHillClimbing(ScoreComponentCache(data), max_n_parents=3, prior=UniformPrior())\n",
    "# bn = fit(DiscreteBayesNet, data, params)"
   ]
  },
  {
   "cell_type": "code",
   "execution_count": 10,
   "metadata": {
    "collapsed": false
   },
   "outputs": [
    {
     "name": "stdout",
     "output_type": "stream",
     "text": [
      "250×5 DataFrames.DataFrame\n",
      "│ Row │ foredistance │ forevelocity │ target │ velocity │ p         │\n",
      "├─────┼──────────────┼──────────────┼────────┼──────────┼───────────┤\n",
      "│ 1   │ 1            │ 1            │ 1      │ 1        │ 0.392851  │\n",
      "│ 2   │ 2            │ 1            │ 1      │ 1        │ 0.853354  │\n",
      "│ 3   │ 3            │ 1            │ 1      │ 1        │ 0.698052  │\n",
      "│ 4   │ 4            │ 1            │ 1      │ 1        │ 0.348958  │\n",
      "│ 5   │ 5            │ 1            │ 1      │ 1        │ 0.0373134 │\n",
      "│ 6   │ 1            │ 2            │ 1      │ 1        │ 0.0732394 │\n",
      "│ 7   │ 2            │ 2            │ 1      │ 1        │ 0.270073  │\n",
      "│ 8   │ 3            │ 2            │ 1      │ 1        │ 0.353723  │\n",
      "│ 9   │ 4            │ 2            │ 1      │ 1        │ 0.156863  │\n",
      "│ 10  │ 5            │ 2            │ 1      │ 1        │ 0.030837  │\n",
      "│ 11  │ 1            │ 3            │ 1      │ 1        │ 0.0       │\n",
      "⋮\n",
      "│ 239 │ 4            │ 3            │ 2      │ 5        │ 0.2       │\n",
      "│ 240 │ 5            │ 3            │ 2      │ 5        │ 0.2       │\n",
      "│ 241 │ 1            │ 4            │ 2      │ 5        │ 0.0       │\n",
      "│ 242 │ 2            │ 4            │ 2      │ 5        │ 0.0       │\n",
      "│ 243 │ 3            │ 4            │ 2      │ 5        │ 0.2       │\n",
      "│ 244 │ 4            │ 4            │ 2      │ 5        │ 0.2       │\n",
      "│ 245 │ 5            │ 4            │ 2      │ 5        │ 0.2       │\n",
      "│ 246 │ 1            │ 5            │ 2      │ 5        │ 1.0       │\n",
      "│ 247 │ 2            │ 5            │ 2      │ 5        │ 0.2       │\n",
      "│ 248 │ 3            │ 5            │ 2      │ 5        │ 1.0       │\n",
      "│ 249 │ 4            │ 5            │ 2      │ 5        │ 0.2       │\n",
      "│ 250 │ 5            │ 5            │ 2      │ 5        │ 0.666667  │\n",
      "10×3 DataFrames.DataFrame\n",
      "│ Row │ target │ foredistance │ p         │\n",
      "├─────┼────────┼──────────────┼───────────┤\n",
      "│ 1   │ 1      │ 1            │ 0.199672  │\n",
      "│ 2   │ 2      │ 1            │ 0.368421  │\n",
      "│ 3   │ 1      │ 2            │ 0.199877  │\n",
      "│ 4   │ 2      │ 2            │ 0.263158  │\n",
      "│ 5   │ 1      │ 3            │ 0.200185  │\n",
      "│ 6   │ 2      │ 3            │ 0.105263  │\n",
      "│ 7   │ 1      │ 4            │ 0.200287  │\n",
      "│ 8   │ 2      │ 4            │ 0.0526316 │\n",
      "│ 9   │ 1      │ 5            │ 0.199979  │\n",
      "│ 10  │ 2      │ 5            │ 0.210526  │\n",
      "5×2 DataFrames.DataFrame\n",
      "│ Row │ forevelocity │ p   │\n",
      "├─────┼──────────────┼─────┤\n",
      "│ 1   │ 1            │ 0.2 │\n",
      "│ 2   │ 2            │ 0.2 │\n",
      "│ 3   │ 3            │ 0.2 │\n",
      "│ 4   │ 4            │ 0.2 │\n",
      "│ 5   │ 5            │ 0.2 │\n",
      "2×2 DataFrames.DataFrame\n",
      "│ Row │ target │ p          │\n",
      "├─────┼────────┼────────────┤\n",
      "│ 1   │ 1      │ 0.998055   │\n",
      "│ 2   │ 2      │ 0.00194473 │\n"
     ]
    }
   ],
   "source": [
    "# report CPDs\n",
    "for k in [:velocity, :foredistance, :forevelocity, :target]\n",
    "    println(table(bn, k))\n",
    "end"
   ]
  },
  {
   "cell_type": "code",
   "execution_count": 11,
   "metadata": {
    "collapsed": false
   },
   "outputs": [
    {
     "name": "stdout",
     "output_type": "stream",
     "text": [
      "1\n",
      "target\n",
      "2\n",
      "forevelocity\n",
      "3\n",
      "foredistance\n",
      "4\n",
      "velocity\n"
     ]
    }
   ],
   "source": [
    "for i in 1:length(bn.cpds)\n",
    "    println(i)\n",
    "    println(bn.cpds[i].target)\n",
    "end\n"
   ]
  },
  {
   "cell_type": "code",
   "execution_count": 12,
   "metadata": {
    "collapsed": false
   },
   "outputs": [],
   "source": [
    "# build continuous distributions\n",
    "v_dists = [Uniform(cutpoints[1][i], cutpoints[1][i+1]) for i in 1:(length(cutpoints[1]) - 1)]\n",
    "d_fore_dists = [Uniform(cutpoints[2][i], cutpoints[2][i+1]) for i in 1:(length(cutpoints[2]) - 1)]\n",
    "v_fore_dists = [Uniform(cutpoints[3][i], cutpoints[3][i+1]) for i in 1:(length(cutpoints[3]) - 1)];"
   ]
  },
  {
   "cell_type": "code",
   "execution_count": 13,
   "metadata": {
    "collapsed": false
   },
   "outputs": [
    {
     "data": {
      "text/plain": [
       "1"
      ]
     },
     "execution_count": 13,
     "metadata": {},
     "output_type": "execute_result"
    }
   ],
   "source": [
    "rand(bn.cpds[1])"
   ]
  },
  {
   "cell_type": "code",
   "execution_count": 14,
   "metadata": {
    "collapsed": false
   },
   "outputs": [
    {
     "data": {
      "text/plain": [
       "generate_lane (generic function with 2 methods)"
      ]
     },
     "execution_count": 14,
     "metadata": {},
     "output_type": "execute_result"
    }
   ],
   "source": [
    "# generate a lane\n",
    "function generate_lane(num_veh = 10)\n",
    "    t_cpd_idx = 1\n",
    "    fore_v_cpd_idx = 2\n",
    "    fore_d_cpd_idx = 3\n",
    "    v_cpd_idx = 4\n",
    "    v_cpd = bn.cpds[v_cpd_idx]\n",
    "    states = zeros(num_veh, 4)\n",
    "\n",
    "    # sample the initial car\n",
    "    state = rand(bn)\n",
    "    v, fore_d, fore_v, t = state[:velocity], state[:foredistance], state[:forevelocity], state[:target]\n",
    "    states[1, 1] = rand(v_dists[v])\n",
    "    states[1, 2] = rand(d_fore_dists[fore_d])\n",
    "    states[1, 3] = rand(v_fore_dists[fore_v])\n",
    "    states[1, 4] = t\n",
    "\n",
    "    for veh_idx in 2:num_veh\n",
    "        # sample the target\n",
    "        t = rand(bn.cpds[t_cpd_idx])\n",
    "        \n",
    "        # sample the distance bin\n",
    "        fore_d = rand(bn.cpds[fore_d_cpd_idx], :target=>t)\n",
    "\n",
    "        # sample the velocity bin\n",
    "        v = rand(bn.cpds[v_cpd_idx], :forevelocity=>fore_v, :foredistance=>fore_d, :target=>t)\n",
    "\n",
    "        # sample the float values uniformly\n",
    "        states[veh_idx, 1] = rand(v_dists[v])\n",
    "        states[veh_idx, 2] = rand(d_fore_dists[fore_d])\n",
    "        states[veh_idx, 3] = rand(v_fore_dists[fore_v])\n",
    "        states[veh_idx, 4] = t\n",
    "\n",
    "        # replace the fore velocity with the current one\n",
    "        fore_v = v\n",
    "    end\n",
    "    return states\n",
    "end"
   ]
  },
  {
   "cell_type": "code",
   "execution_count": 15,
   "metadata": {
    "collapsed": false
   },
   "outputs": [
    {
     "data": {
      "text/plain": [
       "get_static_features (generic function with 1 method)"
      ]
     },
     "execution_count": 15,
     "metadata": {},
     "output_type": "execute_result"
    }
   ],
   "source": [
    "# scene feature extractors\n",
    "function get_static_features(scene::Scene, roadway::Roadway)\n",
    "    # feature containers, censors\n",
    "    timegaps = zeros(Float64, length(scene))\n",
    "    timegap_censor_hi = 10.\n",
    "    ttcs = zeros(Float64, length(scene))\n",
    "    ttc_censor_hi = 30.\n",
    "    velocities = zeros(Float64, length(scene))\n",
    "    distance_fores = zeros(Float64, length(scene))\n",
    "    distance_fore_censor_hi = 100.\n",
    "    \n",
    "    for veh_idx in 1:length(scene)\n",
    "        ego_veh = scene.vehicles[veh_idx]\n",
    "        velocities[veh_idx] = ego_veh.state.v\n",
    "        \n",
    "        neigh = get_neighbor_fore_along_lane(scene, veh_idx, roadway)\n",
    "        \n",
    "        # if the fore vehicle does not exist then set as censor high\n",
    "        if neigh.ind == 0\n",
    "            timegaps[veh_idx] = timegap_censor_hi\n",
    "            distance_fores[veh_idx] = distance_fore_censor_hi\n",
    "            ttcs[veh_idx] = ttc_censor_hi\n",
    "        else\n",
    "            # get both vehicles \n",
    "            rear_veh = scene.vehicles[veh_idx]\n",
    "            fore_veh = scene.vehicles[neigh.ind]\n",
    "            \n",
    "            # want the time for the rear vehicle's front to reach the fore vehicle's back\n",
    "            v = rear_veh.state.v\n",
    "            \n",
    "            # first term is distance between centers\n",
    "            # second moves from fore vehicle center to back bumper\n",
    "            # third moves from rear vehicle center to front bumper\n",
    "            Δs = (fore_veh.state.posF.s - rear_veh.state.posF.s) - (fore_veh.def.length / 2) - (rear_veh.def.length / 2)\n",
    "            timegaps[veh_idx] = min(Δs / v, timegap_censor_hi)\n",
    "            \n",
    "            # distance fore\n",
    "            distance_fores[veh_idx] = min(Δs, distance_fore_censor_hi)\n",
    "            \n",
    "            # time to collision\n",
    "            Δv = fore_veh.state.v - rear_veh.state.v\n",
    "            if Δv < 0.\n",
    "                ttcs[veh_idx] = min(max(-1 * Δs / Δv, 0.), ttc_censor_hi)\n",
    "            else # this means fore vehicle moving away too quickly\n",
    "                ttcs[veh_idx] = ttc_censor_hi\n",
    "            end\n",
    "            \n",
    "        end\n",
    "    end\n",
    "    return timegaps, ttcs, velocities, distance_fores\n",
    "end"
   ]
  },
  {
   "cell_type": "code",
   "execution_count": 18,
   "metadata": {
    "collapsed": false,
    "scrolled": false
   },
   "outputs": [
    {
     "data": {
      "text/html": [],
      "text/plain": [
       "Interact.Options{:ToggleButtons,Int64}(Signal{Int64}(1, nactions=1),\"veh_idx\",1,\"1\",Interact.OptionDict(DataStructures.OrderedDict(\"1\"=>1,\"2\"=>2,\"3\"=>3,\"4\"=>4,\"5\"=>5,\"6\"=>6,\"7\"=>7,\"8\"=>8,\"9\"=>9,\"10\"=>10…),Dict(68=>\"68\",2=>\"2\",89=>\"89\",11=>\"11\",39=>\"39\",46=>\"46\",85=>\"85\",25=>\"25\",55=>\"55\",42=>\"42\"…)),Any[],Any[],true,\"horizontal\")"
      ]
     },
     "metadata": {},
     "output_type": "display_data"
    },
    {
     "data": {
      "text/html": [],
      "text/plain": [
       "Interact.Options{:ToggleButtons,Int64}(Signal{Int64}(1, nactions=1),\"lane_idx\",1,\"1\",Interact.OptionDict(DataStructures.OrderedDict(\"1\"=>1,\"2\"=>2,\"3\"=>3,\"4\"=>4),Dict(4=>\"4\",2=>\"2\",3=>\"3\",1=>\"1\")),Any[],Any[],true,\"horizontal\")"
      ]
     },
     "metadata": {},
     "output_type": "display_data"
    },
    {
     "data": {
      "text/html": [],
      "text/plain": [
       "Interact.Options{:ToggleButtons,Float64}(Signal{Float64}(1.0, nactions=1),\"zoom\",1.0,\"1.0\",Interact.OptionDict(DataStructures.OrderedDict(\"1.0\"=>1.0,\"2.0\"=>2.0,\"3.0\"=>3.0,\"4.0\"=>4.0,\"5.0\"=>5.0,\"6.0\"=>6.0,\"7.0\"=>7.0,\"8.0\"=>8.0,\"9.0\"=>9.0,\"10.0\"=>10.0…),Dict(7.0=>\"7.0\",4.0=>\"4.0\",9.0=>\"9.0\",10.0=>\"10.0\",2.0=>\"2.0\",3.0=>\"3.0\",5.0=>\"5.0\",8.0=>\"8.0\",6.0=>\"6.0\",1.0=>\"1.0\"…)),Any[],Any[],true,\"horizontal\")"
      ]
     },
     "metadata": {},
     "output_type": "display_data"
    },
    {
     "data": {
      "image/png": "[encoded data removed]",
      "text/plain": [
       "Cairo.CairoSurface{UInt32}(Ptr{Void} @0x00007fd8b48be4e0,1000.0,600.0,#undef)"
      ]
     },
     "execution_count": 18,
     "metadata": {
      "comm_id": "71e60e21-f227-4707-b4b3-6601b1ffa7da",
      "reactive": true
     },
     "output_type": "execute_result"
    }
   ],
   "source": [
    "# populate and display a scene\n",
    "context = IntegratedContinuous(.1, 1) \n",
    "num_lanes = 4\n",
    "num_veh = 100\n",
    "num_scenes = 10\n",
    "roadway_length = 10000.\n",
    "roadway = gen_straight_roadway(num_lanes, roadway_length)\n",
    "\n",
    "# track features \n",
    "emergent = Dict{String, Array{Float64}}()\n",
    "emergent[\"timegap\"] = zeros(Float64, num_scenes * num_veh * num_lanes)\n",
    "emergent[\"ttc\"] = zeros(Float64, num_scenes * num_veh * num_lanes)\n",
    "emergent[\"velocity\"] = zeros(Float64, num_scenes * num_veh * num_lanes)\n",
    "emergent[\"distance_fore\"] = zeros(Float64, num_scenes * num_veh * num_lanes)\n",
    "\n",
    "# unpack indices\n",
    "v_idx, fore_d_idx, fore_v_idx, t_idx = 1, 2, 3, 4\n",
    "\n",
    "# build the scene\n",
    "scene = Scene(num_veh * num_lanes)\n",
    "carcolors = Dict{Int,Colorant}()\n",
    "for scene_idx in 1:num_scenes\n",
    "    empty!(scene)\n",
    "    for lane_idx in 1:num_lanes\n",
    "        states = generate_lane(num_veh)\n",
    "        remaining_length = roadway_length * 2. / 3.\n",
    "        for veh_idx in 1:num_veh\n",
    "            veh_id = veh_idx + (lane_idx - 1) * num_veh\n",
    "            # if this car was sampled as a hard brake, then color it\n",
    "            if states[veh_idx, t_idx] == 2\n",
    "                carcolors[veh_id] = colorant\"red\"\n",
    "            else\n",
    "                carcolors[veh_id] = colorant\"green\"\n",
    "            end\n",
    "            \n",
    "            remaining_length -= states[veh_idx, fore_d_idx]\n",
    "            if remaining_length > 0\n",
    "                road_idx = RoadIndex(proj(VecSE2(0.0, 3. * (lane_idx-1), 0.0), roadway))\n",
    "                base_speed = states[veh_idx, v_idx]\n",
    "                veh_state = VehicleState(Frenet(road_idx, roadway), roadway, base_speed)\n",
    "                veh_state = move_along(veh_state, roadway, remaining_length)\n",
    "                veh_def = VehicleDef(veh_id, AgentClass.CAR, 5., 2.)\n",
    "                push!(scene, Vehicle(veh_state, veh_def))\n",
    "            else\n",
    "                break\n",
    "            end\n",
    "        end\n",
    "    end\n",
    "    # compute features of scene\n",
    "    timegaps, ttcs, velocities, distance_fores = get_static_features(scene, roadway)\n",
    "    s = (scene_idx - 1) * num_lanes * num_veh\n",
    "    e = s + num_lanes * num_veh\n",
    "    emergent[\"timegap\"][s+1:e] = timegaps\n",
    "    emergent[\"ttc\"][s+1:e] = ttcs\n",
    "    emergent[\"velocity\"][s+1:e] = velocities\n",
    "    emergent[\"distance_fore\"][s+1:e] = distance_fores\n",
    "end\n",
    "\n",
    "# or just look at it\n",
    "@manipulate for veh_idx in collect(1:num_veh),\n",
    "                lane_idx in collect(1:num_lanes),\n",
    "              zoom in collect(1:10.)\n",
    "    veh_id = veh_idx + (lane_idx - 1) * num_veh\n",
    "    stats = [CarFollowingStatsOverlay(veh_id, 2), \n",
    "        NeighborsOverlay(veh_id, textparams = TextParams(x = 600, y_start=300))]\n",
    "        \n",
    "    render(scene, roadway, stats, cam = CarFollowCamera(veh_id, zoom), car_colors = carcolors)\n",
    "end"
   ]
  },
  {
   "cell_type": "code",
   "execution_count": 19,
   "metadata": {
    "collapsed": false
   },
   "outputs": [
    {
     "data": {
      "image/svg+xml": [
       "<?xml version=\"1.0\" encoding=\"UTF-8\"?>\n",
       "<svg xmlns=\"http://www.w3.org/2000/svg\" xmlns:xlink=\"http://www.w3.org/1999/xlink\" width=\"662.24pt\" height=\"554.609pt\" viewBox=\"0 0 662.24 554.609\" version=\"1.1\">\n",
       "<defs>\n",
       "<g>\n",
       "<symbol overflow=\"visible\" id=\"glyph-1488165746378672-0-0\">\n",
       "<path style=\"stroke:none;\" d=\"\"/>\n",
       "</symbol>\n",
       "<symbol overflow=\"visible\" id=\"glyph-1488165746378672-0-1\">\n",
       "<path style=\"stroke:none;\" d=\"M 6.5625 -2.296875 C 6.734375 -2.296875 6.921875 -2.296875 6.921875 -2.5 C 6.921875 -2.6875 6.734375 -2.6875 6.5625 -2.6875 L 1.171875 -2.6875 C 1 -2.6875 0.828125 -2.6875 0.828125 -2.5 C 0.828125 -2.296875 1 -2.296875 1.171875 -2.296875 Z M 6.5625 -2.296875 \"/>\n",
       "</symbol>\n",
       "<symbol overflow=\"visible\" id=\"glyph-1488165746378672-1-0\">\n",
       "<path style=\"stroke:none;\" d=\"\"/>\n",
       "</symbol>\n",
       "<symbol overflow=\"visible\" id=\"glyph-1488165746378672-1-1\">\n",
       "<path style=\"stroke:none;\" d=\"M 2.9375 -1.640625 L 2.9375 -0.78125 C 2.9375 -0.421875 2.90625 -0.3125 2.171875 -0.3125 L 1.96875 -0.3125 L 1.96875 0 C 2.375 -0.03125 2.890625 -0.03125 3.3125 -0.03125 C 3.734375 -0.03125 4.25 -0.03125 4.671875 0 L 4.671875 -0.3125 L 4.453125 -0.3125 C 3.71875 -0.3125 3.703125 -0.421875 3.703125 -0.78125 L 3.703125 -1.640625 L 4.6875 -1.640625 L 4.6875 -1.953125 L 3.703125 -1.953125 L 3.703125 -6.484375 C 3.703125 -6.6875 3.703125 -6.75 3.53125 -6.75 C 3.453125 -6.75 3.421875 -6.75 3.34375 -6.625 L 0.28125 -1.953125 L 0.28125 -1.640625 Z M 2.984375 -1.953125 L 0.5625 -1.953125 L 2.984375 -5.671875 Z M 2.984375 -1.953125 \"/>\n",
       "</symbol>\n",
       "<symbol overflow=\"visible\" id=\"glyph-1488165746378672-1-2\">\n",
       "<path style=\"stroke:none;\" d=\"M 1.265625 -0.765625 L 2.328125 -1.796875 C 3.875 -3.171875 4.46875 -3.703125 4.46875 -4.703125 C 4.46875 -5.84375 3.578125 -6.640625 2.359375 -6.640625 C 1.234375 -6.640625 0.5 -5.71875 0.5 -4.828125 C 0.5 -4.28125 1 -4.28125 1.03125 -4.28125 C 1.203125 -4.28125 1.546875 -4.390625 1.546875 -4.8125 C 1.546875 -5.0625 1.359375 -5.328125 1.015625 -5.328125 C 0.9375 -5.328125 0.921875 -5.328125 0.890625 -5.3125 C 1.109375 -5.96875 1.65625 -6.328125 2.234375 -6.328125 C 3.140625 -6.328125 3.5625 -5.515625 3.5625 -4.703125 C 3.5625 -3.90625 3.078125 -3.125 2.515625 -2.5 L 0.609375 -0.375 C 0.5 -0.265625 0.5 -0.234375 0.5 0 L 4.203125 0 L 4.46875 -1.734375 L 4.234375 -1.734375 C 4.171875 -1.4375 4.109375 -1 4 -0.84375 C 3.9375 -0.765625 3.28125 -0.765625 3.0625 -0.765625 Z M 1.265625 -0.765625 \"/>\n",
       "</symbol>\n",
       "<symbol overflow=\"visible\" id=\"glyph-1488165746378672-1-3\">\n",
       "<path style=\"stroke:none;\" d=\"M 4.578125 -3.1875 C 4.578125 -3.984375 4.53125 -4.78125 4.1875 -5.515625 C 3.734375 -6.484375 2.90625 -6.640625 2.5 -6.640625 C 1.890625 -6.640625 1.171875 -6.375 0.75 -5.453125 C 0.4375 -4.765625 0.390625 -3.984375 0.390625 -3.1875 C 0.390625 -2.4375 0.421875 -1.546875 0.84375 -0.78125 C 1.265625 0.015625 2 0.21875 2.484375 0.21875 C 3.015625 0.21875 3.78125 0.015625 4.21875 -0.9375 C 4.53125 -1.625 4.578125 -2.40625 4.578125 -3.1875 Z M 2.484375 0 C 2.09375 0 1.5 -0.25 1.328125 -1.203125 C 1.21875 -1.796875 1.21875 -2.71875 1.21875 -3.3125 C 1.21875 -3.953125 1.21875 -4.609375 1.296875 -5.140625 C 1.484375 -6.328125 2.234375 -6.421875 2.484375 -6.421875 C 2.8125 -6.421875 3.46875 -6.234375 3.65625 -5.25 C 3.765625 -4.6875 3.765625 -3.9375 3.765625 -3.3125 C 3.765625 -2.5625 3.765625 -1.890625 3.65625 -1.25 C 3.5 -0.296875 2.9375 0 2.484375 0 Z M 2.484375 0 \"/>\n",
       "</symbol>\n",
       "<symbol overflow=\"visible\" id=\"glyph-1488165746378672-1-4\">\n",
       "<path style=\"stroke:none;\" d=\"M 1.3125 -3.265625 L 1.3125 -3.515625 C 1.3125 -6.03125 2.546875 -6.390625 3.0625 -6.390625 C 3.296875 -6.390625 3.71875 -6.328125 3.9375 -5.984375 C 3.78125 -5.984375 3.390625 -5.984375 3.390625 -5.546875 C 3.390625 -5.234375 3.625 -5.078125 3.84375 -5.078125 C 4 -5.078125 4.3125 -5.171875 4.3125 -5.5625 C 4.3125 -6.15625 3.875 -6.640625 3.046875 -6.640625 C 1.765625 -6.640625 0.421875 -5.359375 0.421875 -3.15625 C 0.421875 -0.484375 1.578125 0.21875 2.5 0.21875 C 3.609375 0.21875 4.5625 -0.71875 4.5625 -2.03125 C 4.5625 -3.296875 3.671875 -4.25 2.5625 -4.25 C 1.890625 -4.25 1.515625 -3.75 1.3125 -3.265625 Z M 2.5 -0.0625 C 1.875 -0.0625 1.578125 -0.65625 1.515625 -0.8125 C 1.328125 -1.28125 1.328125 -2.078125 1.328125 -2.25 C 1.328125 -3.03125 1.65625 -4.03125 2.546875 -4.03125 C 2.71875 -4.03125 3.171875 -4.03125 3.484375 -3.40625 C 3.65625 -3.046875 3.65625 -2.53125 3.65625 -2.046875 C 3.65625 -1.5625 3.65625 -1.0625 3.484375 -0.703125 C 3.1875 -0.109375 2.734375 -0.0625 2.5 -0.0625 Z M 2.5 -0.0625 \"/>\n",
       "</symbol>\n",
       "<symbol overflow=\"visible\" id=\"glyph-1488165746378672-1-5\">\n",
       "<path style=\"stroke:none;\" d=\"M 1.625 -4.5625 C 1.171875 -4.859375 1.125 -5.1875 1.125 -5.359375 C 1.125 -5.96875 1.78125 -6.390625 2.484375 -6.390625 C 3.203125 -6.390625 3.84375 -5.875 3.84375 -5.15625 C 3.84375 -4.578125 3.453125 -4.109375 2.859375 -3.765625 Z M 3.078125 -3.609375 C 3.796875 -3.984375 4.28125 -4.5 4.28125 -5.15625 C 4.28125 -6.078125 3.40625 -6.640625 2.5 -6.640625 C 1.5 -6.640625 0.6875 -5.90625 0.6875 -4.96875 C 0.6875 -4.796875 0.703125 -4.34375 1.125 -3.875 C 1.234375 -3.765625 1.609375 -3.515625 1.859375 -3.34375 C 1.28125 -3.046875 0.421875 -2.5 0.421875 -1.5 C 0.421875 -0.453125 1.4375 0.21875 2.484375 0.21875 C 3.609375 0.21875 4.5625 -0.609375 4.5625 -1.671875 C 4.5625 -2.03125 4.453125 -2.484375 4.0625 -2.90625 C 3.875 -3.109375 3.71875 -3.203125 3.078125 -3.609375 Z M 2.078125 -3.1875 L 3.3125 -2.40625 C 3.59375 -2.21875 4.0625 -1.921875 4.0625 -1.3125 C 4.0625 -0.578125 3.3125 -0.0625 2.5 -0.0625 C 1.640625 -0.0625 0.921875 -0.671875 0.921875 -1.5 C 0.921875 -2.078125 1.234375 -2.71875 2.078125 -3.1875 Z M 2.078125 -3.1875 \"/>\n",
       "</symbol>\n",
       "<symbol overflow=\"visible\" id=\"glyph-1488165746378672-1-6\">\n",
       "<path style=\"stroke:none;\" d=\"M 4.46875 -2 C 4.46875 -3.1875 3.65625 -4.1875 2.578125 -4.1875 C 2.109375 -4.1875 1.671875 -4.03125 1.3125 -3.671875 L 1.3125 -5.625 C 1.515625 -5.5625 1.84375 -5.5 2.15625 -5.5 C 3.390625 -5.5 4.09375 -6.40625 4.09375 -6.53125 C 4.09375 -6.59375 4.0625 -6.640625 3.984375 -6.640625 C 3.984375 -6.640625 3.953125 -6.640625 3.90625 -6.609375 C 3.703125 -6.515625 3.21875 -6.3125 2.546875 -6.3125 C 2.15625 -6.3125 1.6875 -6.390625 1.21875 -6.59375 C 1.140625 -6.625 1.125 -6.625 1.109375 -6.625 C 1 -6.625 1 -6.546875 1 -6.390625 L 1 -3.4375 C 1 -3.265625 1 -3.1875 1.140625 -3.1875 C 1.21875 -3.1875 1.234375 -3.203125 1.28125 -3.265625 C 1.390625 -3.421875 1.75 -3.96875 2.5625 -3.96875 C 3.078125 -3.96875 3.328125 -3.515625 3.40625 -3.328125 C 3.5625 -2.953125 3.59375 -2.578125 3.59375 -2.078125 C 3.59375 -1.71875 3.59375 -1.125 3.34375 -0.703125 C 3.109375 -0.3125 2.734375 -0.0625 2.28125 -0.0625 C 1.5625 -0.0625 0.984375 -0.59375 0.8125 -1.171875 C 0.84375 -1.171875 0.875 -1.15625 0.984375 -1.15625 C 1.3125 -1.15625 1.484375 -1.40625 1.484375 -1.640625 C 1.484375 -1.890625 1.3125 -2.140625 0.984375 -2.140625 C 0.84375 -2.140625 0.5 -2.0625 0.5 -1.609375 C 0.5 -0.75 1.1875 0.21875 2.296875 0.21875 C 3.453125 0.21875 4.46875 -0.734375 4.46875 -2 Z M 4.46875 -2 \"/>\n",
       "</symbol>\n",
       "<symbol overflow=\"visible\" id=\"glyph-1488165746378672-1-7\">\n",
       "<path style=\"stroke:none;\" d=\"M 2.9375 -6.375 C 2.9375 -6.625 2.9375 -6.640625 2.703125 -6.640625 C 2.078125 -6 1.203125 -6 0.890625 -6 L 0.890625 -5.6875 C 1.09375 -5.6875 1.671875 -5.6875 2.1875 -5.953125 L 2.1875 -0.78125 C 2.1875 -0.421875 2.15625 -0.3125 1.265625 -0.3125 L 0.953125 -0.3125 L 0.953125 0 C 1.296875 -0.03125 2.15625 -0.03125 2.5625 -0.03125 C 2.953125 -0.03125 3.828125 -0.03125 4.171875 0 L 4.171875 -0.3125 L 3.859375 -0.3125 C 2.953125 -0.3125 2.9375 -0.421875 2.9375 -0.78125 Z M 2.9375 -6.375 \"/>\n",
       "</symbol>\n",
       "<symbol overflow=\"visible\" id=\"glyph-1488165746378672-1-8\">\n",
       "<path style=\"stroke:none;\" d=\"M 2.890625 -3.515625 C 3.703125 -3.78125 4.28125 -4.46875 4.28125 -5.265625 C 4.28125 -6.078125 3.40625 -6.640625 2.453125 -6.640625 C 1.453125 -6.640625 0.6875 -6.046875 0.6875 -5.28125 C 0.6875 -4.953125 0.90625 -4.765625 1.203125 -4.765625 C 1.5 -4.765625 1.703125 -4.984375 1.703125 -5.28125 C 1.703125 -5.765625 1.234375 -5.765625 1.09375 -5.765625 C 1.390625 -6.265625 2.046875 -6.390625 2.40625 -6.390625 C 2.828125 -6.390625 3.375 -6.171875 3.375 -5.28125 C 3.375 -5.15625 3.34375 -4.578125 3.09375 -4.140625 C 2.796875 -3.65625 2.453125 -3.625 2.203125 -3.625 C 2.125 -3.609375 1.890625 -3.59375 1.8125 -3.59375 C 1.734375 -3.578125 1.671875 -3.5625 1.671875 -3.46875 C 1.671875 -3.359375 1.734375 -3.359375 1.90625 -3.359375 L 2.34375 -3.359375 C 3.15625 -3.359375 3.53125 -2.6875 3.53125 -1.703125 C 3.53125 -0.34375 2.84375 -0.0625 2.40625 -0.0625 C 1.96875 -0.0625 1.21875 -0.234375 0.875 -0.8125 C 1.21875 -0.765625 1.53125 -0.984375 1.53125 -1.359375 C 1.53125 -1.71875 1.265625 -1.921875 0.984375 -1.921875 C 0.734375 -1.921875 0.421875 -1.78125 0.421875 -1.34375 C 0.421875 -0.4375 1.34375 0.21875 2.4375 0.21875 C 3.65625 0.21875 4.5625 -0.6875 4.5625 -1.703125 C 4.5625 -2.515625 3.921875 -3.296875 2.890625 -3.515625 Z M 2.890625 -3.515625 \"/>\n",
       "</symbol>\n",
       "<symbol overflow=\"visible\" id=\"glyph-1488165746378672-1-9\">\n",
       "<path style=\"stroke:none;\" d=\"M 6.640625 -6.75 L 0.546875 -6.75 L 0.359375 -4.5 L 0.609375 -4.5 C 0.75 -6.109375 0.890625 -6.4375 2.40625 -6.4375 C 2.578125 -6.4375 2.84375 -6.4375 2.9375 -6.421875 C 3.15625 -6.375 3.15625 -6.265625 3.15625 -6.046875 L 3.15625 -0.78125 C 3.15625 -0.453125 3.15625 -0.3125 2.109375 -0.3125 L 1.703125 -0.3125 L 1.703125 0 C 2.109375 -0.03125 3.125 -0.03125 3.59375 -0.03125 C 4.046875 -0.03125 5.078125 -0.03125 5.484375 0 L 5.484375 -0.3125 L 5.078125 -0.3125 C 4.03125 -0.3125 4.03125 -0.453125 4.03125 -0.78125 L 4.03125 -6.046875 C 4.03125 -6.234375 4.03125 -6.375 4.21875 -6.421875 C 4.328125 -6.4375 4.59375 -6.4375 4.78125 -6.4375 C 6.296875 -6.4375 6.4375 -6.109375 6.578125 -4.5 L 6.828125 -4.5 Z M 6.640625 -6.75 \"/>\n",
       "</symbol>\n",
       "<symbol overflow=\"visible\" id=\"glyph-1488165746378672-1-10\">\n",
       "<path style=\"stroke:none;\" d=\"M 1.765625 -4.40625 L 0.375 -4.296875 L 0.375 -3.984375 C 1.015625 -3.984375 1.109375 -3.921875 1.109375 -3.4375 L 1.109375 -0.75 C 1.109375 -0.3125 1 -0.3125 0.328125 -0.3125 L 0.328125 0 C 0.640625 -0.015625 1.1875 -0.03125 1.421875 -0.03125 C 1.78125 -0.03125 2.125 -0.015625 2.46875 0 L 2.46875 -0.3125 C 1.796875 -0.3125 1.765625 -0.359375 1.765625 -0.75 Z M 1.796875 -6.140625 C 1.796875 -6.453125 1.5625 -6.671875 1.28125 -6.671875 C 0.96875 -6.671875 0.75 -6.40625 0.75 -6.140625 C 0.75 -5.875 0.96875 -5.609375 1.28125 -5.609375 C 1.5625 -5.609375 1.796875 -5.828125 1.796875 -6.140625 Z M 1.796875 -6.140625 \"/>\n",
       "</symbol>\n",
       "<symbol overflow=\"visible\" id=\"glyph-1488165746378672-1-11\">\n",
       "<path style=\"stroke:none;\" d=\"M 1.09375 -3.421875 L 1.09375 -0.75 C 1.09375 -0.3125 0.984375 -0.3125 0.3125 -0.3125 L 0.3125 0 C 0.671875 -0.015625 1.171875 -0.03125 1.453125 -0.03125 C 1.703125 -0.03125 2.21875 -0.015625 2.5625 0 L 2.5625 -0.3125 C 1.890625 -0.3125 1.78125 -0.3125 1.78125 -0.75 L 1.78125 -2.59375 C 1.78125 -3.625 2.5 -4.1875 3.125 -4.1875 C 3.765625 -4.1875 3.875 -3.65625 3.875 -3.078125 L 3.875 -0.75 C 3.875 -0.3125 3.765625 -0.3125 3.09375 -0.3125 L 3.09375 0 C 3.4375 -0.015625 3.953125 -0.03125 4.21875 -0.03125 C 4.46875 -0.03125 5 -0.015625 5.328125 0 L 5.328125 -0.3125 C 4.671875 -0.3125 4.5625 -0.3125 4.5625 -0.75 L 4.5625 -2.59375 C 4.5625 -3.625 5.265625 -4.1875 5.90625 -4.1875 C 6.53125 -4.1875 6.640625 -3.65625 6.640625 -3.078125 L 6.640625 -0.75 C 6.640625 -0.3125 6.53125 -0.3125 5.859375 -0.3125 L 5.859375 0 C 6.203125 -0.015625 6.71875 -0.03125 6.984375 -0.03125 C 7.25 -0.03125 7.765625 -0.015625 8.109375 0 L 8.109375 -0.3125 C 7.59375 -0.3125 7.34375 -0.3125 7.328125 -0.609375 L 7.328125 -2.515625 C 7.328125 -3.375 7.328125 -3.671875 7.015625 -4.03125 C 6.875 -4.203125 6.546875 -4.40625 5.96875 -4.40625 C 5.140625 -4.40625 4.6875 -3.8125 4.53125 -3.421875 C 4.390625 -4.296875 3.65625 -4.40625 3.203125 -4.40625 C 2.46875 -4.40625 2 -3.984375 1.71875 -3.359375 L 1.71875 -4.40625 L 0.3125 -4.296875 L 0.3125 -3.984375 C 1.015625 -3.984375 1.09375 -3.921875 1.09375 -3.421875 Z M 1.09375 -3.421875 \"/>\n",
       "</symbol>\n",
       "<symbol overflow=\"visible\" id=\"glyph-1488165746378672-1-12\">\n",
       "<path style=\"stroke:none;\" d=\"M 1.109375 -2.515625 C 1.171875 -4 2.015625 -4.25 2.359375 -4.25 C 3.375 -4.25 3.484375 -2.90625 3.484375 -2.515625 Z M 1.109375 -2.296875 L 3.890625 -2.296875 C 4.109375 -2.296875 4.140625 -2.296875 4.140625 -2.515625 C 4.140625 -3.5 3.59375 -4.46875 2.359375 -4.46875 C 1.203125 -4.46875 0.28125 -3.4375 0.28125 -2.1875 C 0.28125 -0.859375 1.328125 0.109375 2.46875 0.109375 C 3.6875 0.109375 4.140625 -1 4.140625 -1.1875 C 4.140625 -1.28125 4.0625 -1.3125 4 -1.3125 C 3.921875 -1.3125 3.890625 -1.25 3.875 -1.171875 C 3.53125 -0.140625 2.625 -0.140625 2.53125 -0.140625 C 2.03125 -0.140625 1.640625 -0.4375 1.40625 -0.8125 C 1.109375 -1.28125 1.109375 -1.9375 1.109375 -2.296875 Z M 1.109375 -2.296875 \"/>\n",
       "</symbol>\n",
       "<symbol overflow=\"visible\" id=\"glyph-1488165746378672-1-13\">\n",
       "<path style=\"stroke:none;\" d=\"M 2.21875 -1.71875 C 1.34375 -1.71875 1.34375 -2.71875 1.34375 -2.9375 C 1.34375 -3.203125 1.359375 -3.53125 1.5 -3.78125 C 1.578125 -3.890625 1.8125 -4.171875 2.21875 -4.171875 C 3.078125 -4.171875 3.078125 -3.1875 3.078125 -2.953125 C 3.078125 -2.6875 3.078125 -2.359375 2.921875 -2.109375 C 2.84375 -2 2.609375 -1.71875 2.21875 -1.71875 Z M 1.0625 -1.328125 C 1.0625 -1.359375 1.0625 -1.59375 1.21875 -1.796875 C 1.609375 -1.515625 2.03125 -1.484375 2.21875 -1.484375 C 3.140625 -1.484375 3.828125 -2.171875 3.828125 -2.9375 C 3.828125 -3.3125 3.671875 -3.671875 3.421875 -3.90625 C 3.78125 -4.25 4.140625 -4.296875 4.3125 -4.296875 C 4.34375 -4.296875 4.390625 -4.296875 4.421875 -4.28125 C 4.3125 -4.25 4.25 -4.140625 4.25 -4.015625 C 4.25 -3.84375 4.390625 -3.734375 4.546875 -3.734375 C 4.640625 -3.734375 4.828125 -3.796875 4.828125 -4.03125 C 4.828125 -4.203125 4.71875 -4.515625 4.328125 -4.515625 C 4.125 -4.515625 3.6875 -4.453125 3.265625 -4.046875 C 2.84375 -4.375 2.4375 -4.40625 2.21875 -4.40625 C 1.28125 -4.40625 0.59375 -3.71875 0.59375 -2.953125 C 0.59375 -2.515625 0.8125 -2.140625 1.0625 -1.921875 C 0.9375 -1.78125 0.75 -1.453125 0.75 -1.09375 C 0.75 -0.78125 0.890625 -0.40625 1.203125 -0.203125 C 0.59375 -0.046875 0.28125 0.390625 0.28125 0.78125 C 0.28125 1.5 1.265625 2.046875 2.484375 2.046875 C 3.65625 2.046875 4.6875 1.546875 4.6875 0.765625 C 4.6875 0.421875 4.5625 -0.09375 4.046875 -0.375 C 3.515625 -0.640625 2.9375 -0.640625 2.328125 -0.640625 C 2.078125 -0.640625 1.65625 -0.640625 1.578125 -0.65625 C 1.265625 -0.703125 1.0625 -1 1.0625 -1.328125 Z M 2.5 1.828125 C 1.484375 1.828125 0.796875 1.3125 0.796875 0.78125 C 0.796875 0.328125 1.171875 -0.046875 1.609375 -0.0625 L 2.203125 -0.0625 C 3.0625 -0.0625 4.171875 -0.0625 4.171875 0.78125 C 4.171875 1.328125 3.46875 1.828125 2.5 1.828125 Z M 2.5 1.828125 \"/>\n",
       "</symbol>\n",
       "<symbol overflow=\"visible\" id=\"glyph-1488165746378672-1-14\">\n",
       "<path style=\"stroke:none;\" d=\"M 3.3125 -0.75 C 3.359375 -0.359375 3.625 0.0625 4.09375 0.0625 C 4.3125 0.0625 4.921875 -0.078125 4.921875 -0.890625 L 4.921875 -1.453125 L 4.671875 -1.453125 L 4.671875 -0.890625 C 4.671875 -0.3125 4.421875 -0.25 4.3125 -0.25 C 3.984375 -0.25 3.9375 -0.703125 3.9375 -0.75 L 3.9375 -2.734375 C 3.9375 -3.15625 3.9375 -3.546875 3.578125 -3.921875 C 3.1875 -4.3125 2.6875 -4.46875 2.21875 -4.46875 C 1.390625 -4.46875 0.703125 -4 0.703125 -3.34375 C 0.703125 -3.046875 0.90625 -2.875 1.171875 -2.875 C 1.453125 -2.875 1.625 -3.078125 1.625 -3.328125 C 1.625 -3.453125 1.578125 -3.78125 1.109375 -3.78125 C 1.390625 -4.140625 1.875 -4.25 2.1875 -4.25 C 2.6875 -4.25 3.25 -3.859375 3.25 -2.96875 L 3.25 -2.609375 C 2.734375 -2.578125 2.046875 -2.546875 1.421875 -2.25 C 0.671875 -1.90625 0.421875 -1.390625 0.421875 -0.953125 C 0.421875 -0.140625 1.390625 0.109375 2.015625 0.109375 C 2.671875 0.109375 3.125 -0.296875 3.3125 -0.75 Z M 3.25 -2.390625 L 3.25 -1.390625 C 3.25 -0.453125 2.53125 -0.109375 2.078125 -0.109375 C 1.59375 -0.109375 1.1875 -0.453125 1.1875 -0.953125 C 1.1875 -1.5 1.609375 -2.328125 3.25 -2.390625 Z M 3.25 -2.390625 \"/>\n",
       "</symbol>\n",
       "<symbol overflow=\"visible\" id=\"glyph-1488165746378672-1-15\">\n",
       "<path style=\"stroke:none;\" d=\"M 1.71875 -3.75 L 1.71875 -4.40625 L 0.28125 -4.296875 L 0.28125 -3.984375 C 0.984375 -3.984375 1.0625 -3.921875 1.0625 -3.484375 L 1.0625 1.171875 C 1.0625 1.625 0.953125 1.625 0.28125 1.625 L 0.28125 1.9375 C 0.625 1.921875 1.140625 1.90625 1.390625 1.90625 C 1.671875 1.90625 2.171875 1.921875 2.515625 1.9375 L 2.515625 1.625 C 1.859375 1.625 1.75 1.625 1.75 1.171875 L 1.75 -0.59375 C 1.796875 -0.421875 2.21875 0.109375 2.96875 0.109375 C 4.15625 0.109375 5.1875 -0.875 5.1875 -2.15625 C 5.1875 -3.421875 4.234375 -4.40625 3.109375 -4.40625 C 2.328125 -4.40625 1.90625 -3.96875 1.71875 -3.75 Z M 1.75 -1.140625 L 1.75 -3.359375 C 2.03125 -3.875 2.515625 -4.15625 3.03125 -4.15625 C 3.765625 -4.15625 4.359375 -3.28125 4.359375 -2.15625 C 4.359375 -0.953125 3.671875 -0.109375 2.9375 -0.109375 C 2.53125 -0.109375 2.15625 -0.3125 1.890625 -0.71875 C 1.75 -0.921875 1.75 -0.9375 1.75 -1.140625 Z M 1.75 -1.140625 \"/>\n",
       "</symbol>\n",
       "<symbol overflow=\"visible\" id=\"glyph-1488165746378672-1-16\">\n",
       "<path style=\"stroke:none;\" d=\"M 1.71875 -3.984375 L 3.15625 -3.984375 L 3.15625 -4.296875 L 1.71875 -4.296875 L 1.71875 -6.125 L 1.46875 -6.125 C 1.46875 -5.3125 1.171875 -4.25 0.1875 -4.203125 L 0.1875 -3.984375 L 1.03125 -3.984375 L 1.03125 -1.234375 C 1.03125 -0.015625 1.96875 0.109375 2.328125 0.109375 C 3.03125 0.109375 3.3125 -0.59375 3.3125 -1.234375 L 3.3125 -1.796875 L 3.0625 -1.796875 L 3.0625 -1.25 C 3.0625 -0.515625 2.765625 -0.140625 2.390625 -0.140625 C 1.71875 -0.140625 1.71875 -1.046875 1.71875 -1.21875 Z M 1.71875 -3.984375 \"/>\n",
       "</symbol>\n",
       "<symbol overflow=\"visible\" id=\"glyph-1488165746378672-1-17\">\n",
       "<path style=\"stroke:none;\" d=\"M 4.6875 -2.140625 C 4.6875 -3.40625 3.703125 -4.46875 2.5 -4.46875 C 1.25 -4.46875 0.28125 -3.375 0.28125 -2.140625 C 0.28125 -0.84375 1.3125 0.109375 2.484375 0.109375 C 3.6875 0.109375 4.6875 -0.875 4.6875 -2.140625 Z M 2.5 -0.140625 C 2.0625 -0.140625 1.625 -0.34375 1.359375 -0.8125 C 1.109375 -1.25 1.109375 -1.859375 1.109375 -2.21875 C 1.109375 -2.609375 1.109375 -3.140625 1.34375 -3.578125 C 1.609375 -4.03125 2.078125 -4.25 2.484375 -4.25 C 2.921875 -4.25 3.34375 -4.03125 3.609375 -3.59375 C 3.875 -3.171875 3.875 -2.59375 3.875 -2.21875 C 3.875 -1.859375 3.875 -1.3125 3.65625 -0.875 C 3.421875 -0.421875 2.984375 -0.140625 2.5 -0.140625 Z M 2.5 -0.140625 \"/>\n",
       "</symbol>\n",
       "<symbol overflow=\"visible\" id=\"glyph-1488165746378672-1-18\">\n",
       "<path style=\"stroke:none;\" d=\"M 0.5625 -3.40625 C 0.5625 -1.34375 2.171875 0.21875 4.03125 0.21875 C 5.65625 0.21875 6.625 -1.171875 6.625 -2.328125 C 6.625 -2.421875 6.625 -2.5 6.5 -2.5 C 6.390625 -2.5 6.390625 -2.4375 6.375 -2.328125 C 6.296875 -0.90625 5.234375 -0.09375 4.140625 -0.09375 C 3.53125 -0.09375 1.578125 -0.421875 1.578125 -3.40625 C 1.578125 -6.375 3.53125 -6.71875 4.140625 -6.71875 C 5.21875 -6.71875 6.109375 -5.8125 6.3125 -4.359375 C 6.328125 -4.21875 6.328125 -4.1875 6.46875 -4.1875 C 6.625 -4.1875 6.625 -4.21875 6.625 -4.421875 L 6.625 -6.78125 C 6.625 -6.953125 6.625 -7.03125 6.515625 -7.03125 C 6.484375 -7.03125 6.4375 -7.03125 6.359375 -6.90625 L 5.859375 -6.171875 C 5.5 -6.53125 4.984375 -7.03125 4.03125 -7.03125 C 2.15625 -7.03125 0.5625 -5.4375 0.5625 -3.40625 Z M 0.5625 -3.40625 \"/>\n",
       "</symbol>\n",
       "<symbol overflow=\"visible\" id=\"glyph-1488165746378672-1-19\">\n",
       "<path style=\"stroke:none;\" d=\"M 1.765625 -6.921875 L 0.328125 -6.8125 L 0.328125 -6.5 C 1.03125 -6.5 1.109375 -6.4375 1.109375 -5.9375 L 1.109375 -0.75 C 1.109375 -0.3125 1 -0.3125 0.328125 -0.3125 L 0.328125 0 C 0.65625 -0.015625 1.1875 -0.03125 1.4375 -0.03125 C 1.6875 -0.03125 2.171875 -0.015625 2.546875 0 L 2.546875 -0.3125 C 1.875 -0.3125 1.765625 -0.3125 1.765625 -0.75 Z M 1.765625 -6.921875 \"/>\n",
       "</symbol>\n",
       "<symbol overflow=\"visible\" id=\"glyph-1488165746378672-1-20\">\n",
       "<path style=\"stroke:none;\" d=\"M 2.078125 -1.9375 C 2.296875 -1.890625 3.109375 -1.734375 3.109375 -1.015625 C 3.109375 -0.515625 2.765625 -0.109375 1.984375 -0.109375 C 1.140625 -0.109375 0.78125 -0.671875 0.59375 -1.53125 C 0.5625 -1.65625 0.5625 -1.6875 0.453125 -1.6875 C 0.328125 -1.6875 0.328125 -1.625 0.328125 -1.453125 L 0.328125 -0.125 C 0.328125 0.046875 0.328125 0.109375 0.4375 0.109375 C 0.484375 0.109375 0.5 0.09375 0.6875 -0.09375 C 0.703125 -0.109375 0.703125 -0.125 0.890625 -0.3125 C 1.328125 0.09375 1.78125 0.109375 1.984375 0.109375 C 3.125 0.109375 3.59375 -0.5625 3.59375 -1.28125 C 3.59375 -1.796875 3.296875 -2.109375 3.171875 -2.21875 C 2.84375 -2.546875 2.453125 -2.625 2.03125 -2.703125 C 1.46875 -2.8125 0.8125 -2.9375 0.8125 -3.515625 C 0.8125 -3.875 1.0625 -4.28125 1.921875 -4.28125 C 3.015625 -4.28125 3.078125 -3.375 3.09375 -3.078125 C 3.09375 -2.984375 3.1875 -2.984375 3.203125 -2.984375 C 3.34375 -2.984375 3.34375 -3.03125 3.34375 -3.21875 L 3.34375 -4.234375 C 3.34375 -4.390625 3.34375 -4.46875 3.234375 -4.46875 C 3.1875 -4.46875 3.15625 -4.46875 3.03125 -4.34375 C 3 -4.3125 2.90625 -4.21875 2.859375 -4.1875 C 2.484375 -4.46875 2.078125 -4.46875 1.921875 -4.46875 C 0.703125 -4.46875 0.328125 -3.796875 0.328125 -3.234375 C 0.328125 -2.890625 0.484375 -2.609375 0.75 -2.390625 C 1.078125 -2.140625 1.359375 -2.078125 2.078125 -1.9375 Z M 2.078125 -1.9375 \"/>\n",
       "</symbol>\n",
       "<symbol overflow=\"visible\" id=\"glyph-1488165746378672-1-21\">\n",
       "<path style=\"stroke:none;\" d=\"M 1.09375 -3.421875 L 1.09375 -0.75 C 1.09375 -0.3125 0.984375 -0.3125 0.3125 -0.3125 L 0.3125 0 C 0.671875 -0.015625 1.171875 -0.03125 1.453125 -0.03125 C 1.703125 -0.03125 2.21875 -0.015625 2.5625 0 L 2.5625 -0.3125 C 1.890625 -0.3125 1.78125 -0.3125 1.78125 -0.75 L 1.78125 -2.59375 C 1.78125 -3.625 2.5 -4.1875 3.125 -4.1875 C 3.765625 -4.1875 3.875 -3.65625 3.875 -3.078125 L 3.875 -0.75 C 3.875 -0.3125 3.765625 -0.3125 3.09375 -0.3125 L 3.09375 0 C 3.4375 -0.015625 3.953125 -0.03125 4.21875 -0.03125 C 4.46875 -0.03125 5 -0.015625 5.328125 0 L 5.328125 -0.3125 C 4.8125 -0.3125 4.5625 -0.3125 4.5625 -0.609375 L 4.5625 -2.515625 C 4.5625 -3.375 4.5625 -3.671875 4.25 -4.03125 C 4.109375 -4.203125 3.78125 -4.40625 3.203125 -4.40625 C 2.46875 -4.40625 2 -3.984375 1.71875 -3.359375 L 1.71875 -4.40625 L 0.3125 -4.296875 L 0.3125 -3.984375 C 1.015625 -3.984375 1.09375 -3.921875 1.09375 -3.421875 Z M 1.09375 -3.421875 \"/>\n",
       "</symbol>\n",
       "<symbol overflow=\"visible\" id=\"glyph-1488165746378672-1-22\">\n",
       "<path style=\"stroke:none;\" d=\"M 6.1875 -5.828125 C 6.328125 -6.203125 6.59375 -6.484375 7.28125 -6.5 L 7.28125 -6.8125 C 6.96875 -6.78125 6.5625 -6.78125 6.3125 -6.78125 C 6.015625 -6.78125 5.4375 -6.796875 5.171875 -6.8125 L 5.171875 -6.5 C 5.6875 -6.484375 5.90625 -6.234375 5.90625 -6 C 5.90625 -5.921875 5.875 -5.859375 5.859375 -5.796875 L 4.03125 -1 L 2.125 -6.03125 C 2.0625 -6.171875 2.0625 -6.1875 2.0625 -6.203125 C 2.0625 -6.5 2.625 -6.5 2.875 -6.5 L 2.875 -6.8125 C 2.515625 -6.78125 1.828125 -6.78125 1.453125 -6.78125 C 0.984375 -6.78125 0.546875 -6.796875 0.1875 -6.8125 L 0.1875 -6.5 C 0.84375 -6.5 1.03125 -6.5 1.171875 -6.125 L 3.484375 0 C 3.546875 0.1875 3.59375 0.21875 3.734375 0.21875 C 3.890625 0.21875 3.921875 0.171875 3.96875 0.03125 Z M 6.1875 -5.828125 \"/>\n",
       "</symbol>\n",
       "<symbol overflow=\"visible\" id=\"glyph-1488165746378672-1-23\">\n",
       "<path style=\"stroke:none;\" d=\"M 1.171875 -2.171875 C 1.171875 -3.796875 1.984375 -4.21875 2.515625 -4.21875 C 2.609375 -4.21875 3.234375 -4.203125 3.578125 -3.84375 C 3.171875 -3.8125 3.109375 -3.515625 3.109375 -3.390625 C 3.109375 -3.125 3.296875 -2.9375 3.5625 -2.9375 C 3.828125 -2.9375 4.03125 -3.09375 4.03125 -3.40625 C 4.03125 -4.078125 3.265625 -4.46875 2.5 -4.46875 C 1.25 -4.46875 0.34375 -3.390625 0.34375 -2.15625 C 0.34375 -0.875 1.328125 0.109375 2.484375 0.109375 C 3.8125 0.109375 4.140625 -1.09375 4.140625 -1.1875 C 4.140625 -1.28125 4.03125 -1.28125 4 -1.28125 C 3.921875 -1.28125 3.890625 -1.25 3.875 -1.1875 C 3.59375 -0.265625 2.9375 -0.140625 2.578125 -0.140625 C 2.046875 -0.140625 1.171875 -0.5625 1.171875 -2.171875 Z M 1.171875 -2.171875 \"/>\n",
       "</symbol>\n",
       "<symbol overflow=\"visible\" id=\"glyph-1488165746378672-1-24\">\n",
       "<path style=\"stroke:none;\" d=\"M 4.140625 -3.34375 C 4.390625 -3.984375 4.90625 -3.984375 5.0625 -3.984375 L 5.0625 -4.296875 C 4.828125 -4.28125 4.546875 -4.265625 4.3125 -4.265625 C 4.140625 -4.265625 3.671875 -4.28125 3.453125 -4.296875 L 3.453125 -3.984375 C 3.765625 -3.984375 3.921875 -3.8125 3.921875 -3.5625 C 3.921875 -3.453125 3.90625 -3.4375 3.859375 -3.3125 L 2.84375 -0.875 L 1.75 -3.546875 C 1.703125 -3.65625 1.6875 -3.6875 1.6875 -3.734375 C 1.6875 -3.984375 2.046875 -3.984375 2.25 -3.984375 L 2.25 -4.296875 C 1.984375 -4.28125 1.328125 -4.265625 1.15625 -4.265625 C 0.890625 -4.265625 0.484375 -4.28125 0.1875 -4.296875 L 0.1875 -3.984375 C 0.671875 -3.984375 0.859375 -3.984375 1 -3.640625 L 2.5 0 C 2.4375 0.125 2.296875 0.453125 2.25 0.59375 C 2.03125 1.140625 1.75 1.828125 1.109375 1.828125 C 1.0625 1.828125 0.828125 1.828125 0.640625 1.640625 C 0.953125 1.609375 1.03125 1.390625 1.03125 1.21875 C 1.03125 0.96875 0.84375 0.8125 0.609375 0.8125 C 0.40625 0.8125 0.1875 0.9375 0.1875 1.234375 C 0.1875 1.6875 0.609375 2.046875 1.109375 2.046875 C 1.734375 2.046875 2.140625 1.46875 2.375 0.90625 Z M 4.140625 -3.34375 \"/>\n",
       "</symbol>\n",
       "<symbol overflow=\"visible\" id=\"glyph-1488165746378672-1-25\">\n",
       "<path style=\"stroke:none;\" d=\"M 4.75 -6.078125 C 4.828125 -6.1875 4.828125 -6.203125 4.828125 -6.421875 L 2.40625 -6.421875 C 1.203125 -6.421875 1.171875 -6.546875 1.140625 -6.734375 L 0.890625 -6.734375 L 0.5625 -4.6875 L 0.8125 -4.6875 C 0.84375 -4.84375 0.921875 -5.46875 1.0625 -5.59375 C 1.125 -5.65625 1.90625 -5.65625 2.03125 -5.65625 L 4.09375 -5.65625 C 3.984375 -5.5 3.203125 -4.40625 2.984375 -4.078125 C 2.078125 -2.734375 1.75 -1.34375 1.75 -0.328125 C 1.75 -0.234375 1.75 0.21875 2.21875 0.21875 C 2.671875 0.21875 2.671875 -0.234375 2.671875 -0.328125 L 2.671875 -0.84375 C 2.671875 -1.390625 2.703125 -1.9375 2.78125 -2.46875 C 2.828125 -2.703125 2.953125 -3.5625 3.40625 -4.171875 Z M 4.75 -6.078125 \"/>\n",
       "</symbol>\n",
       "<symbol overflow=\"visible\" id=\"glyph-1488165746378672-1-26\">\n",
       "<path style=\"stroke:none;\" d=\"M 3.65625 -3.171875 L 3.65625 -2.84375 C 3.65625 -0.515625 2.625 -0.0625 2.046875 -0.0625 C 1.875 -0.0625 1.328125 -0.078125 1.0625 -0.421875 C 1.5 -0.421875 1.578125 -0.703125 1.578125 -0.875 C 1.578125 -1.1875 1.34375 -1.328125 1.125 -1.328125 C 0.96875 -1.328125 0.671875 -1.25 0.671875 -0.859375 C 0.671875 -0.1875 1.203125 0.21875 2.046875 0.21875 C 3.34375 0.21875 4.5625 -1.140625 4.5625 -3.28125 C 4.5625 -5.96875 3.40625 -6.640625 2.515625 -6.640625 C 1.96875 -6.640625 1.484375 -6.453125 1.0625 -6.015625 C 0.640625 -5.5625 0.421875 -5.140625 0.421875 -4.390625 C 0.421875 -3.15625 1.296875 -2.171875 2.40625 -2.171875 C 3.015625 -2.171875 3.421875 -2.59375 3.65625 -3.171875 Z M 2.421875 -2.40625 C 2.265625 -2.40625 1.796875 -2.40625 1.5 -3.03125 C 1.3125 -3.40625 1.3125 -3.890625 1.3125 -4.390625 C 1.3125 -4.921875 1.3125 -5.390625 1.53125 -5.765625 C 1.796875 -6.265625 2.171875 -6.390625 2.515625 -6.390625 C 2.984375 -6.390625 3.3125 -6.046875 3.484375 -5.609375 C 3.59375 -5.28125 3.640625 -4.65625 3.640625 -4.203125 C 3.640625 -3.375 3.296875 -2.40625 2.421875 -2.40625 Z M 2.421875 -2.40625 \"/>\n",
       "</symbol>\n",
       "<symbol overflow=\"visible\" id=\"glyph-1488165746378672-1-27\">\n",
       "<path style=\"stroke:none;\" d=\"M 0.34375 -6.8125 L 0.34375 -6.5 L 0.59375 -6.5 C 1.359375 -6.5 1.375 -6.390625 1.375 -6.03125 L 1.375 -0.78125 C 1.375 -0.421875 1.359375 -0.3125 0.59375 -0.3125 L 0.34375 -0.3125 L 0.34375 0 L 4 0 C 5.671875 0 7.046875 -1.46875 7.046875 -3.34375 C 7.046875 -5.25 5.703125 -6.8125 4 -6.8125 Z M 2.71875 -0.3125 C 2.25 -0.3125 2.234375 -0.375 2.234375 -0.703125 L 2.234375 -6.09375 C 2.234375 -6.4375 2.25 -6.5 2.71875 -6.5 L 3.71875 -6.5 C 4.34375 -6.5 5.03125 -6.28125 5.53125 -5.578125 C 5.96875 -4.984375 6.046875 -4.125 6.046875 -3.34375 C 6.046875 -2.25 5.859375 -1.640625 5.5 -1.15625 C 5.296875 -0.890625 4.734375 -0.3125 3.734375 -0.3125 Z M 2.71875 -0.3125 \"/>\n",
       "</symbol>\n",
       "<symbol overflow=\"visible\" id=\"glyph-1488165746378672-1-28\">\n",
       "<path style=\"stroke:none;\" d=\"M 5.796875 -6.78125 L 0.328125 -6.78125 L 0.328125 -6.46875 L 0.5625 -6.46875 C 1.328125 -6.46875 1.359375 -6.359375 1.359375 -6 L 1.359375 -0.78125 C 1.359375 -0.421875 1.328125 -0.3125 0.5625 -0.3125 L 0.328125 -0.3125 L 0.328125 0 C 0.671875 -0.03125 1.453125 -0.03125 1.84375 -0.03125 C 2.25 -0.03125 3.15625 -0.03125 3.515625 0 L 3.515625 -0.3125 L 3.1875 -0.3125 C 2.25 -0.3125 2.25 -0.4375 2.25 -0.78125 L 2.25 -3.234375 L 3.09375 -3.234375 C 4.0625 -3.234375 4.15625 -2.921875 4.15625 -2.078125 L 4.40625 -2.078125 L 4.40625 -4.71875 L 4.15625 -4.71875 C 4.15625 -3.875 4.0625 -3.546875 3.09375 -3.546875 L 2.25 -3.546875 L 2.25 -6.078125 C 2.25 -6.40625 2.265625 -6.46875 2.734375 -6.46875 L 3.921875 -6.46875 C 5.421875 -6.46875 5.671875 -5.90625 5.828125 -4.53125 L 6.078125 -4.53125 Z M 5.796875 -6.78125 \"/>\n",
       "</symbol>\n",
       "<symbol overflow=\"visible\" id=\"glyph-1488165746378672-1-29\">\n",
       "<path style=\"stroke:none;\" d=\"M 1.671875 -3.3125 L 1.671875 -4.40625 L 0.28125 -4.296875 L 0.28125 -3.984375 C 0.984375 -3.984375 1.0625 -3.921875 1.0625 -3.421875 L 1.0625 -0.75 C 1.0625 -0.3125 0.953125 -0.3125 0.28125 -0.3125 L 0.28125 0 C 0.671875 -0.015625 1.140625 -0.03125 1.421875 -0.03125 C 1.8125 -0.03125 2.28125 -0.03125 2.6875 0 L 2.6875 -0.3125 L 2.46875 -0.3125 C 1.734375 -0.3125 1.71875 -0.421875 1.71875 -0.78125 L 1.71875 -2.3125 C 1.71875 -3.296875 2.140625 -4.1875 2.890625 -4.1875 C 2.953125 -4.1875 2.984375 -4.1875 3 -4.171875 C 2.96875 -4.171875 2.765625 -4.046875 2.765625 -3.78125 C 2.765625 -3.515625 2.984375 -3.359375 3.203125 -3.359375 C 3.375 -3.359375 3.625 -3.484375 3.625 -3.796875 C 3.625 -4.109375 3.3125 -4.40625 2.890625 -4.40625 C 2.15625 -4.40625 1.796875 -3.734375 1.671875 -3.3125 Z M 1.671875 -3.3125 \"/>\n",
       "</symbol>\n",
       "</g>\n",
       "<clipPath id=\"clip-1488165746378672-1\">\n",
       "  <path d=\"M 127 43 L 317.109375 43 L 317.109375 260.195312 L 127 260.195312 Z M 127 43 \"/>\n",
       "</clipPath>\n",
       "<clipPath id=\"clip-1488165746378672-2\">\n",
       "  <path d=\"M 366 51 L 662.238281 51 L 662.238281 261 L 366 261 Z M 366 51 \"/>\n",
       "</clipPath>\n",
       "<clipPath id=\"clip-1488165746378672-3\">\n",
       "  <path d=\"M 366 21 L 662.238281 21 L 662.238281 261 L 366 261 Z M 366 21 \"/>\n",
       "</clipPath>\n",
       "<clipPath id=\"clip-1488165746378672-4\">\n",
       "  <path d=\"M 393 21.558594 L 662.042969 21.558594 L 662.042969 260.195312 L 393 260.195312 Z M 393 21.558594 \"/>\n",
       "</clipPath>\n",
       "<clipPath id=\"clip-1488165746378672-5\">\n",
       "  <path d=\"M 46 324 L 293 324 L 293 541.347656 L 46 541.347656 Z M 46 324 \"/>\n",
       "</clipPath>\n",
       "<clipPath id=\"clip-1488165746378672-6\">\n",
       "  <path d=\"M 366 324 L 662.238281 324 L 662.238281 542 L 366 542 Z M 366 324 \"/>\n",
       "</clipPath>\n",
       "<clipPath id=\"clip-1488165746378672-7\">\n",
       "  <path d=\"M 366 302 L 662.238281 302 L 662.238281 542 L 366 542 Z M 366 302 \"/>\n",
       "</clipPath>\n",
       "<clipPath id=\"clip-1488165746378672-8\">\n",
       "  <path d=\"M 393 324 L 662.042969 324 L 662.042969 541.347656 L 393 541.347656 Z M 393 324 \"/>\n",
       "</clipPath>\n",
       "</defs>\n",
       "<g id=\"surface1\">\n",
       "<path style=\"fill:none;stroke-width:0.19925;stroke-linecap:butt;stroke-linejoin:miter;stroke:rgb(50%,50%,50%);stroke-opacity:1;stroke-miterlimit:10;\" d=\"M 21.092813 0.0006875 L 21.092813 4.250688 M 21.092813 238.637406 L 21.092813 234.3835 M 63.284219 0.0006875 L 63.284219 4.250688 M 63.284219 238.637406 L 63.284219 234.3835 M 105.471719 0.0006875 L 105.471719 4.250688 M 105.471719 238.637406 L 105.471719 234.3835 M 147.659219 0.0006875 L 147.659219 4.250688 M 147.659219 238.637406 L 147.659219 234.3835 M 189.846719 0.0006875 L 189.846719 4.250688 M 189.846719 238.637406 L 189.846719 234.3835 M 232.038125 0.0006875 L 232.038125 4.250688 M 232.038125 238.637406 L 232.038125 234.3835 M 274.225625 0.0006875 L 274.225625 4.250688 M 274.225625 238.637406 L 274.225625 234.3835 \" transform=\"matrix(1,0,0,-1,21.79,260.196)\"/>\n",
       "<path style=\"fill:none;stroke-width:0.19925;stroke-linecap:butt;stroke-linejoin:miter;stroke:rgb(50%,50%,50%);stroke-opacity:1;stroke-miterlimit:10;\" d=\"M -0.0009375 0.0006875 L 4.252969 0.0006875 M 295.319375 0.0006875 L 291.069375 0.0006875 M -0.0009375 27.321 L 4.252969 27.321 M 295.319375 27.321 L 291.069375 27.321 M -0.0009375 54.645219 L 4.252969 54.645219 M 295.319375 54.645219 L 291.069375 54.645219 M -0.0009375 81.969438 L 4.252969 81.969438 M 295.319375 81.969438 L 291.069375 81.969438 M -0.0009375 109.28975 L 4.252969 109.28975 M 295.319375 109.28975 L 291.069375 109.28975 M -0.0009375 136.613969 L 4.252969 136.613969 M 295.319375 136.613969 L 291.069375 136.613969 M -0.0009375 163.934281 L 4.252969 163.934281 M 295.319375 163.934281 L 291.069375 163.934281 M -0.0009375 191.2585 L 4.252969 191.2585 M 295.319375 191.2585 L 291.069375 191.2585 M -0.0009375 218.578813 L 4.252969 218.578813 M 295.319375 218.578813 L 291.069375 218.578813 \" transform=\"matrix(1,0,0,-1,21.79,260.196)\"/>\n",
       "<path style=\"fill:none;stroke-width:0.3985;stroke-linecap:butt;stroke-linejoin:miter;stroke:rgb(0%,0%,0%);stroke-opacity:1;stroke-miterlimit:10;\" d=\"M -0.0009375 0.0006875 L -0.0009375 238.637406 L 295.319375 238.637406 L 295.319375 0.0006875 Z M -0.0009375 0.0006875 \" transform=\"matrix(1,0,0,-1,21.79,260.196)\"/>\n",
       "<g style=\"fill:rgb(0%,0%,0%);fill-opacity:1;\">\n",
       "  <use xlink:href=\"#glyph-1488165746378672-0-1\" x=\"36.519\" y=\"270.136\"/>\n",
       "</g>\n",
       "<g style=\"fill:rgb(0%,0%,0%);fill-opacity:1;\">\n",
       "  <use xlink:href=\"#glyph-1488165746378672-1-1\" x=\"44.267\" y=\"270.136\"/>\n",
       "</g>\n",
       "<g style=\"fill:rgb(0%,0%,0%);fill-opacity:1;\">\n",
       "  <use xlink:href=\"#glyph-1488165746378672-0-1\" x=\"78.707\" y=\"270.136\"/>\n",
       "</g>\n",
       "<g style=\"fill:rgb(0%,0%,0%);fill-opacity:1;\">\n",
       "  <use xlink:href=\"#glyph-1488165746378672-1-2\" x=\"86.455\" y=\"270.136\"/>\n",
       "</g>\n",
       "<g style=\"fill:rgb(0%,0%,0%);fill-opacity:1;\">\n",
       "  <use xlink:href=\"#glyph-1488165746378672-1-3\" x=\"124.769\" y=\"270.136\"/>\n",
       "</g>\n",
       "<g style=\"fill:rgb(0%,0%,0%);fill-opacity:1;\">\n",
       "  <use xlink:href=\"#glyph-1488165746378672-1-2\" x=\"166.957\" y=\"270.136\"/>\n",
       "</g>\n",
       "<g style=\"fill:rgb(0%,0%,0%);fill-opacity:1;\">\n",
       "  <use xlink:href=\"#glyph-1488165746378672-1-1\" x=\"209.145\" y=\"270.136\"/>\n",
       "</g>\n",
       "<g style=\"fill:rgb(0%,0%,0%);fill-opacity:1;\">\n",
       "  <use xlink:href=\"#glyph-1488165746378672-1-4\" x=\"251.333\" y=\"270.136\"/>\n",
       "</g>\n",
       "<g style=\"fill:rgb(0%,0%,0%);fill-opacity:1;\">\n",
       "  <use xlink:href=\"#glyph-1488165746378672-1-5\" x=\"293.521\" y=\"270.136\"/>\n",
       "</g>\n",
       "<g style=\"fill:rgb(0%,0%,0%);fill-opacity:1;\">\n",
       "  <use xlink:href=\"#glyph-1488165746378672-1-3\" x=\"13.289\" y=\"263.406\"/>\n",
       "</g>\n",
       "<g style=\"fill:rgb(0%,0%,0%);fill-opacity:1;\">\n",
       "  <use xlink:href=\"#glyph-1488165746378672-1-6\" x=\"8.307\" y=\"236.084\"/>\n",
       "  <use xlink:href=\"#glyph-1488165746378672-1-3\" x=\"13.28832\" y=\"236.084\"/>\n",
       "</g>\n",
       "<g style=\"fill:rgb(0%,0%,0%);fill-opacity:1;\">\n",
       "  <use xlink:href=\"#glyph-1488165746378672-1-7\" x=\"3.326\" y=\"208.762\"/>\n",
       "  <use xlink:href=\"#glyph-1488165746378672-1-3\" x=\"8.30732\" y=\"208.762\"/>\n",
       "  <use xlink:href=\"#glyph-1488165746378672-1-3\" x=\"13.28864\" y=\"208.762\"/>\n",
       "</g>\n",
       "<g style=\"fill:rgb(0%,0%,0%);fill-opacity:1;\">\n",
       "  <use xlink:href=\"#glyph-1488165746378672-1-7\" x=\"3.326\" y=\"181.439\"/>\n",
       "  <use xlink:href=\"#glyph-1488165746378672-1-6\" x=\"8.30732\" y=\"181.439\"/>\n",
       "  <use xlink:href=\"#glyph-1488165746378672-1-3\" x=\"13.28864\" y=\"181.439\"/>\n",
       "</g>\n",
       "<g style=\"fill:rgb(0%,0%,0%);fill-opacity:1;\">\n",
       "  <use xlink:href=\"#glyph-1488165746378672-1-2\" x=\"3.326\" y=\"154.117\"/>\n",
       "  <use xlink:href=\"#glyph-1488165746378672-1-3\" x=\"8.30732\" y=\"154.117\"/>\n",
       "  <use xlink:href=\"#glyph-1488165746378672-1-3\" x=\"13.28864\" y=\"154.117\"/>\n",
       "</g>\n",
       "<g style=\"fill:rgb(0%,0%,0%);fill-opacity:1;\">\n",
       "  <use xlink:href=\"#glyph-1488165746378672-1-2\" x=\"3.326\" y=\"126.795\"/>\n",
       "  <use xlink:href=\"#glyph-1488165746378672-1-6\" x=\"8.30732\" y=\"126.795\"/>\n",
       "  <use xlink:href=\"#glyph-1488165746378672-1-3\" x=\"13.28864\" y=\"126.795\"/>\n",
       "</g>\n",
       "<g style=\"fill:rgb(0%,0%,0%);fill-opacity:1;\">\n",
       "  <use xlink:href=\"#glyph-1488165746378672-1-8\" x=\"3.326\" y=\"99.473\"/>\n",
       "  <use xlink:href=\"#glyph-1488165746378672-1-3\" x=\"8.30732\" y=\"99.473\"/>\n",
       "  <use xlink:href=\"#glyph-1488165746378672-1-3\" x=\"13.28864\" y=\"99.473\"/>\n",
       "</g>\n",
       "<g style=\"fill:rgb(0%,0%,0%);fill-opacity:1;\">\n",
       "  <use xlink:href=\"#glyph-1488165746378672-1-8\" x=\"3.326\" y=\"72.151\"/>\n",
       "  <use xlink:href=\"#glyph-1488165746378672-1-6\" x=\"8.30732\" y=\"72.151\"/>\n",
       "  <use xlink:href=\"#glyph-1488165746378672-1-3\" x=\"13.28864\" y=\"72.151\"/>\n",
       "</g>\n",
       "<g style=\"fill:rgb(0%,0%,0%);fill-opacity:1;\">\n",
       "  <use xlink:href=\"#glyph-1488165746378672-1-1\" x=\"3.326\" y=\"44.829\"/>\n",
       "  <use xlink:href=\"#glyph-1488165746378672-1-3\" x=\"8.30732\" y=\"44.829\"/>\n",
       "  <use xlink:href=\"#glyph-1488165746378672-1-3\" x=\"13.28864\" y=\"44.829\"/>\n",
       "</g>\n",
       "<g clip-path=\"url(#clip-1488165746378672-1)\" clip-rule=\"nonzero\">\n",
       "<path style=\"fill-rule:nonzero;fill:rgb(89.99939%,89.99939%,100%);fill-opacity:1;stroke-width:0.3985;stroke-linecap:butt;stroke-linejoin:miter;stroke:rgb(0%,0%,100%);stroke-opacity:1;stroke-miterlimit:10;\" d=\"M 105.725625 0.0006875 L 109.854531 0.0006875 L 109.854531 129.512406 L 105.725625 129.512406 Z M 109.854531 0.0006875 L 113.987344 0.0006875 L 113.987344 128.418656 L 109.854531 128.418656 Z M 113.987344 0.0006875 L 118.11625 0.0006875 L 118.11625 183.610063 L 113.987344 183.610063 Z M 118.11625 0.0006875 L 122.249063 0.0006875 L 122.249063 178.692094 L 118.11625 178.692094 Z M 122.249063 0.0006875 L 126.377969 0.0006875 L 126.377969 160.113969 L 122.249063 160.113969 Z M 126.377969 0.0006875 L 130.510781 0.0006875 L 130.510781 216.942094 L 126.377969 216.942094 Z M 130.510781 0.0006875 L 134.643594 0.0006875 L 134.643594 214.7585 L 130.510781 214.7585 Z M 134.643594 0.0006875 L 138.7725 0.0006875 L 138.7725 145.903031 L 134.643594 145.903031 Z M 138.7725 0.0006875 L 142.905313 0.0006875 L 142.905313 93.988969 L 138.7725 93.988969 Z M 142.905313 0.0006875 L 147.034219 0.0006875 L 147.034219 80.875688 L 142.905313 80.875688 Z M 147.034219 0.0006875 L 151.167031 0.0006875 L 151.167031 66.121781 L 147.034219 66.121781 Z M 151.167031 0.0006875 L 155.295938 0.0006875 L 155.295938 74.317094 L 151.167031 74.317094 Z M 155.295938 0.0006875 L 159.42875 0.0006875 L 159.42875 60.656938 L 155.295938 60.656938 Z M 159.42875 0.0006875 L 163.561563 0.0006875 L 163.561563 49.72725 L 159.42875 49.72725 Z M 163.561563 0.0006875 L 167.690469 0.0006875 L 167.690469 28.961625 L 163.561563 28.961625 Z M 167.690469 0.0006875 L 171.823281 0.0006875 L 171.823281 22.403031 L 167.690469 22.403031 Z M 171.823281 0.0006875 L 175.952188 0.0006875 L 175.952188 34.973344 L 171.823281 34.973344 Z M 175.952188 0.0006875 L 180.085 0.0006875 L 180.085 28.41475 L 175.952188 28.41475 Z M 180.085 0.0006875 L 184.213906 0.0006875 L 184.213906 27.321 L 180.085 27.321 Z M 184.213906 0.0006875 L 188.346719 0.0006875 L 188.346719 24.043656 L 184.213906 24.043656 Z M 188.346719 0.0006875 L 192.479531 0.0006875 L 192.479531 26.231156 L 188.346719 26.231156 Z M 192.479531 0.0006875 L 196.608438 0.0006875 L 196.608438 17.485063 L 192.479531 17.485063 Z M 196.608438 0.0006875 L 200.74125 0.0006875 L 200.74125 20.219438 L 196.608438 20.219438 Z M 200.74125 0.0006875 L 204.870156 0.0006875 L 204.870156 14.207719 L 200.74125 14.207719 Z M 204.870156 0.0006875 L 209.002969 0.0006875 L 209.002969 21.313188 L 204.870156 21.313188 Z M 209.002969 0.0006875 L 213.131875 0.0006875 L 213.131875 22.403031 L 209.002969 22.403031 Z M 213.131875 0.0006875 L 217.264688 0.0006875 L 217.264688 16.395219 L 213.131875 16.395219 Z M 217.264688 0.0006875 L 221.3975 0.0006875 L 221.3975 12.020219 L 217.264688 12.020219 Z M 221.3975 0.0006875 L 225.526406 0.0006875 L 225.526406 11.47725 L 221.3975 11.47725 Z M 225.526406 0.0006875 L 229.659219 0.0006875 L 229.659219 9.28975 L 225.526406 9.28975 Z M 229.659219 0.0006875 L 233.788125 0.0006875 L 233.788125 7.649125 L 229.659219 7.649125 Z M 233.788125 0.0006875 L 237.920938 0.0006875 L 237.920938 6.012406 L 233.788125 6.012406 Z M 237.920938 0.0006875 L 242.05375 0.0006875 L 242.05375 3.824906 L 237.920938 3.824906 Z M 242.05375 0.0006875 L 246.182656 0.0006875 L 246.182656 3.824906 L 242.05375 3.824906 Z M 246.182656 0.0006875 L 250.315469 0.0006875 L 250.315469 3.278031 L 246.182656 3.278031 Z M 250.315469 0.0006875 L 254.444375 0.0006875 L 254.444375 1.094438 L 250.315469 1.094438 Z M 254.444375 0.0006875 L 258.577187 0.0006875 L 258.577187 1.094438 L 254.444375 1.094438 Z M 258.577187 0.0006875 L 262.706094 0.0006875 L 262.706094 0.547563 L 258.577187 0.547563 Z M 262.706094 0.0006875 L 266.838906 0.0006875 L 266.838906 1.094438 L 262.706094 1.094438 Z M 266.838906 0.0006875 L 270.971719 0.0006875 L 270.971719 0.547563 L 266.838906 0.547563 Z M 270.971719 0.0006875 L 275.100625 0.0006875 L 275.100625 0.547563 L 270.971719 0.547563 Z M 275.100625 0.0006875 L 279.233437 0.0006875 L 279.233437 1.641313 L 275.100625 1.641313 Z M 279.233437 0.0006875 L 283.362344 0.0006875 L 283.362344 1.094438 L 279.233437 1.094438 Z M 283.362344 0.0006875 L 287.495156 0.0006875 L 287.495156 1.641313 L 283.362344 1.641313 Z M 287.495156 0.0006875 L 291.624062 0.0006875 Z M 291.624062 0.0006875 L 295.756875 0.0006875 Z M 295.756875 0.0006875 L 299.889687 0.0006875 Z M 299.889687 0.0006875 L 304.018594 0.0006875 L 304.018594 0.547563 L 299.889687 0.547563 Z M 304.018594 0.0006875 L 308.151406 0.0006875 Z M 308.151406 0.0006875 L 312.280312 0.0006875 L 312.280312 0.547563 L 308.151406 0.547563 Z M 312.280312 0.0006875 L 316.413125 0.0006875 L 316.413125 30.055375 L 312.280312 30.055375 Z M 312.280312 0.0006875 \" transform=\"matrix(1,0,0,-1,21.79,260.196)\"/>\n",
       "</g>\n",
       "<g style=\"fill:rgb(0%,0%,0%);fill-opacity:1;\">\n",
       "  <use xlink:href=\"#glyph-1488165746378672-1-9\" x=\"150.352\" y=\"10.128\"/>\n",
       "  <use xlink:href=\"#glyph-1488165746378672-1-10\" x=\"157.547019\" y=\"10.128\"/>\n",
       "  <use xlink:href=\"#glyph-1488165746378672-1-11\" x=\"160.31464\" y=\"10.128\"/>\n",
       "  <use xlink:href=\"#glyph-1488165746378672-1-12\" x=\"168.616508\" y=\"10.128\"/>\n",
       "  <use xlink:href=\"#glyph-1488165746378672-1-13\" x=\"173.043905\" y=\"10.128\"/>\n",
       "  <use xlink:href=\"#glyph-1488165746378672-1-14\" x=\"178.025225\" y=\"10.128\"/>\n",
       "  <use xlink:href=\"#glyph-1488165746378672-1-15\" x=\"183.006545\" y=\"10.128\"/>\n",
       "</g>\n",
       "<path style=\"fill:none;stroke-width:0.19925;stroke-linecap:butt;stroke-linejoin:miter;stroke:rgb(50%,50%,50%);stroke-opacity:1;stroke-miterlimit:10;\" d=\"M -0.518031 0.0006875 L -0.518031 4.250688 M -0.518031 238.637406 L -0.518031 234.3835 M 49.298375 0.0006875 L 49.298375 4.250688 M 49.298375 238.637406 L 49.298375 234.3835 M 99.110875 0.0006875 L 99.110875 4.250688 M 99.110875 238.637406 L 99.110875 234.3835 M 148.927281 0.0006875 L 148.927281 4.250688 M 148.927281 238.637406 L 148.927281 234.3835 M 198.739781 0.0006875 L 198.739781 4.250688 M 198.739781 238.637406 L 198.739781 234.3835 M 248.556187 0.0006875 L 248.556187 4.250688 M 248.556187 238.637406 L 248.556187 234.3835 \" transform=\"matrix(1,0,0,-1,393.561,260.196)\"/>\n",
       "<g clip-path=\"url(#clip-1488165746378672-2)\" clip-rule=\"nonzero\">\n",
       "<path style=\"fill:none;stroke-width:0.19925;stroke-linecap:butt;stroke-linejoin:miter;stroke:rgb(50%,50%,50%);stroke-opacity:1;stroke-miterlimit:10;\" d=\"M -26.850063 0.0006875 L -22.596156 0.0006875 M 268.481969 0.0006875 L 264.228062 0.0006875 M -26.850063 34.766313 L -22.596156 34.766313 M 268.481969 34.766313 L 264.228062 34.766313 M -26.850063 69.531938 L -22.596156 69.531938 M 268.481969 69.531938 L 264.228062 69.531938 M -26.850063 104.297563 L -22.596156 104.297563 M 268.481969 104.297563 L 264.228062 104.297563 M -26.850063 139.063188 L -22.596156 139.063188 M 268.481969 139.063188 L 264.228062 139.063188 M -26.850063 173.832719 L -22.596156 173.832719 M 268.481969 173.832719 L 264.228062 173.832719 M -26.850063 208.598344 L -22.596156 208.598344 M 268.481969 208.598344 L 264.228062 208.598344 \" transform=\"matrix(1,0,0,-1,393.561,260.196)\"/>\n",
       "</g>\n",
       "<g clip-path=\"url(#clip-1488165746378672-3)\" clip-rule=\"nonzero\">\n",
       "<path style=\"fill:none;stroke-width:0.3985;stroke-linecap:butt;stroke-linejoin:miter;stroke:rgb(0%,0%,0%);stroke-opacity:1;stroke-miterlimit:10;\" d=\"M -26.850063 0.0006875 L -26.850063 238.637406 L 268.481969 238.637406 L 268.481969 0.0006875 Z M -26.850063 0.0006875 \" transform=\"matrix(1,0,0,-1,393.561,260.196)\"/>\n",
       "</g>\n",
       "<g style=\"fill:rgb(0%,0%,0%);fill-opacity:1;\">\n",
       "  <use xlink:href=\"#glyph-1488165746378672-1-3\" x=\"390.553\" y=\"270.136\"/>\n",
       "</g>\n",
       "<g style=\"fill:rgb(0%,0%,0%);fill-opacity:1;\">\n",
       "  <use xlink:href=\"#glyph-1488165746378672-1-6\" x=\"440.367\" y=\"270.136\"/>\n",
       "</g>\n",
       "<g style=\"fill:rgb(0%,0%,0%);fill-opacity:1;\">\n",
       "  <use xlink:href=\"#glyph-1488165746378672-1-7\" x=\"487.69\" y=\"270.136\"/>\n",
       "  <use xlink:href=\"#glyph-1488165746378672-1-3\" x=\"492.67132\" y=\"270.136\"/>\n",
       "</g>\n",
       "<g style=\"fill:rgb(0%,0%,0%);fill-opacity:1;\">\n",
       "  <use xlink:href=\"#glyph-1488165746378672-1-7\" x=\"537.504\" y=\"270.136\"/>\n",
       "  <use xlink:href=\"#glyph-1488165746378672-1-6\" x=\"542.48532\" y=\"270.136\"/>\n",
       "</g>\n",
       "<g style=\"fill:rgb(0%,0%,0%);fill-opacity:1;\">\n",
       "  <use xlink:href=\"#glyph-1488165746378672-1-2\" x=\"587.318\" y=\"270.136\"/>\n",
       "  <use xlink:href=\"#glyph-1488165746378672-1-3\" x=\"592.29932\" y=\"270.136\"/>\n",
       "</g>\n",
       "<g style=\"fill:rgb(0%,0%,0%);fill-opacity:1;\">\n",
       "  <use xlink:href=\"#glyph-1488165746378672-1-2\" x=\"637.132\" y=\"270.136\"/>\n",
       "  <use xlink:href=\"#glyph-1488165746378672-1-6\" x=\"642.11332\" y=\"270.136\"/>\n",
       "</g>\n",
       "<g style=\"fill:rgb(0%,0%,0%);fill-opacity:1;\">\n",
       "  <use xlink:href=\"#glyph-1488165746378672-1-3\" x=\"358.211\" y=\"263.406\"/>\n",
       "</g>\n",
       "<g style=\"fill:rgb(0%,0%,0%);fill-opacity:1;\">\n",
       "  <use xlink:href=\"#glyph-1488165746378672-1-6\" x=\"353.229\" y=\"228.64\"/>\n",
       "  <use xlink:href=\"#glyph-1488165746378672-1-3\" x=\"358.21032\" y=\"228.64\"/>\n",
       "</g>\n",
       "<g style=\"fill:rgb(0%,0%,0%);fill-opacity:1;\">\n",
       "  <use xlink:href=\"#glyph-1488165746378672-1-7\" x=\"348.248\" y=\"193.875\"/>\n",
       "  <use xlink:href=\"#glyph-1488165746378672-1-3\" x=\"353.22932\" y=\"193.875\"/>\n",
       "  <use xlink:href=\"#glyph-1488165746378672-1-3\" x=\"358.21064\" y=\"193.875\"/>\n",
       "</g>\n",
       "<g style=\"fill:rgb(0%,0%,0%);fill-opacity:1;\">\n",
       "  <use xlink:href=\"#glyph-1488165746378672-1-7\" x=\"348.248\" y=\"159.109\"/>\n",
       "  <use xlink:href=\"#glyph-1488165746378672-1-6\" x=\"353.22932\" y=\"159.109\"/>\n",
       "  <use xlink:href=\"#glyph-1488165746378672-1-3\" x=\"358.21064\" y=\"159.109\"/>\n",
       "</g>\n",
       "<g style=\"fill:rgb(0%,0%,0%);fill-opacity:1;\">\n",
       "  <use xlink:href=\"#glyph-1488165746378672-1-2\" x=\"348.248\" y=\"124.343\"/>\n",
       "  <use xlink:href=\"#glyph-1488165746378672-1-3\" x=\"353.22932\" y=\"124.343\"/>\n",
       "  <use xlink:href=\"#glyph-1488165746378672-1-3\" x=\"358.21064\" y=\"124.343\"/>\n",
       "</g>\n",
       "<g style=\"fill:rgb(0%,0%,0%);fill-opacity:1;\">\n",
       "  <use xlink:href=\"#glyph-1488165746378672-1-2\" x=\"348.248\" y=\"89.577\"/>\n",
       "  <use xlink:href=\"#glyph-1488165746378672-1-6\" x=\"353.22932\" y=\"89.577\"/>\n",
       "  <use xlink:href=\"#glyph-1488165746378672-1-3\" x=\"358.21064\" y=\"89.577\"/>\n",
       "</g>\n",
       "<g style=\"fill:rgb(0%,0%,0%);fill-opacity:1;\">\n",
       "  <use xlink:href=\"#glyph-1488165746378672-1-8\" x=\"348.248\" y=\"54.812\"/>\n",
       "  <use xlink:href=\"#glyph-1488165746378672-1-3\" x=\"353.22932\" y=\"54.812\"/>\n",
       "  <use xlink:href=\"#glyph-1488165746378672-1-3\" x=\"358.21064\" y=\"54.812\"/>\n",
       "</g>\n",
       "<g clip-path=\"url(#clip-1488165746378672-4)\" clip-rule=\"nonzero\">\n",
       "<path style=\"fill-rule:nonzero;fill:rgb(89.99939%,89.99939%,100%);fill-opacity:1;stroke-width:0.3985;stroke-linecap:butt;stroke-linejoin:miter;stroke:rgb(0%,0%,100%);stroke-opacity:1;stroke-miterlimit:10;\" d=\"M 0.0015 0.0006875 L 22.950719 0.0006875 L 22.950719 216.942094 L 0.0015 216.942094 Z M 22.950719 0.0006875 L 45.903844 0.0006875 L 45.903844 205.121781 L 22.950719 205.121781 Z M 45.903844 0.0006875 L 68.853062 0.0006875 L 68.853062 155.750688 L 45.903844 155.750688 Z M 68.853062 0.0006875 L 91.806187 0.0006875 L 91.806187 109.16475 L 68.853062 109.16475 Z M 91.806187 0.0006875 L 114.759312 0.0006875 L 114.759312 71.617875 L 91.806187 71.617875 Z M 114.759312 0.0006875 L 137.708531 0.0006875 L 137.708531 59.797563 L 114.759312 59.797563 Z M 137.708531 0.0006875 L 160.661656 0.0006875 L 160.661656 45.196 L 137.708531 45.196 Z M 160.661656 0.0006875 L 183.614781 0.0006875 L 183.614781 41.719438 L 160.661656 41.719438 Z M 183.614781 0.0006875 L 206.564 0.0006875 L 206.564 31.28975 L 183.614781 31.28975 Z M 206.564 0.0006875 L 229.517125 0.0006875 L 229.517125 29.899125 L 206.564 29.899125 Z M 229.517125 0.0006875 L 252.466344 0.0006875 L 252.466344 25.031938 L 229.517125 25.031938 Z M 252.466344 0.0006875 L 275.419469 0.0006875 L 275.419469 21.555375 L 252.466344 21.555375 Z M 275.419469 0.0006875 L 298.372594 0.0006875 L 298.372594 1768.203813 L 275.419469 1768.203813 Z M 275.419469 0.0006875 \" transform=\"matrix(1,0,0,-1,393.561,260.196)\"/>\n",
       "</g>\n",
       "<g style=\"fill:rgb(0%,0%,0%);fill-opacity:1;\">\n",
       "  <use xlink:href=\"#glyph-1488165746378672-1-9\" x=\"476.434\" y=\"12.065\"/>\n",
       "  <use xlink:href=\"#glyph-1488165746378672-1-10\" x=\"483.629019\" y=\"12.065\"/>\n",
       "  <use xlink:href=\"#glyph-1488165746378672-1-11\" x=\"486.39664\" y=\"12.065\"/>\n",
       "  <use xlink:href=\"#glyph-1488165746378672-1-12\" x=\"494.698508\" y=\"12.065\"/>\n",
       "</g>\n",
       "<g style=\"fill:rgb(0%,0%,0%);fill-opacity:1;\">\n",
       "  <use xlink:href=\"#glyph-1488165746378672-1-16\" x=\"502.443464\" y=\"12.065\"/>\n",
       "  <use xlink:href=\"#glyph-1488165746378672-1-17\" x=\"506.317935\" y=\"12.065\"/>\n",
       "</g>\n",
       "<g style=\"fill:rgb(0%,0%,0%);fill-opacity:1;\">\n",
       "  <use xlink:href=\"#glyph-1488165746378672-1-18\" x=\"514.616814\" y=\"12.065\"/>\n",
       "  <use xlink:href=\"#glyph-1488165746378672-1-17\" x=\"521.811833\" y=\"12.065\"/>\n",
       "  <use xlink:href=\"#glyph-1488165746378672-1-19\" x=\"526.793153\" y=\"12.065\"/>\n",
       "  <use xlink:href=\"#glyph-1488165746378672-1-19\" x=\"529.560774\" y=\"12.065\"/>\n",
       "  <use xlink:href=\"#glyph-1488165746378672-1-10\" x=\"532.328395\" y=\"12.065\"/>\n",
       "  <use xlink:href=\"#glyph-1488165746378672-1-20\" x=\"535.096017\" y=\"12.065\"/>\n",
       "  <use xlink:href=\"#glyph-1488165746378672-1-10\" x=\"539.025282\" y=\"12.065\"/>\n",
       "  <use xlink:href=\"#glyph-1488165746378672-1-17\" x=\"541.792903\" y=\"12.065\"/>\n",
       "  <use xlink:href=\"#glyph-1488165746378672-1-21\" x=\"546.774223\" y=\"12.065\"/>\n",
       "</g>\n",
       "<path style=\"fill:none;stroke-width:0.19925;stroke-linecap:butt;stroke-linejoin:miter;stroke:rgb(50%,50%,50%);stroke-opacity:1;stroke-miterlimit:10;\" d=\"M -17.341313 -0.00065625 L -17.341313 4.25325 M -17.341313 238.636063 L -17.341313 234.382156 M 22.029781 -0.00065625 L 22.029781 4.25325 M 22.029781 238.636063 L 22.029781 234.382156 M 61.396969 -0.00065625 L 61.396969 4.25325 M 61.396969 238.636063 L 61.396969 234.382156 M 100.768062 -0.00065625 L 100.768062 4.25325 M 100.768062 238.636063 L 100.768062 234.382156 M 140.13525 -0.00065625 L 140.13525 4.25325 M 140.13525 238.636063 L 140.13525 234.382156 M 179.506344 -0.00065625 L 179.506344 4.25325 M 179.506344 238.636063 L 179.506344 234.382156 M 218.877437 -0.00065625 L 218.877437 4.25325 M 218.877437 238.636063 L 218.877437 234.382156 M 258.244625 -0.00065625 L 258.244625 4.25325 M 258.244625 238.636063 L 258.244625 234.382156 \" transform=\"matrix(1,0,0,-1,46.396,541.347)\"/>\n",
       "<path style=\"fill:none;stroke-width:0.19925;stroke-linecap:butt;stroke-linejoin:miter;stroke:rgb(50%,50%,50%);stroke-opacity:1;stroke-miterlimit:10;\" d=\"M -24.610844 -0.00065625 L -20.360844 -0.00065625 M 270.717281 -0.00065625 L 266.467281 -0.00065625 M -24.610844 49.530594 L -20.360844 49.530594 M 270.717281 49.530594 L 266.467281 49.530594 M -24.610844 99.057938 L -20.360844 99.057938 M 270.717281 99.057938 L 266.467281 99.057938 M -24.610844 148.589188 L -20.360844 148.589188 M 270.717281 148.589188 L 266.467281 148.589188 M -24.610844 198.116531 L -20.360844 198.116531 M 270.717281 198.116531 L 266.467281 198.116531 \" transform=\"matrix(1,0,0,-1,46.396,541.347)\"/>\n",
       "<path style=\"fill:none;stroke-width:0.3985;stroke-linecap:butt;stroke-linejoin:miter;stroke:rgb(0%,0%,0%);stroke-opacity:1;stroke-miterlimit:10;\" d=\"M -24.610844 -0.00065625 L -24.610844 238.636063 L 270.717281 238.636063 L 270.717281 -0.00065625 Z M -24.610844 -0.00065625 \" transform=\"matrix(1,0,0,-1,46.396,541.347)\"/>\n",
       "<g style=\"fill:rgb(0%,0%,0%);fill-opacity:1;\">\n",
       "  <use xlink:href=\"#glyph-1488165746378672-1-3\" x=\"26.565\" y=\"551.287\"/>\n",
       "</g>\n",
       "<g style=\"fill:rgb(0%,0%,0%);fill-opacity:1;\">\n",
       "  <use xlink:href=\"#glyph-1488165746378672-1-6\" x=\"65.934\" y=\"551.287\"/>\n",
       "</g>\n",
       "<g style=\"fill:rgb(0%,0%,0%);fill-opacity:1;\">\n",
       "  <use xlink:href=\"#glyph-1488165746378672-1-7\" x=\"102.812\" y=\"551.287\"/>\n",
       "  <use xlink:href=\"#glyph-1488165746378672-1-3\" x=\"107.79332\" y=\"551.287\"/>\n",
       "</g>\n",
       "<g style=\"fill:rgb(0%,0%,0%);fill-opacity:1;\">\n",
       "  <use xlink:href=\"#glyph-1488165746378672-1-7\" x=\"142.181\" y=\"551.287\"/>\n",
       "  <use xlink:href=\"#glyph-1488165746378672-1-6\" x=\"147.16232\" y=\"551.287\"/>\n",
       "</g>\n",
       "<g style=\"fill:rgb(0%,0%,0%);fill-opacity:1;\">\n",
       "  <use xlink:href=\"#glyph-1488165746378672-1-2\" x=\"181.55\" y=\"551.287\"/>\n",
       "  <use xlink:href=\"#glyph-1488165746378672-1-3\" x=\"186.53132\" y=\"551.287\"/>\n",
       "</g>\n",
       "<g style=\"fill:rgb(0%,0%,0%);fill-opacity:1;\">\n",
       "  <use xlink:href=\"#glyph-1488165746378672-1-2\" x=\"220.919\" y=\"551.287\"/>\n",
       "  <use xlink:href=\"#glyph-1488165746378672-1-6\" x=\"225.90032\" y=\"551.287\"/>\n",
       "</g>\n",
       "<g style=\"fill:rgb(0%,0%,0%);fill-opacity:1;\">\n",
       "  <use xlink:href=\"#glyph-1488165746378672-1-8\" x=\"260.287\" y=\"551.287\"/>\n",
       "  <use xlink:href=\"#glyph-1488165746378672-1-3\" x=\"265.26832\" y=\"551.287\"/>\n",
       "</g>\n",
       "<g style=\"fill:rgb(0%,0%,0%);fill-opacity:1;\">\n",
       "  <use xlink:href=\"#glyph-1488165746378672-1-8\" x=\"299.656\" y=\"551.287\"/>\n",
       "  <use xlink:href=\"#glyph-1488165746378672-1-6\" x=\"304.63732\" y=\"551.287\"/>\n",
       "</g>\n",
       "<g style=\"fill:rgb(0%,0%,0%);fill-opacity:1;\">\n",
       "  <use xlink:href=\"#glyph-1488165746378672-1-3\" x=\"13.283\" y=\"544.557\"/>\n",
       "</g>\n",
       "<g style=\"fill:rgb(0%,0%,0%);fill-opacity:1;\">\n",
       "  <use xlink:href=\"#glyph-1488165746378672-1-7\" x=\"3.321\" y=\"495.028\"/>\n",
       "  <use xlink:href=\"#glyph-1488165746378672-1-3\" x=\"8.30232\" y=\"495.028\"/>\n",
       "  <use xlink:href=\"#glyph-1488165746378672-1-3\" x=\"13.28364\" y=\"495.028\"/>\n",
       "</g>\n",
       "<g style=\"fill:rgb(0%,0%,0%);fill-opacity:1;\">\n",
       "  <use xlink:href=\"#glyph-1488165746378672-1-2\" x=\"3.321\" y=\"445.499\"/>\n",
       "  <use xlink:href=\"#glyph-1488165746378672-1-3\" x=\"8.30232\" y=\"445.499\"/>\n",
       "  <use xlink:href=\"#glyph-1488165746378672-1-3\" x=\"13.28364\" y=\"445.499\"/>\n",
       "</g>\n",
       "<g style=\"fill:rgb(0%,0%,0%);fill-opacity:1;\">\n",
       "  <use xlink:href=\"#glyph-1488165746378672-1-8\" x=\"3.321\" y=\"395.97\"/>\n",
       "  <use xlink:href=\"#glyph-1488165746378672-1-3\" x=\"8.30232\" y=\"395.97\"/>\n",
       "  <use xlink:href=\"#glyph-1488165746378672-1-3\" x=\"13.28364\" y=\"395.97\"/>\n",
       "</g>\n",
       "<g style=\"fill:rgb(0%,0%,0%);fill-opacity:1;\">\n",
       "  <use xlink:href=\"#glyph-1488165746378672-1-1\" x=\"3.321\" y=\"346.442\"/>\n",
       "  <use xlink:href=\"#glyph-1488165746378672-1-3\" x=\"8.30232\" y=\"346.442\"/>\n",
       "  <use xlink:href=\"#glyph-1488165746378672-1-3\" x=\"13.28364\" y=\"346.442\"/>\n",
       "</g>\n",
       "<g clip-path=\"url(#clip-1488165746378672-5)\" clip-rule=\"nonzero\">\n",
       "<path style=\"fill-rule:nonzero;fill:rgb(89.99939%,89.99939%,100%);fill-opacity:1;stroke-width:0.3985;stroke-linecap:butt;stroke-linejoin:miter;stroke:rgb(0%,0%,100%);stroke-opacity:1;stroke-miterlimit:10;\" d=\"M -0.00146875 -0.00065625 L 6.834469 -0.00065625 L 6.834469 17.831375 L -0.00146875 17.831375 Z M 6.834469 -0.00065625 L 13.674312 -0.00065625 L 13.674312 14.362625 L 6.834469 14.362625 Z M 13.674312 -0.00065625 L 20.51025 -0.00065625 L 20.51025 14.362625 L 13.674312 14.362625 Z M 20.51025 -0.00065625 L 27.346187 -0.00065625 L 27.346187 18.819656 L 20.51025 18.819656 Z M 27.346187 -0.00065625 L 34.182125 -0.00065625 L 34.182125 16.343094 L 27.346187 16.343094 Z M 34.182125 -0.00065625 L 41.018062 -0.00065625 L 41.018062 14.362625 L 34.182125 14.362625 Z M 41.018062 -0.00065625 L 47.854 -0.00065625 L 47.854 15.850906 L 41.018062 15.850906 Z M 47.854 -0.00065625 L 54.689937 -0.00065625 L 54.689937 17.831375 L 47.854 17.831375 Z M 54.689937 -0.00065625 L 61.525875 -0.00065625 L 61.525875 16.839188 L 54.689937 16.839188 Z M 61.525875 -0.00065625 L 68.361812 -0.00065625 L 68.361812 17.335281 L 61.525875 17.335281 Z M 68.361812 -0.00065625 L 75.19775 -0.00065625 L 75.19775 13.866531 L 68.361812 13.866531 Z M 75.19775 -0.00065625 L 82.033687 -0.00065625 L 82.033687 9.4095 L 75.19775 9.4095 Z M 82.033687 -0.00065625 L 88.873531 -0.00065625 L 88.873531 107.975906 L 82.033687 107.975906 Z M 88.873531 -0.00065625 L 95.709469 -0.00065625 L 95.709469 175.335281 L 88.873531 175.335281 Z M 95.709469 -0.00065625 L 102.545406 -0.00065625 L 102.545406 216.94075 L 95.709469 216.94075 Z M 102.545406 -0.00065625 L 109.381344 -0.00065625 L 109.381344 208.026688 L 102.545406 208.026688 Z M 109.381344 -0.00065625 L 116.217281 -0.00065625 L 116.217281 161.964188 L 109.381344 161.964188 Z M 116.217281 -0.00065625 L 123.053219 -0.00065625 L 123.053219 167.905594 L 116.217281 167.905594 Z M 123.053219 -0.00065625 L 129.889156 -0.00065625 L 129.889156 144.132156 L 123.053219 144.132156 Z M 129.889156 -0.00065625 L 136.725094 -0.00065625 L 136.725094 36.651688 L 129.889156 36.651688 Z M 136.725094 -0.00065625 L 143.561031 -0.00065625 L 143.561031 36.651688 L 136.725094 36.651688 Z M 143.561031 -0.00065625 L 150.396969 -0.00065625 L 150.396969 35.663406 L 143.561031 35.663406 Z M 150.396969 -0.00065625 L 157.232906 -0.00065625 L 157.232906 35.167313 L 150.396969 35.167313 Z M 157.232906 -0.00065625 L 164.07275 -0.00065625 L 164.07275 34.671219 L 157.232906 34.671219 Z M 164.07275 -0.00065625 L 170.908687 -0.00065625 L 170.908687 34.671219 L 164.07275 34.671219 Z M 170.908687 -0.00065625 L 177.744625 -0.00065625 L 177.744625 35.663406 L 170.908687 35.663406 Z M 177.744625 -0.00065625 L 184.580562 -0.00065625 L 184.580562 34.671219 L 177.744625 34.671219 Z M 184.580562 -0.00065625 L 191.4165 -0.00065625 L 191.4165 35.663406 L 184.580562 35.663406 Z M 191.4165 -0.00065625 L 198.252437 -0.00065625 L 198.252437 42.100906 L 191.4165 42.100906 Z M 198.252437 -0.00065625 L 205.088375 -0.00065625 L 205.088375 31.202469 L 198.252437 31.202469 Z M 205.088375 -0.00065625 L 211.924312 -0.00065625 L 211.924312 34.671219 L 205.088375 34.671219 Z M 211.924312 -0.00065625 L 218.76025 -0.00065625 L 218.76025 36.155594 L 211.924312 36.155594 Z M 218.76025 -0.00065625 L 225.596187 -0.00065625 L 225.596187 40.612625 L 218.76025 40.612625 Z M 225.596187 -0.00065625 L 232.432125 -0.00065625 L 232.432125 39.624344 L 225.596187 39.624344 Z M 232.432125 -0.00065625 L 239.271969 -0.00065625 L 239.271969 34.671219 L 232.432125 34.671219 Z M 239.271969 -0.00065625 L 246.107906 -0.00065625 L 246.107906 33.186844 L 239.271969 33.186844 Z M 239.271969 -0.00065625 \" transform=\"matrix(1,0,0,-1,46.396,541.347)\"/>\n",
       "</g>\n",
       "<g style=\"fill:rgb(0%,0%,0%);fill-opacity:1;\">\n",
       "  <use xlink:href=\"#glyph-1488165746378672-1-22\" x=\"151.875\" y=\"291.281\"/>\n",
       "</g>\n",
       "<g style=\"fill:rgb(0%,0%,0%);fill-opacity:1;\">\n",
       "  <use xlink:href=\"#glyph-1488165746378672-1-12\" x=\"158.520081\" y=\"291.281\"/>\n",
       "  <use xlink:href=\"#glyph-1488165746378672-1-19\" x=\"162.947478\" y=\"291.281\"/>\n",
       "  <use xlink:href=\"#glyph-1488165746378672-1-17\" x=\"165.715099\" y=\"291.281\"/>\n",
       "</g>\n",
       "<g style=\"fill:rgb(0%,0%,0%);fill-opacity:1;\">\n",
       "  <use xlink:href=\"#glyph-1488165746378672-1-23\" x=\"170.965411\" y=\"291.281\"/>\n",
       "  <use xlink:href=\"#glyph-1488165746378672-1-10\" x=\"175.392808\" y=\"291.281\"/>\n",
       "  <use xlink:href=\"#glyph-1488165746378672-1-16\" x=\"178.160429\" y=\"291.281\"/>\n",
       "</g>\n",
       "<g style=\"fill:rgb(0%,0%,0%);fill-opacity:1;\">\n",
       "  <use xlink:href=\"#glyph-1488165746378672-1-24\" x=\"181.765909\" y=\"291.281\"/>\n",
       "</g>\n",
       "<path style=\"fill:none;stroke-width:0.19925;stroke-linecap:butt;stroke-linejoin:miter;stroke:rgb(50%,50%,50%);stroke-opacity:1;stroke-miterlimit:10;\" d=\"M -1.086344 0.00034375 L -1.086344 4.250344 M -1.086344 238.637063 L -1.086344 234.383156 M 27.288656 0.00034375 L 27.288656 4.250344 M 27.288656 238.637063 L 27.288656 234.383156 M 55.663656 0.00034375 L 55.663656 4.250344 M 55.663656 238.637063 L 55.663656 234.383156 M 84.042562 0.00034375 L 84.042562 4.250344 M 84.042562 238.637063 L 84.042562 234.383156 M 112.417562 0.00034375 L 112.417562 4.250344 M 112.417562 238.637063 L 112.417562 234.383156 M 140.792562 0.00034375 L 140.792562 4.250344 M 140.792562 238.637063 L 140.792562 234.383156 M 169.167562 0.00034375 L 169.167562 4.250344 M 169.167562 238.637063 L 169.167562 234.383156 M 197.546469 0.00034375 L 197.546469 4.250344 M 197.546469 238.637063 L 197.546469 234.383156 M 225.921469 0.00034375 L 225.921469 4.250344 M 225.921469 238.637063 L 225.921469 234.383156 M 254.296469 0.00034375 L 254.296469 4.250344 M 254.296469 238.637063 L 254.296469 234.383156 \" transform=\"matrix(1,0,0,-1,393.559,541.348)\"/>\n",
       "<g clip-path=\"url(#clip-1488165746378672-6)\" clip-rule=\"nonzero\">\n",
       "<path style=\"fill:none;stroke-width:0.19925;stroke-linecap:butt;stroke-linejoin:miter;stroke:rgb(50%,50%,50%);stroke-opacity:1;stroke-miterlimit:10;\" d=\"M -26.851969 0.00034375 L -22.598063 0.00034375 M 268.483969 0.00034375 L 264.233969 0.00034375 M -26.851969 30.992531 L -22.598063 30.992531 M 268.483969 30.992531 L 264.233969 30.992531 M -26.851969 61.984719 L -22.598063 61.984719 M 268.483969 61.984719 L 264.233969 61.984719 M -26.851969 92.973 L -22.598063 92.973 M 268.483969 92.973 L 264.233969 92.973 M -26.851969 123.965188 L -22.598063 123.965188 M 268.483969 123.965188 L 264.233969 123.965188 M -26.851969 154.957375 L -22.598063 154.957375 M 268.483969 154.957375 L 264.233969 154.957375 M -26.851969 185.949563 L -22.598063 185.949563 M 268.483969 185.949563 L 264.233969 185.949563 M -26.851969 216.94175 L -22.598063 216.94175 M 268.483969 216.94175 L 264.233969 216.94175 \" transform=\"matrix(1,0,0,-1,393.559,541.348)\"/>\n",
       "</g>\n",
       "<g clip-path=\"url(#clip-1488165746378672-7)\" clip-rule=\"nonzero\">\n",
       "<path style=\"fill:none;stroke-width:0.3985;stroke-linecap:butt;stroke-linejoin:miter;stroke:rgb(0%,0%,0%);stroke-opacity:1;stroke-miterlimit:10;\" d=\"M -26.851969 0.00034375 L -26.851969 238.637063 L 268.483969 238.637063 L 268.483969 0.00034375 Z M -26.851969 0.00034375 \" transform=\"matrix(1,0,0,-1,393.559,541.348)\"/>\n",
       "</g>\n",
       "<g style=\"fill:rgb(0%,0%,0%);fill-opacity:1;\">\n",
       "  <use xlink:href=\"#glyph-1488165746378672-1-3\" x=\"389.982\" y=\"551.288\"/>\n",
       "</g>\n",
       "<g style=\"fill:rgb(0%,0%,0%);fill-opacity:1;\">\n",
       "  <use xlink:href=\"#glyph-1488165746378672-1-7\" x=\"415.867\" y=\"551.288\"/>\n",
       "  <use xlink:href=\"#glyph-1488165746378672-1-3\" x=\"420.84832\" y=\"551.288\"/>\n",
       "</g>\n",
       "<g style=\"fill:rgb(0%,0%,0%);fill-opacity:1;\">\n",
       "  <use xlink:href=\"#glyph-1488165746378672-1-2\" x=\"444.243\" y=\"551.288\"/>\n",
       "  <use xlink:href=\"#glyph-1488165746378672-1-3\" x=\"449.22432\" y=\"551.288\"/>\n",
       "</g>\n",
       "<g style=\"fill:rgb(0%,0%,0%);fill-opacity:1;\">\n",
       "  <use xlink:href=\"#glyph-1488165746378672-1-8\" x=\"472.618\" y=\"551.288\"/>\n",
       "  <use xlink:href=\"#glyph-1488165746378672-1-3\" x=\"477.59932\" y=\"551.288\"/>\n",
       "</g>\n",
       "<g style=\"fill:rgb(0%,0%,0%);fill-opacity:1;\">\n",
       "  <use xlink:href=\"#glyph-1488165746378672-1-1\" x=\"500.994\" y=\"551.288\"/>\n",
       "  <use xlink:href=\"#glyph-1488165746378672-1-3\" x=\"505.97532\" y=\"551.288\"/>\n",
       "</g>\n",
       "<g style=\"fill:rgb(0%,0%,0%);fill-opacity:1;\">\n",
       "  <use xlink:href=\"#glyph-1488165746378672-1-6\" x=\"529.369\" y=\"551.288\"/>\n",
       "  <use xlink:href=\"#glyph-1488165746378672-1-3\" x=\"534.35032\" y=\"551.288\"/>\n",
       "</g>\n",
       "<g style=\"fill:rgb(0%,0%,0%);fill-opacity:1;\">\n",
       "  <use xlink:href=\"#glyph-1488165746378672-1-4\" x=\"557.745\" y=\"551.288\"/>\n",
       "  <use xlink:href=\"#glyph-1488165746378672-1-3\" x=\"562.72632\" y=\"551.288\"/>\n",
       "</g>\n",
       "<g style=\"fill:rgb(0%,0%,0%);fill-opacity:1;\">\n",
       "  <use xlink:href=\"#glyph-1488165746378672-1-25\" x=\"586.121\" y=\"551.288\"/>\n",
       "  <use xlink:href=\"#glyph-1488165746378672-1-3\" x=\"591.10232\" y=\"551.288\"/>\n",
       "</g>\n",
       "<g style=\"fill:rgb(0%,0%,0%);fill-opacity:1;\">\n",
       "  <use xlink:href=\"#glyph-1488165746378672-1-5\" x=\"614.496\" y=\"551.288\"/>\n",
       "  <use xlink:href=\"#glyph-1488165746378672-1-3\" x=\"619.47732\" y=\"551.288\"/>\n",
       "</g>\n",
       "<g style=\"fill:rgb(0%,0%,0%);fill-opacity:1;\">\n",
       "  <use xlink:href=\"#glyph-1488165746378672-1-26\" x=\"642.872\" y=\"551.288\"/>\n",
       "  <use xlink:href=\"#glyph-1488165746378672-1-3\" x=\"647.85332\" y=\"551.288\"/>\n",
       "</g>\n",
       "<g style=\"fill:rgb(0%,0%,0%);fill-opacity:1;\">\n",
       "  <use xlink:href=\"#glyph-1488165746378672-1-3\" x=\"358.208\" y=\"544.559\"/>\n",
       "</g>\n",
       "<g style=\"fill:rgb(0%,0%,0%);fill-opacity:1;\">\n",
       "  <use xlink:href=\"#glyph-1488165746378672-1-6\" x=\"353.227\" y=\"513.567\"/>\n",
       "  <use xlink:href=\"#glyph-1488165746378672-1-3\" x=\"358.20832\" y=\"513.567\"/>\n",
       "</g>\n",
       "<g style=\"fill:rgb(0%,0%,0%);fill-opacity:1;\">\n",
       "  <use xlink:href=\"#glyph-1488165746378672-1-7\" x=\"348.246\" y=\"482.576\"/>\n",
       "  <use xlink:href=\"#glyph-1488165746378672-1-3\" x=\"353.22732\" y=\"482.576\"/>\n",
       "  <use xlink:href=\"#glyph-1488165746378672-1-3\" x=\"358.20864\" y=\"482.576\"/>\n",
       "</g>\n",
       "<g style=\"fill:rgb(0%,0%,0%);fill-opacity:1;\">\n",
       "  <use xlink:href=\"#glyph-1488165746378672-1-7\" x=\"348.246\" y=\"451.585\"/>\n",
       "  <use xlink:href=\"#glyph-1488165746378672-1-6\" x=\"353.22732\" y=\"451.585\"/>\n",
       "  <use xlink:href=\"#glyph-1488165746378672-1-3\" x=\"358.20864\" y=\"451.585\"/>\n",
       "</g>\n",
       "<g style=\"fill:rgb(0%,0%,0%);fill-opacity:1;\">\n",
       "  <use xlink:href=\"#glyph-1488165746378672-1-2\" x=\"348.246\" y=\"420.594\"/>\n",
       "  <use xlink:href=\"#glyph-1488165746378672-1-3\" x=\"353.22732\" y=\"420.594\"/>\n",
       "  <use xlink:href=\"#glyph-1488165746378672-1-3\" x=\"358.20864\" y=\"420.594\"/>\n",
       "</g>\n",
       "<g style=\"fill:rgb(0%,0%,0%);fill-opacity:1;\">\n",
       "  <use xlink:href=\"#glyph-1488165746378672-1-2\" x=\"348.246\" y=\"389.603\"/>\n",
       "  <use xlink:href=\"#glyph-1488165746378672-1-6\" x=\"353.22732\" y=\"389.603\"/>\n",
       "  <use xlink:href=\"#glyph-1488165746378672-1-3\" x=\"358.20864\" y=\"389.603\"/>\n",
       "</g>\n",
       "<g style=\"fill:rgb(0%,0%,0%);fill-opacity:1;\">\n",
       "  <use xlink:href=\"#glyph-1488165746378672-1-8\" x=\"348.246\" y=\"358.612\"/>\n",
       "  <use xlink:href=\"#glyph-1488165746378672-1-3\" x=\"353.22732\" y=\"358.612\"/>\n",
       "  <use xlink:href=\"#glyph-1488165746378672-1-3\" x=\"358.20864\" y=\"358.612\"/>\n",
       "</g>\n",
       "<g style=\"fill:rgb(0%,0%,0%);fill-opacity:1;\">\n",
       "  <use xlink:href=\"#glyph-1488165746378672-1-8\" x=\"348.246\" y=\"327.621\"/>\n",
       "  <use xlink:href=\"#glyph-1488165746378672-1-6\" x=\"353.22732\" y=\"327.621\"/>\n",
       "  <use xlink:href=\"#glyph-1488165746378672-1-3\" x=\"358.20864\" y=\"327.621\"/>\n",
       "</g>\n",
       "<g clip-path=\"url(#clip-1488165746378672-8)\" clip-rule=\"nonzero\">\n",
       "<path style=\"fill-rule:nonzero;fill:rgb(89.99939%,89.99939%,100%);fill-opacity:1;stroke-width:0.3985;stroke-linecap:butt;stroke-linejoin:miter;stroke:rgb(0%,0%,100%);stroke-opacity:1;stroke-miterlimit:10;\" d=\"M -0.00040625 0.00034375 L 7.066 0.00034375 L 7.066 103.512063 L -0.00040625 103.512063 Z M 7.066 0.00034375 L 14.132406 0.00034375 L 14.132406 114.051125 L 7.066 114.051125 Z M 14.132406 0.00034375 L 21.198812 0.00034375 L 21.198812 108.469094 L 14.132406 108.469094 Z M 21.198812 0.00034375 L 28.269125 0.00034375 L 28.269125 95.453469 L 21.198812 95.453469 Z M 28.269125 0.00034375 L 35.335531 0.00034375 L 35.335531 146.898781 L 28.269125 146.898781 Z M 35.335531 0.00034375 L 42.401937 0.00034375 L 42.401937 216.94175 L 35.335531 216.94175 Z M 42.401937 0.00034375 L 49.468344 0.00034375 L 49.468344 194.62925 L 42.401937 194.62925 Z M 49.468344 0.00034375 L 56.53475 0.00034375 L 56.53475 178.512063 L 49.468344 178.512063 Z M 56.53475 0.00034375 L 63.601156 0.00034375 L 63.601156 193.387063 L 56.53475 193.387063 Z M 63.601156 0.00034375 L 70.667562 0.00034375 L 70.667562 184.090188 L 63.601156 184.090188 Z M 70.667562 0.00034375 L 77.733969 0.00034375 L 77.733969 107.230813 L 70.667562 107.230813 Z M 77.733969 0.00034375 L 84.800375 0.00034375 L 84.800375 88.637063 L 77.733969 88.637063 Z M 84.800375 0.00034375 L 91.866781 0.00034375 L 91.866781 91.734719 L 84.800375 91.734719 Z M 91.866781 0.00034375 L 98.937094 0.00034375 L 98.937094 95.453469 L 91.866781 95.453469 Z M 98.937094 0.00034375 L 106.0035 0.00034375 L 106.0035 72.519875 L 98.937094 72.519875 Z M 106.0035 0.00034375 L 113.069906 0.00034375 L 113.069906 14.25425 L 106.0035 14.25425 Z M 113.069906 0.00034375 L 120.136312 0.00034375 L 120.136312 24.172219 L 113.069906 24.172219 Z M 120.136312 0.00034375 L 127.202719 0.00034375 L 127.202719 16.734719 L 120.136312 16.734719 Z M 127.202719 0.00034375 L 134.269125 0.00034375 L 134.269125 18.594094 L 127.202719 18.594094 Z M 134.269125 0.00034375 L 141.335531 0.00034375 L 141.335531 21.074563 L 134.269125 21.074563 Z M 141.335531 0.00034375 L 148.401937 0.00034375 L 148.401937 22.933938 L 141.335531 22.933938 Z M 148.401937 0.00034375 L 155.468344 0.00034375 L 155.468344 20.453469 L 148.401937 20.453469 Z M 155.468344 0.00034375 L 162.538656 0.00034375 L 162.538656 24.793313 L 155.468344 24.793313 Z M 162.538656 0.00034375 L 169.605062 0.00034375 L 169.605062 22.312844 L 162.538656 22.312844 Z M 169.605062 0.00034375 L 176.671469 0.00034375 L 176.671469 21.695656 L 169.605062 21.695656 Z M 176.671469 0.00034375 L 183.737875 0.00034375 L 183.737875 17.976906 L 176.671469 17.976906 Z M 183.737875 0.00034375 L 190.804281 0.00034375 L 190.804281 17.355813 L 183.737875 17.355813 Z M 190.804281 0.00034375 L 197.870687 0.00034375 L 197.870687 17.976906 L 190.804281 17.976906 Z M 197.870687 0.00034375 L 204.937094 0.00034375 L 204.937094 22.312844 L 197.870687 22.312844 Z M 204.937094 0.00034375 L 212.0035 0.00034375 L 212.0035 22.933938 L 204.937094 22.933938 Z M 212.0035 0.00034375 L 219.069906 0.00034375 L 219.069906 17.355813 L 212.0035 17.355813 Z M 219.069906 0.00034375 L 226.136312 0.00034375 L 226.136312 21.695656 L 219.069906 21.695656 Z M 226.140219 0.00034375 L 233.206625 0.00034375 L 233.206625 19.836281 L 226.140219 19.836281 Z M 233.206625 0.00034375 L 240.273031 0.00034375 L 240.273031 21.695656 L 233.206625 21.695656 Z M 240.273031 0.00034375 L 247.339437 0.00034375 L 247.339437 17.976906 L 240.273031 17.976906 Z M 247.339437 0.00034375 L 254.405844 0.00034375 L 254.405844 21.074563 L 247.339437 21.074563 Z M 254.405844 0.00034375 L 261.47225 0.00034375 L 261.47225 16.734719 L 254.405844 16.734719 Z M 261.47225 0.00034375 L 268.538656 0.00034375 L 268.538656 21.074563 L 261.47225 21.074563 Z M 268.538656 0.00034375 L 275.605062 0.00034375 Z M 275.605062 0.00034375 L 282.671469 0.00034375 L 282.671469 24.793313 L 275.605062 24.793313 Z M 275.605062 0.00034375 \" transform=\"matrix(1,0,0,-1,393.559,541.348)\"/>\n",
       "</g>\n",
       "<g style=\"fill:rgb(0%,0%,0%);fill-opacity:1;\">\n",
       "  <use xlink:href=\"#glyph-1488165746378672-1-27\" x=\"484.446\" y=\"293.218\"/>\n",
       "  <use xlink:href=\"#glyph-1488165746378672-1-10\" x=\"492.056461\" y=\"293.218\"/>\n",
       "  <use xlink:href=\"#glyph-1488165746378672-1-20\" x=\"494.824082\" y=\"293.218\"/>\n",
       "  <use xlink:href=\"#glyph-1488165746378672-1-16\" x=\"498.753347\" y=\"293.218\"/>\n",
       "  <use xlink:href=\"#glyph-1488165746378672-1-14\" x=\"502.627818\" y=\"293.218\"/>\n",
       "  <use xlink:href=\"#glyph-1488165746378672-1-21\" x=\"507.609138\" y=\"293.218\"/>\n",
       "  <use xlink:href=\"#glyph-1488165746378672-1-23\" x=\"513.144381\" y=\"293.218\"/>\n",
       "  <use xlink:href=\"#glyph-1488165746378672-1-12\" x=\"517.571778\" y=\"293.218\"/>\n",
       "</g>\n",
       "<g style=\"fill:rgb(0%,0%,0%);fill-opacity:1;\">\n",
       "  <use xlink:href=\"#glyph-1488165746378672-1-28\" x=\"525.316734\" y=\"293.218\"/>\n",
       "</g>\n",
       "<g style=\"fill:rgb(0%,0%,0%);fill-opacity:1;\">\n",
       "  <use xlink:href=\"#glyph-1488165746378672-1-17\" x=\"530.993447\" y=\"293.218\"/>\n",
       "  <use xlink:href=\"#glyph-1488165746378672-1-29\" x=\"535.974767\" y=\"293.218\"/>\n",
       "  <use xlink:href=\"#glyph-1488165746378672-1-12\" x=\"539.877133\" y=\"293.218\"/>\n",
       "</g>\n",
       "</g>\n",
       "</svg>\n",
       "\n"
      ],
      "text/plain": [
       "PGFPlots.GroupPlot(PGFPlots.Axis[PGFPlots.Axis(PGFPlots.Plots.Plot[PGFPlots.Plots.Histogram(Real[10.0,0.517535,5.05599,0.840621,1.166,1.15847,0.420852,0.426354,1.37403,1.83549  …  4.61651,0.570204,2.34793,0.46426,0.253653,2.16528,0.83748,0.430381,2.17978,3.85856],100,false,false,\"fill=blue!10\",:default)],\"Timegap\",nothing,nothing,nothing,nothing,nothing,nothing,-5,9,0,nothing,nothing,nothing,nothing,nothing,nothing,\"12cm\",\"10cm\",nothing,nothing,nothing,nothing,nothing,nothing,nothing,nothing,\"axis\"),PGFPlots.Axis(PGFPlots.Plots.Plot[PGFPlots.Plots.Histogram(Real[30.0,2.38241,30.0,2.79425,12.0256,9.86587,14.4228,30.0,30.0,30.0  …  6.19277,7.81521,30.0,8.49692,30.0,30.0,30.0,30.0,30.0,30.0],100,false,false,\"fill=blue!10\",:default)],\"Time to Collision\",nothing,nothing,nothing,nothing,nothing,nothing,nothing,27,0,nothing,nothing,nothing,nothing,nothing,nothing,\"12cm\",\"10cm\",nothing,nothing,nothing,nothing,nothing,nothing,nothing,nothing,\"axis\"),PGFPlots.Axis(PGFPlots.Plots.Plot[PGFPlots.Plots.Histogram(Real[13.1087,16.7466,17.0621,24.4037,27.0239,30.6193,31.5396,31.8603,16.8481,14.9529  …  13.366,14.4179,14.4992,15.3372,14.9097,14.6292,14.1268,14.06,10.4847,9.13207],100,false,false,\"fill=blue!10\",:default)],\"Velocity\",nothing,nothing,nothing,nothing,nothing,nothing,nothing,nothing,0,nothing,nothing,nothing,nothing,nothing,nothing,\"12cm\",\"10cm\",nothing,nothing,nothing,nothing,nothing,nothing,nothing,nothing,\"axis\"),PGFPlots.Axis(PGFPlots.Plots.Plot[PGFPlots.Plots.Histogram(Real[100.0,8.66697,86.2658,20.5142,31.5097,35.4714,13.2735,13.5838,23.1498,27.4459  …  61.7043,8.22117,34.043,7.12043,3.7819,31.6762,11.8309,6.05114,22.8544,35.2366],100,false,false,\"fill=blue!10\",:default)],\"Distance Fore\",nothing,nothing,nothing,nothing,nothing,nothing,nothing,95,0,nothing,nothing,nothing,nothing,nothing,nothing,\"12cm\",\"10cm\",nothing,nothing,nothing,nothing,nothing,nothing,nothing,nothing,\"axis\")],(2,2),nothing,\"horizontal sep = 1.75cm, vertical sep = 1.5cm\")"
      ]
     },
     "execution_count": 19,
     "metadata": {},
     "output_type": "execute_result"
    }
   ],
   "source": [
    "# analyze emergent behavior\n",
    "g = GroupPlot(2, 2, groupStyle = \"horizontal sep = 1.75cm, vertical sep = 1.5cm\")\n",
    "nbins = 100\n",
    "timegap_axis = Axis(Plots.Histogram(emergent[\"timegap\"], bins=nbins), \n",
    "                    ymin=0, \n",
    "                    xmax=9, \n",
    "                    xmin=-5,\n",
    "                    width=\"12cm\",\n",
    "                    height=\"10cm\",\n",
    "                    title=\"Timegap\")\n",
    "push!(g, timegap_axis)\n",
    "ttc_axis = Axis(Plots.Histogram(emergent[\"ttc\"], bins=nbins), \n",
    "                    ymin=0, \n",
    "                    xmax=27,\n",
    "                    width=\"12cm\",\n",
    "                    height=\"10cm\",\n",
    "                    title=\"Time to Collision\")\n",
    "push!(g, ttc_axis)\n",
    "velocity_axis = Axis(Plots.Histogram(emergent[\"velocity\"], bins=nbins), \n",
    "                    ymin=0,  \n",
    "                    width=\"12cm\",\n",
    "                    height=\"10cm\",\n",
    "                    title=\"Velocity\")\n",
    "push!(g, velocity_axis)\n",
    "distance_fore_axis = Axis(Plots.Histogram(emergent[\"distance_fore\"], bins=nbins), \n",
    "                    ymin=0,  \n",
    "                    xmax=95,\n",
    "                    width=\"12cm\",\n",
    "                    height=\"10cm\",\n",
    "                    title=\"Distance Fore\")\n",
    "push!(g, distance_fore_axis)\n",
    "g"
   ]
  },
  {
   "cell_type": "code",
   "execution_count": null,
   "metadata": {
    "collapsed": false
   },
   "outputs": [],
   "source": [
    "TikzPictures.save(\"/Users/wulfebw/Desktop/hist_hard_brake.pdf\", g)"
   ]
  },
  {
   "cell_type": "code",
   "execution_count": null,
   "metadata": {
    "collapsed": false
   },
   "outputs": [],
   "source": [
    "cutpoints"
   ]
  },
  {
   "cell_type": "code",
   "execution_count": null,
   "metadata": {
    "collapsed": true
   },
   "outputs": [],
   "source": []
  },
  {
   "cell_type": "code",
   "execution_count": 52,
   "metadata": {
    "collapsed": false
   },
   "outputs": [
    {
     "data": {
      "text/plain": [
       "generate_hard_brake_lane (generic function with 1 method)"
      ]
     },
     "execution_count": 52,
     "metadata": {},
     "output_type": "execute_result"
    }
   ],
   "source": [
    "# generate a lane\n",
    "function generate_hard_brake_lane()\n",
    "    t_cpd_idx = 1\n",
    "    fore_v_cpd_idx = 2\n",
    "    fore_d_cpd_idx = 3\n",
    "    v_cpd_idx = 4\n",
    "    v_cpd = bn.cpds[v_cpd_idx]\n",
    "    states = zeros(num_veh, 4)\n",
    "\n",
    "    # sample the initial car\n",
    "    state = rand(bn)\n",
    "    v, fore_d, fore_v, t = state[:velocity], state[:foredistance], state[:forevelocity], state[:target]\n",
    "    states[1, 1] = rand(v_dists[v])\n",
    "    states[1, 2] = rand(d_fore_dists[fore_d])\n",
    "    states[1, 3] = rand(v_fore_dists[fore_v])\n",
    "    states[1, 4] = 1\n",
    "\n",
    "    hard_brake_veh_idx = 3\n",
    "    \n",
    "    for veh_idx in 2:num_veh\n",
    "        # sample the target\n",
    "        t = veh_idx == hard_brake_veh_idx ? 2 : 1\n",
    "        \n",
    "        # sample the distance bin\n",
    "        fore_d = rand(bn.cpds[fore_d_cpd_idx], :target=>t)\n",
    "\n",
    "        # sample the velocity bin\n",
    "        v = rand(bn.cpds[v_cpd_idx], :forevelocity=>fore_v, :foredistance=>fore_d, :target=>t)\n",
    "\n",
    "        # sample the float values uniformly\n",
    "        states[veh_idx, 1] = rand(v_dists[v])\n",
    "        states[veh_idx, 2] = rand(d_fore_dists[fore_d])\n",
    "        states[veh_idx, 3] = rand(v_fore_dists[fore_v])\n",
    "        states[veh_idx, 4] = t\n",
    "\n",
    "        # replace the fore velocity with the current one\n",
    "        fore_v = v\n",
    "    end\n",
    "    return states\n",
    "end"
   ]
  },
  {
   "cell_type": "code",
   "execution_count": 60,
   "metadata": {
    "collapsed": false,
    "scrolled": false
   },
   "outputs": [
    {
     "name": "stdout",
     "output_type": "stream",
     "text": [
      "0.8"
     ]
    },
    {
     "data": {
      "text/html": [],
      "text/plain": [
       "Interact.Options{:SelectionSlider,Int64}(Signal{Int64}(50, nactions=1),\"i\",50,\"50\",Interact.OptionDict(DataStructures.OrderedDict(\"100\"=>100,\"99\"=>99,\"98\"=>98,\"97\"=>97,\"96\"=>96,\"95\"=>95,\"94\"=>94,\"93\"=>93,\"92\"=>92,\"91\"=>91…),Dict(68=>\"68\",2=>\"2\",89=>\"89\",11=>\"11\",39=>\"39\",46=>\"46\",85=>\"85\",25=>\"25\",55=>\"55\",66=>\"66\"…)),Any[],Any[],true,\"horizontal\")"
      ]
     },
     "metadata": {},
     "output_type": "display_data"
    },
    {
     "data": {
      "text/html": [],
      "text/plain": [
       "Interact.Options{:ToggleButtons,Int64}(Signal{Int64}(1, nactions=1),\"veh_idx\",1,\"1\",Interact.OptionDict(DataStructures.OrderedDict(\"1\"=>1,\"2\"=>2,\"3\"=>3,\"4\"=>4,\"5\"=>5,\"6\"=>6,\"7\"=>7,\"8\"=>8,\"9\"=>9,\"10\"=>10…),Dict(18=>\"18\",30=>\"30\",2=>\"2\",16=>\"16\",11=>\"11\",21=>\"21\",7=>\"7\",9=>\"9\",25=>\"25\",10=>\"10\"…)),Any[],Any[],true,\"horizontal\")"
      ]
     },
     "metadata": {},
     "output_type": "display_data"
    },
    {
     "data": {
      "text/html": [],
      "text/plain": [
       "Interact.Options{:ToggleButtons,Float64}(Signal{Float64}(1.0, nactions=1),\"zoom\",1.0,\"1.0\",Interact.OptionDict(DataStructures.OrderedDict(\"1.0\"=>1.0,\"2.0\"=>2.0,\"3.0\"=>3.0,\"4.0\"=>4.0,\"5.0\"=>5.0,\"6.0\"=>6.0,\"7.0\"=>7.0,\"8.0\"=>8.0,\"9.0\"=>9.0,\"10.0\"=>10.0…),Dict(7.0=>\"7.0\",4.0=>\"4.0\",9.0=>\"9.0\",10.0=>\"10.0\",2.0=>\"2.0\",3.0=>\"3.0\",5.0=>\"5.0\",8.0=>\"8.0\",6.0=>\"6.0\",1.0=>\"1.0\"…)),Any[],Any[],true,\"horizontal\")"
      ]
     },
     "metadata": {},
     "output_type": "display_data"
    },
    {
     "name": "stdout",
     "output_type": "stream",
     "text": [
      "\n"
     ]
    },
    {
     "data": {
      "image/png": "[encoded data removed]",
      "text/plain": [
       "Cairo.CairoSurface{UInt32}(Ptr{Void} @0x00007fd8b4990b10,1000.0,600.0,#undef)"
      ]
     },
     "execution_count": 60,
     "metadata": {
      "comm_id": "98aacfea-410e-4176-a2c2-1c2dea85b400",
      "reactive": true
     },
     "output_type": "execute_result"
    }
   ],
   "source": [
    "# generate scenes around an ego vehicle where that vehicle is sampled with the target\n",
    "# populate and display a scene\n",
    "context = IntegratedContinuous(.1, 1)\n",
    "num_scenes = 10\n",
    "num_veh = 10\n",
    "roadway_length = 5000.\n",
    "roadway = gen_straight_roadway(3, roadway_length)\n",
    "\n",
    "# target extraction\n",
    "T = 10.\n",
    "rec = SceneRecord(100, .1)\n",
    "targets = zeros(5, 50)\n",
    "num_hard_brakes = 0\n",
    "models = Dict{Int, DriverModel}()\n",
    "\n",
    "# unpack indices\n",
    "v_idx, fore_d_idx, fore_v_idx, t_idx = 1, 2, 3, 4\n",
    "\n",
    "# build the scene\n",
    "scene = Scene(num_veh * num_lanes)\n",
    "carcolors = Dict{Int,Colorant}()\n",
    "for scene_idx in 1:num_scenes\n",
    "    empty!(scene)\n",
    "    hard_brake_veh_idx = 0\n",
    "    for lane_idx in 1:3\n",
    "        if lane_idx == 2\n",
    "            states = generate_hard_brake_lane()\n",
    "        else\n",
    "            states = generate_lane(num_veh)\n",
    "        end\n",
    "        \n",
    "        remaining_length = roadway_length * 2. / 3.\n",
    "        for veh_idx in 1:size(states, 1)\n",
    "            veh_id = veh_idx + (lane_idx - 1) * num_veh\n",
    "            # if this car was sampled as a hard brake, then color it\n",
    "            if states[veh_idx, t_idx] == 2\n",
    "                carcolors[veh_id] = colorant\"red\"\n",
    "                hard_brake_veh_idx = veh_id\n",
    "            else\n",
    "                carcolors[veh_id] = colorant\"green\"\n",
    "            end\n",
    "            \n",
    "            remaining_length -= states[veh_idx, fore_d_idx]\n",
    "            if remaining_length > 0\n",
    "                road_idx = RoadIndex(proj(VecSE2(0.0, 3. * (lane_idx-1), 0.0), roadway))\n",
    "                base_speed = states[veh_idx, v_idx]\n",
    "                veh_state = VehicleState(Frenet(road_idx, roadway), roadway, base_speed)\n",
    "                veh_state = move_along(veh_state, roadway, remaining_length)\n",
    "                veh_def = VehicleDef(veh_id, AgentClass.CAR, 5., 2.)\n",
    "                push!(scene, Vehicle(veh_state, veh_def))\n",
    "            else\n",
    "                break\n",
    "            end\n",
    "            models[veh_id] = DelayedDriver(Tim2DDriver(context), reaction_time = .2)\n",
    "        end\n",
    "    end\n",
    "    \n",
    "    empty!(rec)\n",
    "    fill!(targets, 0)\n",
    "    simulate!(scene, models, roadway, rec, T)\n",
    "    veh_id_to_idx = Dict(hard_brake_veh_idx=>hard_brake_veh_idx)\n",
    "    extract_targets!(rec, roadway, targets, veh_id_to_idx, false)\n",
    "    num_hard_brakes += targets[4, hard_brake_veh_idx]\n",
    "end\n",
    "\n",
    "println(num_hard_brakes / num_scenes)\n",
    "\n",
    "# or just look at it\n",
    "@manipulate for i in rec.nscenes:-1:0,\n",
    "            veh_idx in collect(1:length(scene)),\n",
    "            zoom in collect(1:10.)\n",
    "    veh_id = veh_idx\n",
    "    stats = [CarFollowingStatsOverlay(veh_id, 2), \n",
    "        NeighborsOverlay(veh_id, textparams = TextParams(x = 600, y_start=300))]\n",
    "        \n",
    "    render(get_scene(rec, -i), roadway, stats, cam = CarFollowCamera(veh_id, zoom), car_colors = carcolors)\n",
    "end"
   ]
  },
  {
   "cell_type": "code",
   "execution_count": null,
   "metadata": {
    "collapsed": true
   },
   "outputs": [],
   "source": []
  }
 ],
 "metadata": {
  "kernelspec": {
   "display_name": "Julia 0.5.0",
   "language": "julia",
   "name": "julia-0.5"
  },
  "language_info": {
   "file_extension": ".jl",
   "mimetype": "application/julia",
   "name": "julia",
   "version": "0.5.0"
  },
  "widgets": {
   "state": {
    "05e81fe3-9068-4352-a7f6-daceb94546ad": {
     "views": [
      {
       "cell_index": 19
      }
     ]
    },
    "08afd835-6bfa-48df-b06a-6dfe8765fb3d": {
     "views": [
      {
       "cell_index": 19
      }
     ]
    },
    "0b34a07e-e6ad-4b69-bb5f-041bac26a3a9": {
     "views": [
      {
       "cell_index": 19
      }
     ]
    },
    "128d060d-09cc-46ea-8128-fbd43357f6e5": {
     "views": [
      {
       "cell_index": 19
      }
     ]
    },
    "14c34887-d84b-4740-b52d-e4f3581b8d15": {
     "views": [
      {
       "cell_index": 19
      }
     ]
    },
    "1c4b106f-fc3d-40ae-8f95-44a3e253cb3c": {
     "views": [
      {
       "cell_index": 19
      }
     ]
    },
    "1c89a265-a8b9-449a-be8e-404d0e25b74f": {
     "views": [
      {
       "cell_index": 19
      }
     ]
    },
    "1cb128ba-bbf9-470c-9040-81a321dceed6": {
     "views": [
      {
       "cell_index": 19
      }
     ]
    },
    "1d0f0211-52ae-4219-be99-00abfb3c8d4a": {
     "views": [
      {
       "cell_index": 13
      }
     ]
    },
    "1faf3bb1-a32b-4050-86a2-b56eb842d62b": {
     "views": [
      {
       "cell_index": 19
      }
     ]
    },
    "3236dfbd-3535-414c-bff6-3ba255b7ab87": {
     "views": [
      {
       "cell_index": 19
      }
     ]
    },
    "3437511c-5e9d-4566-b7c5-8927107fe346": {
     "views": [
      {
       "cell_index": 19
      }
     ]
    },
    "35ca8c71-c02a-4f2f-b27f-3484bd64ab87": {
     "views": [
      {
       "cell_index": 19
      }
     ]
    },
    "39656a33-8be1-4f65-826d-a72995a6f30c": {
     "views": [
      {
       "cell_index": 19
      }
     ]
    },
    "39c7c381-17b8-492f-b0b2-b58709e89e51": {
     "views": [
      {
       "cell_index": 13
      }
     ]
    },
    "408b46f8-ed19-4f81-a9fe-7a5b4afd4c44": {
     "views": [
      {
       "cell_index": 13
      }
     ]
    },
    "435a410f-5ec2-434b-a18e-3da68f96784a": {
     "views": [
      {
       "cell_index": 19
      }
     ]
    },
    "48b9ef55-73ab-4bad-91e5-1903854e358e": {
     "views": [
      {
       "cell_index": 19
      }
     ]
    },
    "48ea8bf7-c5bf-4d2e-be8f-d89f76952d1d": {
     "views": [
      {
       "cell_index": 19
      }
     ]
    },
    "4ada0869-7afb-4a1f-8eb6-76b137cb43f1": {
     "views": [
      {
       "cell_index": 19
      }
     ]
    },
    "5927b58b-5aea-46ea-b29c-149cf3916000": {
     "views": [
      {
       "cell_index": 19
      }
     ]
    },
    "65745ec3-9233-4f86-afcf-5b12c145143e": {
     "views": [
      {
       "cell_index": 19
      }
     ]
    },
    "67aec66d-9e62-44b1-ae44-44668e9b5536": {
     "views": [
      {
       "cell_index": 19
      }
     ]
    },
    "6bc68749-fa39-4284-b864-2adc74c49a3e": {
     "views": [
      {
       "cell_index": 19
      }
     ]
    },
    "7af2bfdf-3892-4081-a1a0-cad823bd9849": {
     "views": [
      {
       "cell_index": 19
      }
     ]
    },
    "8a107e9c-7cbc-4929-93fa-2dba20a6224d": {
     "views": [
      {
       "cell_index": 13
      }
     ]
    },
    "92f85a5f-3a41-4c65-be2d-63f8d7f90ef1": {
     "views": [
      {
       "cell_index": 19
      }
     ]
    },
    "a5c5730f-36a1-49c4-b3b5-4491a9c54cb6": {
     "views": [
      {
       "cell_index": 20
      }
     ]
    },
    "c3330afd-39aa-44f7-99b2-f65ba502ebd0": {
     "views": [
      {
       "cell_index": 19
      }
     ]
    },
    "c64d54e2-5762-4f47-87c0-05d1f7318c3b": {
     "views": [
      {
       "cell_index": 19
      }
     ]
    },
    "c9809e76-ca08-4a45-8423-b791ea78b34d": {
     "views": [
      {
       "cell_index": 19
      }
     ]
    },
    "d0d08769-dcca-448a-aee8-8c22adb52c2c": {
     "views": [
      {
       "cell_index": 19
      }
     ]
    },
    "d25b0900-9dc7-4301-a8b6-28afcc1d189b": {
     "views": [
      {
       "cell_index": 19
      }
     ]
    },
    "d93640fd-24e5-466c-9e53-33d9c6c656be": {
     "views": [
      {
       "cell_index": 19
      }
     ]
    },
    "f31ffb0e-a7db-43a0-890e-76462392d60e": {
     "views": [
      {
       "cell_index": 19
      }
     ]
    },
    "fbf9f02a-2be7-477d-913d-98c4c8652e75": {
     "views": [
      {
       "cell_index": 14
      }
     ]
    },
    "fc57c4e1-dff9-4615-9f0b-b6b7f94d3632": {
     "views": [
      {
       "cell_index": 19
      }
     ]
    },
    "fe55ef17-1f94-418a-8a02-3fffe06896b1": {
     "views": [
      {
       "cell_index": 19
      }
     ]
    },
    "ff13eb70-9f05-468e-bd3e-f40387171554": {
     "views": [
      {
       "cell_index": 19
      }
     ]
    }
   },
   "version": "1.2.0"
  }
 },
 "nbformat": 4,
 "nbformat_minor": 1
}
