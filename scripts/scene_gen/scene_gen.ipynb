{
 "cells": [
  {
   "cell_type": "code",
   "execution_count": 1,
   "metadata": {
    "collapsed": false
   },
   "outputs": [
    {
     "data": {
      "text/html": [
       "<div id=\"interact-js-shim\">\n",
       "    <script charset=\"utf-8\">\n",
       "(function (IPython, $, _, MathJax) {\n",
       "    $.event.special.destroyed = {\n",
       "\tremove: function(o) {\n",
       "\t    if (o.handler) {\n",
       "\t\to.handler.apply(this, arguments)\n",
       "\t    }\n",
       "\t}\n",
       "    }\n",
       "\n",
       "    var OutputArea = IPython.version >= \"4.0.0\" ? require(\"notebook/js/outputarea\").OutputArea : IPython.OutputArea;\n",
       "\n",
       "    var redrawValue = function (container, type, val) {\n",
       "\tvar selector = $(\"<div/>\");\n",
       "\tvar oa = new OutputArea(_.extend(selector, {\n",
       "\t    selector: selector,\n",
       "\t    prompt_area: true,\n",
       "\t    events: IPython.events,\n",
       "\t    keyboard_manager: IPython.keyboard_manager\n",
       "\t})); // Hack to work with IPython 2.1.0\n",
       "\n",
       "\tswitch (type) {\n",
       "\tcase \"image/png\":\n",
       "            var _src = 'data:' + type + ';base64,' + val;\n",
       "\t    $(container).find(\"img\").attr('src', _src);\n",
       "\t    break;\n",
       "\tcase \"text/latex\":\n",
       "\t\tif (MathJax){\n",
       "\t\t\tvar math = MathJax.Hub.getAllJax(container)[0];\n",
       "\t\t\tMathJax.Hub.Queue([\"Text\", math, val.replace(/^\\${1,2}|\\${1,2}$/g, '')]);\n",
       "\t\t\tbreak;\n",
       "\t\t}\n",
       "\tdefault:\n",
       "\t    var toinsert = OutputArea.append_map[type].apply(\n",
       "\t\toa, [val, {}, selector]\n",
       "\t    );\n",
       "\t    $(container).empty().append(toinsert.contents());\n",
       "\t    selector.remove();\n",
       "\t}\n",
       "    }\n",
       "\n",
       "\n",
       "    $(document).ready(function() {\n",
       "\tfunction initComm(evt, data) {\n",
       "\t    var comm_manager = data.kernel.comm_manager;\n",
       "        //_.extend(comm_manager.targets, require(\"widgets/js/widget\"))\n",
       "\t    comm_manager.register_target(\"Signal\", function (comm) {\n",
       "            comm.on_msg(function (msg) {\n",
       "                var val = msg.content.data.value;\n",
       "                $(\".signal-\" + comm.comm_id).each(function() {\n",
       "                var type = $(this).data(\"type\");\n",
       "                if (typeof(val[type]) !== \"undefined\" && val[type] !== null) {\n",
       "                    redrawValue(this, type, val[type], type);\n",
       "                }\n",
       "                });\n",
       "                delete val;\n",
       "                delete msg.content.data.value;\n",
       "            });\n",
       "\t    });\n",
       "\n",
       "\t    // coordingate with Comm and redraw Signals\n",
       "\t    // XXX: Test using Reactive here to improve performance\n",
       "\t    $([IPython.events]).on(\n",
       "\t\t'output_appended.OutputArea', function (event, type, value, md, toinsert) {\n",
       "\t\t    if (md && md.reactive) {\n",
       "                // console.log(md.comm_id);\n",
       "                toinsert.addClass(\"signal-\" + md.comm_id);\n",
       "                toinsert.data(\"type\", type);\n",
       "                // Signal back indicating the mimetype required\n",
       "                var comm_manager = IPython.notebook.kernel.comm_manager;\n",
       "                var comm = comm_manager.comms[md.comm_id];\n",
       "                comm.then(function (c) {\n",
       "                    c.send({action: \"subscribe_mime\",\n",
       "                       mime: type});\n",
       "                    toinsert.bind(\"destroyed\", function() {\n",
       "                        c.send({action: \"unsubscribe_mime\",\n",
       "                               mime: type});\n",
       "                    });\n",
       "                })\n",
       "\t\t    }\n",
       "\t    });\n",
       "\t}\n",
       "\n",
       "\ttry {\n",
       "\t    // try to initialize right away. otherwise, wait on the status_started event.\n",
       "\t    initComm(undefined, IPython.notebook);\n",
       "\t} catch (e) {\n",
       "\t    $([IPython.events]).on('kernel_created.Kernel kernel_created.Session', initComm);\n",
       "\t}\n",
       "    });\n",
       "})(IPython, jQuery, _, MathJax);\n",
       "</script>\n",
       "    <script>\n",
       "        window.interactLoadedFlag = true\n",
       "       $(\"#interact-js-shim\").bind(\"destroyed\", function () {\n",
       "           if (window.interactLoadedFlag) {\n",
       "               console.warn(\"JavaScript required by Interact will be removed if you remove this cell or run using Interact more than once.\")\n",
       "           }\n",
       "       })\n",
       "       $([IPython.events]).on(\"kernel_starting.Kernel kernel_restarting.Kernel\", function () { window.interactLoadedFlag = false })\n",
       "   </script>\n",
       "</div>"
      ]
     },
     "metadata": {},
     "output_type": "display_data"
    }
   ],
   "source": [
    "using AutomotiveDrivingModels\n",
    "using AutoViz\n",
    "using BayesNets\n",
    "using DataFrames\n",
    "using Discretizers\n",
    "using HDF5\n",
    "using Interact"
   ]
  },
  {
   "cell_type": "code",
   "execution_count": 2,
   "metadata": {
    "collapsed": false
   },
   "outputs": [],
   "source": [
    "# load the data\n",
    "input_filepath = \"../../data/datasets/2_19/risk_10_sec_10_timesteps.h5\"\n",
    "features = h5open(input_filepath, \"r\") do file\n",
    "    read(file, \"risk/features\")\n",
    "end;"
   ]
  },
  {
   "cell_type": "code",
   "execution_count": 3,
   "metadata": {
    "collapsed": false
   },
   "outputs": [],
   "source": [
    "# get specific features of interest\n",
    "debug_size = min(1000000, size(features, 3))\n",
    "v = features[3,end,1:debug_size]\n",
    "d_fore = features[26,end,1:debug_size]\n",
    "v_fore = features[27,end,1:debug_size];"
   ]
  },
  {
   "cell_type": "code",
   "execution_count": 4,
   "metadata": {
    "collapsed": false
   },
   "outputs": [],
   "source": [
    "num_bins = 4\n",
    "data = [v, d_fore, v_fore]\n",
    "num_samples = length(v)\n",
    "disc_data = zeros(Int, num_samples, 3)\n",
    "cutpoints = []\n",
    "discs = []\n",
    "for (f, vals) in enumerate(data)\n",
    "    disc = LinearDiscretizer(binedges(DiscretizeUniformCount(num_bins), vals))\n",
    "    push!(cutpoints, disc.binedges)\n",
    "    for (i, val) in enumerate(vals)\n",
    "        c = 1\n",
    "        while val > disc.binedges[c+1]\n",
    "            c += 1\n",
    "        end\n",
    "        disc_data[i, f] = c\n",
    "    end\n",
    "end\n"
   ]
  },
  {
   "cell_type": "code",
   "execution_count": 5,
   "metadata": {
    "collapsed": false
   },
   "outputs": [],
   "source": [
    "# convert data to dataframe\n",
    "data = DataFrame(\n",
    "        velocity = disc_data[:,1], \n",
    "        foredistance = disc_data[:,2], \n",
    "        forevelocity = disc_data[:,3]\n",
    ");"
   ]
  },
  {
   "cell_type": "code",
   "execution_count": 6,
   "metadata": {
    "collapsed": false
   },
   "outputs": [
    {
     "data": {
      "image/svg+xml": [
       "<?xml version=\"1.0\" encoding=\"UTF-8\"?>\n",
       "<svg xmlns=\"http://www.w3.org/2000/svg\" xmlns:xlink=\"http://www.w3.org/1999/xlink\" width=\"122.273pt\" height=\"43.999pt\" viewBox=\"0 0 122.273 43.999\" version=\"1.1\">\n",
       "<defs>\n",
       "<g>\n",
       "<symbol overflow=\"visible\" id=\"glyph-1487623024713064-0-0\">\n",
       "<path style=\"stroke:none;\" d=\"\"/>\n",
       "</symbol>\n",
       "<symbol overflow=\"visible\" id=\"glyph-1487623024713064-0-1\">\n",
       "<path style=\"stroke:none;\" d=\"M 3.5625 -6.328125 C 3.5625 -6.703125 3.1875 -7.03125 2.65625 -7.03125 C 1.96875 -7.03125 1.109375 -6.5 1.109375 -5.4375 L 1.109375 -4.296875 L 0.328125 -4.296875 L 0.328125 -3.984375 L 1.109375 -3.984375 L 1.109375 -0.75 C 1.109375 -0.3125 1 -0.3125 0.34375 -0.3125 L 0.34375 0 L 1.46875 -0.03125 C 1.875 -0.03125 2.34375 -0.03125 2.734375 0 L 2.734375 -0.3125 L 2.53125 -0.3125 C 1.796875 -0.3125 1.78125 -0.421875 1.78125 -0.78125 L 1.78125 -3.984375 L 2.90625 -3.984375 L 2.90625 -4.296875 L 1.75 -4.296875 L 1.75 -5.453125 C 1.75 -6.328125 2.21875 -6.8125 2.65625 -6.8125 C 2.6875 -6.8125 2.84375 -6.8125 2.984375 -6.734375 C 2.875 -6.703125 2.6875 -6.5625 2.6875 -6.3125 C 2.6875 -6.09375 2.84375 -5.890625 3.125 -5.890625 C 3.40625 -5.890625 3.5625 -6.09375 3.5625 -6.328125 Z M 3.5625 -6.328125 \"/>\n",
       "</symbol>\n",
       "<symbol overflow=\"visible\" id=\"glyph-1487623024713064-0-2\">\n",
       "<path style=\"stroke:none;\" d=\"M 4.6875 -2.140625 C 4.6875 -3.40625 3.703125 -4.46875 2.5 -4.46875 C 1.25 -4.46875 0.28125 -3.375 0.28125 -2.140625 C 0.28125 -0.84375 1.3125 0.109375 2.484375 0.109375 C 3.6875 0.109375 4.6875 -0.875 4.6875 -2.140625 Z M 3.875 -2.21875 C 3.875 -1.859375 3.875 -1.3125 3.65625 -0.875 C 3.421875 -0.421875 2.984375 -0.140625 2.5 -0.140625 C 2.0625 -0.140625 1.625 -0.34375 1.359375 -0.8125 C 1.109375 -1.25 1.109375 -1.859375 1.109375 -2.21875 C 1.109375 -2.609375 1.109375 -3.140625 1.34375 -3.578125 C 1.609375 -4.03125 2.078125 -4.25 2.484375 -4.25 C 2.921875 -4.25 3.34375 -4.03125 3.609375 -3.59375 C 3.875 -3.171875 3.875 -2.59375 3.875 -2.21875 Z M 3.875 -2.21875 \"/>\n",
       "</symbol>\n",
       "<symbol overflow=\"visible\" id=\"glyph-1487623024713064-0-3\">\n",
       "<path style=\"stroke:none;\" d=\"M 3.625 -3.796875 C 3.625 -4.109375 3.3125 -4.40625 2.890625 -4.40625 C 2.15625 -4.40625 1.796875 -3.734375 1.671875 -3.3125 L 1.671875 -4.40625 L 0.28125 -4.296875 L 0.28125 -3.984375 C 0.984375 -3.984375 1.0625 -3.921875 1.0625 -3.421875 L 1.0625 -0.75 C 1.0625 -0.3125 0.953125 -0.3125 0.28125 -0.3125 L 0.28125 0 L 1.421875 -0.03125 C 1.8125 -0.03125 2.28125 -0.03125 2.6875 0 L 2.6875 -0.3125 L 2.46875 -0.3125 C 1.734375 -0.3125 1.71875 -0.421875 1.71875 -0.78125 L 1.71875 -2.3125 C 1.71875 -3.296875 2.140625 -4.1875 2.890625 -4.1875 C 2.953125 -4.1875 2.984375 -4.1875 3 -4.171875 C 2.96875 -4.171875 2.765625 -4.046875 2.765625 -3.78125 C 2.765625 -3.515625 2.984375 -3.359375 3.203125 -3.359375 C 3.375 -3.359375 3.625 -3.484375 3.625 -3.796875 Z M 3.625 -3.796875 \"/>\n",
       "</symbol>\n",
       "<symbol overflow=\"visible\" id=\"glyph-1487623024713064-0-4\">\n",
       "<path style=\"stroke:none;\" d=\"M 4.140625 -1.1875 C 4.140625 -1.28125 4.0625 -1.3125 4 -1.3125 C 3.921875 -1.3125 3.890625 -1.25 3.875 -1.171875 C 3.53125 -0.140625 2.625 -0.140625 2.53125 -0.140625 C 2.03125 -0.140625 1.640625 -0.4375 1.40625 -0.8125 C 1.109375 -1.28125 1.109375 -1.9375 1.109375 -2.296875 L 3.890625 -2.296875 C 4.109375 -2.296875 4.140625 -2.296875 4.140625 -2.515625 C 4.140625 -3.5 3.59375 -4.46875 2.359375 -4.46875 C 1.203125 -4.46875 0.28125 -3.4375 0.28125 -2.1875 C 0.28125 -0.859375 1.328125 0.109375 2.46875 0.109375 C 3.6875 0.109375 4.140625 -1 4.140625 -1.1875 Z M 3.484375 -2.515625 L 1.109375 -2.515625 C 1.171875 -4 2.015625 -4.25 2.359375 -4.25 C 3.375 -4.25 3.484375 -2.90625 3.484375 -2.515625 Z M 3.484375 -2.515625 \"/>\n",
       "</symbol>\n",
       "<symbol overflow=\"visible\" id=\"glyph-1487623024713064-0-5\">\n",
       "<path style=\"stroke:none;\" d=\"M 5.0625 -3.984375 L 5.0625 -4.296875 C 4.828125 -4.28125 4.546875 -4.265625 4.3125 -4.265625 L 3.453125 -4.296875 L 3.453125 -3.984375 C 3.8125 -3.984375 3.921875 -3.75 3.921875 -3.5625 C 3.921875 -3.46875 3.90625 -3.421875 3.875 -3.3125 L 2.84375 -0.78125 L 1.734375 -3.5625 C 1.671875 -3.6875 1.671875 -3.734375 1.671875 -3.734375 C 1.671875 -3.984375 2.0625 -3.984375 2.25 -3.984375 L 2.25 -4.296875 L 1.15625 -4.265625 C 0.890625 -4.265625 0.484375 -4.28125 0.1875 -4.296875 L 0.1875 -3.984375 C 0.8125 -3.984375 0.859375 -3.921875 0.984375 -3.625 L 2.421875 -0.078125 C 2.484375 0.0625 2.5 0.109375 2.625 0.109375 C 2.765625 0.109375 2.796875 0.015625 2.84375 -0.078125 L 4.140625 -3.3125 C 4.234375 -3.546875 4.40625 -3.984375 5.0625 -3.984375 Z M 5.0625 -3.984375 \"/>\n",
       "</symbol>\n",
       "<symbol overflow=\"visible\" id=\"glyph-1487623024713064-0-6\">\n",
       "<path style=\"stroke:none;\" d=\"M 2.546875 0 L 2.546875 -0.3125 C 1.875 -0.3125 1.765625 -0.3125 1.765625 -0.75 L 1.765625 -6.921875 L 0.328125 -6.8125 L 0.328125 -6.5 C 1.03125 -6.5 1.109375 -6.4375 1.109375 -5.9375 L 1.109375 -0.75 C 1.109375 -0.3125 1 -0.3125 0.328125 -0.3125 L 0.328125 0 L 1.4375 -0.03125 Z M 2.546875 0 \"/>\n",
       "</symbol>\n",
       "<symbol overflow=\"visible\" id=\"glyph-1487623024713064-0-7\">\n",
       "<path style=\"stroke:none;\" d=\"M 4.140625 -1.1875 C 4.140625 -1.28125 4.03125 -1.28125 4 -1.28125 C 3.921875 -1.28125 3.890625 -1.25 3.875 -1.1875 C 3.59375 -0.265625 2.9375 -0.140625 2.578125 -0.140625 C 2.046875 -0.140625 1.171875 -0.5625 1.171875 -2.171875 C 1.171875 -3.796875 1.984375 -4.21875 2.515625 -4.21875 C 2.609375 -4.21875 3.234375 -4.203125 3.578125 -3.84375 C 3.171875 -3.8125 3.109375 -3.515625 3.109375 -3.390625 C 3.109375 -3.125 3.296875 -2.9375 3.5625 -2.9375 C 3.828125 -2.9375 4.03125 -3.09375 4.03125 -3.40625 C 4.03125 -4.078125 3.265625 -4.46875 2.5 -4.46875 C 1.25 -4.46875 0.34375 -3.390625 0.34375 -2.15625 C 0.34375 -0.875 1.328125 0.109375 2.484375 0.109375 C 3.8125 0.109375 4.140625 -1.09375 4.140625 -1.1875 Z M 4.140625 -1.1875 \"/>\n",
       "</symbol>\n",
       "<symbol overflow=\"visible\" id=\"glyph-1487623024713064-0-8\">\n",
       "<path style=\"stroke:none;\" d=\"M 2.46875 0 L 2.46875 -0.3125 C 1.796875 -0.3125 1.765625 -0.359375 1.765625 -0.75 L 1.765625 -4.40625 L 0.375 -4.296875 L 0.375 -3.984375 C 1.015625 -3.984375 1.109375 -3.921875 1.109375 -3.4375 L 1.109375 -0.75 C 1.109375 -0.3125 1 -0.3125 0.328125 -0.3125 L 0.328125 0 L 1.421875 -0.03125 C 1.78125 -0.03125 2.125 -0.015625 2.46875 0 Z M 1.90625 -6.015625 C 1.90625 -6.296875 1.6875 -6.546875 1.390625 -6.546875 C 1.046875 -6.546875 0.84375 -6.265625 0.84375 -6.015625 C 0.84375 -5.75 1.078125 -5.5 1.375 -5.5 C 1.71875 -5.5 1.90625 -5.765625 1.90625 -6.015625 Z M 1.90625 -6.015625 \"/>\n",
       "</symbol>\n",
       "<symbol overflow=\"visible\" id=\"glyph-1487623024713064-0-9\">\n",
       "<path style=\"stroke:none;\" d=\"M 3.3125 -1.234375 L 3.3125 -1.796875 L 3.0625 -1.796875 L 3.0625 -1.25 C 3.0625 -0.515625 2.765625 -0.140625 2.390625 -0.140625 C 1.71875 -0.140625 1.71875 -1.046875 1.71875 -1.21875 L 1.71875 -3.984375 L 3.15625 -3.984375 L 3.15625 -4.296875 L 1.71875 -4.296875 L 1.71875 -6.125 L 1.46875 -6.125 C 1.46875 -5.3125 1.171875 -4.25 0.1875 -4.203125 L 0.1875 -3.984375 L 1.03125 -3.984375 L 1.03125 -1.234375 C 1.03125 -0.015625 1.96875 0.109375 2.328125 0.109375 C 3.03125 0.109375 3.3125 -0.59375 3.3125 -1.234375 Z M 3.3125 -1.234375 \"/>\n",
       "</symbol>\n",
       "<symbol overflow=\"visible\" id=\"glyph-1487623024713064-0-10\">\n",
       "<path style=\"stroke:none;\" d=\"M 5.0625 -3.984375 L 5.0625 -4.296875 C 4.828125 -4.28125 4.546875 -4.265625 4.3125 -4.265625 L 3.453125 -4.296875 L 3.453125 -3.984375 C 3.765625 -3.984375 3.921875 -3.8125 3.921875 -3.5625 C 3.921875 -3.453125 3.90625 -3.4375 3.859375 -3.3125 L 2.84375 -0.875 L 1.75 -3.546875 C 1.703125 -3.65625 1.6875 -3.6875 1.6875 -3.734375 C 1.6875 -3.984375 2.046875 -3.984375 2.25 -3.984375 L 2.25 -4.296875 L 1.15625 -4.265625 C 0.890625 -4.265625 0.484375 -4.28125 0.1875 -4.296875 L 0.1875 -3.984375 C 0.671875 -3.984375 0.859375 -3.984375 1 -3.640625 L 2.5 0 L 2.25 0.59375 C 2.03125 1.140625 1.75 1.828125 1.109375 1.828125 C 1.0625 1.828125 0.828125 1.828125 0.640625 1.640625 C 0.953125 1.609375 1.03125 1.390625 1.03125 1.21875 C 1.03125 0.96875 0.84375 0.8125 0.609375 0.8125 C 0.40625 0.8125 0.1875 0.9375 0.1875 1.234375 C 0.1875 1.6875 0.609375 2.046875 1.109375 2.046875 C 1.734375 2.046875 2.140625 1.46875 2.375 0.90625 L 4.140625 -3.34375 C 4.390625 -3.984375 4.90625 -3.984375 5.0625 -3.984375 Z M 5.0625 -3.984375 \"/>\n",
       "</symbol>\n",
       "<symbol overflow=\"visible\" id=\"glyph-1487623024713064-0-11\">\n",
       "<path style=\"stroke:none;\" d=\"M 5.25 0 L 5.25 -0.3125 C 4.5625 -0.3125 4.46875 -0.375 4.46875 -0.875 L 4.46875 -6.921875 L 3.046875 -6.8125 L 3.046875 -6.5 C 3.734375 -6.5 3.8125 -6.4375 3.8125 -5.9375 L 3.8125 -3.78125 C 3.53125 -4.140625 3.09375 -4.40625 2.5625 -4.40625 C 1.390625 -4.40625 0.34375 -3.421875 0.34375 -2.140625 C 0.34375 -0.875 1.3125 0.109375 2.453125 0.109375 C 3.09375 0.109375 3.53125 -0.234375 3.78125 -0.546875 L 3.78125 0.109375 Z M 3.78125 -1.171875 C 3.78125 -1 3.78125 -0.984375 3.671875 -0.8125 C 3.375 -0.328125 2.9375 -0.109375 2.5 -0.109375 C 2.046875 -0.109375 1.6875 -0.375 1.453125 -0.75 C 1.203125 -1.15625 1.171875 -1.71875 1.171875 -2.140625 C 1.171875 -2.5 1.1875 -3.09375 1.46875 -3.546875 C 1.6875 -3.859375 2.0625 -4.1875 2.609375 -4.1875 C 2.953125 -4.1875 3.375 -4.03125 3.671875 -3.59375 C 3.78125 -3.421875 3.78125 -3.40625 3.78125 -3.21875 Z M 3.78125 -1.171875 \"/>\n",
       "</symbol>\n",
       "<symbol overflow=\"visible\" id=\"glyph-1487623024713064-0-12\">\n",
       "<path style=\"stroke:none;\" d=\"M 3.59375 -1.28125 C 3.59375 -1.796875 3.296875 -2.109375 3.171875 -2.21875 C 2.84375 -2.546875 2.453125 -2.625 2.03125 -2.703125 C 1.46875 -2.8125 0.8125 -2.9375 0.8125 -3.515625 C 0.8125 -3.875 1.0625 -4.28125 1.921875 -4.28125 C 3.015625 -4.28125 3.078125 -3.375 3.09375 -3.078125 C 3.09375 -2.984375 3.203125 -2.984375 3.203125 -2.984375 C 3.34375 -2.984375 3.34375 -3.03125 3.34375 -3.21875 L 3.34375 -4.234375 C 3.34375 -4.390625 3.34375 -4.46875 3.234375 -4.46875 C 3.1875 -4.46875 3.15625 -4.46875 3.03125 -4.34375 C 3 -4.3125 2.90625 -4.21875 2.859375 -4.1875 C 2.484375 -4.46875 2.078125 -4.46875 1.921875 -4.46875 C 0.703125 -4.46875 0.328125 -3.796875 0.328125 -3.234375 C 0.328125 -2.890625 0.484375 -2.609375 0.75 -2.390625 C 1.078125 -2.140625 1.359375 -2.078125 2.078125 -1.9375 C 2.296875 -1.890625 3.109375 -1.734375 3.109375 -1.015625 C 3.109375 -0.515625 2.765625 -0.109375 1.984375 -0.109375 C 1.140625 -0.109375 0.78125 -0.671875 0.59375 -1.53125 C 0.5625 -1.65625 0.5625 -1.6875 0.453125 -1.6875 C 0.328125 -1.6875 0.328125 -1.625 0.328125 -1.453125 L 0.328125 -0.125 C 0.328125 0.046875 0.328125 0.109375 0.4375 0.109375 C 0.484375 0.109375 0.5 0.09375 0.6875 -0.09375 C 0.703125 -0.109375 0.703125 -0.125 0.890625 -0.3125 C 1.328125 0.09375 1.78125 0.109375 1.984375 0.109375 C 3.125 0.109375 3.59375 -0.5625 3.59375 -1.28125 Z M 3.59375 -1.28125 \"/>\n",
       "</symbol>\n",
       "<symbol overflow=\"visible\" id=\"glyph-1487623024713064-0-13\">\n",
       "<path style=\"stroke:none;\" d=\"M 4.8125 -0.890625 L 4.8125 -1.453125 L 4.5625 -1.453125 L 4.5625 -0.890625 C 4.5625 -0.3125 4.3125 -0.25 4.203125 -0.25 C 3.875 -0.25 3.84375 -0.703125 3.84375 -0.75 L 3.84375 -2.734375 C 3.84375 -3.15625 3.84375 -3.546875 3.484375 -3.921875 C 3.09375 -4.3125 2.59375 -4.46875 2.109375 -4.46875 C 1.296875 -4.46875 0.609375 -4 0.609375 -3.34375 C 0.609375 -3.046875 0.8125 -2.875 1.0625 -2.875 C 1.34375 -2.875 1.53125 -3.078125 1.53125 -3.328125 C 1.53125 -3.453125 1.46875 -3.78125 1.015625 -3.78125 C 1.28125 -4.140625 1.78125 -4.25 2.09375 -4.25 C 2.578125 -4.25 3.15625 -3.859375 3.15625 -2.96875 L 3.15625 -2.609375 C 2.640625 -2.578125 1.9375 -2.546875 1.3125 -2.25 C 0.5625 -1.90625 0.3125 -1.390625 0.3125 -0.953125 C 0.3125 -0.140625 1.28125 0.109375 1.90625 0.109375 C 2.578125 0.109375 3.03125 -0.296875 3.21875 -0.75 C 3.265625 -0.359375 3.53125 0.0625 4 0.0625 C 4.203125 0.0625 4.8125 -0.078125 4.8125 -0.890625 Z M 3.15625 -1.390625 C 3.15625 -0.453125 2.4375 -0.109375 1.984375 -0.109375 C 1.5 -0.109375 1.09375 -0.453125 1.09375 -0.953125 C 1.09375 -1.5 1.5 -2.328125 3.15625 -2.390625 Z M 3.15625 -1.390625 \"/>\n",
       "</symbol>\n",
       "<symbol overflow=\"visible\" id=\"glyph-1487623024713064-0-14\">\n",
       "<path style=\"stroke:none;\" d=\"M 5.328125 0 L 5.328125 -0.3125 C 4.8125 -0.3125 4.5625 -0.3125 4.5625 -0.609375 L 4.5625 -2.515625 C 4.5625 -3.375 4.5625 -3.671875 4.25 -4.03125 C 4.109375 -4.203125 3.78125 -4.40625 3.203125 -4.40625 C 2.46875 -4.40625 2 -3.984375 1.71875 -3.359375 L 1.71875 -4.40625 L 0.3125 -4.296875 L 0.3125 -3.984375 C 1.015625 -3.984375 1.09375 -3.921875 1.09375 -3.421875 L 1.09375 -0.75 C 1.09375 -0.3125 0.984375 -0.3125 0.3125 -0.3125 L 0.3125 0 L 1.453125 -0.03125 L 2.5625 0 L 2.5625 -0.3125 C 1.890625 -0.3125 1.78125 -0.3125 1.78125 -0.75 L 1.78125 -2.59375 C 1.78125 -3.625 2.5 -4.1875 3.125 -4.1875 C 3.765625 -4.1875 3.875 -3.65625 3.875 -3.078125 L 3.875 -0.75 C 3.875 -0.3125 3.765625 -0.3125 3.09375 -0.3125 L 3.09375 0 L 4.21875 -0.03125 Z M 5.328125 0 \"/>\n",
       "</symbol>\n",
       "</g>\n",
       "</defs>\n",
       "<g id=\"surface1\">\n",
       "<path style=\"fill:none;stroke-width:0.3985;stroke-linecap:butt;stroke-linejoin:miter;stroke:rgb(0%,0%,0%);stroke-opacity:1;stroke-miterlimit:10;\" d=\"M 9.184406 -8.05225 L 22.860188 -20.044438 \" transform=\"matrix(1,0,0,-1,28.382,7.854)\"/>\n",
       "<path style=\"fill:none;stroke-width:0.31879;stroke-linecap:round;stroke-linejoin:round;stroke:rgb(0%,0%,0%);stroke-opacity:1;stroke-miterlimit:10;\" d=\"M -1.195623 1.593605 C -1.096831 0.996784 0.000218914 0.100016 0.29989 0.000364384 C 0.000803415 -0.101401 -1.095039 -0.995052 -1.195097 -1.595385 \" transform=\"matrix(0.75444,0.66158,0.66158,-0.75444,51.24226,27.89953)\"/>\n",
       "<path style=\"fill:none;stroke-width:0.3985;stroke-linecap:butt;stroke-linejoin:miter;stroke:rgb(0%,0%,0%);stroke-opacity:1;stroke-miterlimit:10;\" d=\"M 56.571125 -7.087406 L 41.793781 -20.044438 \" transform=\"matrix(1,0,0,-1,28.382,7.854)\"/>\n",
       "<path style=\"fill:none;stroke-width:0.31879;stroke-linecap:round;stroke-linejoin:round;stroke:rgb(0%,0%,0%);stroke-opacity:1;stroke-miterlimit:10;\" d=\"M -1.19478 1.595152 C -1.094732 0.994825 0.00108217 0.10117 0.300163 -0.000598747 C 0.000494658 -0.100245 -1.096554 -0.996984 -1.195354 -1.593796 \" transform=\"matrix(-0.75444,0.6616,0.6616,0.75444,70.17607,27.89952)\"/>\n",
       "<g style=\"fill:rgb(0%,0%,0%);fill-opacity:1;\">\n",
       "  <use xlink:href=\"#glyph-1487623024713064-0-1\" x=\"3.321\" y=\"10.344\"/>\n",
       "  <use xlink:href=\"#glyph-1487623024713064-0-2\" x=\"6.369568\" y=\"10.344\"/>\n",
       "  <use xlink:href=\"#glyph-1487623024713064-0-3\" x=\"11.350888\" y=\"10.344\"/>\n",
       "  <use xlink:href=\"#glyph-1487623024713064-0-4\" x=\"15.256243\" y=\"10.344\"/>\n",
       "  <use xlink:href=\"#glyph-1487623024713064-0-5\" x=\"19.679655\" y=\"10.344\"/>\n",
       "  <use xlink:href=\"#glyph-1487623024713064-0-4\" x=\"24.939929\" y=\"10.344\"/>\n",
       "  <use xlink:href=\"#glyph-1487623024713064-0-6\" x=\"29.363341\" y=\"10.344\"/>\n",
       "  <use xlink:href=\"#glyph-1487623024713064-0-2\" x=\"32.132955\" y=\"10.344\"/>\n",
       "  <use xlink:href=\"#glyph-1487623024713064-0-7\" x=\"37.114275\" y=\"10.344\"/>\n",
       "  <use xlink:href=\"#glyph-1487623024713064-0-8\" x=\"41.537687\" y=\"10.344\"/>\n",
       "  <use xlink:href=\"#glyph-1487623024713064-0-9\" x=\"44.307301\" y=\"10.344\"/>\n",
       "  <use xlink:href=\"#glyph-1487623024713064-0-10\" x=\"48.182768\" y=\"10.344\"/>\n",
       "</g>\n",
       "<g style=\"fill:rgb(0%,0%,0%);fill-opacity:1;\">\n",
       "  <use xlink:href=\"#glyph-1487623024713064-0-1\" x=\"67.117\" y=\"11.311\"/>\n",
       "  <use xlink:href=\"#glyph-1487623024713064-0-2\" x=\"70.165568\" y=\"11.311\"/>\n",
       "  <use xlink:href=\"#glyph-1487623024713064-0-3\" x=\"75.146888\" y=\"11.311\"/>\n",
       "  <use xlink:href=\"#glyph-1487623024713064-0-4\" x=\"79.052243\" y=\"11.311\"/>\n",
       "  <use xlink:href=\"#glyph-1487623024713064-0-11\" x=\"83.475655\" y=\"11.311\"/>\n",
       "  <use xlink:href=\"#glyph-1487623024713064-0-8\" x=\"89.014883\" y=\"11.311\"/>\n",
       "  <use xlink:href=\"#glyph-1487623024713064-0-12\" x=\"91.784497\" y=\"11.311\"/>\n",
       "  <use xlink:href=\"#glyph-1487623024713064-0-9\" x=\"95.709777\" y=\"11.311\"/>\n",
       "  <use xlink:href=\"#glyph-1487623024713064-0-13\" x=\"99.585244\" y=\"11.311\"/>\n",
       "  <use xlink:href=\"#glyph-1487623024713064-0-14\" x=\"104.566564\" y=\"11.311\"/>\n",
       "  <use xlink:href=\"#glyph-1487623024713064-0-7\" x=\"110.105792\" y=\"11.311\"/>\n",
       "  <use xlink:href=\"#glyph-1487623024713064-0-4\" x=\"114.529204\" y=\"11.311\"/>\n",
       "</g>\n",
       "<g style=\"fill:rgb(0%,0%,0%);fill-opacity:1;\">\n",
       "  <use xlink:href=\"#glyph-1487623024713064-0-5\" x=\"43.827\" y=\"38.636\"/>\n",
       "  <use xlink:href=\"#glyph-1487623024713064-0-4\" x=\"49.087274\" y=\"38.636\"/>\n",
       "  <use xlink:href=\"#glyph-1487623024713064-0-6\" x=\"53.510686\" y=\"38.636\"/>\n",
       "  <use xlink:href=\"#glyph-1487623024713064-0-2\" x=\"56.2803\" y=\"38.636\"/>\n",
       "  <use xlink:href=\"#glyph-1487623024713064-0-7\" x=\"61.26162\" y=\"38.636\"/>\n",
       "  <use xlink:href=\"#glyph-1487623024713064-0-8\" x=\"65.685032\" y=\"38.636\"/>\n",
       "  <use xlink:href=\"#glyph-1487623024713064-0-9\" x=\"68.454646\" y=\"38.636\"/>\n",
       "  <use xlink:href=\"#glyph-1487623024713064-0-10\" x=\"72.330113\" y=\"38.636\"/>\n",
       "</g>\n",
       "</g>\n",
       "</svg>\n",
       "\n"
      ],
      "text/plain": [
       "BayesNets.BayesNet{BayesNets.CPDs.CategoricalCPD{Distributions.Categorical{Float64}}}({3, 2} directed graph,BayesNets.CPDs.CategoricalCPD{Distributions.Categorical{Float64}}[BayesNets.CPDs.CategoricalCPD{Distributions.Categorical{Float64}}(:forevelocity,Symbol[],Int64[],Distributions.Categorical{Float64}[Distributions.Categorical{Float64}(K=4, p=[0.25,0.25,0.25,0.25])]),BayesNets.CPDs.CategoricalCPD{Distributions.Categorical{Float64}}(:foredistance,Symbol[],Int64[],Distributions.Categorical{Float64}[Distributions.Categorical{Float64}(K=4, p=[0.25,0.25,0.25,0.25])]),BayesNets.CPDs.CategoricalCPD{Distributions.Categorical{Float64}}(:velocity,Symbol[:foredistance,:forevelocity],[4,4],Distributions.Categorical{Float64}[Distributions.Categorical{Float64}(K=4, p=[0.931932,0.0602272,0.00762906,0.000211918]),Distributions.Categorical{Float64}(K=4, p=[0.78043,0.20405,0.011831,0.0036885]),Distributions.Categorical{Float64}(K=4, p=[0.599167,0.269176,0.113426,0.0182315]),Distributions.Categorical{Float64}(K=4, p=[0.102799,0.385039,0.285911,0.226251]),Distributions.Categorical{Float64}(K=4, p=[0.142087,0.665621,0.182585,0.00970779]),Distributions.Categorical{Float64}(K=4, p=[0.197641,0.693171,0.095884,0.0133042]),Distributions.Categorical{Float64}(K=4, p=[0.319812,0.367659,0.263195,0.0493344]),Distributions.Categorical{Float64}(K=4, p=[0.0320924,0.302054,0.379718,0.286136]),Distributions.Categorical{Float64}(K=4, p=[0.000552364,0.0814185,0.744255,0.173774]),Distributions.Categorical{Float64}(K=4, p=[0.00175734,0.326865,0.632423,0.0389544]),Distributions.Categorical{Float64}(K=4, p=[0.0467572,0.273002,0.410668,0.269574]),Distributions.Categorical{Float64}(K=4, p=[0.0258953,0.196458,0.453129,0.324518]),Distributions.Categorical{Float64}(K=4, p=[0.00167691,0.00125769,0.0514254,0.94564]),Distributions.Categorical{Float64}(K=4, p=[0.00329429,0.00658858,0.372255,0.617862]),Distributions.Categorical{Float64}(K=4, p=[0.00213832,0.0141664,0.104845,0.878851]),Distributions.Categorical{Float64}(K=4, p=[0.0425498,0.111743,0.295542,0.550165])])],Dict(:velocity=>3,:foredistance=>2,:forevelocity=>1))"
      ]
     },
     "execution_count": 6,
     "metadata": {},
     "output_type": "execute_result"
    }
   ],
   "source": [
    "# fit a bayesnet\n",
    "bn = fit(DiscreteBayesNet, data, (:foredistance=>:velocity, :forevelocity=>:velocity))"
   ]
  },
  {
   "cell_type": "code",
   "execution_count": 7,
   "metadata": {
    "collapsed": false
   },
   "outputs": [],
   "source": [
    "# # could also fit the structure, but skip that for now\n",
    "# params = GreedyHillClimbing(ScoreComponentCache(data), max_n_parents=3, prior=UniformPrior())\n",
    "# bn = fit(DiscreteBayesNet, data, params)"
   ]
  },
  {
   "cell_type": "code",
   "execution_count": 8,
   "metadata": {
    "collapsed": false
   },
   "outputs": [
    {
     "name": "stdout",
     "output_type": "stream",
     "text": [
      "64×4 DataFrames.DataFrame\n",
      "│ Row │ foredistance │ forevelocity │ velocity │ p           │\n",
      "├─────┼──────────────┼──────────────┼──────────┼─────────────┤\n",
      "│ 1   │ 1            │ 1            │ 1        │ 0.101932    │\n",
      "│ 2   │ 2            │ 1            │ 1        │ 0.78043     │\n",
      "│ 3   │ 3            │ 1            │ 1        │ 0.599167    │\n",
      "│ 4   │ 4            │ 1            │ 1        │ 0.102799    │\n",
      "│ 5   │ 1            │ 2            │ 1        │ 0.142087    │\n",
      "│ 6   │ 2            │ 2            │ 1        │ 0.197641    │\n",
      "│ 7   │ 3            │ 2            │ 1        │ 0.319812    │\n",
      "│ 8   │ 4            │ 2            │ 1        │ 0.0320924   │\n",
      "│ 9   │ 1            │ 3            │ 1        │ 0.000552364 │\n",
      "│ 10  │ 2            │ 3            │ 1        │ 0.00175734  │\n",
      "│ 11  │ 3            │ 3            │ 1        │ 0.0467572   │\n",
      "⋮\n",
      "│ 53  │ 1            │ 2            │ 4        │ 0.00970779  │\n",
      "│ 54  │ 2            │ 2            │ 4        │ 0.0133042   │\n",
      "│ 55  │ 3            │ 2            │ 4        │ 0.0493344   │\n",
      "│ 56  │ 4            │ 2            │ 4        │ 0.286136    │\n",
      "│ 57  │ 1            │ 3            │ 4        │ 0.173774    │\n",
      "│ 58  │ 2            │ 3            │ 4        │ 0.0389544   │\n",
      "│ 59  │ 3            │ 3            │ 4        │ 0.269574    │\n",
      "│ 60  │ 4            │ 3            │ 4        │ 0.324518    │\n",
      "│ 61  │ 1            │ 4            │ 4        │ 0.94564     │\n",
      "│ 62  │ 2            │ 4            │ 4        │ 0.617862    │\n",
      "│ 63  │ 3            │ 4            │ 4        │ 0.878851    │\n",
      "│ 64  │ 4            │ 4            │ 4        │ 0.550165    │\n",
      "4×2 DataFrames.DataFrame\n",
      "│ Row │ foredistance │ p    │\n",
      "├─────┼──────────────┼──────┤\n",
      "│ 1   │ 1            │ 0.25 │\n",
      "│ 2   │ 2            │ 0.25 │\n",
      "│ 3   │ 3            │ 0.25 │\n",
      "│ 4   │ 4            │ 0.25 │\n",
      "4×2 DataFrames.DataFrame\n",
      "│ Row │ forevelocity │ p    │\n",
      "├─────┼──────────────┼──────┤\n",
      "│ 1   │ 1            │ 0.25 │\n",
      "│ 2   │ 2            │ 0.25 │\n",
      "│ 3   │ 3            │ 0.25 │\n",
      "│ 4   │ 4            │ 0.25 │\n"
     ]
    }
   ],
   "source": [
    "# report CPDs\n",
    "for k in [:velocity, :foredistance, :forevelocity]\n",
    "    println(table(bn, k))\n",
    "end"
   ]
  },
  {
   "cell_type": "code",
   "execution_count": 9,
   "metadata": {
    "collapsed": false
   },
   "outputs": [
    {
     "name": "stdout",
     "output_type": "stream",
     "text": [
      "Array{Float64,1}[[-2.76668,13.5038,15.56,17.8895,33.9505],[-4.29823,18.9247,26.2396,38.7167,237.546],[-2.76668,13.5036,15.5598,17.8893,33.9505]]\n"
     ]
    }
   ],
   "source": [
    "# generate a lane\n",
    "println([collect(cs) for cs in cutpoints])\n",
    "num_veh = 10\n",
    "v_cpd = bn.cpds[3]\n",
    "states = zeros(num_veh, 3)\n",
    "\n",
    "# sample the initial car\n",
    "state = rand(bn)\n",
    "v, fore_d, fore_v = state[:velocity], state[:foredistance], state[:forevelocity]\n",
    "states[1, 1] = cutpoints[1][v]\n",
    "states[1, 2] = cutpoints[2][fore_d]\n",
    "states[1, 3] = cutpoints[3][fore_v]\n",
    "\n",
    "for veh_idx in 2:num_veh\n",
    "    # sample the distance bin\n",
    "    fore_d = rand(bn.cpds[2])\n",
    "    \n",
    "    # sample the velocity bin\n",
    "    v = rand(bn.cpds[3], :forevelocity=>fore_v, :foredistance=>fore_d)\n",
    "    \n",
    "    # store the float values\n",
    "    states[veh_idx, 1] = cutpoints[1][v]\n",
    "    states[veh_idx, 2] = cutpoints[2][fore_d]\n",
    "    states[veh_idx, 3] = cutpoints[3][fore_v]\n",
    "    \n",
    "    # replace the fore velocity with the current one\n",
    "    fore_v = v\n",
    "end"
   ]
  },
  {
   "cell_type": "code",
   "execution_count": 10,
   "metadata": {
    "collapsed": false
   },
   "outputs": [],
   "source": [
    "function AutomotiveDrivingModels.simulate!(scene::Scene, models::Dict{Int, DriverModel},\n",
    "        roadway::Roadway, rec::SceneRecord, T::Float64)\n",
    "    actions = Array(DriveAction, length(scene))\n",
    "    for t in 0:rec.timestep:(T - rec.timestep)\n",
    "        get_actions!(actions, scene, roadway, models)\n",
    "        tick!(scene, roadway, actions, models)\n",
    "        AutomotiveDrivingModels.update!(rec, scene)\n",
    "    end\n",
    "    return rec\n",
    "end"
   ]
  },
  {
   "cell_type": "code",
   "execution_count": 14,
   "metadata": {
    "collapsed": false
   },
   "outputs": [
    {
     "data": {
      "text/html": [],
      "text/plain": [
       "Interact.Options{:SelectionSlider,Int64}(Signal{Int64}(25, nactions=1),\"i\",25,\"25\",Interact.OptionDict(DataStructures.OrderedDict(\"1\"=>1,\"2\"=>2,\"3\"=>3,\"4\"=>4,\"5\"=>5,\"6\"=>6,\"7\"=>7,\"8\"=>8,\"9\"=>9,\"10\"=>10…),Dict(2=>\"2\",11=>\"11\",39=>\"39\",46=>\"46\",25=>\"25\",42=>\"42\",29=>\"29\",8=>\"8\",20=>\"20\",14=>\"14\"…)),Any[],Any[],true,\"horizontal\")"
      ]
     },
     "metadata": {},
     "output_type": "display_data"
    },
    {
     "data": {
      "text/html": [],
      "text/plain": [
       "Interact.Options{:ToggleButtons,Int64}(Signal{Int64}(1, nactions=1),\"id\",1,\"1\",Interact.OptionDict(DataStructures.OrderedDict(\"1\"=>1,\"2\"=>2,\"3\"=>3,\"4\"=>4,\"5\"=>5,\"6\"=>6,\"7\"=>7,\"8\"=>8,\"9\"=>9,\"10\"=>10…),Dict(7=>\"7\",4=>\"4\",9=>\"9\",10=>\"10\",2=>\"2\",3=>\"3\",5=>\"5\",8=>\"8\",6=>\"6\",1=>\"1\"…)),Any[],Any[],true,\"horizontal\")"
      ]
     },
     "metadata": {},
     "output_type": "display_data"
    },
    {
     "data": {
      "text/html": [],
      "text/plain": [
       "Interact.Options{:ToggleButtons,Float64}(Signal{Float64}(1.0, nactions=1),\"zoom\",1.0,\"1.0\",Interact.OptionDict(DataStructures.OrderedDict(\"1.0\"=>1.0,\"2.0\"=>2.0,\"3.0\"=>3.0,\"4.0\"=>4.0,\"5.0\"=>5.0,\"6.0\"=>6.0,\"7.0\"=>7.0,\"8.0\"=>8.0,\"9.0\"=>9.0,\"10.0\"=>10.0…),Dict(7.0=>\"7.0\",4.0=>\"4.0\",9.0=>\"9.0\",10.0=>\"10.0\",2.0=>\"2.0\",3.0=>\"3.0\",5.0=>\"5.0\",8.0=>\"8.0\",6.0=>\"6.0\",1.0=>\"1.0\"…)),Any[],Any[],true,\"horizontal\")"
      ]
     },
     "metadata": {},
     "output_type": "display_data"
    },
    {
     "data": {
      "image/png": "[encoded data removed]",
      "text/plain": [
       "Cairo.CairoSurface{UInt32}(Ptr{Void} @0x00007fef4bf0a2a0,1000.0,600.0,#undef)"
      ]
     },
     "execution_count": 14,
     "metadata": {
      "comm_id": "23663713-63c8-4a0c-8745-cd0efbc56d75",
      "reactive": true
     },
     "output_type": "execute_result"
    }
   ],
   "source": [
    "# populate and display a scene\n",
    "context = IntegratedContinuous(.1, 1) \n",
    "num_lanes = 1\n",
    "roadway_length = 1000.\n",
    "remaining_length = roadway_length / 2.\n",
    "roadway = gen_straight_roadway(num_lanes, roadway_length)\n",
    "\n",
    "# unpack indices\n",
    "v_idx, fore_d_idx, fore_v_idx = 1, 2, 3\n",
    "\n",
    "# build the scene\n",
    "scene = Scene(num_veh)\n",
    "models = Dict{Int, DriverModel}()\n",
    "for veh_idx in 1:num_veh\n",
    "    remaining_length -= states[veh_idx, fore_d_idx]\n",
    "    if remaining_length > 0\n",
    "        road_idx = RoadIndex(proj(VecSE2(0.0, 0.0, 0.0), roadway))\n",
    "        base_speed = states[veh_idx, v_idx]\n",
    "        veh_state = VehicleState(Frenet(road_idx, roadway), roadway, base_speed)\n",
    "        veh_state = move_along(veh_state, roadway, remaining_length)\n",
    "        veh_def = VehicleDef(veh_idx, AgentClass.CAR, 5., 2.)\n",
    "        push!(scene, Vehicle(veh_state, veh_def))\n",
    "        models[veh_idx] = Tim2DDriver(context)\n",
    "    else\n",
    "        break\n",
    "    end\n",
    "end\n",
    "\n",
    "# simulate\n",
    "rec = SceneRecord(500, .1, num_veh)\n",
    "T = 5.\n",
    "simulate!(scene, models, roadway, rec, T)\n",
    "\n",
    "# display\n",
    "@manipulate for i in 1:(rec.nscenes - 1), \n",
    "        id in collect(1:num_veh),\n",
    "        zoom in collect(1:10.)\n",
    "        render(get_scene(rec, -(rec.nscenes - i)), roadway, cam = CarFollowCamera(id, zoom))\n",
    "end"
   ]
  },
  {
   "cell_type": "code",
   "execution_count": null,
   "metadata": {
    "collapsed": true
   },
   "outputs": [],
   "source": []
  }
 ],
 "metadata": {
  "kernelspec": {
   "display_name": "Julia 0.5.0",
   "language": "julia",
   "name": "julia-0.5"
  },
  "language_info": {
   "file_extension": ".jl",
   "mimetype": "application/julia",
   "name": "julia",
   "version": "0.5.0"
  },
  "widgets": {
   "state": {
    "0756e4ba-8f22-455e-a856-7640acb0f595": {
     "views": [
      {
       "cell_index": 11
      }
     ]
    },
    "2cf3ef19-09e7-46e4-8a11-f43f6972b118": {
     "views": [
      {
       "cell_index": 11
      }
     ]
    },
    "3abaf9cc-62d6-4d05-935d-d7d77c10414c": {
     "views": [
      {
       "cell_index": 10
      }
     ]
    },
    "6ac0c538-ec55-4d86-90f3-2281f77b1b36": {
     "views": [
      {
       "cell_index": 12
      }
     ]
    },
    "882425bc-323b-4110-a939-43836c6ed772": {
     "views": [
      {
       "cell_index": 10
      }
     ]
    },
    "8b8a770e-6288-4535-92de-9a190e281537": {
     "views": [
      {
       "cell_index": 11
      }
     ]
    },
    "8d6eb44f-de8e-4aae-8695-f99565d73a17": {
     "views": [
      {
       "cell_index": 10
      }
     ]
    },
    "9849e07b-530c-4b08-93d0-e0a1e11466b7": {
     "views": [
      {
       "cell_index": 10
      }
     ]
    },
    "996fc9e2-bfea-40b2-9200-302bc54deaf7": {
     "views": [
      {
       "cell_index": 12
      }
     ]
    },
    "c91e4793-b4bd-4e20-8eb8-80c4e075340c": {
     "views": [
      {
       "cell_index": 10
      }
     ]
    },
    "e30d5b68-9933-42c1-9919-3053c87200a3": {
     "views": [
      {
       "cell_index": 10
      }
     ]
    }
   },
   "version": "1.2.0"
  }
 },
 "nbformat": 4,
 "nbformat_minor": 1
}
